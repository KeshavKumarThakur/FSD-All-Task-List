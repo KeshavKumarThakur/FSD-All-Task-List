{
 "cells": [
  {
   "cell_type": "markdown",
   "id": "bb4ec536-4049-4f48-a9c2-530c640a9eae",
   "metadata": {},
   "source": [
    "# Indexing vs Slicing "
   ]
  },
  {
   "cell_type": "code",
   "execution_count": 90,
   "id": "ccf6ae07-4c30-48fa-8f20-9f0ee0ba2b05",
   "metadata": {},
   "outputs": [],
   "source": [
    "#Indixing is used to obtain the individuals elements \n",
    "#slicing is used to obtain a sequence of elements "
   ]
  },
  {
   "cell_type": "code",
   "execution_count": 54,
   "id": "35bdf75c-f058-4b57-b53e-6bd62533cf8a",
   "metadata": {},
   "outputs": [
    {
     "name": "stdout",
     "output_type": "stream",
     "text": [
      "Smash\n"
     ]
    }
   ],
   "source": [
    "string1 = \"Gate Smashers\"\n",
    "print(string1[5:10])\n"
   ]
  },
  {
   "cell_type": "code",
   "execution_count": 64,
   "id": "7600dda6-2cef-4db6-8cdf-cab8c1048fba",
   "metadata": {},
   "outputs": [
    {
     "data": {
      "text/plain": [
       "'Gate Smash'"
      ]
     },
     "execution_count": 64,
     "metadata": {},
     "output_type": "execute_result"
    }
   ],
   "source": [
    "string1[:10] # it  start with s wil print till 9 th one beacuse it will not include stop that is 10 so 'Gate Smash'"
   ]
  },
  {
   "cell_type": "code",
   "execution_count": 62,
   "id": "f197a46e-783c-4c5b-b1a4-70b250ad6e79",
   "metadata": {},
   "outputs": [
    {
     "data": {
      "text/plain": [
       "'G'"
      ]
     },
     "execution_count": 62,
     "metadata": {},
     "output_type": "execute_result"
    }
   ],
   "source": [
    "string1[:1] "
   ]
  },
  {
   "cell_type": "code",
   "execution_count": 66,
   "id": "b579fb63-f375-4749-8fef-977e78c03b31",
   "metadata": {},
   "outputs": [
    {
     "data": {
      "text/plain": [
       "'Smash'"
      ]
     },
     "execution_count": 66,
     "metadata": {},
     "output_type": "execute_result"
    }
   ],
   "source": [
    "#output - Smash\n",
    "string1[-8:-3]\n"
   ]
  },
  {
   "cell_type": "code",
   "execution_count": 68,
   "id": "df9e2bfc-5283-4281-baf4-215f28662ab4",
   "metadata": {},
   "outputs": [
    {
     "data": {
      "text/plain": [
       "'Sahr'"
      ]
     },
     "execution_count": 68,
     "metadata": {},
     "output_type": "execute_result"
    }
   ],
   "source": [
    "string1[5::2]  # [::] ---> its means step slicing \n",
    "# output - Sahr"
   ]
  },
  {
   "cell_type": "code",
   "execution_count": 70,
   "id": "0310bf5e-a612-436c-85ea-9e9eced52b55",
   "metadata": {},
   "outputs": [
    {
     "data": {
      "text/plain": [
       "'Ssr'"
      ]
     },
     "execution_count": 70,
     "metadata": {},
     "output_type": "execute_result"
    }
   ],
   "source": [
    "string1[5::3] "
   ]
  },
  {
   "cell_type": "code",
   "execution_count": 72,
   "id": "a0ceadf4-9750-4706-8c96-d425c3fdfa8e",
   "metadata": {},
   "outputs": [
    {
     "data": {
      "text/plain": [
       "'srehsamS etaG'"
      ]
     },
     "execution_count": 72,
     "metadata": {},
     "output_type": "execute_result"
    }
   ],
   "source": [
    "string1[::-1]  # it will print in reverse "
   ]
  },
  {
   "cell_type": "code",
   "execution_count": 82,
   "id": "a571d2dd-6822-45eb-8fa8-39c55b159842",
   "metadata": {},
   "outputs": [
    {
     "name": "stdout",
     "output_type": "stream",
     "text": [
      "13\n"
     ]
    }
   ],
   "source": [
    "print(len(string1[:]))"
   ]
  },
  {
   "cell_type": "code",
   "execution_count": 7,
   "id": "822406f7-0293-403e-a350-1c0e8a051fb4",
   "metadata": {},
   "outputs": [
    {
     "name": "stdout",
     "output_type": "stream",
     "text": [
      "Right\n"
     ]
    }
   ],
   "source": [
    "x = 10\n",
    "if x == 10 :\n",
    "    print('Right')\n",
    "else :\n",
    "    pass"
   ]
  },
  {
   "cell_type": "code",
   "execution_count": 11,
   "id": "c23be8c2-d4fa-4c00-ad58-469aad2d0ee3",
   "metadata": {},
   "outputs": [
    {
     "name": "stdout",
     "output_type": "stream",
     "text": [
      "0\n",
      "1\n",
      "2\n",
      "3\n",
      "4\n"
     ]
    }
   ],
   "source": [
    "count = 0 \n",
    "while count < 5  :\n",
    "    print(count)\n",
    "    count += 1"
   ]
  },
  {
   "cell_type": "code",
   "execution_count": 17,
   "id": "a2f51106-74c2-4e96-a510-38313a54b983",
   "metadata": {},
   "outputs": [
    {
     "name": "stdout",
     "output_type": "stream",
     "text": [
      "2\n"
     ]
    }
   ],
   "source": [
    "for i in range(3):\n",
    "    pass\n",
    "print(i)"
   ]
  },
  {
   "cell_type": "code",
   "execution_count": null,
   "id": "ddc722e8-9f3f-4627-8256-dbac0bfe47cd",
   "metadata": {},
   "outputs": [],
   "source": []
  }
 ],
 "metadata": {
  "kernelspec": {
   "display_name": "Python 3 (ipykernel)",
   "language": "python",
   "name": "python3"
  },
  "language_info": {
   "codemirror_mode": {
    "name": "ipython",
    "version": 3
   },
   "file_extension": ".py",
   "mimetype": "text/x-python",
   "name": "python",
   "nbconvert_exporter": "python",
   "pygments_lexer": "ipython3",
   "version": "3.12.7"
  }
 },
 "nbformat": 4,
 "nbformat_minor": 5
}

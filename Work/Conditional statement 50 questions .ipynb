{
 "cells": [
  {
   "cell_type": "markdown",
   "id": "567283ab-84a4-44c8-88f6-88689eb52881",
   "metadata": {},
   "source": [
    "<p style=\"text-align: center; font-weight: bold; font-size: 20px;\"> <span style=\"color: orange;\">🚀🚀🚀 Easy Level Questions 🚀🚀🚀</span> </p>"
   ]
  },
  {
   "cell_type": "code",
   "execution_count": 10,
   "id": "69791ef6-24dc-40f5-8dfd-b7e0fcdb26a2",
   "metadata": {},
   "outputs": [
    {
     "name": "stdin",
     "output_type": "stream",
     "text": [
      " Enter First number : 0\n",
      "Enter Second Number : 8\n"
     ]
    },
    {
     "name": "stdout",
     "output_type": "stream",
     "text": [
      "Sum of Two Number is :  8\n"
     ]
    }
   ],
   "source": [
    "# Take the two number as input and print their sum \n",
    "x = int(input(\" Enter First number :\"))\n",
    "b = int(input(\"Enter Second Number :\"))\n",
    "sum = x+b\n",
    "print(\"Sum of Two Number is : \",sum)"
   ]
  },
  {
   "cell_type": "code",
   "execution_count": 28,
   "id": "a4e6fad9-0fc5-45b3-a175-20445756d315",
   "metadata": {},
   "outputs": [
    {
     "name": "stdin",
     "output_type": "stream",
     "text": [
      " Enter First number : 7\n"
     ]
    },
    {
     "name": "stdout",
     "output_type": "stream",
     "text": [
      "This is a odd Number\n"
     ]
    }
   ],
   "source": [
    "# Write a program to check if a number is even or odd\n",
    "x = int(input(\" Enter First number :\"))\n",
    "if x%2 == 0 :\n",
    "   print(\"This is a Even number\")\n",
    "else :\n",
    "    print(\"This is a odd Number\")\n"
   ]
  },
  {
   "cell_type": "code",
   "execution_count": 32,
   "id": "b71f924e-b518-4595-a6ca-cd8b8acf1aef",
   "metadata": {},
   "outputs": [
    {
     "name": "stdin",
     "output_type": "stream",
     "text": [
      "Enter Your Age : 90\n"
     ]
    },
    {
     "name": "stdout",
     "output_type": "stream",
     "text": [
      "You are eligible for Voting\n"
     ]
    }
   ],
   "source": [
    "# 2. Check if a person is eligible to vote (age 18 or above)\n",
    "age = int(input(\"Enter Your Age :\"))\n",
    "if age > 18 :\n",
    "    print(\"You are eligible for Voting\")\n",
    "else :\n",
    "    print(\"You are not eligible for voting\")\n",
    "    "
   ]
  },
  {
   "cell_type": "code",
   "execution_count": 44,
   "id": "87cba807-da62-404b-9e06-f2ab1e51d0a4",
   "metadata": {},
   "outputs": [
    {
     "name": "stdin",
     "output_type": "stream",
     "text": [
      " Enter the year :  2025\n"
     ]
    },
    {
     "name": "stdout",
     "output_type": "stream",
     "text": [
      "This is not a leap year\n"
     ]
    }
   ],
   "source": [
    "# 3. Determine if a given year is a leap year or not\n",
    "year = int(input(\" Enter the year : \"))\n",
    "if (year % 4 == 0 and year%100 !=0 ) or (year%100 ==0) :\n",
    "    print(\"This is a leap year\")\n",
    "else :\n",
    "    print(\"This is not a leap year\")"
   ]
  },
  {
   "cell_type": "code",
   "execution_count": 56,
   "id": "39e85e31-08e6-4504-9211-50704ad665ac",
   "metadata": {},
   "outputs": [
    {
     "name": "stdin",
     "output_type": "stream",
     "text": [
      "Enter  a number : 0000\n"
     ]
    },
    {
     "name": "stdout",
     "output_type": "stream",
     "text": [
      "Given Number is zero \n"
     ]
    }
   ],
   "source": [
    "# 4. Check if a number is positive, negative, or zero\n",
    "number = int(input(\"Enter  a number :\"))\n",
    "if number == 0 :\n",
    "    print(\"Given Number is zero \")\n",
    "elif number > 0 :\n",
    "    print(\"Given Number is Positive Number\")\n",
    "else :\n",
    "    print(\"Given Numbr is Negative \")  "
   ]
  },
  {
   "cell_type": "code",
   "execution_count": 60,
   "id": "68168d08-d861-493c-9c4f-1432c84f6a72",
   "metadata": {},
   "outputs": [
    {
     "name": "stdin",
     "output_type": "stream",
     "text": [
      "Enter  First  number : 9999\n",
      "Enter  Second number : 22222222\n"
     ]
    },
    {
     "name": "stdout",
     "output_type": "stream",
     "text": [
      "Second Number is greatr \n"
     ]
    }
   ],
   "source": [
    "# 5. Write a program to find the greatest of two numbers\n",
    "number1 = int(input(\"Enter  First  number :\"))\n",
    "number2 = int(input(\"Enter  Second number :\"))\n",
    "if number1> number2 :\n",
    "    print(\"First Number is greater \")\n",
    "else :\n",
    "    print(\"Second Number is greatr \")"
   ]
  },
  {
   "cell_type": "code",
   "execution_count": 78,
   "id": "49e75254-fbc1-4b3e-9a14-dffd55b6fdf2",
   "metadata": {},
   "outputs": [
    {
     "name": "stdin",
     "output_type": "stream",
     "text": [
      "Enter Number : 88\n"
     ]
    },
    {
     "name": "stdout",
     "output_type": "stream",
     "text": [
      "This is not a multiple of 5  :: 88\n"
     ]
    }
   ],
   "source": [
    "# 6. Determine if a number is a multiple of 5\n",
    "number3 = int(input(\"Enter Number :\"))\n",
    "if number3%5 ==0 :\n",
    "    print(\"This is a multiple of 5 ::\",number3)\n",
    "else :\n",
    "    print(\"This is not a multiple of 5  ::\",number3)"
   ]
  },
  {
   "cell_type": "code",
   "execution_count": 106,
   "id": "012c8a07-40c7-43de-b879-3e8de97af336",
   "metadata": {},
   "outputs": [
    {
     "name": "stdin",
     "output_type": "stream",
     "text": [
      "Enter the character : ei\n"
     ]
    },
    {
     "name": "stdout",
     "output_type": "stream",
     "text": [
      "this is a vowel\n"
     ]
    }
   ],
   "source": [
    "# 7. Check if a character is a vowel or consonant \n",
    "char = input(\"Enter the character :\").lower()\n",
    "if char in'aeiou' :\n",
    "    print(\"this is a vowel\")\n",
    "else :\n",
    "    print(\"This is a constant \")"
   ]
  },
  {
   "cell_type": "code",
   "execution_count": 110,
   "id": "32d13a4b-c13f-4882-b6fc-350326ec5e07",
   "metadata": {},
   "outputs": [
    {
     "name": "stdin",
     "output_type": "stream",
     "text": [
      "Enter your Age : 63\n"
     ]
    },
    {
     "name": "stdout",
     "output_type": "stream",
     "text": [
      "eligible for a senior citizen discount\n"
     ]
    }
   ],
   "source": [
    "# 8. Determine if a person is eligible for a senior citizen discount (age 60+)\n",
    "age1 = int(input(\"Enter your Age :\"))\n",
    "if age1 >= 60 :\n",
    "    print(\"eligible for a senior citizen discount\")\n",
    "else :\n",
    "    print(\"Not eligible for a senior citizen discount\")"
   ]
  },
  {
   "cell_type": "code",
   "execution_count": 140,
   "id": "98aecc39-c0f9-4127-b3be-3d197e4b5332",
   "metadata": {},
   "outputs": [
    {
     "name": "stdin",
     "output_type": "stream",
     "text": [
      "Enter a Number : 8\n"
     ]
    },
    {
     "name": "stdout",
     "output_type": "stream",
     "text": [
      "This is a single digit\n"
     ]
    }
   ],
   "source": [
    "#9. Check if a number is a single-digit number \n",
    "number4 = int(input(\"Enter a Number :\"))\n",
    "if number4 <= 9  :\n",
    "    print(\"This is a single digit\")\n",
    "else :\n",
    "    print(\"This is not a single digit\")"
   ]
  },
  {
   "cell_type": "code",
   "execution_count": 142,
   "id": "4539f34a-4094-4246-9bb1-b47eec842924",
   "metadata": {},
   "outputs": [
    {
     "name": "stdin",
     "output_type": "stream",
     "text": [
      "Enter the Time 11\n"
     ]
    },
    {
     "name": "stdout",
     "output_type": "stream",
     "text": [
      " Good Morning Dude\n"
     ]
    }
   ],
   "source": [
    "#10. Print \"Good Morning\" if the time is before 12 PM, otherwise print \"Good Afternoon\". \n",
    "time = int(input('Enter the Time'))\n",
    "if time < 12 :\n",
    "    print(\" Good Morning Dude\")\n",
    "else :\n",
    "    print(\" Good Afternoon Dude  \")"
   ]
  },
  {
   "cell_type": "code",
   "execution_count": 150,
   "id": "101cee0d-2676-4f90-801c-010c6cc50ede",
   "metadata": {},
   "outputs": [
    {
     "name": "stdin",
     "output_type": "stream",
     "text": [
      "Enter hour (24-hour format):  8\n"
     ]
    },
    {
     "name": "stdout",
     "output_type": "stream",
     "text": [
      "Good Morning\n"
     ]
    }
   ],
   "source": [
    "# 24 Hours Format \n",
    "hour = int(input(\"Enter hour (24-hour format): \"))   \n",
    "if hour < 12:      \n",
    "    print(\"Good Morning\")   \n",
    "else:      \n",
    "    print(\"Good Afternoon\") "
   ]
  },
  {
   "cell_type": "code",
   "execution_count": 154,
   "id": "cfbbdc7a-fdfb-4995-876f-e5a9a05d125b",
   "metadata": {},
   "outputs": [
    {
     "name": "stdin",
     "output_type": "stream",
     "text": [
      "Enter a string : \n"
     ]
    },
    {
     "name": "stdout",
     "output_type": "stream",
     "text": [
      "This is a empty string \n"
     ]
    }
   ],
   "source": [
    "# 11 Check if a string is empty or not \n",
    "string = input(\"Enter a string :\")\n",
    "if not string :\n",
    "    print(\"This is a empty string \")\n",
    "else :\n",
    "    print(\"There is not empty string \")"
   ]
  },
  {
   "cell_type": "code",
   "execution_count": 162,
   "id": "d63a0fc8-0802-4a28-9a1d-be74ca77842c",
   "metadata": {},
   "outputs": [
    {
     "name": "stdin",
     "output_type": "stream",
     "text": [
      "Enter a Number 25\n"
     ]
    },
    {
     "name": "stdout",
     "output_type": "stream",
     "text": [
      "25 is a perfect square.\n"
     ]
    }
   ],
   "source": [
    "# 12. Verify if a number is a perfect square  \n",
    "import math \n",
    "number5 = int(input(\"Enter a Number\"))\n",
    "sqrt_root = math.sqrt(number5)\n",
    "if sqrt_root.is_integer():\n",
    "    print(f\"{number5} is a perfect square.\")\n",
    "else:\n",
    "    print(f\"{number5} is not a perfect square.\")"
   ]
  },
  {
   "cell_type": "code",
   "execution_count": 197,
   "id": "70a70f47-f333-473f-8274-0f1581b8ffd9",
   "metadata": {},
   "outputs": [
    {
     "name": "stdin",
     "output_type": "stream",
     "text": [
      "Enter a number between 1 and 100 : 900\n"
     ]
    },
    {
     "name": "stdout",
     "output_type": "stream",
     "text": [
      "900 :out of range \n"
     ]
    }
   ],
   "source": [
    "## 13. Determine if a number is between 1 and 100\n",
    "number6 = int(input(\"Enter a number between 1 and 100 :\"))\n",
    "if 1 <=  number6 <=  100 :\n",
    "    print(f\"{number6} :Within the range\")\n",
    "else :\n",
    "    print(f\"{number6} :out of range \")"
   ]
  },
  {
   "cell_type": "code",
   "execution_count": 223,
   "id": "4dca543d-359f-4df4-a137-45c820c9cb79",
   "metadata": {},
   "outputs": [
    {
     "name": "stdin",
     "output_type": "stream",
     "text": [
      "Enter a day : Sunday\n"
     ]
    },
    {
     "name": "stdout",
     "output_type": "stream",
     "text": [
      "Weekends\n"
     ]
    }
   ],
   "source": [
    "# 14. Print \"Weekend\" if the day is Saturday or Sunday; otherwise, print \"Weekday\" \n",
    "day = input(\"Enter a day :\").lower()\n",
    "if day in [\"saturday\",\"sunday\"] :\n",
    "    print(\"Weekends\")\n",
    "else :\n",
    "    print(\"Weekdays\")\n",
    "    "
   ]
  },
  {
   "cell_type": "code",
   "execution_count": 239,
   "id": "13b63922-70d2-4f20-97dd-a27c1e44a799",
   "metadata": {},
   "outputs": [
    {
     "name": "stdin",
     "output_type": "stream",
     "text": [
      "Enter a number : 21\n"
     ]
    },
    {
     "name": "stdout",
     "output_type": "stream",
     "text": [
      "number is divisible by both 3 and 7\n"
     ]
    }
   ],
   "source": [
    "# 15. Find if a given number is exactly divisible by both 3 and 7\n",
    "number7 = int(input(\"Enter a number :\"))\n",
    "if number7%3 == 0 and number7%7 == 0 :\n",
    "    print(\"number is divisible by both 3 and 7\")\n",
    "else :\n",
    "    print( \"number is not divisible by both 3 and 7\")\n"
   ]
  },
  {
   "cell_type": "code",
   "execution_count": 247,
   "id": "61fbccac-89a4-485d-bcac-31f2dd168993",
   "metadata": {},
   "outputs": [
    {
     "name": "stdin",
     "output_type": "stream",
     "text": [
      "Enter the First Number : 666\n",
      "Enter the First Number : 0\n"
     ]
    },
    {
     "name": "stdout",
     "output_type": "stream",
     "text": [
      "Sum is greater than 100 \n"
     ]
    }
   ],
   "source": [
    "# 16. Check if the sum of two numbers is greater than 100\n",
    "a = int(input(\"Enter the First Number :\"))\n",
    "b = int(input(\"Enter the First Number :\"))\n",
    "sum = int(a+b)\n",
    "if sum > 100 :\n",
    "    print(\"Sum is greater than 100 \")\n",
    "else :\n",
    "    print(\"Sum is less than 100\")"
   ]
  },
  {
   "cell_type": "code",
   "execution_count": 255,
   "id": "9b6a7669-2c6c-4400-aee7-b41ddd26deb3",
   "metadata": {},
   "outputs": [
    {
     "name": "stdin",
     "output_type": "stream",
     "text": [
      "Enter the First Number : 0\n",
      "Enter the First Number : 8\n"
     ]
    },
    {
     "name": "stdout",
     "output_type": "stream",
     "text": [
      "Minimum 0\n"
     ]
    }
   ],
   "source": [
    "# Write a program to find the minimum of two numbers \n",
    "a = int(input(\"Enter the First Number :\"))\n",
    "b = int(input(\"Enter the First Number :\"))\n",
    "if a < b :\n",
    "    print(\"Minimum\",a)\n",
    "else :\n",
    "    print(\"Minimum:\",b)"
   ]
  },
  {
   "cell_type": "code",
   "execution_count": 261,
   "id": "df299555-c680-41dd-bc3c-c83a62eb7060",
   "metadata": {},
   "outputs": [
    {
     "name": "stdin",
     "output_type": "stream",
     "text": [
      "Enter the  Number : 89\n"
     ]
    },
    {
     "name": "stdout",
     "output_type": "stream",
     "text": [
      "Not Eligible criteria \n"
     ]
    }
   ],
   "source": [
    "#  Check if a number is divisible by 2 but not by 3 \n",
    "number8 = int(input(\"Enter the  Number :\"))\n",
    "if number8%2 == 0 and number8%3 != 0:\n",
    "    print(' divisible by 2 but not by 3 ')\n",
    "else :\n",
    "    print(\"Not Eligible criteria \")"
   ]
  },
  {
   "cell_type": "code",
   "execution_count": 265,
   "id": "a55212c2-bff4-4d74-8766-a544cc84e4b2",
   "metadata": {},
   "outputs": [
    {
     "name": "stdin",
     "output_type": "stream",
     "text": [
      "Enter a character KK\n"
     ]
    },
    {
     "name": "stdout",
     "output_type": "stream",
     "text": [
      "Not Lower\n"
     ]
    }
   ],
   "source": [
    "#  Determine if a given alphabet is lowercas\n",
    "char = input(\"Enter a character\")\n",
    "if char.islower():\n",
    "    print(\"Lower\")\n",
    "else :\n",
    "    print(\"Not Lower\")"
   ]
  },
  {
   "cell_type": "code",
   "execution_count": 271,
   "id": "d3d56af1-b841-4c05-bb2c-a600a829992f",
   "metadata": {},
   "outputs": [
    {
     "name": "stdin",
     "output_type": "stream",
     "text": [
      "Enter a character KKKK\n"
     ]
    },
    {
     "name": "stdout",
     "output_type": "stream",
     "text": [
      "Upper\n"
     ]
    }
   ],
   "source": [
    "# Determine if a given alphabet is Uppercase \n",
    "char = input(\"Enter a character\")\n",
    "if char.isupper():\n",
    "    print(\"Upper\")\n",
    "else :\n",
    "     print(\"Not Upper\")"
   ]
  },
  {
   "cell_type": "code",
   "execution_count": 281,
   "id": "433be9e4-c07f-4260-8266-c68458b55139",
   "metadata": {},
   "outputs": [
    {
     "name": "stdin",
     "output_type": "stream",
     "text": [
      "Enter first side:  9\n",
      "Enter second side:  9\n",
      "Enter third side:  8\n"
     ]
    },
    {
     "name": "stdout",
     "output_type": "stream",
     "text": [
      "Valid Triangle\n"
     ]
    }
   ],
   "source": [
    "# 20. Check if a triangle is valid given three side lengths (sum of any two sides must be greater than the third). \n",
    "a = int(input(\"Enter first side: \"))  \n",
    "b = int(input(\"Enter second side: \")) \n",
    "c = int(input(\"Enter third side: \"))  \n",
    "if a + b > c and a + c > b and b + c > a:   \n",
    "    print(\"Valid Triangle\")  \n",
    "else:  \n",
    "      print(\"Not Valid Triangle\")  "
   ]
  },
  {
   "cell_type": "markdown",
   "id": "4c608795-7c87-453d-9e26-7d896ee15bc3",
   "metadata": {},
   "source": [
    "<p style=\"text-align: center; font-weight: bold; font-size: 20px;\"> <span style=\"color: orange;\">🚀🚀🚀 Medium Level Questions 🚀🚀🚀</span> </p>"
   ]
  },
  {
   "cell_type": "code",
   "execution_count": 328,
   "id": "bc4e635b-dc85-4c89-8e7b-eace467f9787",
   "metadata": {},
   "outputs": [
    {
     "name": "stdin",
     "output_type": "stream",
     "text": [
      "Enter First Number  65\n",
      "Enter Second Number  89\n",
      "Enter Thir Number  99\n"
     ]
    },
    {
     "name": "stdout",
     "output_type": "stream",
     "text": [
      "Largest is  99\n"
     ]
    }
   ],
   "source": [
    "#. Find the largest of three numbers.\n",
    "numbera= int(input(\"Enter First Number \"))\n",
    "numberb = int(input(\"Enter Second Number \"))\n",
    "numberc = int(input(\"Enter Thir Number \"))\n",
    "if numbera >= b and numbera >= c :\n",
    "    print(\"Largest is \",numbera)\n",
    "elif numberb >= a and b >= c :\n",
    "    print(\"LArgest number is \", numberb)\n",
    "else :\n",
    "    print(\"Largest is \", numberc)"
   ]
  },
  {
   "cell_type": "code",
   "execution_count": 353,
   "id": "1ce769d2-33db-498c-be7e-963d93122eb0",
   "metadata": {},
   "outputs": [
    {
     "name": "stdin",
     "output_type": "stream",
     "text": [
      "Enter a number:  77\n"
     ]
    },
    {
     "name": "stdout",
     "output_type": "stream",
     "text": [
      "Not a prime number\n"
     ]
    }
   ],
   "source": [
    "num = int(input(\"Enter a number: \"))  \n",
    "if num > 1:       \n",
    "    for i in range(2, int(num**0.5) + 1):   \n",
    "        if num % i == 0:          \n",
    "            print(\"Not a prime number\")     \n",
    "            break      \n",
    "    else:  # This else belongs to the for loop, not the if statement\n",
    "        print(\"Prime number\") \n",
    "else:    \n",
    "    print(\"Not a prime number\")  \n"
   ]
  },
  {
   "cell_type": "code",
   "execution_count": 373,
   "id": "487ae62a-d233-4099-a692-dc9705e57ad6",
   "metadata": {},
   "outputs": [
    {
     "name": "stdin",
     "output_type": "stream",
     "text": [
      "Enter Your Age  18\n",
      "Did you pass the driving test?(yes/no: yes\n"
     ]
    },
    {
     "name": "stdout",
     "output_type": "stream",
     "text": [
      "You are eligible for a driving license \n"
     ]
    }
   ],
   "source": [
    "# Check if a person is eligible for a driving license (age 18+, passed the driving test). \n",
    "age = int(input(\"Enter Your Age \"))\n",
    "passed_test = input(\"Did you pass the driving test?(yes/no:\").lower()\n",
    "if age >= 18 and passed_test == \"yes\":\n",
    "    print(\"You are eligible for a driving license \")\n",
    "else :\n",
    "    print(\"You are not eligible for a driving license \")"
   ]
  },
  {
   "cell_type": "code",
   "execution_count": 381,
   "id": "b48ffe2d-9f56-482e-b862-1e0f3d7f50c3",
   "metadata": {},
   "outputs": [
    {
     "name": "stdin",
     "output_type": "stream",
     "text": [
      "Enter the First Side  11\n",
      "Enter the Second Side  22\n",
      "Enter the Third Side  119\n"
     ]
    },
    {
     "name": "stdout",
     "output_type": "stream",
     "text": [
      "Scalen\n"
     ]
    }
   ],
   "source": [
    "# Determine if a triangle is equilateral, isosceles, or scalen\n",
    "#equilateral = All sides are eqaul\n",
    "#isosceles = two sides are eqaul \n",
    "#scalen = no side are equal \n",
    "side = int(input(\"Enter the First Side \"))\n",
    "side2 = int(input(\"Enter the Second Side \"))\n",
    "side3 = int(input(\"Enter the Third Side \"))\n",
    "if side==side2==side3 :\n",
    "    print(\"This is quilateral triangle \")\n",
    "elif  side == side2 or side2==side3 or side==side3 :\n",
    "   print(\"Isosceles Triangle\") \n",
    "else :\n",
    " print(\"Scalen\")"
   ]
  },
  {
   "cell_type": "code",
   "execution_count": 385,
   "id": "61279e5a-8b41-47c8-9332-a257d4bc8d25",
   "metadata": {},
   "outputs": [
    {
     "name": "stdin",
     "output_type": "stream",
     "text": [
      "Enter the Marks  19\n"
     ]
    },
    {
     "name": "stdout",
     "output_type": "stream",
     "text": [
      "Fail\n"
     ]
    }
   ],
   "source": [
    "# . Determine if a student passes or fails based on a passing mark of 40\n",
    "marks = int(input(\"Enter the Marks \"))\n",
    "if marks >= 40 :\n",
    "    print(\" Pass\")\n",
    "else :\n",
    "    print(\"Fail\")"
   ]
  },
  {
   "cell_type": "code",
   "execution_count": 395,
   "id": "522e6693-cd6b-4835-90b0-8ff9008957cf",
   "metadata": {},
   "outputs": [
    {
     "name": "stdin",
     "output_type": "stream",
     "text": [
      "Enter the Number  madam\n"
     ]
    },
    {
     "name": "stdout",
     "output_type": "stream",
     "text": [
      "This is palidrome Umber \n"
     ]
    }
   ],
   "source": [
    "# . Check if a number is a palindrome (same forward and backward).\n",
    "number = input(\"Enter the Number \")\n",
    "if number == number[::-1] :\n",
    "    print(\"This is palidrome Umber \")\n",
    "else :\n",
    "    print(\"This is not a palidrome number \")"
   ]
  },
  {
   "cell_type": "code",
   "execution_count": 424,
   "id": "5082e41d-19e0-49c7-ad53-f67df1c88b7c",
   "metadata": {},
   "outputs": [
    {
     "name": "stdin",
     "output_type": "stream",
     "text": [
      "Enter electricity units consumed:  4500\n"
     ]
    },
    {
     "name": "stdout",
     "output_type": "stream",
     "text": [
      "Total Bill: ₹ 65500\n"
     ]
    }
   ],
   "source": [
    "##### . Calculate the electricity bill based on consumption: ₹5 per unit for the first 100 units, ₹10 per unit for the next 200,\n",
    "# ₹15 per unit for anything above 300 units. \n",
    "units = int(input(\"Enter electricity units consumed: \")) \n",
    "if units <= 100:    \n",
    "    bill = units * 5   \n",
    "elif units <= 300:      \n",
    "    bill = (100 * 5) + (units - 100) * 10   \n",
    "else:       \n",
    "    bill = (100 * 5) + (200 * 10) + (units - 300) * 15  \n",
    "    print(\"Total Bill: ₹\", bill)   "
   ]
  },
  {
   "cell_type": "code",
   "execution_count": 456,
   "id": "c8eefacc-7977-4501-b2fc-44c7406a1097",
   "metadata": {},
   "outputs": [
    {
     "name": "stdin",
     "output_type": "stream",
     "text": [
      "enter the marks: 12\n"
     ]
    },
    {
     "name": "stdout",
     "output_type": "stream",
     "text": [
      "Marks is very Poor . Improve yourself  \n"
     ]
    }
   ],
   "source": [
    "#  Find the grade of a student based on marks (90+ A, 80-89 B, etc.). \n",
    "marks = int(input(\"enter the marks:\"))\n",
    "if marks >= 90 :\n",
    "    print(\"Garde is : A\")\n",
    "elif marks >= 80 :\n",
    "       print(\"Garde is : B\")\n",
    "elif marks >= 70 :\n",
    "       print(\"Garde is : C\")\n",
    "elif marks >= 60 :\n",
    "       print(\"Garde is : D\")\n",
    "elif marks >= 50 :\n",
    "       print(\"Garde is : E\")\n",
    "else :\n",
    "    print(\"Marks is very Poor . Improve yourself  \")"
   ]
  },
  {
   "cell_type": "code",
   "execution_count": 458,
   "id": "8bfe2d81-a6a6-4975-9b98-5eb50128d916",
   "metadata": {},
   "outputs": [
    {
     "name": "stdin",
     "output_type": "stream",
     "text": [
      "Enter day:  12\n",
      "Enter month:  06\n",
      "Enter year:  2002\n"
     ]
    },
    {
     "name": "stdout",
     "output_type": "stream",
     "text": [
      "Valid date\n"
     ]
    }
   ],
   "source": [
    "#  Determine if a given date is valid (considering month length and leap year for February). \n",
    "import calendar  \n",
    "day = int(input(\"Enter day: \"))\n",
    "month = int(input(\"Enter month: \"))   \n",
    "year = int(input(\"Enter year: \"))  \n",
    "if 1 <= month <= 12 and 1 <= day <= calendar.monthrange(year, month)[1]:     \n",
    "    print(\"Valid date\")   \n",
    "else:      \n",
    "    print(\"Invalid date\") "
   ]
  },
  {
   "cell_type": "code",
   "execution_count": 470,
   "id": "111cad7c-ebdb-41f7-9ee0-64b3e69a2e8d",
   "metadata": {},
   "outputs": [
    {
     "name": "stdin",
     "output_type": "stream",
     "text": [
      "Enter the time in 24 hrs format 12\n"
     ]
    },
    {
     "name": "stdout",
     "output_type": "stream",
     "text": [
      "AM\n"
     ]
    }
   ],
   "source": [
    "#  Check if a given time is AM or PM\n",
    "time = int(input(\"Enter the time in 24 hrs format\"))\n",
    "if time <= 12:\n",
    "    print(\"AM\")\n",
    "else :\n",
    "    print(\"PM\")"
   ]
  },
  {
   "cell_type": "code",
   "execution_count": 484,
   "id": "0c9cf722-af3b-47c8-844c-36f9b18fdceb",
   "metadata": {},
   "outputs": [
    {
     "name": "stdin",
     "output_type": "stream",
     "text": [
      "Enter a number:  1\n"
     ]
    },
    {
     "ename": "TypeError",
     "evalue": "'int' object is not callable",
     "output_type": "error",
     "traceback": [
      "\u001b[1;31m---------------------------------------------------------------------------\u001b[0m",
      "\u001b[1;31mTypeError\u001b[0m                                 Traceback (most recent call last)",
      "Cell \u001b[1;32mIn[484], line 4\u001b[0m\n\u001b[0;32m      2\u001b[0m num \u001b[38;5;241m=\u001b[39m \u001b[38;5;28minput\u001b[39m(\u001b[38;5;124m\"\u001b[39m\u001b[38;5;124mEnter a number: \u001b[39m\u001b[38;5;124m\"\u001b[39m)  \n\u001b[0;32m      3\u001b[0m power \u001b[38;5;241m=\u001b[39m \u001b[38;5;28mlen\u001b[39m(num)   \n\u001b[1;32m----> 4\u001b[0m \u001b[38;5;28;01mif\u001b[39;00m \u001b[38;5;28;43msum\u001b[39;49m\u001b[43m(\u001b[49m\u001b[38;5;28;43mint\u001b[39;49m\u001b[43m(\u001b[49m\u001b[43mdigit\u001b[49m\u001b[43m)\u001b[49m\u001b[43m \u001b[49m\u001b[38;5;241;43m*\u001b[39;49m\u001b[38;5;241;43m*\u001b[39;49m\u001b[43m \u001b[49m\u001b[43mpower\u001b[49m\u001b[43m \u001b[49m\u001b[38;5;28;43;01mfor\u001b[39;49;00m\u001b[43m \u001b[49m\u001b[43mdigit\u001b[49m\u001b[43m \u001b[49m\u001b[38;5;129;43;01min\u001b[39;49;00m\u001b[43m \u001b[49m\u001b[43mnum\u001b[49m\u001b[43m)\u001b[49m \u001b[38;5;241m==\u001b[39m \u001b[38;5;28mint\u001b[39m(num):   \n\u001b[0;32m      5\u001b[0m     \u001b[38;5;28mprint\u001b[39m(\u001b[38;5;124m\"\u001b[39m\u001b[38;5;124mArmstrong Number\u001b[39m\u001b[38;5;124m\"\u001b[39m)  \n\u001b[0;32m      6\u001b[0m \u001b[38;5;28;01melse\u001b[39;00m:    \n",
      "\u001b[1;31mTypeError\u001b[0m: 'int' object is not callable"
     ]
    }
   ],
   "source": [
    "# .. Check if a number is an Armstrong number (sum of its digits raised to the power of the number of digits equals the number). \n",
    "num = input(\"Enter a number: \")  \n",
    "power = len(num)   \n",
    "if sum(int(digit) ** power for digit in num) == int(num):   \n",
    "    print(\"Armstrong Number\")  \n",
    "else:    \n",
    "    print(\"Not an Armstrong Number\")"
   ]
  },
  {
   "cell_type": "code",
   "execution_count": null,
   "id": "0278abfe-e717-4fd2-b63b-cf07617a0b4f",
   "metadata": {},
   "outputs": [],
   "source": [
    "#  Determine the type of quadrilateral based on given angles and sides"
   ]
  },
  {
   "cell_type": "code",
   "execution_count": 490,
   "id": "8ad7299f-8f3d-414b-b122-62fba49801bc",
   "metadata": {},
   "outputs": [
    {
     "name": "stdin",
     "output_type": "stream",
     "text": [
      "Enter the First Side : 2\n",
      "Enter the Second Side : 1\n",
      "Enter the Third Side : 2\n",
      "Enter the Fourth Side : 1\n"
     ]
    },
    {
     "name": "stdout",
     "output_type": "stream",
     "text": [
      "Rectangle\n"
     ]
    }
   ],
   "source": [
    "a = int(input(\"Enter the First Side :\"))\n",
    "b = int(input(\"Enter the Second Side :\"))\n",
    "c = int(input(\"Enter the Third Side :\"))\n",
    "d = int(input(\"Enter the Fourth Side :\"))\n",
    "if a==b==c==d :\n",
    "    print(\"Square\")\n",
    "elif a==c and b==d :\n",
    "    print(\"Rectangle\")\n",
    "else :\n",
    "    print(\"Other Quadrilaterals\")"
   ]
  },
  {
   "cell_type": "code",
   "execution_count": 496,
   "id": "c75861f7-23dc-40c7-b00c-31de09f4f79f",
   "metadata": {},
   "outputs": [
    {
     "name": "stdin",
     "output_type": "stream",
     "text": [
      "Enter the First Number : 2\n",
      "Enter the Second Second  : 2\n",
      "Enter operation (+,-,*,/) +\n"
     ]
    },
    {
     "name": "stdout",
     "output_type": "stream",
     "text": [
      "Sum of two number is : 4.0\n"
     ]
    }
   ],
   "source": [
    "# . Implement a basic calculator that takes two numbers and an operation (+, -, *, /)\n",
    "a1 = float(input(\"Enter the First Number :\"))\n",
    "b2 = float(input(\"Enter the Second Second  :\"))\n",
    "op = input(\"Enter operation (+,-,*,/)\")\n",
    "if op == '+' :\n",
    "    print(\"Sum of two number is :\",a1+b2)\n",
    "elif op == '-':\n",
    "    print(\"Differnce of two number is ;\",a1-b2)\n",
    "elif op == '*' :\n",
    "       print(\"Multiplication of two number is :\",a1*b2)\n",
    "elif op == '/' :\n",
    "    \n",
    "       print(\"Divisions of two number is :\",a1/b2)\n",
    "else :\n",
    "    print(\"Other operation are not allowed\")\n",
    "    \n"
   ]
  },
  {
   "cell_type": "code",
   "execution_count": 500,
   "id": "a90dc6ff-d454-48d7-a9b5-602d20c9e6a3",
   "metadata": {},
   "outputs": [
    {
     "name": "stdin",
     "output_type": "stream",
     "text": [
      "Enter Account Balance  8900\n",
      "Enter Withdrawl amount 90000\n"
     ]
    },
    {
     "name": "stdout",
     "output_type": "stream",
     "text": [
      "Insufficient Funds \n"
     ]
    }
   ],
   "source": [
    "# Check if a bank account balance is sufficient for withdrawal\n",
    "balance = float(input(\"Enter Account Balance \"))\n",
    "withdrawl = float(input(\"Enter Withdrawl amount\"))\n",
    "if balance >= withdrawl :\n",
    "    print(\"Withdrawl Sucessfull\")\n",
    "else :\n",
    "    print(\"Insufficient Funds \")\n",
    "\n"
   ]
  },
  {
   "cell_type": "code",
   "execution_count": 515,
   "id": "2398e36f-b06a-4a2d-8739-d661787266d1",
   "metadata": {},
   "outputs": [
    {
     "name": "stdin",
     "output_type": "stream",
     "text": [
      "Enter the Balance amount 8000\n",
      "Enter the Withdrawl amount 9000\n"
     ]
    },
    {
     "name": "stdout",
     "output_type": "stream",
     "text": [
      "Not Sufficient Balance \n",
      "Total Balance Amount is :  -1000\n"
     ]
    }
   ],
   "source": [
    "# Check if a bank account balance is sufficient for withdrawal\n",
    "balance = int(input(\"Enter the Balance amount\"))\n",
    "withdrawl = int(input(\"Enter the Withdrawl amount\"))\n",
    "balance_amount = int (balance-withdrawl)\n",
    "if balance >= withdrawl :\n",
    "    print(\"Amount Withdrwal Sucessfully\")\n",
    "else :\n",
    "    print(\"Not Sufficient Balance \")\n",
    "print(\"Total Balance Amount is : \",balance_amount)"
   ]
  },
  {
   "cell_type": "code",
   "execution_count": 521,
   "id": "325868cd-e8d2-40b2-8786-7358057527af",
   "metadata": {},
   "outputs": [
    {
     "name": "stdin",
     "output_type": "stream",
     "text": [
      "Enter Your First Number : 20\n",
      "Enter Your Second Number : 5\n"
     ]
    },
    {
     "name": "stdout",
     "output_type": "stream",
     "text": [
      "Addition of two number is : 25.0\n",
      "Substraction of two number is : 15.0\n",
      "Multiplications of two number is : 100.0\n",
      "Divisions of two number is : 4.0\n"
     ]
    }
   ],
   "source": [
    "# make  a calculator using the airthmeic function without using any third  varaiabbles :\n",
    "a = float(input(\"Enter Your First Number :\"))\n",
    "b = float((input(\"Enter Your Second Number :\")))\n",
    "# for addition \n",
    "print(\"Addition of two number is :\",a+b)\n",
    "# for substraction \n",
    "print(\"Substraction of two number is :\",a-b)\n",
    "# for Multiplication \n",
    "print(\"Multiplications of two number is :\",a*b)\n",
    "# for Divions \n",
    "print(\"Divisions of two number is :\",a/b)"
   ]
  },
  {
   "cell_type": "code",
   "execution_count": 531,
   "id": "01f6ef7f-7ec0-4e87-b7c2-a20f44c29b7b",
   "metadata": {},
   "outputs": [
    {
     "name": "stdin",
     "output_type": "stream",
     "text": [
      "Enter Your First Number : 90\n",
      "Enter Your Second Number : 90\n",
      "Enter which Operation you wants (+,-,*,/) *\n"
     ]
    },
    {
     "name": "stdout",
     "output_type": "stream",
     "text": [
      "Multiplications of two number is : 8100.0\n"
     ]
    }
   ],
   "source": [
    "# make  a calculator using the airthmeic function with using third  varaiabbles \n",
    "a = float(input(\"Enter Your First Number :\"))\n",
    "b = float((input(\"Enter Your Second Number :\")))\n",
    "ops = input(\"Enter which Operation you wants (+,-,*,/)\")\n",
    "if ops == '+' :\n",
    "  print(\"Addition of two number is :\", a+b)\n",
    "elif ops == '-' :\n",
    "  print(\"Substractions of two number is :\", a-b)\n",
    "elif ops == '*' :\n",
    "  print(\"Multiplications of two number is :\", a*b)\n",
    "elif ops == '+' :\n",
    "  print(\"Divisions  of two number is :\", a/b)\n",
    "else :\n",
    "      print(\"Other Operations are not allowed\")"
   ]
  },
  {
   "cell_type": "code",
   "execution_count": 543,
   "id": "47143c6e-eb3a-4132-aaca-65e06ee18fb9",
   "metadata": {},
   "outputs": [
    {
     "name": "stdin",
     "output_type": "stream",
     "text": [
      "Enter The Temperature :  1000\n",
      "Enter unit (C/F): C\n"
     ]
    },
    {
     "name": "stdout",
     "output_type": "stream",
     "text": [
      "Farenhite 1832.0\n"
     ]
    }
   ],
   "source": [
    "# 35. Implement a simple temperature converter (Celsius to Fahrenheit and vice versa)          \n",
    "temperature = float(input(\"Enter The Temperature : \"))\n",
    "unit = input(\"Enter unit (C/F):\").upper()\n",
    "if unit == 'C':\n",
    "    print(\"Farenhite\",(temperature*9/5)+32)\n",
    "elif unit == 'F' :\n",
    "    print(\"Celcius\",(temperature-32)*5/9)\n",
    "else :\n",
    "    print(\"Inavlid Units\")\n"
   ]
  },
  {
   "cell_type": "code",
   "execution_count": 547,
   "id": "367d6374-bc53-49b9-aca8-81e237818bc6",
   "metadata": {},
   "outputs": [
    {
     "name": "stdin",
     "output_type": "stream",
     "text": [
      "Enter a number between 50 and 100 : 19\n"
     ]
    },
    {
     "name": "stdout",
     "output_type": "stream",
     "text": [
      "Not in range\n"
     ]
    }
   ],
   "source": [
    "# 36. Check if a number lies within a range (50-100) \n",
    "num = int(input(\"Enter a number between 50 and 100 :\"))\n",
    "if 50<=num <= 100 :\n",
    "    print(\"Within range\")\n",
    "else :\n",
    "    print(\"Not in range\")"
   ]
  },
  {
   "cell_type": "code",
   "execution_count": 553,
   "id": "b78d4b01-f8c4-480d-989f-38d15f4aad1d",
   "metadata": {},
   "outputs": [
    {
     "name": "stdin",
     "output_type": "stream",
     "text": [
      "Eneter a number b/w 50 and 100 : 10000\n"
     ]
    },
    {
     "name": "stdout",
     "output_type": "stream",
     "text": [
      "Number is out of range \n"
     ]
    }
   ],
   "source": [
    "#. Write a program to check if a number lies within a specific range (e.g., between 50 and 100)\n",
    "num = int(input(\"Eneter a number b/w 50 and 100 :\"))\n",
    "if 50 <= num <=100:\n",
    "    print(\"Number is within range :\")\n",
    "else :\n",
    "    print(\"Number is out of range \")"
   ]
  },
  {
   "cell_type": "code",
   "execution_count": 573,
   "id": "bea7d02a-8c40-4cfe-80d9-c07b167fd68f",
   "metadata": {},
   "outputs": [
    {
     "name": "stdin",
     "output_type": "stream",
     "text": [
      "Enter a year : 2000\n"
     ]
    },
    {
     "name": "stdout",
     "output_type": "stream",
     "text": [
      "This is century year\n"
     ]
    }
   ],
   "source": [
    "#  Determine if a given year is a century year (ends in 00).\n",
    "year = int(input(\"Enter a year :\"))\n",
    "if year%100 == 0 :\n",
    "    print(\"This is century year\")\n",
    "else :\n",
    "    print(\"This is not a century year \")"
   ]
  },
  {
   "cell_type": "code",
   "execution_count": 575,
   "id": "e452fa55-a30a-4647-bd58-5f7178ae123e",
   "metadata": {},
   "outputs": [
    {
     "name": "stdin",
     "output_type": "stream",
     "text": [
      "Enter a number:  8\n"
     ]
    },
    {
     "name": "stdout",
     "output_type": "stream",
     "text": [
      "Power of 2\n"
     ]
    }
   ],
   "source": [
    " #Check if a number is a power of 2\n",
    "num = int(input(\"Enter a number: \"))  \n",
    "if num > 0 and (num & (num - 1)) == 0:    \n",
    "    print(\"Power of 2\")  \n",
    "else:       \n",
    "    print(\"Not a Power of 2\") "
   ]
  },
  {
   "cell_type": "code",
   "execution_count": 593,
   "id": "d66ba694-6cb7-4826-ac09-91d03ffec0e4",
   "metadata": {},
   "outputs": [
    {
     "name": "stdin",
     "output_type": "stream",
     "text": [
      "Enter the months chosse any 28, 30 and 31  28\n"
     ]
    },
    {
     "name": "stdout",
     "output_type": "stream",
     "text": [
      "Months are  February\n"
     ]
    }
   ],
   "source": [
    "# Determine how many days a month has ?\n",
    "num = int(input(\"Enter the months chosse any 28, 30 and 31 \"))\n",
    "n1 = 'January, March, May, July, August, October, December'\n",
    "n2 = 'April, June, September, November'\n",
    "n3 = 'February'\n",
    "if num == 31 :\n",
    "    print(\" Months are \",n1)\n",
    "elif num == 30 :\n",
    "    print(\"Months are \", n2)\n",
    "elif num == 28:\n",
    "    print(\"Months is \",n3 )\n"
   ]
  },
  {
   "cell_type": "code",
   "execution_count": 609,
   "id": "77f506da-f112-480e-97c6-f02c79ae27d1",
   "metadata": {},
   "outputs": [
    {
     "name": "stdin",
     "output_type": "stream",
     "text": [
      "Enter Password : keshav@1123\n"
     ]
    },
    {
     "name": "stdout",
     "output_type": "stream",
     "text": [
      "Valid Password \n"
     ]
    }
   ],
   "source": [
    "#  Validate a password (must be at least 8 characters long and contain both numbers and letters). \n",
    "import re \n",
    "password = input(\"Enter Password :\")\n",
    "if len(password) >= 8 and re.search(r\"[A-Za-z]\", password) and re.search(r\"\\d\", password):\n",
    "    print(\"Valid Password \")\n",
    "else :\n",
    "    print(\"Invalid Password \")"
   ]
  },
  {
   "cell_type": "markdown",
   "id": "bbede7ef-d957-4c26-8009-47f00074b935",
   "metadata": {},
   "source": [
    "<p style=\"text-align: center; font-weight: bold; font-size: 20px;\"> <span style=\"color: orange;\">🚀🚀🚀 Hard Level Questions 🚀🚀🚀</span> </p>"
   ]
  },
  {
   "cell_type": "code",
   "execution_count": 24,
   "id": "498c42e6-9f07-494c-a3cc-818b9dfa9158",
   "metadata": {},
   "outputs": [
    {
     "name": "stdin",
     "output_type": "stream",
     "text": [
      "Enter Your age first  26\n"
     ]
    },
    {
     "name": "stdout",
     "output_type": "stream",
     "text": [
      "Yo have to pay 100 \n"
     ]
    }
   ],
   "source": [
    "# make ticket generator application that will print the ticket if the childeren of age 5 then price will free and senior citizen of\n",
    "#age 60+ will get 50% off on the price nd other pay 100 \n",
    "age = int(input(\"Enter Your age first \"))\n",
    "if age <= 5 :\n",
    "    print(\"You are children of age below 5 So u get for free\")\n",
    "elif age >= 60 :\n",
    "     print(\"You are senior citizen so u get 50% discount \")\n",
    "else :\n",
    "    print(\"Yo have to pay 100 \")"
   ]
  },
  {
   "cell_type": "code",
   "execution_count": 44,
   "id": "a02b65fd-683d-4d84-b296-4ee1b1f8daac",
   "metadata": {},
   "outputs": [
    {
     "name": "stdin",
     "output_type": "stream",
     "text": [
      "Enter three numbers:  3 4 5\n"
     ]
    },
    {
     "name": "stdout",
     "output_type": "stream",
     "text": [
      "Pythagorean Triplet\n"
     ]
    }
   ],
   "source": [
    "# \n",
    "# Pytahgorem triplet a2 +b2 = c2 \n",
    "a, b, c = sorted(map(int, input(\"Enter three numbers: \").split()))\n",
    "if a**2 + b**2 == c**2:       \n",
    "    print(\"Pythagorean Triplet\")\n",
    "else:\n",
    "    print(\"Not a Pythagorean Triplet\")  "
   ]
  },
  {
   "cell_type": "code",
   "execution_count": null,
   "id": "25ed2232-6759-44eb-b89f-01491954db38",
   "metadata": {},
   "outputs": [],
   "source": [
    "# convert a Roman umeal to an inetgers \n"
   ]
  },
  {
   "cell_type": "code",
   "execution_count": 54,
   "id": "f1abf87a-a35b-4043-aa67-ac0174d9d3e8",
   "metadata": {},
   "outputs": [
    {
     "name": "stdin",
     "output_type": "stream",
     "text": [
      "Enter a number : 22\n"
     ]
    },
    {
     "name": "stdout",
     "output_type": "stream",
     "text": [
      "This is not a harshad number\n"
     ]
    }
   ],
   "source": [
    "# Check if a number is harshad number \n",
    "# harshad  number -- > number that is divisible by the sum of its digits.\n",
    "num = int(input(\"Enter a number :\"))\n",
    "sum_digit = sum(int(digit) for digit in str(num))\n",
    "if num%sum_digit == 0 :\n",
    "    print (\"This is a harshas number\")\n",
    "else :\n",
    "    print(\"This is not a harshad number\")"
   ]
  },
  {
   "cell_type": "code",
   "execution_count": 60,
   "id": "08a60088-b695-41fb-8b84-7ea578c00548",
   "metadata": {},
   "outputs": [
    {
     "name": "stdin",
     "output_type": "stream",
     "text": [
      "Enter email:  keshav@gmail.com\n"
     ]
    },
    {
     "name": "stdout",
     "output_type": "stream",
     "text": [
      "Valid Email\n"
     ]
    }
   ],
   "source": [
    "import re   \n",
    "email = input(\"Enter email: \")  \n",
    "if re.match(r\"^[\\w\\.-]+@[\\w\\.-]+\\.(com|org|net|edu)$\", email): \n",
    "    print(\"Valid Email\")  \n",
    "else:    \n",
    "    print(\"Invalid Email\")"
   ]
  },
  {
   "cell_type": "code",
   "execution_count": 66,
   "id": "2021efa8-b940-4a76-88e8-94b173fee5de",
   "metadata": {},
   "outputs": [
    {
     "name": "stdin",
     "output_type": "stream",
     "text": [
      "Enter your income : 230000\n",
      "Enter your credit score : 800\n",
      "are you employed(yes/no): yes\n"
     ]
    },
    {
     "name": "stdout",
     "output_type": "stream",
     "text": [
      "Loan Approved\n"
     ]
    }
   ],
   "source": [
    "# Implement a loan eligibility checker based on income,\n",
    "#credit score, and employment status. \n",
    "income = int(input(\"Enter your income :\"))\n",
    "credit_score = int(input(\"Enter your credit score :\"))\n",
    "employed = input(\"are you employed(yes/no):\").lower()\n",
    "if income >= 25000 and credit_score >= 700 and employed == 'yes' :\n",
    "    print(\"Loan Approved\")\n",
    "else :\n",
    "    print(\"Loan not approved\")"
   ]
  },
  {
   "cell_type": "code",
   "execution_count": 80,
   "id": "6c87b891-8607-4f18-84c8-911e5059e43f",
   "metadata": {},
   "outputs": [
    {
     "name": "stdin",
     "output_type": "stream",
     "text": [
      "Enter rock,paper,scissors : rock\n"
     ]
    },
    {
     "name": "stdout",
     "output_type": "stream",
     "text": [
      "Computer chose : scissors\n",
      "You win\n"
     ]
    }
   ],
   "source": [
    "# Implement a rock-paper-scissors game using conditional statements. \n",
    "import random \n",
    "choices = ['rock','paper','scissors']\n",
    "user = input(\"Enter rock,paper,scissors :\").lower()\n",
    "computer = random.choice(choices)\n",
    "\n",
    "print('Computer chose :',computer)\n",
    "if user == computer :\n",
    "    print(\"Its a tie game\")\n",
    "elif(user == \"rock\" and computer=='scissors')or(user == \"scissors\" and computer=='paper')or(user == \"paper\" and computer=='rock') :\n",
    "    print(\"You win\")\n",
    "else :\n",
    "    print(\"You lose !\")"
   ]
  },
  {
   "cell_type": "code",
   "execution_count": null,
   "id": "9a1cb4a9-3950-4cb5-999b-fd8a9755ebfa",
   "metadata": {},
   "outputs": [],
   "source": []
  },
  {
   "cell_type": "code",
   "execution_count": null,
   "id": "511161fe-bc9c-41aa-999b-bd4ed92f86d5",
   "metadata": {},
   "outputs": [],
   "source": []
  }
 ],
 "metadata": {
  "kernelspec": {
   "display_name": "Python 3 (ipykernel)",
   "language": "python",
   "name": "python3"
  },
  "language_info": {
   "codemirror_mode": {
    "name": "ipython",
    "version": 3
   },
   "file_extension": ".py",
   "mimetype": "text/x-python",
   "name": "python",
   "nbconvert_exporter": "python",
   "pygments_lexer": "ipython3",
   "version": "3.12.7"
  }
 },
 "nbformat": 4,
 "nbformat_minor": 5
}

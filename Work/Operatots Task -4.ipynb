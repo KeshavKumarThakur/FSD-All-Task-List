{
 "cells": [
  {
   "cell_type": "markdown",
   "id": "a4ce7405-87d4-443f-89f8-20c04dc55846",
   "metadata": {},
   "source": [
    "# Operators in Pythons "
   ]
  },
  {
   "cell_type": "code",
   "execution_count": null,
   "id": "c2f42ab5-3db1-40ad-95f5-745fd021d2cf",
   "metadata": {},
   "outputs": [],
   "source": []
  },
  {
   "cell_type": "code",
   "execution_count": 177,
   "id": "10e8442b-a6d8-4173-9de4-fcdca2d73522",
   "metadata": {},
   "outputs": [],
   "source": [
    "# airthmetic operators \n",
    "# Integers \n"
   ]
  },
  {
   "cell_type": "code",
   "execution_count": null,
   "id": "08a969a9-734e-49af-a87d-d60cd9f86411",
   "metadata": {},
   "outputs": [],
   "source": []
  },
  {
   "cell_type": "code",
   "execution_count": 179,
   "id": "bce337b3-7abe-4e70-8c66-fcfebb871d21",
   "metadata": {},
   "outputs": [
    {
     "name": "stdout",
     "output_type": "stream",
     "text": [
      "Addition 5\n",
      "Substraction 1\n",
      "Multiplication 6\n",
      "Division 3.0\n",
      "Division 3.5\n",
      "Division without remainder 3\n",
      "Modolus  1\n",
      "Exponentation 1\n"
     ]
    }
   ],
   "source": [
    "print(\"Addition\",2+3)\n",
    "print(\"Substraction\",3-2)\n",
    "print(\"Multiplication\",3*2)\n",
    "print(\"Division\",6/2)\n",
    "print(\"Division\",7/2)\n",
    "print(\"Division without remainder\",7//2)\n",
    "print(\"Modolus \", 3%2)\n",
    "print(\"Exponentation\",3**0) # if there is power of zero then it will reflect multiplied by one (3**0 = 3*1)\n",
    "\n"
   ]
  },
  {
   "cell_type": "code",
   "execution_count": 62,
   "id": "2094c653-8137-4570-b995-ea4e567410c2",
   "metadata": {},
   "outputs": [
    {
     "name": "stdout",
     "output_type": "stream",
     "text": [
      "Floating number,PI  3.14\n",
      "Floating number , gravity 9.81\n"
     ]
    }
   ],
   "source": [
    "# Floating Numbers \n",
    "print(\"Floating number,PI \" , 3.14)\n",
    "print(\"Floating number , gravity\",9.81)\n",
    "\n"
   ]
  },
  {
   "cell_type": "code",
   "execution_count": 71,
   "id": "d6afd725-92ff-4714-9da3-91ebc8539240",
   "metadata": {},
   "outputs": [
    {
     "name": "stdout",
     "output_type": "stream",
     "text": [
      "complex number : (1+3j)\n",
      "Complex Number : (2+0j)\n"
     ]
    }
   ],
   "source": [
    "# complex Number \n",
    "print(\"complex number :\" , 1 + 3j )\n",
    "print(\"Complex Number :\" , (1 + 1j) * (1-1j))"
   ]
  },
  {
   "cell_type": "code",
   "execution_count": 91,
   "id": "488c362d-8bd7-4d45-a1b6-560d178c20c3",
   "metadata": {},
   "outputs": [
    {
     "name": "stdout",
     "output_type": "stream",
     "text": [
      "5\n",
      "a-b =  1\n",
      "b*b =  6\n",
      "a/b =  1.5\n",
      "a%b =  1\n",
      "a//b=  1\n",
      "a**b =  9\n"
     ]
    }
   ],
   "source": [
    "# airthmetic operation and assigning the result to a variable \n",
    "a= 3\n",
    "b = 2\n",
    "\n",
    "total = a + b\n",
    "diff = a-b \n",
    "product = a*b\n",
    "divion = a/b \n",
    "remainder = a%b\n",
    "floor_division = a//b\n",
    "exponentaial = a**b\n",
    "\n",
    "print(total)\n",
    "print(\"a-b = \",diff)\n",
    "print(\"b*b = \", product)\n",
    "print(\"a/b = \", divion)\n",
    "print(\"a%b = \",remainder)\n",
    "print(\"a//b= \",floor_division)\n",
    "print(\"a**b = \" , exponentaial)\n"
   ]
  },
  {
   "cell_type": "code",
   "execution_count": 95,
   "id": "a578f76a-6720-45f1-b12c-76d46dde9adb",
   "metadata": {},
   "outputs": [
    {
     "name": "stdout",
     "output_type": "stream",
     "text": [
      "total 7\n",
      "diff 1\n"
     ]
    }
   ],
   "source": [
    "num_one =3\n",
    "num_two = 4\n",
    "total = num_one + num_two\n",
    "diff = num_two - num_one\n",
    "print(\"total\",total)\n",
    "print(\"diff\", diff)\n"
   ]
  },
  {
   "cell_type": "code",
   "execution_count": 102,
   "id": "b1e1137b-ca6c-422a-b97d-5c1a3e70f6a2",
   "metadata": {},
   "outputs": [
    {
     "name": "stdout",
     "output_type": "stream",
     "text": [
      "The area of circle is =  314.0\n"
     ]
    }
   ],
   "source": [
    "# calculating the area of a circle \n",
    "radius = 10 \n",
    "pi = 3.14\n",
    "area_of_circle = pi*radius**2    #(Formula)\n",
    "print(\"The area of circle is = \", area_of_circle)"
   ]
  },
  {
   "cell_type": "code",
   "execution_count": 98,
   "id": "a4c6096e-efb0-48e6-856e-6af0ef5650f0",
   "metadata": {},
   "outputs": [
    {
     "name": "stdout",
     "output_type": "stream",
     "text": [
      "The area of reactanle is 200\n"
     ]
    }
   ],
   "source": [
    "# calculating the area of rectangle \n",
    "length = 10 \n",
    "width = 20 \n",
    "area = length * width\n",
    "print(\"The area of reactanle is\" , area)"
   ]
  },
  {
   "cell_type": "code",
   "execution_count": 105,
   "id": "f6ad2298-83d4-448e-983f-9f196f09033c",
   "metadata": {},
   "outputs": [
    {
     "name": "stdout",
     "output_type": "stream",
     "text": [
      "The weight of the object is =  735.75\n"
     ]
    }
   ],
   "source": [
    "# calculating the width of an object \n",
    "mass = 75\n",
    "gravity = 9.81 \n",
    "weight = mass * gravity\n",
    "print(\"The weight of the object is = \" , weight)"
   ]
  },
  {
   "cell_type": "code",
   "execution_count": 153,
   "id": "08edc187-8e64-4e71-82f6-7086c5da1729",
   "metadata": {},
   "outputs": [
    {
     "name": "stdout",
     "output_type": "stream",
     "text": [
      "True\n",
      "True\n",
      "False\n",
      "False\n",
      "True\n",
      "True\n",
      "True\n",
      "False\n",
      "True\n",
      "False 1\n",
      "True 2\n",
      "False 3\n",
      "False 4\n"
     ]
    }
   ],
   "source": [
    "print(3>2)\n",
    "print(3>=2)\n",
    "print(3<2)\n",
    "print(3<=2)\n",
    "print(3==3)\n",
    "print(3!=2)\n",
    "\n",
    "# Trick questions \n",
    "\n",
    "\n",
    "print(len(\"mango\")<len(\"avocado\"))\n",
    "print(len(\"mango\")>len(\"avocado\"))\n",
    "print(len(\"mango1\")<=len(\"avocado\"))\n",
    "print(len(\"mango\")==(\"avocado\"),\"1\")\n",
    "print(len(\"mango3\")!=len(\"avocado\"),\"2\")\n",
    "print(len(\"mango4\")(\"avocado\"),\"3\")\n",
    "print(len(\"mango\")>len(\"avocado\"),\"4\")\n"
   ]
  },
  {
   "cell_type": "code",
   "execution_count": 175,
   "id": "5eede4c7-e2c6-4e24-bd41-9e72ab7f64d8",
   "metadata": {},
   "outputs": [
    {
     "name": "stdout",
     "output_type": "stream",
     "text": [
      "One is one  True\n",
      " 1 is not 2  True\n",
      "4 is 2**2: True\n",
      "True 1\n",
      "False 2\n",
      "False 3\n",
      "True\n",
      "False\n"
     ]
    },
    {
     "name": "stderr",
     "output_type": "stream",
     "text": [
      "<>:2: SyntaxWarning: \"is\" with 'int' literal. Did you mean \"==\"?\n",
      "<>:3: SyntaxWarning: \"is not\" with 'int' literal. Did you mean \"!=\"?\n",
      "<>:4: SyntaxWarning: \"is\" with 'int' literal. Did you mean \"==\"?\n",
      "<>:2: SyntaxWarning: \"is\" with 'int' literal. Did you mean \"==\"?\n",
      "<>:3: SyntaxWarning: \"is not\" with 'int' literal. Did you mean \"!=\"?\n",
      "<>:4: SyntaxWarning: \"is\" with 'int' literal. Did you mean \"==\"?\n",
      "C:\\Users\\om\\AppData\\Local\\Temp\\ipykernel_2324\\4158793052.py:2: SyntaxWarning: \"is\" with 'int' literal. Did you mean \"==\"?\n",
      "  print(\"One is one \", 1 is 1 )\n",
      "C:\\Users\\om\\AppData\\Local\\Temp\\ipykernel_2324\\4158793052.py:3: SyntaxWarning: \"is not\" with 'int' literal. Did you mean \"!=\"?\n",
      "  print(\" 1 is not 2 \", 1 is not 2)\n",
      "C:\\Users\\om\\AppData\\Local\\Temp\\ipykernel_2324\\4158793052.py:4: SyntaxWarning: \"is\" with 'int' literal. Did you mean \"==\"?\n",
      "  print(\"4 is 2**2:\" , 4 is 2**2)\n"
     ]
    }
   ],
   "source": [
    "# Boolean Comaprsion \n",
    "print(\"One is one \", 1 is 1 )\n",
    "print(\" 1 is not 2 \", 1 is not 2)\n",
    "print(\"4 is 2**2:\" , 4 is 2**2)\n",
    "\n",
    "print(3>2 and 4 >3 , \"1\")\n",
    "print(3>2 and 4<3 ,\"2\")\n",
    "print(3<2 and 4<3,\"3\")\n",
    "print(3>2 or 4>3)\n",
    "print (3<2 or 4<3)\n",
    "\n",
    "\n",
    "\n",
    "\n",
    "\n",
    "\n",
    "\n"
   ]
  },
  {
   "cell_type": "code",
   "execution_count": null,
   "id": "15a59158-b924-4bf2-a95b-6ba1445dc420",
   "metadata": {},
   "outputs": [],
   "source": []
  },
  {
   "cell_type": "code",
   "execution_count": null,
   "id": "e35591b1-e270-4944-8970-7527570104cc",
   "metadata": {},
   "outputs": [],
   "source": []
  },
  {
   "cell_type": "code",
   "execution_count": null,
   "id": "de1b5c4f-d08b-463a-9413-17dbf973aaca",
   "metadata": {},
   "outputs": [],
   "source": []
  },
  {
   "cell_type": "code",
   "execution_count": null,
   "id": "705f6e07-9829-4a69-b4aa-eef4c9860122",
   "metadata": {},
   "outputs": [],
   "source": []
  },
  {
   "cell_type": "code",
   "execution_count": null,
   "id": "48204637-ac36-483f-8fe9-fe819287e5a2",
   "metadata": {},
   "outputs": [],
   "source": []
  },
  {
   "cell_type": "code",
   "execution_count": null,
   "id": "af699dae-09b0-43cc-842a-4604efc5faf4",
   "metadata": {},
   "outputs": [],
   "source": []
  },
  {
   "cell_type": "code",
   "execution_count": null,
   "id": "686e40e7-d154-468f-ae32-20486c65906d",
   "metadata": {},
   "outputs": [],
   "source": []
  },
  {
   "cell_type": "code",
   "execution_count": null,
   "id": "ffe04602-c229-4473-b39c-9df3b8fa3ae1",
   "metadata": {},
   "outputs": [],
   "source": []
  },
  {
   "cell_type": "code",
   "execution_count": null,
   "id": "b2fa28c4-1f36-4736-a22f-52b89b2fd7ea",
   "metadata": {},
   "outputs": [],
   "source": []
  },
  {
   "cell_type": "code",
   "execution_count": null,
   "id": "654ea6c9-73dd-41db-b656-e4b237ce937c",
   "metadata": {},
   "outputs": [],
   "source": []
  },
  {
   "cell_type": "code",
   "execution_count": null,
   "id": "c4524d5b-4d44-4d7e-ae80-2b3c4d2f8664",
   "metadata": {},
   "outputs": [],
   "source": []
  },
  {
   "cell_type": "code",
   "execution_count": null,
   "id": "7a3a7f45-b7ab-4775-96b5-f9227185e586",
   "metadata": {},
   "outputs": [],
   "source": []
  },
  {
   "cell_type": "code",
   "execution_count": null,
   "id": "8ac6df8d-614d-4c73-ab16-9b16550ce822",
   "metadata": {},
   "outputs": [],
   "source": []
  },
  {
   "cell_type": "code",
   "execution_count": null,
   "id": "2c0c8ac9-7af8-4319-8088-cdcd5d6b3e4e",
   "metadata": {},
   "outputs": [],
   "source": []
  },
  {
   "cell_type": "code",
   "execution_count": null,
   "id": "d1373380-6437-4405-875a-013d37c8f1df",
   "metadata": {},
   "outputs": [],
   "source": []
  },
  {
   "cell_type": "code",
   "execution_count": null,
   "id": "3ec9740b-c85e-49da-8d5a-327ad2f7292f",
   "metadata": {},
   "outputs": [],
   "source": []
  },
  {
   "cell_type": "code",
   "execution_count": null,
   "id": "e8b76a21-0843-4c5e-9898-b1cc042828ae",
   "metadata": {},
   "outputs": [],
   "source": []
  },
  {
   "cell_type": "code",
   "execution_count": null,
   "id": "df7981fc-62a3-4ae2-941f-e1faac795511",
   "metadata": {},
   "outputs": [],
   "source": []
  },
  {
   "cell_type": "code",
   "execution_count": null,
   "id": "4625d269-d2d9-4e67-a0ae-5bc08456518b",
   "metadata": {},
   "outputs": [],
   "source": []
  },
  {
   "cell_type": "code",
   "execution_count": null,
   "id": "c67f0bf0-3d3c-411e-8623-12c7e499ae29",
   "metadata": {},
   "outputs": [],
   "source": []
  },
  {
   "cell_type": "code",
   "execution_count": null,
   "id": "35175277-c14f-4c49-a85d-292d8f80efec",
   "metadata": {},
   "outputs": [],
   "source": []
  },
  {
   "cell_type": "code",
   "execution_count": null,
   "id": "aebb84c2-18b3-43f1-a811-0cf28775325b",
   "metadata": {},
   "outputs": [],
   "source": []
  },
  {
   "cell_type": "code",
   "execution_count": null,
   "id": "5a96305f-984a-4ffb-bbe1-0758c9e13e6a",
   "metadata": {},
   "outputs": [],
   "source": []
  },
  {
   "cell_type": "code",
   "execution_count": null,
   "id": "8bd0028d-ba08-4320-bcd0-594fe9ccdb7a",
   "metadata": {},
   "outputs": [],
   "source": []
  },
  {
   "cell_type": "code",
   "execution_count": null,
   "id": "ec5c33c3-b2af-4e6e-9bc4-bcfa4e46db60",
   "metadata": {},
   "outputs": [],
   "source": []
  },
  {
   "cell_type": "code",
   "execution_count": null,
   "id": "04d3c7cd-11cb-4735-b48d-fcd68bfaf47c",
   "metadata": {},
   "outputs": [],
   "source": []
  },
  {
   "cell_type": "code",
   "execution_count": null,
   "id": "5b5f36fb-f45a-439e-8aa7-58a59c306c3b",
   "metadata": {},
   "outputs": [],
   "source": []
  },
  {
   "cell_type": "code",
   "execution_count": null,
   "id": "c72c6011-807a-4aba-bd7c-9ac644ed8785",
   "metadata": {},
   "outputs": [],
   "source": []
  },
  {
   "cell_type": "code",
   "execution_count": null,
   "id": "ff2d3844-cf69-4ebf-835c-8a610bb2e157",
   "metadata": {},
   "outputs": [],
   "source": []
  },
  {
   "cell_type": "code",
   "execution_count": null,
   "id": "2b6ce988-8bc9-4d07-b717-89d6d6ae6c57",
   "metadata": {},
   "outputs": [],
   "source": []
  },
  {
   "cell_type": "code",
   "execution_count": null,
   "id": "b79f43ef-9b52-447b-9d21-a46facc0eb9c",
   "metadata": {},
   "outputs": [],
   "source": []
  },
  {
   "cell_type": "code",
   "execution_count": null,
   "id": "041402c0-1f21-40e8-b4d8-b56b5649c22f",
   "metadata": {},
   "outputs": [],
   "source": []
  },
  {
   "cell_type": "code",
   "execution_count": null,
   "id": "1ffe7775-9425-4b47-a115-e88147cba03b",
   "metadata": {},
   "outputs": [],
   "source": []
  },
  {
   "cell_type": "code",
   "execution_count": null,
   "id": "22a06610-17b7-40c0-8f00-9f85417d6be6",
   "metadata": {},
   "outputs": [],
   "source": []
  },
  {
   "cell_type": "code",
   "execution_count": null,
   "id": "b848c72b-05f0-4f8e-9d7a-ea2501dfd1e9",
   "metadata": {},
   "outputs": [],
   "source": []
  },
  {
   "cell_type": "code",
   "execution_count": null,
   "id": "e6596bcb-651a-4005-be90-abe29f834aa0",
   "metadata": {},
   "outputs": [],
   "source": []
  },
  {
   "cell_type": "code",
   "execution_count": null,
   "id": "05b8f1de-6950-423b-818d-31488283f27e",
   "metadata": {},
   "outputs": [],
   "source": []
  },
  {
   "cell_type": "code",
   "execution_count": null,
   "id": "05429885-6a9c-41fc-8ea7-aaea2dc6b77f",
   "metadata": {},
   "outputs": [],
   "source": []
  },
  {
   "cell_type": "code",
   "execution_count": null,
   "id": "847593cd-2167-4c57-919a-46ecf513c5cd",
   "metadata": {},
   "outputs": [],
   "source": []
  },
  {
   "cell_type": "code",
   "execution_count": null,
   "id": "a3834989-e56a-4c09-9024-524fe34f46c3",
   "metadata": {},
   "outputs": [],
   "source": []
  },
  {
   "cell_type": "code",
   "execution_count": null,
   "id": "5a23c900-0e69-4886-b9ad-84ff2b893fe9",
   "metadata": {},
   "outputs": [],
   "source": []
  },
  {
   "cell_type": "code",
   "execution_count": null,
   "id": "c76ea25f-a223-4e20-8c59-168e96dcb01e",
   "metadata": {},
   "outputs": [],
   "source": []
  },
  {
   "cell_type": "code",
   "execution_count": null,
   "id": "d8e5e179-9c7f-4939-9f2e-008eff6dcafb",
   "metadata": {},
   "outputs": [],
   "source": []
  },
  {
   "cell_type": "code",
   "execution_count": null,
   "id": "a1cbb809-f1f4-4c25-bc9d-e721aa4868b7",
   "metadata": {},
   "outputs": [],
   "source": []
  },
  {
   "cell_type": "code",
   "execution_count": null,
   "id": "7a3d9863-3add-4b17-b22f-1911506d3575",
   "metadata": {},
   "outputs": [],
   "source": []
  },
  {
   "cell_type": "code",
   "execution_count": null,
   "id": "a32cd06c-9f13-48ec-8257-91b6bdd3982f",
   "metadata": {},
   "outputs": [],
   "source": []
  },
  {
   "cell_type": "code",
   "execution_count": null,
   "id": "400b78fc-28c1-40db-9d0b-32b4f5f83aa7",
   "metadata": {},
   "outputs": [],
   "source": []
  },
  {
   "cell_type": "code",
   "execution_count": null,
   "id": "17cbbd17-8f13-466e-a1bb-24cb74b58d26",
   "metadata": {},
   "outputs": [],
   "source": []
  },
  {
   "cell_type": "code",
   "execution_count": null,
   "id": "27a94625-96bb-4b21-8527-2f1bb66e51cf",
   "metadata": {},
   "outputs": [],
   "source": []
  },
  {
   "cell_type": "code",
   "execution_count": null,
   "id": "8a9976e4-451c-408d-9d77-fabd1f572ca4",
   "metadata": {},
   "outputs": [],
   "source": []
  },
  {
   "cell_type": "code",
   "execution_count": null,
   "id": "22660c23-04d5-48d3-bcd7-369074469eff",
   "metadata": {},
   "outputs": [],
   "source": []
  },
  {
   "cell_type": "code",
   "execution_count": null,
   "id": "45ba4fef-38f8-4273-8bde-698160628421",
   "metadata": {},
   "outputs": [],
   "source": []
  },
  {
   "cell_type": "code",
   "execution_count": null,
   "id": "d4966bff-e691-4a90-a386-d36227654014",
   "metadata": {},
   "outputs": [],
   "source": []
  },
  {
   "cell_type": "code",
   "execution_count": null,
   "id": "4c2fa7be-d572-4718-be7c-82812d54f6d2",
   "metadata": {},
   "outputs": [],
   "source": []
  },
  {
   "cell_type": "code",
   "execution_count": null,
   "id": "c85cffac-9046-4582-80f0-577042d43ce6",
   "metadata": {},
   "outputs": [],
   "source": []
  },
  {
   "cell_type": "code",
   "execution_count": null,
   "id": "90ff46bb-b0ca-46c5-8fdd-0c36c9347597",
   "metadata": {},
   "outputs": [],
   "source": []
  },
  {
   "cell_type": "code",
   "execution_count": null,
   "id": "102172e7-6ac9-42cd-8149-87a0511077b3",
   "metadata": {},
   "outputs": [],
   "source": []
  },
  {
   "cell_type": "code",
   "execution_count": null,
   "id": "6bc5329f-7273-4c4f-9c30-102549deaec9",
   "metadata": {},
   "outputs": [],
   "source": []
  },
  {
   "cell_type": "code",
   "execution_count": null,
   "id": "c66e43fd-3c61-4222-b5a6-ab3b83cb559c",
   "metadata": {},
   "outputs": [],
   "source": []
  },
  {
   "cell_type": "code",
   "execution_count": null,
   "id": "ec7d7993-4349-47ba-8b89-e1708bab8475",
   "metadata": {},
   "outputs": [],
   "source": []
  },
  {
   "cell_type": "code",
   "execution_count": null,
   "id": "b02c3722-cd37-4f6c-9433-a4d7621bd29c",
   "metadata": {},
   "outputs": [],
   "source": []
  },
  {
   "cell_type": "code",
   "execution_count": null,
   "id": "68b3e2ec-3807-4a69-a18e-dec21a33f43b",
   "metadata": {},
   "outputs": [],
   "source": []
  },
  {
   "cell_type": "code",
   "execution_count": null,
   "id": "9d7e1e16-52c9-458e-a85e-bfecbba47f37",
   "metadata": {},
   "outputs": [],
   "source": []
  },
  {
   "cell_type": "code",
   "execution_count": null,
   "id": "80a89a33-04ef-47a6-a59a-696b1b68f54e",
   "metadata": {},
   "outputs": [],
   "source": []
  },
  {
   "cell_type": "code",
   "execution_count": null,
   "id": "31a2ccfb-cc17-4838-96bc-78cb570c0895",
   "metadata": {},
   "outputs": [],
   "source": []
  },
  {
   "cell_type": "code",
   "execution_count": null,
   "id": "686871c5-4173-4647-8cbd-72cf64397857",
   "metadata": {},
   "outputs": [],
   "source": []
  },
  {
   "cell_type": "code",
   "execution_count": null,
   "id": "a3049267-733d-4fbe-be6e-b83c79147454",
   "metadata": {},
   "outputs": [],
   "source": []
  },
  {
   "cell_type": "code",
   "execution_count": null,
   "id": "19217891-dc98-4a2d-acbb-5caf12db994e",
   "metadata": {},
   "outputs": [],
   "source": []
  },
  {
   "cell_type": "code",
   "execution_count": null,
   "id": "37643631-2f21-4076-adfd-375db09ab8ab",
   "metadata": {},
   "outputs": [],
   "source": []
  },
  {
   "cell_type": "code",
   "execution_count": null,
   "id": "f856cdde-a9c4-43c9-8fbc-a036a1f8df02",
   "metadata": {},
   "outputs": [],
   "source": []
  }
 ],
 "metadata": {
  "kernelspec": {
   "display_name": "Python 3 (ipykernel)",
   "language": "python",
   "name": "python3"
  },
  "language_info": {
   "codemirror_mode": {
    "name": "ipython",
    "version": 3
   },
   "file_extension": ".py",
   "mimetype": "text/x-python",
   "name": "python",
   "nbconvert_exporter": "python",
   "pygments_lexer": "ipython3",
   "version": "3.12.7"
  }
 },
 "nbformat": 4,
 "nbformat_minor": 5
}

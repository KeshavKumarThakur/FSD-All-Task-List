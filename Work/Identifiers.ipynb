{
 "cells": [
  {
   "cell_type": "markdown",
   "id": "fd70da73-f56f-46c0-a86b-3466eb3f8724",
   "metadata": {},
   "source": [
    "# Identifiers"
   ]
  },
  {
   "cell_type": "code",
   "execution_count": 3,
   "id": "8693474a-56f9-4150-ab1c-3e511fd3c7b5",
   "metadata": {},
   "outputs": [
    {
     "name": "stdout",
     "output_type": "stream",
     "text": [
      "['False', 'None', 'True', 'and', 'as', 'assert', 'async', 'await', 'break', 'class', 'continue', 'def', 'del', 'elif', 'else', 'except', 'finally', 'for', 'from', 'global', 'if', 'import', 'in', 'is', 'lambda', 'nonlocal', 'not', 'or', 'pass', 'raise', 'return', 'try', 'while', 'with', 'yield']\n"
     ]
    }
   ],
   "source": [
    "import sys\n",
    "import keyword\n",
    "print (keyword.kwlist)"
   ]
  },
  {
   "cell_type": "code",
   "execution_count": 9,
   "id": "81b98f4f-772c-41dc-bd15-49d14612e34c",
   "metadata": {},
   "outputs": [
    {
     "name": "stdout",
     "output_type": "stream",
     "text": [
      "35\n"
     ]
    }
   ],
   "source": [
    "print(len(keyword.kwlist))"
   ]
  },
  {
   "cell_type": "code",
   "execution_count": 11,
   "id": "0908f442-e7c2-49ca-84a9-2e213ba0b61e",
   "metadata": {},
   "outputs": [
    {
     "name": "stdout",
     "output_type": "stream",
     "text": [
      "['False', 'None', 'True', 'and', 'as', 'assert', 'async', 'await', 'break', 'class', 'continue', 'def', 'del', 'elif', 'else', 'except', 'finally', 'for', 'from', 'global', 'if', 'import', 'in', 'is', 'lambda', 'nonlocal', 'not', 'or', 'pass', 'raise', 'return', 'try', 'while', 'with', 'yield']\n"
     ]
    }
   ],
   "source": [
    "import sys\n",
    "import keyword\n",
    "print(keyword.kwlist)  E# "
   ]
  },
  {
   "cell_type": "code",
   "execution_count": 17,
   "id": "2075830f-5be8-4870-bed4-e28953e3d8fc",
   "metadata": {},
   "outputs": [
    {
     "name": "stdout",
     "output_type": "stream",
     "text": [
      "35\n"
     ]
    }
   ],
   "source": [
    "print(len(keyword.kwlist)) #(length(len) is used for counting )"
   ]
  },
  {
   "cell_type": "markdown",
   "id": "9c695a6c-eece-4ab4-b5c5-61df6307cd29",
   "metadata": {},
   "source": [
    "# Identifiers "
   ]
  },
  {
   "cell_type": "code",
   "execution_count": 20,
   "id": "36f163de-c073-40ee-b388-0b240c0ad629",
   "metadata": {},
   "outputs": [],
   "source": [
    "# identifers are the name given to entities like class variable module and functions \n"
   ]
  },
  {
   "cell_type": "code",
   "execution_count": 48,
   "id": "d34d3c01-606a-42e1-b0ba-a0eb1e39c982",
   "metadata": {},
   "outputs": [],
   "source": [
    "Var = \"Keshav    Kumar Thakur \"\n"
   ]
  },
  {
   "cell_type": "code",
   "execution_count": 50,
   "id": "ec3384fa-2de3-4ca1-baaf-60a96d6aca84",
   "metadata": {},
   "outputs": [
    {
     "name": "stdout",
     "output_type": "stream",
     "text": [
      "Keshav    Kumar  SThakur \n"
     ]
    }
   ],
   "source": [
    "print(Var)"
   ]
  },
  {
   "cell_type": "code",
   "execution_count": 52,
   "id": "8702a0cc-6ca1-4b77-b4b5-dffbbbf821f2",
   "metadata": {},
   "outputs": [
    {
     "name": "stdout",
     "output_type": "stream",
     "text": [
      "25\n"
     ]
    }
   ],
   "source": [
    "print(len(Var))"
   ]
  },
  {
   "cell_type": "markdown",
   "id": "c9f05bff-982d-40bc-a61e-a0f172a891e9",
   "metadata": {},
   "source": [
    "# Commments In Pythons "
   ]
  },
  {
   "cell_type": "code",
   "execution_count": 63,
   "id": "0c14def4-ba9f-4f48-863b-0796ba76ff49",
   "metadata": {},
   "outputs": [],
   "source": [
    "# Single Line Comments ----> #\n",
    "# and multi line comments ---> ''' ''''"
   ]
  },
  {
   "cell_type": "code",
   "execution_count": 89,
   "id": "05af56f9-8f5e-4084-ae3d-d9a5da4da07c",
   "metadata": {},
   "outputs": [
    {
     "name": "stdout",
     "output_type": "stream",
     "text": [
      "dhfbdhbfdbhbdbdbbdbvmhbhvbfvbfvbfbvfk\" , \"complex data type - 1 + 2j(1 is real part wheras 2j is imaginary part and has value as of -1 square root)\n"
     ]
    }
   ],
   "source": [
    "print('''dhfbdhbfdbhbdbdbbdbvmhbhvbfvbfvbfbvfk\" , \"complex data type - 1 + 2j(1 is real part wheras 2j is imaginary part and has value as of -1 square root)''')  "
   ]
  },
  {
   "cell_type": "code",
   "execution_count": null,
   "id": "ca7fb935-17a5-4669-a478-226f33004cdf",
   "metadata": {},
   "outputs": [],
   "source": []
  },
  {
   "cell_type": "code",
   "execution_count": null,
   "id": "29582c6d-64f7-46d0-9140-2de47ca7463d",
   "metadata": {},
   "outputs": [],
   "source": []
  },
  {
   "cell_type": "markdown",
   "id": "675d5ad5-63a2-4afc-b26b-53a56a8fbc5f",
   "metadata": {},
   "source": [
    "# Statements "
   ]
  },
  {
   "cell_type": "code",
   "execution_count": 58,
   "id": "173ae5c6-f264-44c8-bb84-00c71d186f61",
   "metadata": {},
   "outputs": [],
   "source": [
    "# instruction that a python interpreter can excute "
   ]
  },
  {
   "cell_type": "code",
   "execution_count": 91,
   "id": "968d5eaa-87e8-4935-896f-4957c124a8b1",
   "metadata": {},
   "outputs": [
    {
     "data": {
      "text/plain": [
       "(20, int, '0x7ff8e6072c18')"
      ]
     },
     "execution_count": 91,
     "metadata": {},
     "output_type": "execute_result"
    }
   ],
   "source": [
    "p = 20 \n",
    "q = 20 \n",
    "r  = q\n",
    "p , type(p) , hex(id(p))"
   ]
  },
  {
   "cell_type": "code",
   "execution_count": 95,
   "id": "abbd963a-d8bc-46f1-bab4-3f2dd3d8d0ff",
   "metadata": {},
   "outputs": [
    {
     "data": {
      "text/plain": [
       "(20, int, '0x7ff8e6072c18')"
      ]
     },
     "execution_count": 95,
     "metadata": {},
     "output_type": "execute_result"
    }
   ],
   "source": [
    "q, type(q),hex(id(q))"
   ]
  },
  {
   "cell_type": "code",
   "execution_count": 103,
   "id": "dee9d30b-c527-4e5f-aca8-1d18f91593bc",
   "metadata": {},
   "outputs": [
    {
     "data": {
      "text/plain": [
       "(20, int, '0x7ff8e6072c18')"
      ]
     },
     "execution_count": 103,
     "metadata": {},
     "output_type": "execute_result"
    }
   ],
   "source": [
    "r , type(r), hex(id(r))"
   ]
  },
  {
   "cell_type": "markdown",
   "id": "52f25e2d-b3cd-48a9-9aa2-3bf5cde8658a",
   "metadata": {},
   "source": [
    "# Variable assignments \n"
   ]
  },
  {
   "cell_type": "code",
   "execution_count": 108,
   "id": "93c7c3e1-fd1b-45b4-b57b-4a7082c7fc0d",
   "metadata": {},
   "outputs": [
    {
     "name": "stdout",
     "output_type": "stream",
     "text": [
      "<class 'int'>\n",
      "10.2\n",
      "Python language \n"
     ]
    }
   ],
   "source": [
    "intvar  = 10\n",
    "floatvar = 10.2\n",
    "strvar = \"Python language \"\n",
    "print(type(intvar))\n",
    "print(floatvar)\n",
    "print(strvar)\n",
    "     "
   ]
  },
  {
   "cell_type": "code",
   "execution_count": 112,
   "id": "d6c8d993-0627-413a-a979-9f0519fc02d4",
   "metadata": {},
   "outputs": [
    {
     "name": "stdin",
     "output_type": "stream",
     "text": [
      "Please enter number s\n"
     ]
    }
   ],
   "source": [
    "\n"
   ]
  },
  {
   "cell_type": "markdown",
   "id": "f9cb9cdc-ffa1-4583-8277-5b266742938c",
   "metadata": {},
   "source": [
    "# Multple assignments \n"
   ]
  },
  {
   "cell_type": "code",
   "execution_count": 117,
   "id": "060efc15-9840-43ea-9456-337b4ad09cc0",
   "metadata": {},
   "outputs": [
    {
     "name": "stdout",
     "output_type": "stream",
     "text": [
      "10\n",
      "10.2\n",
      "this is a simple statement \n"
     ]
    }
   ],
   "source": [
    "intvar,floatvar, strvar = 10,10.2,'this is a simple statement '\n",
    "print(intvar)\n",
    "print(floatvar)\n",
    "print(strvar)\n"
   ]
  },
  {
   "cell_type": "markdown",
   "id": "f6eade9e-7339-4a4d-a2b5-b84c56e9f645",
   "metadata": {},
   "source": [
    "# Data Types "
   ]
  },
  {
   "cell_type": "markdown",
   "id": "d6620732-2909-4910-b548-f9e254b2d12f",
   "metadata": {},
   "source": [
    "# Numeric "
   ]
  },
  {
   "cell_type": "code",
   "execution_count": 133,
   "id": "e69ec815-21da-4411-a845-f5b4ad87745d",
   "metadata": {},
   "outputs": [
    {
     "name": "stdout",
     "output_type": "stream",
     "text": [
      "10\n",
      "<class 'int'>\n",
      "28\n",
      "10 Is Integer ? True\n"
     ]
    }
   ],
   "source": [
    "val1 = 10 \n",
    "print(val1)\n",
    "print(type(val1)) # type of objects \n",
    "print(sys.getsizeof(val1)) # size of integer objects in bytes \n",
    "print(val1, \"Is Integer ?\" , isinstance(val1,int))\n"
   ]
  },
  {
   "cell_type": "code",
   "execution_count": 149,
   "id": "2a63dca2-adea-4d3c-9808-26eeacea3d17",
   "metadata": {},
   "outputs": [
    {
     "name": "stdout",
     "output_type": "stream",
     "text": [
      "67\n",
      "<class 'int'>\n",
      "28\n",
      "67 Is boolean ? False\n"
     ]
    }
   ],
   "source": [
    "val2 = 67 # float \n",
    "print(val2)\n",
    "print(type(val2))\n",
    "print(sys.getsizeof(val2)) # size of float objects in bytes \n",
    "print(val2, \"Is boolean ?\",isinstance(val2,float)) # isinstance function  is used to print the value in true or false according to conditions \n"
   ]
  },
  {
   "cell_type": "code",
   "execution_count": 182,
   "id": "81d72fc3-36f7-420a-a800-859382ce20a8",
   "metadata": {},
   "outputs": [
    {
     "name": "stdout",
     "output_type": "stream",
     "text": [
      "(10+20j)\n",
      "<class 'complex'>\n",
      "32\n",
      "(10+20j) Is complex ? True\n"
     ]
    }
   ],
   "source": [
    "# copmlex data type \n",
    "val3 = 10 + 20j\n",
    "print(val3)\n",
    "print(type(val3))\n",
    "print(sys.getsizeof(val3)) # it wil counts the size  of complex in bytes \n",
    "print(val3,\"Is complex ?\",isinstance(val3,complex))\n"
   ]
  },
  {
   "cell_type": "markdown",
   "id": "c13abf40-f7ab-4c41-9d03-407a9f7060e2",
   "metadata": {},
   "source": [
    " # Boolean"
   ]
  },
  {
   "cell_type": "code",
   "execution_count": 200,
   "id": "a9bb1a6e-536b-47ae-94be-4e1efafc0170",
   "metadata": {},
   "outputs": [
    {
     "name": "stdout",
     "output_type": "stream",
     "text": [
      "<class 'bool'>\n",
      "<class 'bool'>\n"
     ]
    },
    {
     "data": {
      "text/plain": [
       "True"
      ]
     },
     "execution_count": 200,
     "metadata": {},
     "output_type": "execute_result"
    }
   ],
   "source": [
    "bool1 = True\n",
    "bool2 =  False \n",
    "print(type(bool1))\n",
    "print (type(bool2))\n",
    "isinstance(bool2,bool)"
   ]
  },
  {
   "cell_type": "code",
   "execution_count": 202,
   "id": "1b5b2304-9c12-4326-8420-10867f727c29",
   "metadata": {},
   "outputs": [
    {
     "data": {
      "text/plain": [
       "False"
      ]
     },
     "execution_count": 202,
     "metadata": {},
     "output_type": "execute_result"
    }
   ],
   "source": [
    "bool(0)"
   ]
  },
  {
   "cell_type": "code",
   "execution_count": 204,
   "id": "73d2c501-068f-481c-9edc-1f2a94a818eb",
   "metadata": {},
   "outputs": [
    {
     "data": {
      "text/plain": [
       "True"
      ]
     },
     "execution_count": 204,
     "metadata": {},
     "output_type": "execute_result"
    }
   ],
   "source": [
    "bool(1)"
   ]
  },
  {
   "cell_type": "markdown",
   "id": "b2c8ec38-8c47-49aa-88ba-0f0287e4213c",
   "metadata": {},
   "source": [
    "# String \n"
   ]
  },
  {
   "cell_type": "code",
   "execution_count": 209,
   "id": "68f51516-3b88-422e-a853-8882819dea4d",
   "metadata": {},
   "outputs": [
    {
     "name": "stdout",
     "output_type": "stream",
     "text": [
      "Hello  world\n"
     ]
    }
   ],
   "source": [
    "mystr = \"Hello  world\"\n",
    "print(mystr)"
   ]
  },
  {
   "cell_type": "code",
   "execution_count": 215,
   "id": "2ad55a79-f43c-4c85-8e00-bc81c76ec086",
   "metadata": {},
   "outputs": [
    {
     "name": "stdout",
     "output_type": "stream",
     "text": [
      "('Monday ', 'tuesday', 'wednesday')\n"
     ]
    }
   ],
   "source": [
    "mystr = ('Monday ' ,\n",
    "         'tuesday',\n",
    "         'wednesday')\n",
    "print(mystr)"
   ]
  },
  {
   "cell_type": "code",
   "execution_count": 231,
   "id": "67108c2c-b38e-42fb-99d8-e8599417ab23",
   "metadata": {},
   "outputs": [
    {
     "name": "stdout",
     "output_type": "stream",
     "text": [
      "Keshav Keshav Keshav Keshav \n",
      "28\n"
     ]
    }
   ],
   "source": [
    "mystr = 'Keshav '\n",
    "mystr = mystr*4\n",
    "print(mystr)\n",
    "print(len(mystr))"
   ]
  },
  {
   "cell_type": "markdown",
   "id": "64e30f2f-e80e-4f71-b5f8-6659c921cc0e",
   "metadata": {},
   "source": [
    "#  String Indexing "
   ]
  },
  {
   "cell_type": "code",
   "execution_count": 30,
   "id": "2e4c9afc-8c80-4637-a60b-9684ee62ef12",
   "metadata": {},
   "outputs": [
    {
     "data": {
      "text/plain": [
       "'e'"
      ]
     },
     "execution_count": 30,
     "metadata": {},
     "output_type": "execute_result"
    }
   ],
   "source": [
    "#  Forward Slicing  ----> It start with zero count 0,1,2,3,4,5,6,7 ------\n",
    "str = 'Hello python'\n",
    "str[1]"
   ]
  },
  {
   "cell_type": "code",
   "execution_count": 40,
   "id": "63c32b5b-b1ec-4b3a-b4a0-3a8c6b3ba7db",
   "metadata": {},
   "outputs": [
    {
     "data": {
      "text/plain": [
       "'m'"
      ]
     },
     "execution_count": 40,
     "metadata": {},
     "output_type": "execute_result"
    }
   ],
   "source": [
    "# Bbackward Slicing  -------> Its starts with minus one -1 oppoiste of forward slicing where forwarding slicing end  backward slicing is started with -1 values \n",
    "str1 = 'Keshav Thakur From Bihar Samastipur' \n",
    "str1[-8]"
   ]
  },
  {
   "cell_type": "code",
   "execution_count": 54,
   "id": "223a3559-78ae-454f-86f2-2f8b3191bf63",
   "metadata": {},
   "outputs": [
    {
     "data": {
      "text/plain": [
       "'Keshva is learning python prog'"
      ]
     },
     "execution_count": 54,
     "metadata": {},
     "output_type": "execute_result"
    }
   ],
   "source": [
    "str2 = 'Keshva is learning python programming.'\n",
    "str2[0:30 # retrive characters "
   ]
  },
  {
   "cell_type": "markdown",
   "id": "afb2c5d9-e752-4403-86cc-8b1dbff515fb",
   "metadata": {},
   "source": [
    "# Update and delete a string "
   ]
  },
  {
   "cell_type": "code",
   "execution_count": 67,
   "id": "a56827ef-8ff2-422b-bcd5-c0f0140b0a65",
   "metadata": {},
   "outputs": [
    {
     "ename": "TypeError",
     "evalue": "'str' object does not support item assignment",
     "output_type": "error",
     "traceback": [
      "\u001b[1;31m---------------------------------------------------------------------------\u001b[0m",
      "\u001b[1;31mTypeError\u001b[0m                                 Traceback (most recent call last)",
      "Cell \u001b[1;32mIn[67], line 3\u001b[0m\n\u001b[0;32m      1\u001b[0m \u001b[38;5;66;03m# we can not update a assign strimg \u001b[39;00m\n\u001b[0;32m      2\u001b[0m str2 \u001b[38;5;241m=\u001b[39m \u001b[38;5;124m'\u001b[39m\u001b[38;5;124mKeshva is learning python programming.\u001b[39m\u001b[38;5;124m'\u001b[39m\n\u001b[1;32m----> 3\u001b[0m \u001b[43mstr2\u001b[49m\u001b[43m[\u001b[49m\u001b[38;5;241;43m0\u001b[39;49m\u001b[43m:\u001b[49m\u001b[38;5;241;43m2\u001b[39;49m\u001b[43m]\u001b[49m \u001b[38;5;241m=\u001b[39m \u001b[38;5;124m\"\u001b[39m\u001b[38;5;124mkes\u001b[39m\u001b[38;5;124m\"\u001b[39m\n",
      "\u001b[1;31mTypeError\u001b[0m: 'str' object does not support item assignment"
     ]
    }
   ],
   "source": [
    "\n",
    "# we can not update a assign strimg \n",
    "str2 = 'Keshva is learning python programming.'\n",
    "str2[0:2] = \"kes\""
   ]
  },
  {
   "cell_type": "code",
   "execution_count": 69,
   "id": "3f1e4af3-d3da-45f8-8527-25be6d6c8e3f",
   "metadata": {},
   "outputs": [
    {
     "ename": "NameError",
     "evalue": "name 'str2' is not defined",
     "output_type": "error",
     "traceback": [
      "\u001b[1;31m---------------------------------------------------------------------------\u001b[0m",
      "\u001b[1;31mNameError\u001b[0m                                 Traceback (most recent call last)",
      "Cell \u001b[1;32mIn[69], line 3\u001b[0m\n\u001b[0;32m      1\u001b[0m \u001b[38;5;66;03m#delete a string \u001b[39;00m\n\u001b[0;32m      2\u001b[0m \u001b[38;5;28;01mdel\u001b[39;00m str2\n\u001b[1;32m----> 3\u001b[0m \u001b[38;5;28mprint\u001b[39m(\u001b[43mstr2\u001b[49m)\n",
      "\u001b[1;31mNameError\u001b[0m: name 'str2' is not defined"
     ]
    }
   ],
   "source": [
    "#delete a string \n",
    "del str2\n",
    "print(str2)"
   ]
  },
  {
   "cell_type": "code",
   "execution_count": 73,
   "id": "7bddfd82-e3db-4a4f-a999-baf749370d70",
   "metadata": {},
   "outputs": [
    {
     "name": "stdout",
     "output_type": "stream",
     "text": [
      "Keshva is learning python programming.\n"
     ]
    }
   ],
   "source": [
    "str2 = 'Keshva is learning python programming.'\n",
    "print(str2)"
   ]
  },
  {
   "cell_type": "code",
   "execution_count": 75,
   "id": "bc8dcca3-22fb-4ae4-a073-098392580ab0",
   "metadata": {},
   "outputs": [],
   "source": [
    "del str2"
   ]
  },
  {
   "cell_type": "code",
   "execution_count": 77,
   "id": "94d33c93-a094-4221-9e92-07e1e66ef384",
   "metadata": {},
   "outputs": [
    {
     "ename": "NameError",
     "evalue": "name 'str2' is not defined",
     "output_type": "error",
     "traceback": [
      "\u001b[1;31m---------------------------------------------------------------------------\u001b[0m",
      "\u001b[1;31mNameError\u001b[0m                                 Traceback (most recent call last)",
      "Cell \u001b[1;32mIn[77], line 1\u001b[0m\n\u001b[1;32m----> 1\u001b[0m \u001b[38;5;28mprint\u001b[39m(\u001b[43mstr2\u001b[49m)\n",
      "\u001b[1;31mNameError\u001b[0m: name 'str2' is not defined"
     ]
    }
   ],
   "source": [
    "print(str2)"
   ]
  },
  {
   "cell_type": "code",
   "execution_count": 83,
   "id": "fe21b4ce-f580-4628-ac90-ac73d54aaba3",
   "metadata": {},
   "outputs": [
    {
     "name": "stdout",
     "output_type": "stream",
     "text": [
      "KeshavRajesh\n"
     ]
    }
   ],
   "source": [
    "#String Concatenation\n",
    "v1 = \"Keshav\"\n",
    "v2 = \"Rajesh\"\n",
    "s6 = v1+v2\n",
    "print(s6)"
   ]
  },
  {
   "cell_type": "code",
   "execution_count": 109,
   "id": "9746baa4-c243-42cf-bee9-d1b1bbdb7bbe",
   "metadata": {},
   "outputs": [
    {
     "name": "stdout",
     "output_type": "stream",
     "text": [
      "(10+20j)\n",
      "<class 'complex'>\n",
      "32\n",
      "(10+20j) Is Cpmplex ?  True\n"
     ]
    }
   ],
   "source": [
    "# import sys\n",
    "val5 = 10 + 20J\n",
    "print(val5)\n",
    "print(type(val5))\n",
    "print(sys.getsizeof(val5))\n",
    "print(val5,\"Is Cpmplex ? \" , isinstance(val5,complex))"
   ]
  },
  {
   "cell_type": "code",
   "execution_count": 5,
   "id": "7074bcd4-3d32-4cab-ba87-074a3f3fca15",
   "metadata": {},
   "outputs": [
    {
     "name": "stdout",
     "output_type": "stream",
     "text": [
      "False\n",
      "True\n"
     ]
    }
   ],
   "source": [
    "# isdigit \n",
    "challenge = \"thirt\"\n",
    "print(challenge.isdigit())\n",
    "challeng = \"66\"\n",
    "print(challeng1.isdigit())"
   ]
  },
  {
   "cell_type": "code",
   "execution_count": null,
   "id": "2b9c7904-2f86-445d-959c-e9ef5bf4774b",
   "metadata": {},
   "outputs": [],
   "source": []
  }
 ],
 "metadata": {
  "kernelspec": {
   "display_name": "Python 3 (ipykernel)",
   "language": "python",
   "name": "python3"
  },
  "language_info": {
   "codemirror_mode": {
    "name": "ipython",
    "version": 3
   },
   "file_extension": ".py",
   "mimetype": "text/x-python",
   "name": "python",
   "nbconvert_exporter": "python",
   "pygments_lexer": "ipython3",
   "version": "3.12.7"
  }
 },
 "nbformat": 4,
 "nbformat_minor": 5
}

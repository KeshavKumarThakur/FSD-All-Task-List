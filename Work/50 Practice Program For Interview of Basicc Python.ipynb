{
 "cells": [
  {
   "cell_type": "code",
   "execution_count": 227,
   "id": "06adb191-9d80-484e-81ad-0fd0497537b3",
   "metadata": {},
   "outputs": [
    {
     "name": "stdin",
     "output_type": "stream",
     "text": [
      "Enter the string  jj\n"
     ]
    },
    {
     "data": {
      "text/plain": [
       "['jj']"
      ]
     },
     "execution_count": 227,
     "metadata": {},
     "output_type": "execute_result"
    }
   ],
   "source": [
    "# How can you take multiple space -seprated values as input \\\n",
    "# we will use the split method to overcome of this problem \n",
    "input(\"Enter the string \").split()     # display the output in horizantal way if we not put , this\n",
    "\n"
   ]
  },
  {
   "cell_type": "code",
   "execution_count": null,
   "id": "e9e4cd3b-598e-4e77-8c87-4a9bced0b105",
   "metadata": {},
   "outputs": [],
   "source": [
    "# How to check if a number is enterd by the user is positive or negative \n"
   ]
  },
  {
   "cell_type": "code",
   "execution_count": 47,
   "id": "e1b24022-e8e1-45d0-bc27-20f9f8b4c4f4",
   "metadata": {},
   "outputs": [
    {
     "name": "stdin",
     "output_type": "stream",
     "text": [
      "Enter a number  -222\n"
     ]
    },
    {
     "name": "stdout",
     "output_type": "stream",
     "text": [
      "-222 is negative number\n"
     ]
    }
   ],
   "source": [
    "#Question:** How do you check if a number entered by the user is positive, negative, or zero?    **Answer:** Use an `if-elif-else` block to check the condition:      ```python \n",
    "number = int(input(\"Enter a number \"))\n",
    "if number > 0 :\n",
    "   print(f\"{number} is a postive number\")\n",
    "elif number < 0 :\n",
    "    print(f\"{number} is negative number\")\n",
    "else :\n",
    "   print(f\"{number}is zero \")\n",
    "\n"
   ]
  },
  {
   "cell_type": "code",
   "execution_count": 77,
   "id": "e99e5851-2d80-4971-acfa-26a38ca77213",
   "metadata": {},
   "outputs": [],
   "source": [
    "# How do you convert  user input into a list of inetgers \n",
    "# uestion number 6 \n",
    "#Not completed "
   ]
  },
  {
   "cell_type": "code",
   "execution_count": 1,
   "id": "6ba6ae09-dfe8-44ae-958e-c30e853b41d4",
   "metadata": {},
   "outputs": [
    {
     "name": "stdin",
     "output_type": "stream",
     "text": [
      "Please write  some words or strings : keshav\n"
     ]
    },
    {
     "name": "stdout",
     "output_type": "stream",
     "text": [
      "The words will pritedd in the upper case only : KESHAV\n"
     ]
    }
   ],
   "source": [
    "# How do u accept a string input and print it in uppercase \n",
    "user_input = input(\"Please write  some words or strings :\")\n",
    "print(\"The words will pritedd in the upper case only :\" , user_input.upper())\n"
   ]
  },
  {
   "cell_type": "code",
   "execution_count": 105,
   "id": "5ca70fb2-6560-4182-a8fd-05f867a230c6",
   "metadata": {},
   "outputs": [
    {
     "name": "stdin",
     "output_type": "stream",
     "text": [
      "Enter a string:  keshav is of \n"
     ]
    },
    {
     "name": "stdout",
     "output_type": "stream",
     "text": [
      "Number of vowels: 4\n"
     ]
    }
   ],
   "source": [
    "#write a python program that accepts  a string and  print the vowel\n",
    "text = input(\"Enter a string: \")   \n",
    "vowels = \"aeiou\"\n",
    "count = sum(1 for char in text if char.lower() in vowels) \n",
    "print(\"Number of vowels:\", count) \n",
    "\n"
   ]
  },
  {
   "cell_type": "code",
   "execution_count": 159,
   "id": "1ca57419-1ee9-4ad6-abd2-92abb09bc167",
   "metadata": {},
   "outputs": [
    {
     "name": "stdin",
     "output_type": "stream",
     "text": [
      "Enter a number 99\n"
     ]
    },
    {
     "name": "stdout",
     "output_type": "stream",
     "text": [
      "This is odd number \n"
     ]
    }
   ],
   "source": [
    "# Write a pythn program that take a number as input and check  if it is even or odd\n",
    "\n",
    "number1 = float(input(\"Enter a number\"))\n",
    "\n",
    "if number1%2 == 0 :\n",
    "    print(\"This is a even number \")\n",
    "else :\n",
    "    print(\"This is odd number \")\n",
    "\n",
    "\n",
    "\n",
    "# point to be remember :\n"
   ]
  },
  {
   "cell_type": "code",
   "execution_count": 145,
   "id": "81450f78-02c7-40d1-a187-8fe301a0d3f8",
   "metadata": {},
   "outputs": [
    {
     "name": "stdout",
     "output_type": "stream",
     "text": [
      "1\n",
      "3.3333333333333335\n",
      "3\n"
     ]
    }
   ],
   "source": [
    "x = 10\n",
    "y = 3\n",
    "print(x%y) #----> 0  gives remainder \n",
    "print(x/y) # ---> float value , gives quotient values in float \n",
    "print(x//y)  #---> # quotient value will be int by defalut \n",
    "# we divede a number to another nymber(without using conversion ) we will get value in float format "
   ]
  },
  {
   "cell_type": "code",
   "execution_count": 171,
   "id": "db4ca6ec-8718-4d95-a1ed-e068b3c72d4f",
   "metadata": {},
   "outputs": [
    {
     "name": "stdin",
     "output_type": "stream",
     "text": [
      "Enter the words or number : civic\n"
     ]
    },
    {
     "name": "stdout",
     "output_type": "stream",
     "text": [
      "This is a palidrome number \n"
     ]
    }
   ],
   "source": [
    "# how would you check if a number is a palindrome using Input() ?\n",
    "# palidrome means when we reverse a  string or number it should come same as before just like \n",
    "\n",
    "#Palidrome = 101,121 madam civic\n",
    "palidrome = input(\"Enter the words or number :\")\n",
    "if palidrome == palidrome[::-1] :\n",
    "    print(\"This is a palidrome number \")\n",
    "else :\n",
    "    print(\"this is not a palidrome number\")\n",
    "\n"
   ]
  },
  {
   "cell_type": "code",
   "execution_count": 195,
   "id": "83d7c004-316b-4440-9851-1b832386a8c9",
   "metadata": {},
   "outputs": [
    {
     "name": "stdin",
     "output_type": "stream",
     "text": [
      "Enter a First number  99\n"
     ]
    },
    {
     "name": "stdout",
     "output_type": "stream",
     "text": [
      "This is divisible by 3 \n"
     ]
    }
   ],
   "source": [
    "# write a program that ask for the number and prints whether is divisble by 3 \n",
    "\n",
    "a = int(input(\"Enter a First number \"))\n",
    "if a%3 == 0 :\n",
    "    print(\"This is divisible by 3 \")\n",
    "else :\n",
    "        print(\"This is not divisible by 3 \")\n",
    "\n"
   ]
  },
  {
   "cell_type": "code",
   "execution_count": 197,
   "id": "999bb918-d971-46a7-b1b5-8ed19cb10a63",
   "metadata": {},
   "outputs": [
    {
     "name": "stdin",
     "output_type": "stream",
     "text": [
      "Enter a First number  88\n",
      "Enter a Second number  87\n"
     ]
    },
    {
     "name": "stdout",
     "output_type": "stream",
     "text": [
      "This is not divisible by 3 \n"
     ]
    }
   ],
   "source": [
    "#write a program that ask for 2  number and prints whether is divisble by 3 \n",
    "\n",
    "a = int(input(\"Enter a First number \"))\n",
    "b = int(input(\"Enter a Second number \"))\n",
    "sum = int(a+b)\n",
    "if sum%3 == 0 :\n",
    "    print(\"This is divisible by 3 \")\n",
    "else :\n",
    "        print(\"This is not divisible by 3 \")\n",
    "\n"
   ]
  },
  {
   "cell_type": "code",
   "execution_count": null,
   "id": "05df1d05-a49a-4d63-bca1-731561ae9c33",
   "metadata": {},
   "outputs": [],
   "source": []
  },
  {
   "cell_type": "code",
   "execution_count": 187,
   "id": "d04701f3-fc6e-4175-80a1-58b7e41f040d",
   "metadata": {},
   "outputs": [
    {
     "name": "stdin",
     "output_type": "stream",
     "text": [
      "Enter a First number  4\n",
      "Enter a Second number  10\n",
      "Enter a Third number  2\n"
     ]
    },
    {
     "name": "stdout",
     "output_type": "stream",
     "text": [
      "This is not divisible by 3 \n"
     ]
    }
   ],
   "source": [
    "# write a program that ask for the 3 number and prints whether is divisble by 3 \n",
    "a = int(input(\"Enter a First number \"))\n",
    "b = int(input(\"Enter a Second number \"))\n",
    "c = int(input(\"Enter a Third number \"))\n",
    "sum = int(a+b+c)\n",
    "if sum%3 == 0 : \n",
    "    print(\"This is divisible by 3 \")\n",
    "else :\n",
    "        print(\"This is not divisible by 3 \")"
   ]
  },
  {
   "cell_type": "code",
   "execution_count": 205,
   "id": "e0fadddb-15b0-4169-8925-9586b6b76fed",
   "metadata": {},
   "outputs": [
    {
     "name": "stdin",
     "output_type": "stream",
     "text": [
      "Enter a Number  21\n"
     ]
    },
    {
     "name": "stdout",
     "output_type": "stream",
     "text": [
      "This is divisible by both 3 and 7 \n"
     ]
    }
   ],
   "source": [
    "# Write a python program to check if a number is divisible by both 3 and 7 \n",
    "a = int(input(\"Enter a Number \"))\n",
    "if a%3 == 0  and a%7 == 0  :\n",
    "    print(\"This is divisible by both 3 and 7 \")\n",
    "else :\n",
    "        print(\"This is not divisible by 3 \")"
   ]
  },
  {
   "cell_type": "code",
   "execution_count": 231,
   "id": "016c5750-a2a5-4161-9794-e780d8fdc249",
   "metadata": {},
   "outputs": [
    {
     "name": "stdin",
     "output_type": "stream",
     "text": [
      "Enter comma-separated values:  keshav thakur bihar \n"
     ]
    }
   ],
   "source": [
    "# how do you accept a list of comma-separated  vlaues as input \n",
    "value =  input(\"Enter comma-separated values: \").split(\",\") "
   ]
  },
  {
   "cell_type": "code",
   "execution_count": 235,
   "id": "1ea91f77-80f7-46ea-99e5-8fc984955e52",
   "metadata": {},
   "outputs": [
    {
     "name": "stdin",
     "output_type": "stream",
     "text": [
      "Enter the first number : 10\n",
      "Enter the seconf number : 9\n"
     ]
    },
    {
     "name": "stdout",
     "output_type": "stream",
     "text": [
      "The product of 10.0 and 9.0 is :  90.0\n"
     ]
    }
   ],
   "source": [
    "# write a prograam that take two number as ibput and print their product \n",
    "keshav = float(input(\"Enter the first number :\"))\n",
    "Rishav = float(input(\"Enter the seconf number :\"))\n",
    "product = float(keshav*Rishav)\n",
    "print(f\"The product of {keshav} and {Rishav} is : \" , product)"
   ]
  },
  {
   "cell_type": "code",
   "execution_count": 320,
   "id": "c3b80004-96e7-4f52-91ca-5f3ec8c52ba3",
   "metadata": {},
   "outputs": [
    {
     "name": "stdin",
     "output_type": "stream",
     "text": [
      "Enter a number:  7\n"
     ]
    },
    {
     "name": "stdout",
     "output_type": "stream",
     "text": [
      "This is a prime number\n"
     ]
    }
   ],
   "source": [
    "# Write a python program to ccheck  if the input number is a prime number \n",
    "number2 = int(input(\"Enter a number: \"))  \n",
    "\n",
    "if number2 > 1:  \n",
    "    for i in range(2, number2):  \n",
    "        if number2 % i == 0:  \n",
    "            print(\"This is not a prime number\")  \n",
    "            break  \n",
    "    else:  # This else belongs to the for loop, not the if statement\n",
    "        print(\"This is a prime number\")  \n",
    "else:  # This else belongs to the main if statement\n",
    "    print(\"Not a prime number\")\n"
   ]
  },
  {
   "cell_type": "code",
   "execution_count": 253,
   "id": "fb5a3053-c40c-4baf-ae1a-516100697404",
   "metadata": {},
   "outputs": [
    {
     "name": "stdout",
     "output_type": "stream",
     "text": [
      "keshav\n",
      "Rishav\n",
      "kanhiya\n",
      "Rajesh\n"
     ]
    }
   ],
   "source": [
    "# For and while loops in python\n",
    "king = ['keshav','Rishav','kanhiya','Rajesh']\n",
    "for i in king :\n",
    " print(i)\n"
   ]
  },
  {
   "cell_type": "code",
   "execution_count": 340,
   "id": "7ddd7827-cbe7-4eef-9b30-9a4e770ebf62",
   "metadata": {},
   "outputs": [
    {
     "name": "stdin",
     "output_type": "stream",
     "text": [
      "Enter True or False:  bd\n"
     ]
    },
    {
     "name": "stdout",
     "output_type": "stream",
     "text": [
      "<class 'bool'>\n"
     ]
    }
   ],
   "source": [
    "# How can you accept  a boolean value (True/false ) from the user  ?\n",
    "user_input = input(\"Enter True or False: \").lower() == \"true\"\n",
    "\n",
    "print(type(user_input))"
   ]
  },
  {
   "cell_type": "code",
   "execution_count": 350,
   "id": "796fb099-227a-42c5-84bd-707f2edb2565",
   "metadata": {},
   "outputs": [
    {
     "name": "stdin",
     "output_type": "stream",
     "text": [
      "Enter your string : keshav\n"
     ]
    },
    {
     "name": "stdout",
     "output_type": "stream",
     "text": [
      "vahsek\n"
     ]
    }
   ],
   "source": [
    "# Write a program that will accept a string and print the reverse of that string\n",
    "name = input(\"Enter your string :\")\n",
    "print(name[::-1])\n"
   ]
  },
  {
   "cell_type": "code",
   "execution_count": 356,
   "id": "9aafa2ef-0d7e-42a3-aef6-e6ef22ef32af",
   "metadata": {},
   "outputs": [
    {
     "name": "stdin",
     "output_type": "stream",
     "text": [
      "Enter your name please : keshav \n",
      "Enter your age please:  24\n"
     ]
    },
    {
     "name": "stdout",
     "output_type": "stream",
     "text": [
      " Hello My name is keshav  and Im 24 years old\n"
     ]
    }
   ],
   "source": [
    "# Write a program that asks for a users name age and print a message \n",
    "name39 = input(\"Enter your name please :\")\n",
    "age = int(input(\"Enter your age please: \"))\n",
    "print(f\" Hello My name is {name39} and Im {age} years old\")"
   ]
  },
  {
   "cell_type": "code",
   "execution_count": 378,
   "id": "a6b7b1ab-7768-4df7-982b-fc42ae647180",
   "metadata": {},
   "outputs": [
    {
     "name": "stdin",
     "output_type": "stream",
     "text": [
      "Enter a number 6\n"
     ]
    },
    {
     "name": "stdout",
     "output_type": "stream",
     "text": [
      "Factorials 720\n"
     ]
    }
   ],
   "source": [
    "# write a program to  calculate the factorical of a number \n",
    "num = int(input(\"Enter a number\"))\n",
    "factorial = 1\n",
    "for i in range(1,num+1) :\n",
    "               factorial *= i\n",
    "print(\"Factorials\",factorial)\n"
   ]
  },
  {
   "cell_type": "code",
   "execution_count": 390,
   "id": "c37fd154-bb11-4974-90e1-ec79a4abe6ad",
   "metadata": {},
   "outputs": [
    {
     "name": "stdin",
     "output_type": "stream",
     "text": [
      "Enter something \n"
     ]
    },
    {
     "name": "stdout",
     "output_type": "stream",
     "text": [
      "Input can not be empty\n"
     ]
    }
   ],
   "source": [
    "# How do you prevent a user from entering an empty string ?\n",
    "user_input = input(\"Enter something\").strip()\n",
    "if not user_input :\n",
    "    print(\"Input can not be empty\")\n",
    "else :\n",
    "    print(f\"You entered : {user_input} \")"
   ]
  },
  {
   "cell_type": "code",
   "execution_count": 396,
   "id": "171e8eee-7f63-4fe5-9083-931d190f708b",
   "metadata": {},
   "outputs": [
    {
     "name": "stdin",
     "output_type": "stream",
     "text": [
      "enter a number : 77\n"
     ]
    },
    {
     "name": "stdout",
     "output_type": "stream",
     "text": [
      "Not a perfect square root \n"
     ]
    }
   ],
   "source": [
    "# write a prograim to check whether a number is entered by input is perfect a square number \n",
    "import math\n",
    "num = int(input(\"enter a number :\"))\n",
    "if math.isqrt(num)**2 == num :\n",
    "    print(\"This is a perfect square root \")\n",
    "else :\n",
    "    print(\"Not a perfect square root \")"
   ]
  },
  {
   "cell_type": "code",
   "execution_count": 420,
   "id": "fa1f2049-a0e5-4fcf-9c03-5068cccde310",
   "metadata": {},
   "outputs": [
    {
     "name": "stdin",
     "output_type": "stream",
     "text": [
      "Enter a year:  1990\n"
     ]
    },
    {
     "name": "stdout",
     "output_type": "stream",
     "text": [
      "This is not a leap year\n"
     ]
    }
   ],
   "source": [
    "# Write a program that aks form the user for a year enter by them is leap or not \n",
    "\n",
    "# synatx to calculte year \n",
    "\"\"\"A year is a leap year if:\n",
    "It is divisible by 4 and not divisible by 100 or\n",
    "It is divisible by 400.\"\"\"\n",
    "\n",
    "year1 = int(input(\"Enter a year: \"))  \n",
    "\n",
    "if (year1 % 4 == 0 and year1 % 100 != 0) or (year1 % 400 == 0):  \n",
    "    print(\"This is a leap year\")  \n",
    "else:  \n",
    "    print(\"This is not a leap year\")  \n",
    "\n"
   ]
  },
  {
   "cell_type": "code",
   "execution_count": null,
   "id": "d4039455-b85f-447c-8dd1-e4de316bbb68",
   "metadata": {},
   "outputs": [],
   "source": [
    "#How can you remove leading and trailing spaces from a string input?   \n",
    "user_input = input(\"Enter something: \").strip()\n",
    " "
   ]
  },
  {
   "cell_type": "code",
   "execution_count": 424,
   "id": "ae398e79-629e-42f1-8e60-e44b57e4a87d",
   "metadata": {},
   "outputs": [
    {
     "name": "stdin",
     "output_type": "stream",
     "text": [
      "Enter a number : kk\n"
     ]
    },
    {
     "name": "stdout",
     "output_type": "stream",
     "text": [
      "Invalid Input ! Please enter a vaalid integer \n"
     ]
    }
   ],
   "source": [
    " #25. **Question:** How do you handle incorrect inputs when you expect an integer using `input()?\n",
    "\n",
    "try :\n",
    "    num = int(input(\"Enter a number :\"))\n",
    "except ValueError:\n",
    "    print(\"Invalid Input ! Please enter a vaalid integer \")\n",
    "\n"
   ]
  },
  {
   "cell_type": "code",
   "execution_count": 432,
   "id": "0feeccd6-9587-405b-ab51-ba5be84540b5",
   "metadata": {},
   "outputs": [
    {
     "name": "stdin",
     "output_type": "stream",
     "text": [
      "Enter a character to count k \n"
     ]
    },
    {
     "name": "stdout",
     "output_type": "stream",
     "text": [
      "Occurrence of k  : 0\n"
     ]
    }
   ],
   "source": [
    "text = input(\"Enter a string:\")\n",
    "char = input(\"Enter a character to count\")\n",
    "print(f\"Occurrence of {char} : {text.count(char)}\")\n"
   ]
  },
  {
   "cell_type": "code",
   "execution_count": 438,
   "id": "4fd6eccf-817a-4fc4-9676-287d8b0d2bf8",
   "metadata": {},
   "outputs": [
    {
     "name": "stdin",
     "output_type": "stream",
     "text": [
      "Enter a string:  KESHAV THAKUR\n"
     ]
    },
    {
     "name": "stdout",
     "output_type": "stream",
     "text": [
      "keshav thakur\n"
     ]
    }
   ],
   "source": [
    "# *Question:** How would you convert user input to lowercase using `input()`?  \n",
    "\n",
    "user_input = input(\"Enter a string: \").lower() \n",
    "print(user_input)\n"
   ]
  },
  {
   "cell_type": "code",
   "execution_count": 452,
   "id": "0e693771-2f30-41b1-bb8d-ae34c1730333",
   "metadata": {},
   "outputs": [
    {
     "name": "stdin",
     "output_type": "stream",
     "text": [
      "Enter a number : 50\n"
     ]
    },
    {
     "name": "stdout",
     "output_type": "stream",
     "text": [
      " 50 This  is a multiple\n"
     ]
    }
   ],
   "source": [
    "# Write a program that accepts a number and prints whether it is a multiple of 10. \n",
    "num = int(input(\"Enter a number :\"))\n",
    "if num%10 == 0 :\n",
    " print(f\" {num} This  is a multiple\")\n",
    "else :\n",
    " print(f\" {num} This is not a multiple\")"
   ]
  },
  {
   "cell_type": "code",
   "execution_count": 458,
   "id": "17ce7d0c-63df-4246-bda9-04270489860f",
   "metadata": {},
   "outputs": [
    {
     "name": "stdin",
     "output_type": "stream",
     "text": [
      "Enter a  string  keshav Thakur \n"
     ]
    },
    {
     "name": "stdout",
     "output_type": "stream",
     "text": [
      "Contains non alphabets chahrcter :\n"
     ]
    }
   ],
   "source": [
    " # 29 How would you check if a string contains only alphabets using `input()`?\n",
    "user_input = input(\"Enter a  string \")\n",
    "if user_input.isalpha() :\n",
    "    print(\"Only alphabets\")\n",
    "else :\n",
    "    print(\"Contains non alphabets chahrcter :\")"
   ]
  },
  {
   "cell_type": "code",
   "execution_count": 466,
   "id": "7430bf7d-2f8a-47f3-b8be-898f07c70fcf",
   "metadata": {},
   "outputs": [
    {
     "name": "stdin",
     "output_type": "stream",
     "text": [
      "Enter a sentence :  kehav jdsk jhs\n"
     ]
    },
    {
     "name": "stdout",
     "output_type": "stream",
     "text": [
      "Number of words :  3\n"
     ]
    }
   ],
   "source": [
    "# 30 write a program to count number of words in a sentence entered by the users \n",
    "text = input(\"Enter a sentence : \")\n",
    "print(\"Number of words : \",len(text.split()))"
   ]
  },
  {
   "cell_type": "code",
   "execution_count": 468,
   "id": "4784891a-3237-4cfb-8211-e0ce6d927dd7",
   "metadata": {},
   "outputs": [
    {
     "name": "stdin",
     "output_type": "stream",
     "text": [
      "Enter a date (YYYY-MM-DD): 2025-02-02\n"
     ]
    },
    {
     "name": "stdout",
     "output_type": "stream",
     "text": [
      "Entered date :  2025-02-02 00:00:00\n"
     ]
    }
   ],
   "source": [
    "# 31 how would you accept a date input from the user in python ?\n",
    "from datetime import datetime \n",
    "date_str = input(\"Enter a date (YYYY-MM-DD):\")\n",
    "date = datetime.strptime(date_str,\"%Y-%m-%d\")\n",
    "print(\"Entered date : \",date)\n"
   ]
  },
  {
   "cell_type": "code",
   "execution_count": 472,
   "id": "2f008946-3fac-4259-a3c4-01d385518430",
   "metadata": {},
   "outputs": [
    {
     "name": "stdin",
     "output_type": "stream",
     "text": [
      "Enter a number :  15\n"
     ]
    },
    {
     "name": "stdout",
     "output_type": "stream",
     "text": [
      "Divisible by both 3 and 5 \n"
     ]
    }
   ],
   "source": [
    "# 32 write a program that checks if the entered number is divisble by both 3 and 5 .\n",
    "num = int(input(\"Enter a number : \"))\n",
    "if num% 3 == 0 and num %5 == 0 :\n",
    "    print(\"Divisible by both 3 and 5 \")\n",
    "else :\n",
    "    print(\"Not divisible by both 3 and 5 \")"
   ]
  },
  {
   "cell_type": "code",
   "execution_count": 474,
   "id": "65988d79-c619-4d0b-9310-e298fbf862e9",
   "metadata": {},
   "outputs": [
    {
     "name": "stdin",
     "output_type": "stream",
     "text": [
      "Enter the first number 6\n",
      "Enter the Second value  7'\n"
     ]
    },
    {
     "name": "stdout",
     "output_type": "stream",
     "text": [
      "Swapped values:a= 7',b= 6\n"
     ]
    }
   ],
   "source": [
    "# write a program  to swap the values of two variable of two variable using input \n",
    "a = input(\"Enter the first number\")\n",
    "b = input(\"Enter the Second value \")\n",
    "a,b = b,a \n",
    "print(f\"Swapped values:a= {a},b= {b}\")"
   ]
  },
  {
   "cell_type": "code",
   "execution_count": 476,
   "id": "e1e4f421-6044-4386-a0a2-b71787203edd",
   "metadata": {},
   "outputs": [
    {
     "name": "stdin",
     "output_type": "stream",
     "text": [
      "Enter a string : keshavthakur jhsd\n"
     ]
    },
    {
     "name": "stdout",
     "output_type": "stream",
     "text": [
      "keshavthakur jhsd\n"
     ]
    }
   ],
   "source": [
    "# write a program to take user input and print it without spaces between words . \n",
    "user_input = input(\"Enter a string :\")\n",
    "print(user_input.replace(\"\",\"\"))"
   ]
  },
  {
   "cell_type": "code",
   "execution_count": 482,
   "id": "dbfe4965-fe87-4081-970a-f4d899d74d30",
   "metadata": {},
   "outputs": [
    {
     "name": "stdin",
     "output_type": "stream",
     "text": [
      "Enter email:  kesha\n"
     ]
    },
    {
     "name": "stdout",
     "output_type": "stream",
     "text": [
      "Invalid email\n"
     ]
    }
   ],
   "source": [
    "# 35 How do you validate if an entered input is a valid email address? \n",
    "import re   \n",
    "email = input(\"Enter email: \")  \n",
    "if re.match(r\"[^@]+@[^@]+\\.[^@]+\", email):    \n",
    " print(\"Valid email\")  \n",
    "else:   \n",
    " print(\"Invalid email\")    \n",
    " "
   ]
  },
  {
   "cell_type": "code",
   "execution_count": 484,
   "id": "a8f34951-0344-4cd5-a330-73da4497a383",
   "metadata": {},
   "outputs": [
    {
     "name": "stdin",
     "output_type": "stream",
     "text": [
      "enter a number : 3\n"
     ]
    },
    {
     "name": "stdout",
     "output_type": "stream",
     "text": [
      "Cube : 27\n"
     ]
    }
   ],
   "source": [
    "# 36 Write a program that accepts a  numbe and prints and its cube .\n",
    "num = int(input(\"enter a number :\"))\n",
    "print(\"Cube :\", num**3) "
   ]
  },
  {
   "cell_type": "code",
   "execution_count": 486,
   "id": "ddfd0ad7-170a-4a36-a480-c23dcff65969",
   "metadata": {},
   "outputs": [
    {
     "name": "stdin",
     "output_type": "stream",
     "text": [
      "Enter names separated by commas:  Keshav , kumar thakur \n"
     ]
    },
    {
     "name": "stdout",
     "output_type": "stream",
     "text": [
      "Names :  ['Keshav ', ' kumar thakur ']\n"
     ]
    }
   ],
   "source": [
    "# how would accept and store multiple name from the user ?\n",
    "names = input(\"Enter names separated by commas: \").split(',') \n",
    "print(\"Names : \", names)"
   ]
  },
  {
   "cell_type": "code",
   "execution_count": 490,
   "id": "8a66b069-7c3c-4aff-950f-310fd66b2b4f",
   "metadata": {},
   "outputs": [
    {
     "name": "stdin",
     "output_type": "stream",
     "text": [
      "Enter a string : keshav47k\n"
     ]
    },
    {
     "name": "stdout",
     "output_type": "stream",
     "text": [
      "Extracted numbers : ['47']\n"
     ]
    }
   ],
   "source": [
    "# 38 how do you extract number from from a string entered from a string entered  by the users \n",
    "import re \n",
    "text = input(\"Enter a string :\")\n",
    "numbers = re.findall(r'\\d+',text)\n",
    "print(\"Extracted numbers :\",numbers)"
   ]
  },
  {
   "cell_type": "code",
   "execution_count": 506,
   "id": "a239dbc1-0ed8-45cf-85bf-fa3601353606",
   "metadata": {},
   "outputs": [
    {
     "name": "stdin",
     "output_type": "stream",
     "text": [
      "Enter a vaid number: 2\n"
     ]
    }
   ],
   "source": [
    "# How would you prompt the user for input until they enter a valid number?\n",
    "while True :\n",
    "    try :\n",
    "        num = int(input(\"Enter a vaid number:\"))\n",
    "        break\n",
    "    except ValueError :\n",
    "        print(\"Invalid input , please enter  a number.\")\n",
    "    \n"
   ]
  },
  {
   "cell_type": "code",
   "execution_count": 500,
   "id": "2ad50c61-1826-4316-90ad-83705010ab2e",
   "metadata": {},
   "outputs": [
    {
     "name": "stdin",
     "output_type": "stream",
     "text": [
      "Enter numbers separated by spaces:  99 8\n"
     ]
    },
    {
     "name": "stdout",
     "output_type": "stream",
     "text": [
      "Maximum number: 99\n"
     ]
    },
    {
     "data": {
      "text/plain": [
       "list"
      ]
     },
     "execution_count": 500,
     "metadata": {},
     "output_type": "execute_result"
    }
   ],
   "source": [
    "#39 how would you find the maximum number from a list of integers  entered by users ?\n",
    "numbers = list(map(int, input(\"Enter numbers separated by spaces: \").split())) \n",
    "print(\"Maximum number:\", max(numbers))\n",
    "type(numbers)"
   ]
  },
  {
   "cell_type": "code",
   "execution_count": 516,
   "id": "d9488772-2d1d-4c76-bb87-d014a69e711a",
   "metadata": {},
   "outputs": [
    {
     "name": "stdin",
     "output_type": "stream",
     "text": [
      "Enter a string:  keshav4\n"
     ]
    },
    {
     "name": "stdout",
     "output_type": "stream",
     "text": [
      "Contains digits\n"
     ]
    }
   ],
   "source": [
    "# 41 write a program to check if the entered string has digits \n",
    "user_input = input(\"Enter a string: \")   \n",
    "if any(char.isdigit() for char in user_input):  \n",
    " print(\"Contains digits\")   \n",
    "else:     \n",
    "  print(\"No digits\")\n"
   ]
  },
  {
   "cell_type": "code",
   "execution_count": 526,
   "id": "28805d45-a3cd-4310-8d06-af23080c8fcf",
   "metadata": {},
   "outputs": [
    {
     "name": "stdin",
     "output_type": "stream",
     "text": [
      "Enter a string  keshav thakur\n"
     ]
    },
    {
     "name": "stdout",
     "output_type": "stream",
     "text": [
      "Contains non white characters\n"
     ]
    },
    {
     "data": {
      "text/plain": [
       "str"
      ]
     },
     "execution_count": 526,
     "metadata": {},
     "output_type": "execute_result"
    }
   ],
   "source": [
    "# Write a program to check if the entered string has only whitespace characters.\n",
    "user_input = input(\"Enter a string \")\n",
    "if user_input.isspace() :\n",
    "    print(\"Only whitespace\")\n",
    "else :\n",
    "    print(\"Contains non white characters\")\n",
    "type(user_input)\n",
    "\n",
    "\n"
   ]
  },
  {
   "cell_type": "code",
   "execution_count": 536,
   "id": "cb7396fa-e32c-4034-8364-ecda8e718905",
   "metadata": {},
   "outputs": [
    {
     "name": "stdin",
     "output_type": "stream",
     "text": [
      "Enter a string:  77\n"
     ]
    },
    {
     "ename": "TypeError",
     "evalue": "'int' object is not callable",
     "output_type": "error",
     "traceback": [
      "\u001b[1;31m---------------------------------------------------------------------------\u001b[0m",
      "\u001b[1;31mTypeError\u001b[0m                                 Traceback (most recent call last)",
      "Cell \u001b[1;32mIn[536], line 3\u001b[0m\n\u001b[0;32m      1\u001b[0m \u001b[38;5;66;03m# 43 write a programm to find the sum of all digit in a string entered by the user \u001b[39;00m\n\u001b[0;32m      2\u001b[0m text \u001b[38;5;241m=\u001b[39m \u001b[38;5;28minput\u001b[39m(\u001b[38;5;124m\"\u001b[39m\u001b[38;5;124mEnter a string: \u001b[39m\u001b[38;5;124m\"\u001b[39m)   \n\u001b[1;32m----> 3\u001b[0m digit_sum \u001b[38;5;241m=\u001b[39m \u001b[38;5;28;43msum\u001b[39;49m\u001b[43m(\u001b[49m\u001b[38;5;28;43mint\u001b[39;49m\u001b[43m(\u001b[49m\u001b[43mdigit\u001b[49m\u001b[43m)\u001b[49m\u001b[43m \u001b[49m\u001b[38;5;28;43;01mfor\u001b[39;49;00m\u001b[43m \u001b[49m\u001b[43mdigit\u001b[49m\u001b[43m \u001b[49m\u001b[38;5;129;43;01min\u001b[39;49;00m\u001b[43m \u001b[49m\u001b[43mtext\u001b[49m\u001b[43m \u001b[49m\u001b[38;5;28;43;01mif\u001b[39;49;00m\u001b[43m \u001b[49m\u001b[43mdigit\u001b[49m\u001b[38;5;241;43m.\u001b[39;49m\u001b[43misdigit\u001b[49m\u001b[43m(\u001b[49m\u001b[43m)\u001b[49m\u001b[43m)\u001b[49m \n\u001b[0;32m      4\u001b[0m \u001b[38;5;28mprint\u001b[39m(\u001b[38;5;124m\"\u001b[39m\u001b[38;5;124mSum of digits:\u001b[39m\u001b[38;5;124m\"\u001b[39m, digit_sum)\n",
      "\u001b[1;31mTypeError\u001b[0m: 'int' object is not callable"
     ]
    }
   ],
   "source": [
    "# 43 write a programm to find the sum of all digit in a string entered by the user \n",
    "text = input(\"Enter a string: \")   \n",
    "digit_sum = sum(int(digit) for digit in text if digit.isdigit()) \n",
    "print(\"Sum of digits:\", digit_sum)"
   ]
  },
  {
   "cell_type": "code",
   "execution_count": 544,
   "id": "99f1fc6e-2225-4b25-8c69-ad63c31940c8",
   "metadata": {},
   "outputs": [
    {
     "name": "stdin",
     "output_type": "stream",
     "text": [
      "Enter a number :  8\n"
     ]
    },
    {
     "name": "stdout",
     "output_type": "stream",
     "text": [
      "absolute Value : 8\n"
     ]
    }
   ],
   "source": [
    "# 44 write a program that  accepts a number and prints its absolute value \n",
    "num = int(input(\"Enter a number : \"))\n",
    "print(\"absolute Value :\",abs(num))"
   ]
  },
  {
   "cell_type": "code",
   "execution_count": 546,
   "id": "00a9d804-09ba-4eae-9d8e-853a9d10d01e",
   "metadata": {},
   "outputs": [
    {
     "name": "stdin",
     "output_type": "stream",
     "text": [
      "Enter a string:  kesK\n"
     ]
    },
    {
     "name": "stdout",
     "output_type": "stream",
     "text": [
      "Contains uppercase letters\n"
     ]
    }
   ],
   "source": [
    " #45 How would you check if a string entered by the user contains any uppercase letters ? \n",
    "user_input = input(\"Enter a string: \")    \n",
    "if any(char.isupper() for char in user_input):   \n",
    "  print(\"Contains uppercase letters\")    \n",
    "else:        \n",
    "  print(\"No uppercase letters\")"
   ]
  },
  {
   "cell_type": "code",
   "execution_count": 552,
   "id": "d7de3804-b63c-44b1-9b27-ce33c1e9a7d0",
   "metadata": {},
   "outputs": [
    {
     "name": "stdin",
     "output_type": "stream",
     "text": [
      "Enter temperature in celius:  77\n"
     ]
    },
    {
     "name": "stdout",
     "output_type": "stream",
     "text": [
      "Conversion of celisu to fahrenheit is  : 170.6\n"
     ]
    }
   ],
   "source": [
    "# 46 Write a program that converts Celsius to Fahrenheit.\n",
    "celius = float(input(\"Enter temperature in celius: \"))\n",
    "fahrenit = (celius*9/5)+32\n",
    "print(f\"Conversion of celisu to fahrenheit is  :\", fahrenit)"
   ]
  },
  {
   "cell_type": "code",
   "execution_count": 558,
   "id": "12e3071f-23c0-494c-8394-0622b398807f",
   "metadata": {},
   "outputs": [
    {
     "name": "stdin",
     "output_type": "stream",
     "text": [
      "Enter numbers separated by space:  77 889\n"
     ]
    },
    {
     "ename": "TypeError",
     "evalue": "'int' object is not callable",
     "output_type": "error",
     "traceback": [
      "\u001b[1;31m---------------------------------------------------------------------------\u001b[0m",
      "\u001b[1;31mTypeError\u001b[0m                                 Traceback (most recent call last)",
      "Cell \u001b[1;32mIn[558], line 3\u001b[0m\n\u001b[0;32m      1\u001b[0m \u001b[38;5;66;03m# Write a program to find the average of a list of numbers entered by the user.  \u001b[39;00m\n\u001b[0;32m      2\u001b[0m numbers \u001b[38;5;241m=\u001b[39m \u001b[38;5;28mlist\u001b[39m(\u001b[38;5;28mmap\u001b[39m(\u001b[38;5;28mint\u001b[39m, \u001b[38;5;28minput\u001b[39m(\u001b[38;5;124m\"\u001b[39m\u001b[38;5;124mEnter numbers separated by space: \u001b[39m\u001b[38;5;124m\"\u001b[39m)\u001b[38;5;241m.\u001b[39msplit()))  \n\u001b[1;32m----> 3\u001b[0m \u001b[38;5;28mprint\u001b[39m(\u001b[38;5;124m\"\u001b[39m\u001b[38;5;124mAverage:\u001b[39m\u001b[38;5;124m\"\u001b[39m, \u001b[38;5;28;43msum\u001b[39;49m\u001b[43m(\u001b[49m\u001b[43mnumbers\u001b[49m\u001b[43m)\u001b[49m \u001b[38;5;241m/\u001b[39m \u001b[38;5;28mlen\u001b[39m(numbers)) \n",
      "\u001b[1;31mTypeError\u001b[0m: 'int' object is not callable"
     ]
    }
   ],
   "source": [
    "# Write a program to find the average of a list of numbers entered by the user.  \n",
    "numbers = list(map(int, input(\"Enter numbers separated by space: \").split()))  \n",
    "print(\"Average:\", sum(numbers) / len(numbers)) "
   ]
  },
  {
   "cell_type": "code",
   "execution_count": 564,
   "id": "6dc72216-3e52-467b-974b-f7b8f2722c89",
   "metadata": {},
   "outputs": [
    {
     "name": "stdin",
     "output_type": "stream",
     "text": [
      "Enter a string:  hghdcxvcv c'nd\n"
     ]
    },
    {
     "name": "stdout",
     "output_type": "stream",
     "text": [
      "Contains punctuation\n"
     ]
    }
   ],
   "source": [
    "# How do you check if a string entered by the user contains any punctuation?\n",
    "import string    \n",
    "text = input(\"Enter a string: \")  \n",
    "if any(char in string.punctuation for char in text):    \n",
    "    \n",
    " print(\"Contains punctuation\")\n",
    "else: \n",
    " print(\"No punctuation\")\n"
   ]
  },
  {
   "cell_type": "code",
   "execution_count": 566,
   "id": "57c95b50-3c9b-4cdd-8030-64494050560c",
   "metadata": {},
   "outputs": [
    {
     "name": "stdin",
     "output_type": "stream",
     "text": [
      "Enter a sentence:  kehav is a good boy living in hyderabad \n"
     ]
    },
    {
     "name": "stdout",
     "output_type": "stream",
     "text": [
      "Longest word: hyderabad\n"
     ]
    }
   ],
   "source": [
    " # 50 Write a program that accepts a sentence and prints the longest word. \n",
    "text = input(\"Enter a sentence: \") \n",
    "words = text.split()   \n",
    "longest_word = max(words, key=len)  \n",
    "print(\"Longest word:\", longest_word) \n"
   ]
  },
  {
   "cell_type": "code",
   "execution_count": null,
   "id": "6ac05bee-ebdf-404b-b335-99f694fd0c94",
   "metadata": {},
   "outputs": [],
   "source": []
  },
  {
   "cell_type": "code",
   "execution_count": null,
   "id": "b2b17b8b-8761-4c5e-962c-c0e41905f32d",
   "metadata": {},
   "outputs": [],
   "source": []
  },
  {
   "cell_type": "code",
   "execution_count": null,
   "id": "a9e92f88-e20b-4fe8-bc64-129791f56ec1",
   "metadata": {},
   "outputs": [],
   "source": []
  },
  {
   "cell_type": "code",
   "execution_count": null,
   "id": "be10a648-dcc6-448f-b912-17b4dd5ffbbd",
   "metadata": {},
   "outputs": [],
   "source": []
  },
  {
   "cell_type": "code",
   "execution_count": null,
   "id": "c6056564-aa20-4087-a18b-100026811b17",
   "metadata": {},
   "outputs": [],
   "source": []
  },
  {
   "cell_type": "code",
   "execution_count": null,
   "id": "360c925a-19df-4c7b-be8d-18236c632a4e",
   "metadata": {},
   "outputs": [],
   "source": []
  },
  {
   "cell_type": "code",
   "execution_count": null,
   "id": "de6dcd86-a9ba-4310-be49-6c527a05117a",
   "metadata": {},
   "outputs": [],
   "source": []
  },
  {
   "cell_type": "code",
   "execution_count": null,
   "id": "c50b378b-9304-4668-aeb2-1a3a072beee8",
   "metadata": {},
   "outputs": [],
   "source": []
  },
  {
   "cell_type": "code",
   "execution_count": null,
   "id": "b5e9cb78-eb34-48f2-9377-01185419d57f",
   "metadata": {},
   "outputs": [],
   "source": []
  },
  {
   "cell_type": "code",
   "execution_count": null,
   "id": "4482d1a8-eba2-4e26-bab8-c4d17c666843",
   "metadata": {},
   "outputs": [],
   "source": []
  },
  {
   "cell_type": "code",
   "execution_count": null,
   "id": "f9d7f34e-7255-4e9e-b5fb-4ac8eff2b313",
   "metadata": {},
   "outputs": [],
   "source": []
  },
  {
   "cell_type": "code",
   "execution_count": null,
   "id": "4696a113-64db-49d9-8305-a47b0a75f2b5",
   "metadata": {},
   "outputs": [],
   "source": []
  },
  {
   "cell_type": "code",
   "execution_count": null,
   "id": "c3191223-a917-4584-b2c1-cae47ef6f573",
   "metadata": {},
   "outputs": [],
   "source": []
  },
  {
   "cell_type": "code",
   "execution_count": null,
   "id": "ecabe00f-dc9c-4bbd-a4e0-f25622493efc",
   "metadata": {},
   "outputs": [],
   "source": []
  },
  {
   "cell_type": "code",
   "execution_count": null,
   "id": "23cbb295-9fd0-4c0f-9c8a-15188726a9c2",
   "metadata": {},
   "outputs": [],
   "source": []
  },
  {
   "cell_type": "code",
   "execution_count": null,
   "id": "b03225d8-52a8-4fdf-941a-b6a2dccd3fb7",
   "metadata": {},
   "outputs": [],
   "source": []
  },
  {
   "cell_type": "code",
   "execution_count": null,
   "id": "1cf36a4b-6b5d-4f75-859e-9ede16cd4836",
   "metadata": {},
   "outputs": [],
   "source": []
  },
  {
   "cell_type": "code",
   "execution_count": null,
   "id": "b25c7fa2-0962-41b0-844b-a2460b13d6da",
   "metadata": {},
   "outputs": [],
   "source": []
  },
  {
   "cell_type": "code",
   "execution_count": null,
   "id": "a606dfe3-c466-4c1e-87a8-73b378310c41",
   "metadata": {},
   "outputs": [],
   "source": []
  },
  {
   "cell_type": "code",
   "execution_count": null,
   "id": "540a07c2-1848-4107-a0b0-c025fa7dc110",
   "metadata": {},
   "outputs": [],
   "source": []
  },
  {
   "cell_type": "code",
   "execution_count": null,
   "id": "df8839c3-b1e3-419b-adba-7ce05f00d82d",
   "metadata": {},
   "outputs": [],
   "source": []
  },
  {
   "cell_type": "code",
   "execution_count": null,
   "id": "dffef03f-ef5c-4dee-b1d6-2a21649049f5",
   "metadata": {},
   "outputs": [],
   "source": []
  },
  {
   "cell_type": "code",
   "execution_count": null,
   "id": "48c0ce72-501a-454c-b693-cee7d7aa3bcc",
   "metadata": {},
   "outputs": [],
   "source": []
  },
  {
   "cell_type": "code",
   "execution_count": null,
   "id": "1f0abd9e-d480-4bb4-83b5-490439f4435f",
   "metadata": {},
   "outputs": [],
   "source": []
  },
  {
   "cell_type": "code",
   "execution_count": null,
   "id": "ddef3554-4415-4950-92d7-5d3153458a41",
   "metadata": {},
   "outputs": [],
   "source": []
  },
  {
   "cell_type": "code",
   "execution_count": null,
   "id": "44ad8fd7-2717-47b2-b0f0-346a79c88547",
   "metadata": {},
   "outputs": [],
   "source": []
  },
  {
   "cell_type": "code",
   "execution_count": null,
   "id": "f70c18e9-8e26-4692-a2b1-aa9c95c87f28",
   "metadata": {},
   "outputs": [],
   "source": []
  },
  {
   "cell_type": "code",
   "execution_count": null,
   "id": "0fd3b493-bad9-47e7-9aa2-6586685a5db8",
   "metadata": {},
   "outputs": [],
   "source": []
  },
  {
   "cell_type": "code",
   "execution_count": null,
   "id": "92972ba5-c433-4e7a-a069-7a5280273273",
   "metadata": {},
   "outputs": [],
   "source": []
  },
  {
   "cell_type": "code",
   "execution_count": null,
   "id": "a4e5ef0f-bbdb-45b8-949a-0984485569f6",
   "metadata": {},
   "outputs": [],
   "source": []
  },
  {
   "cell_type": "code",
   "execution_count": null,
   "id": "b2e1e8fe-5f0a-418c-813a-644b68036412",
   "metadata": {},
   "outputs": [],
   "source": []
  },
  {
   "cell_type": "code",
   "execution_count": null,
   "id": "a50f65ff-4eec-44d3-8d20-4fa687a10c11",
   "metadata": {},
   "outputs": [],
   "source": []
  },
  {
   "cell_type": "code",
   "execution_count": null,
   "id": "f0fb66e9-6982-49a1-a7f5-9ec5f629effb",
   "metadata": {},
   "outputs": [],
   "source": []
  },
  {
   "cell_type": "code",
   "execution_count": null,
   "id": "26f64df6-1ab2-4ca3-8cc2-ee214769ce33",
   "metadata": {},
   "outputs": [],
   "source": []
  },
  {
   "cell_type": "code",
   "execution_count": null,
   "id": "ed168383-f43d-4897-a6f0-b6dc5830d52c",
   "metadata": {},
   "outputs": [],
   "source": []
  },
  {
   "cell_type": "code",
   "execution_count": null,
   "id": "8b3df989-78c6-48c7-8196-de7496884a48",
   "metadata": {},
   "outputs": [],
   "source": []
  },
  {
   "cell_type": "code",
   "execution_count": null,
   "id": "b98c56e8-4e9b-418b-9421-510df5b7fafb",
   "metadata": {},
   "outputs": [],
   "source": []
  },
  {
   "cell_type": "code",
   "execution_count": null,
   "id": "8cc30937-3272-4d2c-b779-7d5bc1e09222",
   "metadata": {},
   "outputs": [],
   "source": []
  },
  {
   "cell_type": "code",
   "execution_count": null,
   "id": "5ec31894-e879-45d3-9536-63be615ef3b5",
   "metadata": {},
   "outputs": [],
   "source": []
  },
  {
   "cell_type": "code",
   "execution_count": null,
   "id": "453ac6f4-ab52-436a-b869-6fe5eba097e3",
   "metadata": {},
   "outputs": [],
   "source": []
  },
  {
   "cell_type": "code",
   "execution_count": null,
   "id": "4b8bdd82-ba89-4757-9218-a81e527267bc",
   "metadata": {},
   "outputs": [],
   "source": []
  },
  {
   "cell_type": "code",
   "execution_count": null,
   "id": "338eea58-3ecf-41fb-affd-658dd9115638",
   "metadata": {},
   "outputs": [],
   "source": []
  },
  {
   "cell_type": "code",
   "execution_count": null,
   "id": "47d8e646-45d2-4118-9304-77b41e3d4d20",
   "metadata": {},
   "outputs": [],
   "source": []
  },
  {
   "cell_type": "code",
   "execution_count": null,
   "id": "06db8cf9-e1a2-42cc-aa41-94004036acbf",
   "metadata": {},
   "outputs": [],
   "source": []
  },
  {
   "cell_type": "code",
   "execution_count": null,
   "id": "88d24f89-67f2-4d6f-9138-b638dfd520ac",
   "metadata": {},
   "outputs": [],
   "source": []
  },
  {
   "cell_type": "code",
   "execution_count": null,
   "id": "be1718d7-5ce0-4813-bbb4-668160d791df",
   "metadata": {},
   "outputs": [],
   "source": []
  },
  {
   "cell_type": "code",
   "execution_count": null,
   "id": "65843fed-c906-44e1-add5-cf3389d66916",
   "metadata": {},
   "outputs": [],
   "source": []
  },
  {
   "cell_type": "code",
   "execution_count": null,
   "id": "63b6ec21-a7c0-4ef9-b983-4554dbc76db9",
   "metadata": {},
   "outputs": [],
   "source": []
  },
  {
   "cell_type": "code",
   "execution_count": null,
   "id": "1c3e62d6-4c8f-4889-bca6-7dd2e7a8d7d9",
   "metadata": {},
   "outputs": [],
   "source": []
  },
  {
   "cell_type": "code",
   "execution_count": null,
   "id": "24b37b48-eeb3-440a-a101-43b434dd43a0",
   "metadata": {},
   "outputs": [],
   "source": []
  },
  {
   "cell_type": "code",
   "execution_count": null,
   "id": "d5ba82a9-1303-43f2-9881-7a72d6e8cae4",
   "metadata": {},
   "outputs": [],
   "source": []
  },
  {
   "cell_type": "code",
   "execution_count": null,
   "id": "d7f571ab-b508-4d35-9a71-a22d7077ea1e",
   "metadata": {},
   "outputs": [],
   "source": []
  },
  {
   "cell_type": "code",
   "execution_count": null,
   "id": "9f1955ff-151b-416c-a066-2665b4badbf9",
   "metadata": {},
   "outputs": [],
   "source": []
  },
  {
   "cell_type": "code",
   "execution_count": null,
   "id": "047b0653-293c-4760-b229-c0812d44f85d",
   "metadata": {},
   "outputs": [],
   "source": []
  },
  {
   "cell_type": "code",
   "execution_count": null,
   "id": "38a417d8-bfcd-4314-844b-fbdef6997019",
   "metadata": {},
   "outputs": [],
   "source": []
  },
  {
   "cell_type": "code",
   "execution_count": null,
   "id": "560111d7-a626-4cf0-a3cf-52981db9c8e6",
   "metadata": {},
   "outputs": [],
   "source": []
  },
  {
   "cell_type": "code",
   "execution_count": null,
   "id": "2eea3d47-9b77-4dfd-ab66-f87f87c59ba6",
   "metadata": {},
   "outputs": [],
   "source": []
  },
  {
   "cell_type": "code",
   "execution_count": null,
   "id": "76d51545-9273-4abe-8b1f-2b37f59ff82d",
   "metadata": {},
   "outputs": [],
   "source": []
  },
  {
   "cell_type": "code",
   "execution_count": null,
   "id": "1f3b7ff2-671b-4283-8345-4b7c9c381033",
   "metadata": {},
   "outputs": [],
   "source": []
  },
  {
   "cell_type": "code",
   "execution_count": null,
   "id": "f9e8a277-90e7-4d5d-b5da-1267b7edf6ab",
   "metadata": {},
   "outputs": [],
   "source": []
  },
  {
   "cell_type": "code",
   "execution_count": null,
   "id": "26df207b-33ae-4420-8296-34b7208cc35c",
   "metadata": {},
   "outputs": [],
   "source": []
  },
  {
   "cell_type": "code",
   "execution_count": null,
   "id": "1ee1b646-47ac-4981-983e-d8f2212573e9",
   "metadata": {},
   "outputs": [],
   "source": []
  },
  {
   "cell_type": "code",
   "execution_count": null,
   "id": "9a7a9256-c228-469a-b88a-69ff2aae9d24",
   "metadata": {},
   "outputs": [],
   "source": []
  },
  {
   "cell_type": "code",
   "execution_count": null,
   "id": "7ad8a57c-2240-4f98-9eb8-7e80fcb1cda1",
   "metadata": {},
   "outputs": [],
   "source": []
  },
  {
   "cell_type": "code",
   "execution_count": null,
   "id": "92bd2144-8745-4d65-b275-bb1ae3501e60",
   "metadata": {},
   "outputs": [],
   "source": []
  },
  {
   "cell_type": "code",
   "execution_count": null,
   "id": "f2534fcc-7f7b-4173-a473-f2cd3a529a1c",
   "metadata": {},
   "outputs": [],
   "source": []
  },
  {
   "cell_type": "code",
   "execution_count": null,
   "id": "e05da6c4-3dc8-46f6-b438-6f5324ad5175",
   "metadata": {},
   "outputs": [],
   "source": []
  },
  {
   "cell_type": "code",
   "execution_count": null,
   "id": "b6b2af30-816f-4288-8548-3f6cedad3495",
   "metadata": {},
   "outputs": [],
   "source": []
  },
  {
   "cell_type": "code",
   "execution_count": null,
   "id": "58dd5e32-a97a-4d16-9312-6ab8a7b84ffb",
   "metadata": {},
   "outputs": [],
   "source": []
  },
  {
   "cell_type": "code",
   "execution_count": null,
   "id": "0f9434f8-5e59-4908-a1a9-87545248e8c4",
   "metadata": {},
   "outputs": [],
   "source": []
  },
  {
   "cell_type": "code",
   "execution_count": null,
   "id": "4b2e081e-a678-4eb5-917c-286ae88abf42",
   "metadata": {},
   "outputs": [],
   "source": []
  },
  {
   "cell_type": "code",
   "execution_count": null,
   "id": "2ef6af5c-f754-46d7-b282-d39d28c96f9c",
   "metadata": {},
   "outputs": [],
   "source": []
  },
  {
   "cell_type": "code",
   "execution_count": null,
   "id": "3d8c4da6-9a3c-4ee7-876d-95eac974cc88",
   "metadata": {},
   "outputs": [],
   "source": []
  },
  {
   "cell_type": "code",
   "execution_count": null,
   "id": "3d5edf80-653d-4d63-8b89-adeff11851d7",
   "metadata": {},
   "outputs": [],
   "source": []
  },
  {
   "cell_type": "code",
   "execution_count": null,
   "id": "328efbfb-1a90-460d-988c-03e4781212f3",
   "metadata": {},
   "outputs": [],
   "source": []
  },
  {
   "cell_type": "code",
   "execution_count": null,
   "id": "8d16ed0b-fbf6-4ebd-bc8e-c42b84c707a9",
   "metadata": {},
   "outputs": [],
   "source": []
  },
  {
   "cell_type": "code",
   "execution_count": null,
   "id": "b05d9417-03df-4c3a-8329-930999d627f8",
   "metadata": {},
   "outputs": [],
   "source": []
  },
  {
   "cell_type": "code",
   "execution_count": null,
   "id": "108f4bd7-9553-490d-97b9-cc6056984405",
   "metadata": {},
   "outputs": [],
   "source": []
  },
  {
   "cell_type": "code",
   "execution_count": null,
   "id": "ec27cba5-85f6-4757-b10e-597358f1d279",
   "metadata": {},
   "outputs": [],
   "source": []
  },
  {
   "cell_type": "code",
   "execution_count": null,
   "id": "0fa0b0cc-e810-4017-8664-24cc39c9fce8",
   "metadata": {},
   "outputs": [],
   "source": []
  },
  {
   "cell_type": "code",
   "execution_count": null,
   "id": "425a8ddc-c365-4f94-82fc-b40659a7bc41",
   "metadata": {},
   "outputs": [],
   "source": []
  },
  {
   "cell_type": "code",
   "execution_count": null,
   "id": "b0799d33-e89b-460e-8251-0292830aa85f",
   "metadata": {},
   "outputs": [],
   "source": [
    "\n"
   ]
  },
  {
   "cell_type": "code",
   "execution_count": null,
   "id": "f7a5392d-cab3-4e03-aeb3-516a1b01ec83",
   "metadata": {},
   "outputs": [],
   "source": []
  },
  {
   "cell_type": "code",
   "execution_count": null,
   "id": "c40fcf43-ea78-42a2-8e09-38f998319d7c",
   "metadata": {},
   "outputs": [],
   "source": []
  }
 ],
 "metadata": {
  "kernelspec": {
   "display_name": "Python 3 (ipykernel)",
   "language": "python",
   "name": "python3"
  },
  "language_info": {
   "codemirror_mode": {
    "name": "ipython",
    "version": 3
   },
   "file_extension": ".py",
   "mimetype": "text/x-python",
   "name": "python",
   "nbconvert_exporter": "python",
   "pygments_lexer": "ipython3",
   "version": "3.12.7"
  }
 },
 "nbformat": 4,
 "nbformat_minor": 5
}

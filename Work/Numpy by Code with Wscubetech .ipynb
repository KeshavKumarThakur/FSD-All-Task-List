{
 "cells": [
  {
   "cell_type": "code",
   "execution_count": 1,
   "id": "a75aaddb-8524-4daa-b9d4-ddf04db16da3",
   "metadata": {},
   "outputs": [
    {
     "name": "stdout",
     "output_type": "stream",
     "text": [
      "[1 2 3 4 5]\n"
     ]
    }
   ],
   "source": [
    "import numpy as np\n",
    "x = [1,2,3,4,5]\n",
    "print(np.array(x)) # way to creat a array "
   ]
  },
  {
   "cell_type": "code",
   "execution_count": 23,
   "id": "0416463e-f65f-4d0e-84d3-5f3345c4ac22",
   "metadata": {},
   "outputs": [
    {
     "name": "stdout",
     "output_type": "stream",
     "text": [
      "1\n"
     ]
    }
   ],
   "source": [
    "a = [2,4,7,80,5]\n",
    "arr = np.array(a)\n",
    "#arr\n",
    "print(arr.ndim)"
   ]
  },
  {
   "cell_type": "code",
   "execution_count": 19,
   "id": "490e167f-5ad6-4aa5-83f5-061640b161a7",
   "metadata": {},
   "outputs": [
    {
     "name": "stdin",
     "output_type": "stream",
     "text": [
      "Enter a number: 12\n",
      "Enter a number: 14\n",
      "Enter a number: 13\n",
      "Enter a number: 15\n"
     ]
    },
    {
     "name": "stdout",
     "output_type": "stream",
     "text": [
      "[12 14 13 15]\n"
     ]
    }
   ],
   "source": [
    "l = []\n",
    "for i in range(1,5) :\n",
    "    int_1 = int(input(\"Enter a number:\"))\n",
    "    l.append(int_1)\n",
    "print(np.array(l))"
   ]
  },
  {
   "cell_type": "markdown",
   "id": "f211ded8-676a-40f8-b2b8-5d601ed01aad",
   "metadata": {},
   "source": [
    "### checking the dimesnion of array "
   ]
  },
  {
   "cell_type": "code",
   "execution_count": 28,
   "id": "f6b36353-bf92-45bf-99fd-4d1711838616",
   "metadata": {},
   "outputs": [
    {
     "name": "stdout",
     "output_type": "stream",
     "text": [
      "2\n"
     ]
    }
   ],
   "source": [
    "ar2 = np.array([[1,2,3,4],[1,2,3,4]])\n",
    "ar2\n",
    "print(ar2.ndim)"
   ]
  },
  {
   "cell_type": "code",
   "execution_count": 48,
   "id": "93a61430-9d12-49d7-b59d-c9e3f39797c3",
   "metadata": {},
   "outputs": [
    {
     "ename": "AttributeError",
     "evalue": "'numpy.ndarray' object has no attribute 'ndmin'",
     "output_type": "error",
     "traceback": [
      "\u001b[1;31m---------------------------------------------------------------------------\u001b[0m",
      "\u001b[1;31mAttributeError\u001b[0m                            Traceback (most recent call last)",
      "Cell \u001b[1;32mIn[48], line 3\u001b[0m\n\u001b[0;32m      1\u001b[0m ar3 \u001b[38;5;241m=\u001b[39m np\u001b[38;5;241m.\u001b[39marray([[[\u001b[38;5;241m1\u001b[39m,\u001b[38;5;241m2\u001b[39m,\u001b[38;5;241m3\u001b[39m,\u001b[38;5;241m4\u001b[39m],[\u001b[38;5;241m1\u001b[39m,\u001b[38;5;241m2\u001b[39m,\u001b[38;5;241m3\u001b[39m,\u001b[38;5;241m4\u001b[39m]]]) \u001b[38;5;66;03m# when we create an nested array pass the args at  same \u001b[39;00m\n\u001b[0;32m      2\u001b[0m ar3 \n\u001b[1;32m----> 3\u001b[0m \u001b[38;5;28mprint\u001b[39m(\u001b[43mar3\u001b[49m\u001b[38;5;241;43m.\u001b[39;49m\u001b[43mndmin\u001b[49m)\n",
      "\u001b[1;31mAttributeError\u001b[0m: 'numpy.ndarray' object has no attribute 'ndmin'"
     ]
    }
   ],
   "source": [
    "ar3 = np.array([[[1,2,3,4],[1,2,3,4]]]) # when we create an nested array pass the args at  same \n",
    "ar3 \n",
    "print(ar3.ndim)"
   ]
  },
  {
   "cell_type": "code",
   "execution_count": 58,
   "id": "f05fe3d0-6a47-4d26-946b-86109b378c38",
   "metadata": {},
   "outputs": [
    {
     "data": {
      "text/plain": [
       "numpy.ndarray"
      ]
     },
     "execution_count": 58,
     "metadata": {},
     "output_type": "execute_result"
    }
   ],
   "source": [
    "# 10 D array \n",
    "import numpy as np \n",
    "arr4 = np.array([1,2,3,34],ndmin = 10)\n",
    "arr4\n",
    "type(arr4)"
   ]
  },
  {
   "cell_type": "markdown",
   "id": "5e9d9d18-1e93-4872-b923-5a7d0d7c65a8",
   "metadata": {},
   "source": [
    "### Special Numpy Array "
   ]
  },
  {
   "cell_type": "markdown",
   "id": "e1f83e2e-188d-46b5-aa7b-c3082fe96f8d",
   "metadata": {},
   "source": [
    "### **Arrays Filled with zeros **"
   ]
  },
  {
   "cell_type": "markdown",
   "id": "cbff810f-4de9-4bb6-9c04-a2d868e390d1",
   "metadata": {},
   "source": []
  },
  {
   "cell_type": "code",
   "execution_count": 86,
   "id": "1fa049b5-6710-4d6e-aaee-bbe18299bb63",
   "metadata": {},
   "outputs": [
    {
     "name": "stdout",
     "output_type": "stream",
     "text": [
      "[0. 0. 0. 0. 0. 0. 0. 0. 0. 0.]\n",
      "\n",
      "[[0. 0. 0. 0. 0. 0. 0. 0. 0. 0. 0. 0. 0. 0. 0. 0. 0. 0. 0. 0.]\n",
      " [0. 0. 0. 0. 0. 0. 0. 0. 0. 0. 0. 0. 0. 0. 0. 0. 0. 0. 0. 0.]\n",
      " [0. 0. 0. 0. 0. 0. 0. 0. 0. 0. 0. 0. 0. 0. 0. 0. 0. 0. 0. 0.]\n",
      " [0. 0. 0. 0. 0. 0. 0. 0. 0. 0. 0. 0. 0. 0. 0. 0. 0. 0. 0. 0.]\n",
      " [0. 0. 0. 0. 0. 0. 0. 0. 0. 0. 0. 0. 0. 0. 0. 0. 0. 0. 0. 0.]\n",
      " [0. 0. 0. 0. 0. 0. 0. 0. 0. 0. 0. 0. 0. 0. 0. 0. 0. 0. 0. 0.]\n",
      " [0. 0. 0. 0. 0. 0. 0. 0. 0. 0. 0. 0. 0. 0. 0. 0. 0. 0. 0. 0.]\n",
      " [0. 0. 0. 0. 0. 0. 0. 0. 0. 0. 0. 0. 0. 0. 0. 0. 0. 0. 0. 0.]\n",
      " [0. 0. 0. 0. 0. 0. 0. 0. 0. 0. 0. 0. 0. 0. 0. 0. 0. 0. 0. 0.]\n",
      " [0. 0. 0. 0. 0. 0. 0. 0. 0. 0. 0. 0. 0. 0. 0. 0. 0. 0. 0. 0.]\n",
      " [0. 0. 0. 0. 0. 0. 0. 0. 0. 0. 0. 0. 0. 0. 0. 0. 0. 0. 0. 0.]]\n"
     ]
    }
   ],
   "source": [
    "#np.zeros(1) One way of printing \n",
    "ar_zero = np.zeros(10) # ---> One dimensinal arrays \n",
    "print(ar_zero)\n",
    "ar_zero = np.zeros((11,20))\n",
    "print()\n",
    "print(ar_zero)"
   ]
  },
  {
   "cell_type": "code",
   "execution_count": 90,
   "id": "6a575537-0ee6-49cc-9443-e2b0358b68be",
   "metadata": {},
   "outputs": [
    {
     "data": {
      "text/plain": [
       "array([0., 0., 0.])"
      ]
     },
     "execution_count": 90,
     "metadata": {},
     "output_type": "execute_result"
    }
   ],
   "source": [
    "np.zeros(3) # another way of priting by direct calling \n"
   ]
  },
  {
   "cell_type": "markdown",
   "id": "38b9ed98-7f11-4f8b-a035-3d98cbf10afa",
   "metadata": {},
   "source": [
    "### **Array filled with ones**"
   ]
  },
  {
   "cell_type": "code",
   "execution_count": 100,
   "id": "8772135c-8056-4bb9-bcaa-878a44ec3d75",
   "metadata": {},
   "outputs": [
    {
     "name": "stdout",
     "output_type": "stream",
     "text": [
      "\n"
     ]
    },
    {
     "data": {
      "text/plain": [
       "array([[1., 1., 1., 1., 1., 1., 1., 1.],\n",
       "       [1., 1., 1., 1., 1., 1., 1., 1.],\n",
       "       [1., 1., 1., 1., 1., 1., 1., 1.],\n",
       "       [1., 1., 1., 1., 1., 1., 1., 1.],\n",
       "       [1., 1., 1., 1., 1., 1., 1., 1.],\n",
       "       [1., 1., 1., 1., 1., 1., 1., 1.],\n",
       "       [1., 1., 1., 1., 1., 1., 1., 1.]])"
      ]
     },
     "execution_count": 100,
     "metadata": {},
     "output_type": "execute_result"
    }
   ],
   "source": [
    "arr_one = np.ones(5) # one dimesnional array filled with  1 \n",
    "arr_one\n",
    "np.ones(45) # another way of printing \n",
    "print()\n"
   ]
  },
  {
   "cell_type": "code",
   "execution_count": 102,
   "id": "6c6e2e58-ecfd-4a19-b36d-ca55cc1b9920",
   "metadata": {},
   "outputs": [
    {
     "data": {
      "text/plain": [
       "array([[1., 1., 1., 1., 1., 1., 1., 1.],\n",
       "       [1., 1., 1., 1., 1., 1., 1., 1.],\n",
       "       [1., 1., 1., 1., 1., 1., 1., 1.],\n",
       "       [1., 1., 1., 1., 1., 1., 1., 1.],\n",
       "       [1., 1., 1., 1., 1., 1., 1., 1.],\n",
       "       [1., 1., 1., 1., 1., 1., 1., 1.],\n",
       "       [1., 1., 1., 1., 1., 1., 1., 1.]])"
      ]
     },
     "execution_count": 102,
     "metadata": {},
     "output_type": "execute_result"
    }
   ],
   "source": [
    "arr_one1 = np.ones((7,8)) # two dimensional array \n",
    "arr_one1"
   ]
  },
  {
   "cell_type": "markdown",
   "id": "82b76162-f480-4b32-a444-2281600f3445",
   "metadata": {},
   "source": [
    "### create an empty array "
   ]
  },
  {
   "cell_type": "code",
   "execution_count": 105,
   "id": "cd5b27a2-8033-412d-8880-c46adccbca46",
   "metadata": {},
   "outputs": [
    {
     "data": {
      "text/plain": [
       "array([0., 0., 0.])"
      ]
     },
     "execution_count": 105,
     "metadata": {},
     "output_type": "execute_result"
    }
   ],
   "source": [
    "np.empty(3)"
   ]
  },
  {
   "cell_type": "markdown",
   "id": "711a4936-43f3-48e0-8563-ffc8eba83da5",
   "metadata": {},
   "source": [
    "### **arange**"
   ]
  },
  {
   "cell_type": "code",
   "execution_count": 116,
   "id": "3e55212a-59ca-49b6-abe4-f3c901da248c",
   "metadata": {},
   "outputs": [
    {
     "data": {
      "text/plain": [
       "array([0, 1, 2, 3, 4, 5, 6, 7])"
      ]
     },
     "execution_count": 116,
     "metadata": {},
     "output_type": "execute_result"
    }
   ],
   "source": [
    "np.arange((8))\n"
   ]
  },
  {
   "cell_type": "code",
   "execution_count": 118,
   "id": "d2e3df55-dfe5-4aec-9859-6c9af2b2dd13",
   "metadata": {},
   "outputs": [
    {
     "data": {
      "text/plain": [
       "array([0, 1, 2, 3, 4, 5, 6, 7, 8, 9])"
      ]
     },
     "execution_count": 118,
     "metadata": {},
     "output_type": "execute_result"
    }
   ],
   "source": [
    "arange = np.arange(10)\n",
    "arange"
   ]
  },
  {
   "cell_type": "markdown",
   "id": "1088c3c6-6adc-4eee-bd96-ad3f45eaeac3",
   "metadata": {},
   "source": [
    "### diagonal array  (eye)"
   ]
  },
  {
   "cell_type": "code",
   "execution_count": 137,
   "id": "885b6a17-19dc-4dcc-ae4e-33dbb0721784",
   "metadata": {},
   "outputs": [
    {
     "data": {
      "text/plain": [
       "array([[1., 0., 0.],\n",
       "       [0., 1., 0.],\n",
       "       [0., 0., 1.]])"
      ]
     },
     "execution_count": 137,
     "metadata": {},
     "output_type": "execute_result"
    }
   ],
   "source": [
    "diag = np.eye(3)\n",
    "diag"
   ]
  },
  {
   "cell_type": "code",
   "execution_count": 125,
   "id": "0093dca2-bffd-4b15-9764-f042db728c34",
   "metadata": {},
   "outputs": [
    {
     "data": {
      "text/plain": [
       "array([[1., 0., 0., 0., 0.],\n",
       "       [0., 1., 0., 0., 0.],\n",
       "       [0., 0., 1., 0., 0.]])"
      ]
     },
     "execution_count": 125,
     "metadata": {},
     "output_type": "execute_result"
    }
   ],
   "source": [
    "diag = np.eye(3,5)  # print 3 rows and 5 columns \n",
    "diag"
   ]
  },
  {
   "cell_type": "markdown",
   "id": "5ad43eac-cfb6-4d7c-b008-91bb6aa39565",
   "metadata": {},
   "source": [
    "### linspace "
   ]
  },
  {
   "cell_type": "code",
   "execution_count": 142,
   "id": "fb9d4cf5-602b-4df5-b99f-ad900544de8c",
   "metadata": {},
   "outputs": [
    {
     "data": {
      "text/plain": [
       "array([ 0.,  5., 10., 15., 20.])"
      ]
     },
     "execution_count": 142,
     "metadata": {},
     "output_type": "execute_result"
    }
   ],
   "source": [
    "linspace = np.linspace(0,20 , num = 5)\n",
    "linspace"
   ]
  },
  {
   "cell_type": "code",
   "execution_count": null,
   "id": "822ca8bc-8a30-4ca2-8112-4df9704ce71b",
   "metadata": {},
   "outputs": [],
   "source": []
  },
  {
   "cell_type": "markdown",
   "id": "0a9465a9-efec-4892-9296-118139983c32",
   "metadata": {},
   "source": [
    "### Create Numpy array with Random Numbers** "
   ]
  },
  {
   "cell_type": "code",
   "execution_count": 161,
   "id": "f29ff9a4-57ba-421c-bbee-eaf9bc6f5966",
   "metadata": {},
   "outputs": [
    {
     "data": {
      "text/plain": [
       "array([[0.03567115, 0.54525928, 0.83154224],\n",
       "       [0.16696244, 0.1772361 , 0.70922096],\n",
       "       [0.63574889, 0.56744188, 0.74266023],\n",
       "       [0.32747355, 0.44995336, 0.46157567]])"
      ]
     },
     "execution_count": 161,
     "metadata": {},
     "output_type": "execute_result"
    }
   ],
   "source": [
    "rand = np.random.rand(4,3)\n",
    "rand"
   ]
  },
  {
   "cell_type": "code",
   "execution_count": 191,
   "id": "caffe8f3-0d55-47ab-98fa-887a69f4d482",
   "metadata": {},
   "outputs": [
    {
     "data": {
      "text/plain": [
       "array([[ 0.22613809,  0.69882136, -0.74058329, -0.77489103],\n",
       "       [-1.34989308, -0.86222716,  1.70231529, -0.70666651],\n",
       "       [ 0.76335829, -0.35561677, -0.78785298,  0.56124418],\n",
       "       [-1.53291418, -0.31613549,  0.54808716, -1.09530758],\n",
       "       [ 0.02278887,  0.07454579, -0.28417319,  0.25536574],\n",
       "       [ 1.23934968,  0.6343098 , -1.05846171,  0.1114417 ]])"
      ]
     },
     "execution_count": 191,
     "metadata": {},
     "output_type": "execute_result"
    }
   ],
   "source": [
    "# randn \n",
    "randn = np.random.randn(6,4) #(we can pass arguments 1 is number of rows and second is the number of column )\n",
    "randn \n",
    "#we can also try like this \n",
    "#np.random.randn(6)\n"
   ]
  },
  {
   "cell_type": "code",
   "execution_count": 189,
   "id": "4ede74fb-7c9e-4fe9-9a73-c871a3fd757f",
   "metadata": {},
   "outputs": [
    {
     "data": {
      "text/plain": [
       "array([0.73755703, 0.6901674 , 0.33374471, 0.97216423, 0.85550732])"
      ]
     },
     "execution_count": 189,
     "metadata": {},
     "output_type": "execute_result"
    }
   ],
   "source": [
    "np.random.ranf(5)"
   ]
  },
  {
   "cell_type": "code",
   "execution_count": 228,
   "id": "6b2334d1-d6e9-4b44-9f01-115ce7151876",
   "metadata": {},
   "outputs": [
    {
     "data": {
      "text/plain": [
       "6"
      ]
     },
     "execution_count": 228,
     "metadata": {},
     "output_type": "execute_result"
    }
   ],
   "source": [
    "np.random.randint(7)"
   ]
  },
  {
   "cell_type": "code",
   "execution_count": 209,
   "id": "e2bd7032-58b5-4603-8ff0-f7f6dd70bdc4",
   "metadata": {},
   "outputs": [
    {
     "data": {
      "text/plain": [
       "5613"
      ]
     },
     "execution_count": 209,
     "metadata": {},
     "output_type": "execute_result"
    }
   ],
   "source": []
  },
  {
   "cell_type": "code",
   "execution_count": 254,
   "id": "ac36427a-fedf-4d24-8610-cfab50ebcd7a",
   "metadata": {},
   "outputs": [
    {
     "data": {
      "text/plain": [
       "array([ 8, 18])"
      ]
     },
     "execution_count": 254,
     "metadata": {},
     "output_type": "execute_result"
    }
   ],
   "source": [
    "np.random.randint(5,20,2)"
   ]
  },
  {
   "cell_type": "markdown",
   "id": "fa754586-d2ec-48c9-8170-78ab94f8c4b2",
   "metadata": {},
   "source": [
    "###   **Airthmetic Operation In Numpy**"
   ]
  },
  {
   "cell_type": "code",
   "execution_count": 265,
   "id": "628680d1-ccbc-4e39-8925-33d4357bde77",
   "metadata": {},
   "outputs": [
    {
     "name": "stdout",
     "output_type": "stream",
     "text": [
      "[4 5 6 7 8 9]\n"
     ]
    }
   ],
   "source": [
    "import numpy as np \n",
    "var = np.array([1,2,3,4,5,6])\n",
    "vardd = var + 3\n",
    "print(vardd)"
   ]
  },
  {
   "cell_type": "code",
   "execution_count": 269,
   "id": "a8b2f92d-8d85-43ad-bbda-deb56f0b798e",
   "metadata": {},
   "outputs": [
    {
     "name": "stdout",
     "output_type": "stream",
     "text": [
      "[ 2  4  6  8 10 12]\n"
     ]
    }
   ],
   "source": [
    "var1 = np.array([1,2,3,4,5,6])\n",
    "varaible1 = np.array([1,2,3,4,5,6])\n",
    "vardd1 = var1 + varaible1\n",
    "print(vardd1)"
   ]
  },
  {
   "cell_type": "code",
   "execution_count": 271,
   "id": "067987f9-4ee1-498b-b264-9f34071c03be",
   "metadata": {},
   "outputs": [
    {
     "name": "stdout",
     "output_type": "stream",
     "text": [
      "[-2 -1  0  1  2  3]\n"
     ]
    }
   ],
   "source": [
    "import numpy as np \n",
    "var = np.array([1,2,3,4,5,6])\n",
    "vardd = var - 3\n",
    "print(vardd)"
   ]
  },
  {
   "cell_type": "code",
   "execution_count": 273,
   "id": "5cccea78-486d-4d81-acc0-702d2648f9b1",
   "metadata": {},
   "outputs": [
    {
     "name": "stdout",
     "output_type": "stream",
     "text": [
      "[ 3  6  9 12 15 18]\n"
     ]
    }
   ],
   "source": [
    "import numpy as np \n",
    "var = np.array([1,2,3,4,5,6])\n",
    "vardd = var * 3\n",
    "print(vardd)"
   ]
  },
  {
   "cell_type": "code",
   "execution_count": 275,
   "id": "cfe107e8-ecc3-4f18-8c08-189f68d6a73f",
   "metadata": {},
   "outputs": [
    {
     "name": "stdout",
     "output_type": "stream",
     "text": [
      "[0.33333333 0.66666667 1.         1.33333333 1.66666667 2.        ]\n"
     ]
    }
   ],
   "source": [
    "import numpy as np \n",
    "var = np.array([1,2,3,4,5,6])\n",
    "vardd = var / 3\n",
    "print(vardd)"
   ]
  },
  {
   "cell_type": "code",
   "execution_count": 277,
   "id": "23c747df-dcdb-4170-af7f-0d25f71fc304",
   "metadata": {},
   "outputs": [
    {
     "name": "stdout",
     "output_type": "stream",
     "text": [
      "[1 2 0 1 2 0]\n"
     ]
    }
   ],
   "source": [
    "import numpy as np \n",
    "var = np.array([1,2,3,4,5,6])\n",
    "vardd = var % 3\n",
    "print(vardd)"
   ]
  },
  {
   "cell_type": "code",
   "execution_count": 279,
   "id": "e20989c8-a7a1-4eef-8467-b6447eb33fce",
   "metadata": {},
   "outputs": [
    {
     "name": "stdout",
     "output_type": "stream",
     "text": [
      "[0 0 1 1 1 2]\n"
     ]
    }
   ],
   "source": [
    "import numpy as np \n",
    "var = np.array([1,2,3,4,5,6])\n",
    "vardd = var // 3\n",
    "print(vardd)"
   ]
  },
  {
   "cell_type": "markdown",
   "id": "e3925bc6-a96c-4394-8137-f330ba3dea8c",
   "metadata": {},
   "source": [
    "## Airthmetic operation "
   ]
  },
  {
   "cell_type": "code",
   "execution_count": null,
   "id": "1f30bd7d-90da-47aa-a376-14da307c0fba",
   "metadata": {},
   "outputs": [],
   "source": [
    "np.min\n",
    "np.max\n",
    "np.argmin\n",
    "np.sqrt\n",
    "np.sin\n",
    "np.cos\n",
    "np.cumsum\n"
   ]
  },
  {
   "cell_type": "code",
   "execution_count": 283,
   "id": "d03a28a8-fc1a-4cb5-901a-f3251acd0d33",
   "metadata": {},
   "outputs": [
    {
     "name": "stdout",
     "output_type": "stream",
     "text": [
      "Max value 6\n"
     ]
    }
   ],
   "source": [
    "var = np.array([1,2,3,4,5,6])\n",
    "print(\"Max value\",max(var))"
   ]
  },
  {
   "cell_type": "code",
   "execution_count": 285,
   "id": "713074aa-17fd-4a9c-82d4-c3d5e8e7d626",
   "metadata": {},
   "outputs": [
    {
     "name": "stdout",
     "output_type": "stream",
     "text": [
      "min value 1\n"
     ]
    }
   ],
   "source": [
    "var = np.array([1,2,3,4,5,6])\n",
    "print(\"min value\",min(var))"
   ]
  },
  {
   "cell_type": "code",
   "execution_count": null,
   "id": "fb0f5590-6d4d-4fae-b606-a733396c8861",
   "metadata": {},
   "outputs": [],
   "source": []
  },
  {
   "cell_type": "code",
   "execution_count": null,
   "id": "57c646f7-af18-4958-bb60-88873b210d07",
   "metadata": {},
   "outputs": [],
   "source": []
  },
  {
   "cell_type": "code",
   "execution_count": null,
   "id": "ed7d5eb8-9179-4ce0-81a0-d8bef7149945",
   "metadata": {},
   "outputs": [],
   "source": []
  },
  {
   "cell_type": "code",
   "execution_count": null,
   "id": "3340a7a4-8223-4076-b5f2-0c484c8f83d5",
   "metadata": {},
   "outputs": [],
   "source": []
  },
  {
   "cell_type": "code",
   "execution_count": null,
   "id": "c34dc421-2d0c-4a6e-9466-3e45a872e624",
   "metadata": {},
   "outputs": [],
   "source": [
    "\n"
   ]
  }
 ],
 "metadata": {
  "kernelspec": {
   "display_name": "Python 3 (ipykernel)",
   "language": "python",
   "name": "python3"
  },
  "language_info": {
   "codemirror_mode": {
    "name": "ipython",
    "version": 3
   },
   "file_extension": ".py",
   "mimetype": "text/x-python",
   "name": "python",
   "nbconvert_exporter": "python",
   "pygments_lexer": "ipython3",
   "version": "3.12.7"
  }
 },
 "nbformat": 4,
 "nbformat_minor": 5
}

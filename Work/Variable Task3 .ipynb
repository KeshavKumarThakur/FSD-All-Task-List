{
 "cells": [
  {
   "cell_type": "code",
   "execution_count": 2,
   "id": "423b3656-7ca0-48c5-993b-a5691c044846",
   "metadata": {},
   "outputs": [],
   "source": [
    "first_name = 'PRAKASH'\n",
    "last_name = 'SENAPATI'\n",
    "country = 'INDIA'\n",
    "city = 'HYD'\n",
    "age = 40034\n",
    "is_married = True \n",
    "skills = ['HTML','CSS','JAVASCRIPT','REACT','PYTHON']\n",
    "personal_info = {\n",
    "    'firstname:Keshv',\n",
    "    'lastname:yoges sharma',\n",
    "    'country:india',\n",
    "    'city:hyderabad'\n",
    "    }\n"
   ]
  },
  {
   "cell_type": "code",
   "execution_count": 28,
   "id": "bad5e951-ca2d-4eaf-8215-c7546e2d5a6b",
   "metadata": {},
   "outputs": [
    {
     "name": "stdout",
     "output_type": "stream",
     "text": [
      "First Name :  PRAKASH\n",
      "first name lenght is  7\n",
      "Last name :  SENAPATI\n",
      "Last name lenght is  8\n",
      "Country: INDIA\n",
      "The lenght of country is  5\n",
      "Age:  40034\n",
      "Is Married True\n",
      "skills : ['HTML', 'CSS', 'JAVASCRIPT', 'REACT', 'PYTHON']\n",
      "Personal Information: {'lastname:yoges sharma', 'firstname:Keshv', 'country:india', 'city:hyderabad'}\n"
     ]
    }
   ],
   "source": [
    "# Printing the values stored in variable\n",
    "print('First Name : ', first_name )\n",
    "print(\"first name lenght is \",len(first_name))\n",
    "print(\"Last name : \", last_name )\n",
    "print(\"Last name lenght is \", len(last_name))\n",
    "print(\"Country:\" , country)\n",
    "print(\"The lenght of country is \", len(country))\n",
    "print(\"Age: \" , age)\n",
    "print(\"Is Married\" , is_married)\n",
    "print(\"skills :\",skills)\n",
    "print(\"Personal Information:\", personal_info)"
   ]
  },
  {
   "cell_type": "code",
   "execution_count": 30,
   "id": "f4b70e01-e635-4619-9997-a1a1a87ece8b",
   "metadata": {},
   "outputs": [
    {
     "name": "stdout",
     "output_type": "stream",
     "text": [
      "Asabeneh Yetayeh Helsink 250 True\n",
      "First name: Asabeneh\n",
      "Last name:  Yetayeh\n",
      "Country:  Helsink\n",
      "Age:  250\n",
      "Married:  True\n"
     ]
    }
   ],
   "source": [
    "# Decalaring multiple variable in one line \n",
    "first_name, last_name, country, age, is_married = 'Asabeneh', 'Yetayeh', 'Helsink', 250, True\n",
    "\n",
    "print(first_name, last_name, country, age, is_married)\n",
    "print('First name:', first_name)\n",
    "print('Last name: ', last_name)\n",
    "print('Country: ', country)\n",
    "print('Age: ', age)\n",
    "print('Married: ', is_married)"
   ]
  },
  {
   "cell_type": "code",
   "execution_count": null,
   "id": "c5727daa-9bed-416e-a65b-7297602b0cce",
   "metadata": {},
   "outputs": [],
   "source": []
  }
 ],
 "metadata": {
  "kernelspec": {
   "display_name": "Python 3 (ipykernel)",
   "language": "python",
   "name": "python3"
  },
  "language_info": {
   "codemirror_mode": {
    "name": "ipython",
    "version": 3
   },
   "file_extension": ".py",
   "mimetype": "text/x-python",
   "name": "python",
   "nbconvert_exporter": "python",
   "pygments_lexer": "ipython3",
   "version": "3.12.7"
  }
 },
 "nbformat": 4,
 "nbformat_minor": 5
}

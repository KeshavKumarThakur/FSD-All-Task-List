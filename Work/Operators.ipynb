{
 "cells": [
  {
   "cell_type": "code",
   "execution_count": 4,
   "id": "8fdcb83a-f3e6-4d08-a9a1-869bfaf05339",
   "metadata": {},
   "outputs": [],
   "source": []
  },
  {
   "cell_type": "markdown",
   "id": "9da8d784-4190-42c3-8331-b85b9fe0d944",
   "metadata": {},
   "source": [
    "# Operators "
   ]
  },
  {
   "cell_type": "code",
   "execution_count": null,
   "id": "72da81e9-114d-4000-8372-4c9712ee1d62",
   "metadata": {},
   "outputs": [],
   "source": []
  },
  {
   "cell_type": "code",
   "execution_count": null,
   "id": "d4ec8eec-36fb-4e2d-91e7-704469eed7a5",
   "metadata": {},
   "outputs": [],
   "source": []
  },
  {
   "cell_type": "code",
   "execution_count": 8,
   "id": "bb22dd0e-693d-4590-80e3-3769c0ac0401",
   "metadata": {},
   "outputs": [],
   "source": [
    "#Opertaors are used to perform operation on the values \n"
   ]
  },
  {
   "cell_type": "markdown",
   "id": "e1f15b56-af64-4913-b9a3-396273847fd4",
   "metadata": {},
   "source": [
    "# 1> Airthmetic operators 2> assignment Operators 3> realtional operators 4> logical oprators 6> Unary Operators "
   ]
  },
  {
   "cell_type": "code",
   "execution_count": 13,
   "id": "41f5a7c1-3906-4e39-b190-52c472ca4d3d",
   "metadata": {},
   "outputs": [],
   "source": [
    "#  1 airthmetic operators (+,-,*,/,%,%%,**,^)\n"
   ]
  },
  {
   "cell_type": "code",
   "execution_count": 17,
   "id": "ef56c910-09ae-48d1-b86c-6495ee7585ac",
   "metadata": {},
   "outputs": [
    {
     "name": "stdout",
     "output_type": "stream",
     "text": [
      "10 89\n"
     ]
    }
   ],
   "source": [
    "x1, y1 = 10,89\n",
    "print (x1,y1)"
   ]
  },
  {
   "cell_type": "code",
   "execution_count": 31,
   "id": "1cc5fab4-3301-472b-a2f1-00049e4e3bd3",
   "metadata": {},
   "outputs": [
    {
     "name": "stdout",
     "output_type": "stream",
     "text": [
      "99\n"
     ]
    }
   ],
   "source": [
    "x1, y1 = 10,89\n",
    "print(x1+y1) #(Addtion = +)"
   ]
  },
  {
   "cell_type": "code",
   "execution_count": 47,
   "id": "7cd5c85c-16f4-470c-a3d4-76830cf88044",
   "metadata": {},
   "outputs": [
    {
     "name": "stdout",
     "output_type": "stream",
     "text": [
      "<class 'int'>\n"
     ]
    }
   ],
   "source": [
    "#Substraction \n",
    "\n",
    "x1, y1 = 10,89\n",
    "k= (x1-y1)\n"
   ]
  },
  {
   "cell_type": "code",
   "execution_count": 53,
   "id": "9ac02a57-b05b-4faf-a365-fe21d7433a1a",
   "metadata": {},
   "outputs": [
    {
     "name": "stdout",
     "output_type": "stream",
     "text": [
      "890\n"
     ]
    }
   ],
   "source": [
    "# Multiplication \n",
    "x1, y1 = 10,89\n",
    "k= (x1*y1)\n",
    "print(k)"
   ]
  },
  {
   "cell_type": "code",
   "execution_count": 61,
   "id": "4daa832a-a88e-4bc4-9011-860068696dfc",
   "metadata": {},
   "outputs": [
    {
     "name": "stdout",
     "output_type": "stream",
     "text": [
      "10.0\n"
     ]
    }
   ],
   "source": [
    "# division \n",
    "x1, y1 = 100,10\n",
    "k= (x1/y1)\n",
    "print(k)"
   ]
  },
  {
   "cell_type": "code",
   "execution_count": 65,
   "id": "162710de-4f41-4b8e-ab83-4a2bc5adb864",
   "metadata": {},
   "outputs": [
    {
     "name": "stdout",
     "output_type": "stream",
     "text": [
      "0\n"
     ]
    }
   ],
   "source": [
    "# Modulo\n",
    "x1, y1 = 100,10\n",
    "k= (x1%y1)\n",
    "print(k)"
   ]
  },
  {
   "cell_type": "code",
   "execution_count": 79,
   "id": "52477bb7-4895-4353-aa8a-9a19c399c914",
   "metadata": {},
   "outputs": [
    {
     "name": "stdout",
     "output_type": "stream",
     "text": [
      "125\n"
     ]
    }
   ],
   "source": [
    "# power or square \n",
    "x1, y1 = 5,3\n",
    "k= (x1**y1)\n",
    "print(k)\n"
   ]
  },
  {
   "cell_type": "markdown",
   "id": "1c5ac013-68ba-477b-88bf-e290f8f543c6",
   "metadata": {},
   "source": [
    "# Assignment Operators "
   ]
  },
  {
   "cell_type": "code",
   "execution_count": 85,
   "id": "a6a356d2-4043-44d9-9386-8e300ad819c6",
   "metadata": {},
   "outputs": [
    {
     "name": "stdout",
     "output_type": "stream",
     "text": [
      "10\n"
     ]
    }
   ],
   "source": [
    "x = 2 #  (= --> Assignment operators)\n",
    "y = x+8\n",
    "print (y)"
   ]
  },
  {
   "cell_type": "code",
   "execution_count": 104,
   "id": "a504946d-6e61-4f55-ad13-119f9f72beee",
   "metadata": {},
   "outputs": [
    {
     "data": {
      "text/plain": [
       "4"
      ]
     },
     "execution_count": 104,
     "metadata": {},
     "output_type": "execute_result"
    }
   ],
   "source": [
    "x1 = 2    #(+=)\n",
    "x1 += 2 # (-=)\n",
    "x1\n"
   ]
  },
  {
   "cell_type": "code",
   "execution_count": 108,
   "id": "fc10b557-5e1f-4bee-8c49-a2c5fcc9ad44",
   "metadata": {},
   "outputs": [
    {
     "data": {
      "text/plain": [
       "1"
      ]
     },
     "execution_count": 108,
     "metadata": {},
     "output_type": "execute_result"
    }
   ],
   "source": [
    "x3 = 2   # (-=) \n",
    "x3 -= 1\n",
    "x3"
   ]
  },
  {
   "cell_type": "code",
   "execution_count": 113,
   "id": "ac7bffa2-0fa7-43f4-a385-f6a47e54f56c",
   "metadata": {},
   "outputs": [
    {
     "data": {
      "text/plain": [
       "178"
      ]
     },
     "execution_count": 113,
     "metadata": {},
     "output_type": "execute_result"
    }
   ],
   "source": [
    "x = 89\n",
    "x *= 2 #(*=)\n",
    "x\n",
    "\n"
   ]
  },
  {
   "cell_type": "code",
   "execution_count": null,
   "id": "49af13c1-9de4-4b84-a25e-1cab713d4d8a",
   "metadata": {},
   "outputs": [],
   "source": []
  },
  {
   "cell_type": "markdown",
   "id": "a5ba1dca-63ff-4f31-8869-dc31ab41efab",
   "metadata": {},
   "source": [
    "# Realtional Operators "
   ]
  },
  {
   "cell_type": "code",
   "execution_count": 118,
   "id": "9aef2eb7-7e30-42b1-a9be-46fb45426d2a",
   "metadata": {},
   "outputs": [],
   "source": [
    "# we are using this operators for comparing . \n"
   ]
  },
  {
   "cell_type": "code",
   "execution_count": 120,
   "id": "8849fa13-d924-471d-8ad2-db2e5664ee92",
   "metadata": {},
   "outputs": [],
   "source": [
    "a = 8 \n",
    "b = 9\n"
   ]
  },
  {
   "cell_type": "code",
   "execution_count": 130,
   "id": "90a1ede3-3b67-456c-bcab-27e00795085d",
   "metadata": {},
   "outputs": [
    {
     "data": {
      "text/plain": [
       "True"
      ]
     },
     "execution_count": 130,
     "metadata": {},
     "output_type": "execute_result"
    }
   ],
   "source": [
    "a<b"
   ]
  },
  {
   "cell_type": "code",
   "execution_count": 132,
   "id": "72fa42a9-3175-4ab7-a98f-2eafb54119d2",
   "metadata": {},
   "outputs": [
    {
     "data": {
      "text/plain": [
       "False"
      ]
     },
     "execution_count": 132,
     "metadata": {},
     "output_type": "execute_result"
    }
   ],
   "source": [
    "a>b"
   ]
  },
  {
   "cell_type": "code",
   "execution_count": 136,
   "id": "60b65be2-d43f-4f77-9575-ebef27d3d191",
   "metadata": {},
   "outputs": [],
   "source": [
    "a1 = 90 \n",
    "b3 = 78"
   ]
  },
  {
   "cell_type": "code",
   "execution_count": 138,
   "id": "d7b1565e-9d36-4640-bd9c-fd7310cfa548",
   "metadata": {},
   "outputs": [
    {
     "data": {
      "text/plain": [
       "False"
      ]
     },
     "execution_count": 138,
     "metadata": {},
     "output_type": "execute_result"
    }
   ],
   "source": [
    "a1<b3\n"
   ]
  },
  {
   "cell_type": "code",
   "execution_count": 142,
   "id": "6419dd33-160f-41c7-95f2-b3a899f92e17",
   "metadata": {},
   "outputs": [
    {
     "data": {
      "text/plain": [
       "True"
      ]
     },
     "execution_count": 142,
     "metadata": {},
     "output_type": "execute_result"
    }
   ],
   "source": [
    "a1>b3"
   ]
  },
  {
   "cell_type": "code",
   "execution_count": 148,
   "id": "71c15507-88c3-4967-a0ea-e3c63f1d9ac0",
   "metadata": {},
   "outputs": [
    {
     "data": {
      "text/plain": [
       "False"
      ]
     },
     "execution_count": 148,
     "metadata": {},
     "output_type": "execute_result"
    }
   ],
   "source": [
    "a == b #(== equals to )"
   ]
  },
  {
   "cell_type": "code",
   "execution_count": 152,
   "id": "424ac500-d21e-4e50-924e-e3e606f91989",
   "metadata": {},
   "outputs": [
    {
     "data": {
      "text/plain": [
       "True"
      ]
     },
     "execution_count": 152,
     "metadata": {},
     "output_type": "execute_result"
    }
   ],
   "source": [
    "a != b #(!=)"
   ]
  },
  {
   "cell_type": "markdown",
   "id": "299ccd4a-623b-42d4-a39d-0d459d103267",
   "metadata": {},
   "source": [
    "# Logical operators "
   ]
  },
  {
   "cell_type": "code",
   "execution_count": 157,
   "id": "3b205daf-4f16-409a-9870-b7f00b394514",
   "metadata": {},
   "outputs": [],
   "source": [
    "a = 5 \n",
    "b = 4 "
   ]
  },
  {
   "cell_type": "code",
   "execution_count": 159,
   "id": "486659be-ce8a-4420-b515-e24d02edf508",
   "metadata": {},
   "outputs": [
    {
     "data": {
      "text/plain": [
       "True"
      ]
     },
     "execution_count": 159,
     "metadata": {},
     "output_type": "execute_result"
    }
   ],
   "source": [
    "a < 8 and b < 5 \n"
   ]
  },
  {
   "cell_type": "code",
   "execution_count": 161,
   "id": "d3599489-9789-418a-85d5-343e25715110",
   "metadata": {},
   "outputs": [
    {
     "data": {
      "text/plain": [
       "False"
      ]
     },
     "execution_count": 161,
     "metadata": {},
     "output_type": "execute_result"
    }
   ],
   "source": [
    "a < 8 and b < 2 "
   ]
  },
  {
   "cell_type": "code",
   "execution_count": 163,
   "id": "5449719c-7300-4efd-953c-5c6559490bb7",
   "metadata": {},
   "outputs": [
    {
     "data": {
      "text/plain": [
       "False"
      ]
     },
     "execution_count": 163,
     "metadata": {},
     "output_type": "execute_result"
    }
   ],
   "source": [
    "a > 8  and b < 2 "
   ]
  },
  {
   "cell_type": "code",
   "execution_count": null,
   "id": "0445a2a3-c46e-4e16-894f-7dfbedbc0db3",
   "metadata": {},
   "outputs": [],
   "source": []
  }
 ],
 "metadata": {
  "kernelspec": {
   "display_name": "Python 3 (ipykernel)",
   "language": "python",
   "name": "python3"
  },
  "language_info": {
   "codemirror_mode": {
    "name": "ipython",
    "version": 3
   },
   "file_extension": ".py",
   "mimetype": "text/x-python",
   "name": "python",
   "nbconvert_exporter": "python",
   "pygments_lexer": "ipython3",
   "version": "3.12.7"
  }
 },
 "nbformat": 4,
 "nbformat_minor": 5
}

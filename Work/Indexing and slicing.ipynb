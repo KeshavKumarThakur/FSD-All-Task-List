{
 "cells": [
  {
   "cell_type": "code",
   "execution_count": 1,
   "id": "921d432a-7479-4cd0-b187-532190cccba3",
   "metadata": {},
   "outputs": [],
   "source": [
    "# how to change string fine to dine "
   ]
  },
  {
   "cell_type": "code",
   "execution_count": 13,
   "id": "21b2d8b4-7318-4bb9-b5f0-d9eab3490af5",
   "metadata": {},
   "outputs": [
    {
     "data": {
      "text/plain": [
       "['fine']"
      ]
     },
     "execution_count": 13,
     "metadata": {},
     "output_type": "execute_result"
    }
   ],
   "source": [
    "p1 = ['fine']\n",
    "p1\n",
    "\n"
   ]
  },
  {
   "cell_type": "code",
   "execution_count": 15,
   "id": "0967d542-1f1f-4455-8b6e-498ed3ea1aa4",
   "metadata": {},
   "outputs": [
    {
     "data": {
      "text/plain": [
       "['Dine']"
      ]
     },
     "execution_count": 15,
     "metadata": {},
     "output_type": "execute_result"
    }
   ],
   "source": [
    "p1 = [\"Dine\"]\n",
    "p1\n",
    "\n",
    "\n"
   ]
  },
  {
   "cell_type": "code",
   "execution_count": 17,
   "id": "e9341916-9ecc-435f-b541-a29fe81e24bb",
   "metadata": {},
   "outputs": [
    {
     "name": "stdout",
     "output_type": "stream",
     "text": [
      "[10, 20, 30, 40, 50, 60]\n"
     ]
    }
   ],
   "source": [
    "list_ = [10,20,30,40,50,60]\n",
    "print(list_)"
   ]
  },
  {
   "cell_type": "code",
   "execution_count": 37,
   "id": "67d1d7f3-5026-4375-9125-39dbff31b127",
   "metadata": {},
   "outputs": [
    {
     "name": "stdout",
     "output_type": "stream",
     "text": [
      "10\n",
      "20\n",
      "40\n",
      "50\n",
      "60\n",
      "60\n",
      "50\n",
      "40\n",
      "30\n",
      "20\n",
      "10\n"
     ]
    }
   ],
   "source": [
    "print(list_[0]) # forward indexing start from 0 \n",
    "print(list_[1])\n",
    "print(list_[3])\n",
    "print(list_[4])\n",
    "print(list_[5])\n",
    "\n",
    "\n",
    "\n",
    "print(list_[-1]) # backward indexing from -1 \n",
    "print(list_[-2])\n",
    "print(list_[-3])\n",
    "print(list_[-4])\n",
    "print(list_[-5])\n",
    "print(list_[-6])\n",
    "\n",
    "\n",
    "# Item assignment in tuple, strings, range object  does not support item assignment\n",
    "\n",
    "\n"
   ]
  },
  {
   "cell_type": "markdown",
   "id": "de68a8da-07d6-4815-98fb-bc8a2737ab1d",
   "metadata": {},
   "source": [
    "# Slicing "
   ]
  },
  {
   "cell_type": "code",
   "execution_count": 22,
   "id": "acb70e2b-a459-48ea-8916-d9b8d1e17a37",
   "metadata": {},
   "outputs": [
    {
     "name": "stdout",
     "output_type": "stream",
     "text": [
      "ke\n"
     ]
    },
    {
     "data": {
      "text/plain": [
       "'eshav'"
      ]
     },
     "execution_count": 22,
     "metadata": {},
     "output_type": "execute_result"
    }
   ],
   "source": [
    "# slicing is  denoted by [:]\n",
    "# slicing is of 3 type \n",
    "# 1> forward slicing \n",
    "# 2> backward slicing \n",
    "# 3> step slicing\n",
    "\n",
    "name = 'keshav' \n",
    "name \n",
    "print(name[0:2])\n",
    "name[1:6:1]\n",
    "\n"
   ]
  },
  {
   "cell_type": "code",
   "execution_count": 24,
   "id": "74db2cea-0b24-4cbf-87f9-aa655301d12b",
   "metadata": {},
   "outputs": [
    {
     "name": "stdout",
     "output_type": "stream",
     "text": [
      "fine\n"
     ]
    }
   ],
   "source": [
    "name1 = 'fine'\n",
    "print(name1)"
   ]
  },
  {
   "cell_type": "code",
   "execution_count": 30,
   "id": "798ea05a-aada-4894-a941-3d7a24b76ad6",
   "metadata": {},
   "outputs": [
    {
     "data": {
      "text/plain": [
       "'fin'"
      ]
     },
     "execution_count": 30,
     "metadata": {},
     "output_type": "execute_result"
    }
   ],
   "source": [
    "name1[0:1]"
   ]
  },
  {
   "cell_type": "code",
   "execution_count": 32,
   "id": "211b5125-b1b0-49a3-a7d8-7dd9e2165144",
   "metadata": {},
   "outputs": [],
   "source": [
    "name = 'dine'"
   ]
  },
  {
   "cell_type": "code",
   "execution_count": 34,
   "id": "44bff4c0-2c20-4e7d-b997-b2e131c994b2",
   "metadata": {},
   "outputs": [
    {
     "data": {
      "text/plain": [
       "'fine'"
      ]
     },
     "execution_count": 34,
     "metadata": {},
     "output_type": "execute_result"
    }
   ],
   "source": [
    "name1"
   ]
  },
  {
   "cell_type": "code",
   "execution_count": 36,
   "id": "764dd1b7-f960-4920-9ce4-505bc6fc7b6b",
   "metadata": {},
   "outputs": [
    {
     "ename": "TypeError",
     "evalue": "'str' object does not support item assignment",
     "output_type": "error",
     "traceback": [
      "\u001b[1;31m---------------------------------------------------------------------------\u001b[0m",
      "\u001b[1;31mTypeError\u001b[0m                                 Traceback (most recent call last)",
      "Cell \u001b[1;32mIn[36], line 1\u001b[0m\n\u001b[1;32m----> 1\u001b[0m \u001b[43mname1\u001b[49m\u001b[43m[\u001b[49m\u001b[38;5;241;43m0\u001b[39;49m\u001b[43m:\u001b[49m\u001b[38;5;241;43m1\u001b[39;49m\u001b[43m]\u001b[49m \u001b[38;5;241m=\u001b[39m \u001b[38;5;124m'\u001b[39m\u001b[38;5;124md\u001b[39m\u001b[38;5;124m'\u001b[39m \u001b[38;5;66;03m# i want to change 1st character of naresh (n) - t\u001b[39;00m\n",
      "\u001b[1;31mTypeError\u001b[0m: 'str' object does not support item assignment"
     ]
    }
   ],
   "source": [
    "name1[0:1] = 'd' # i want to change 1st character of naresh (n) - t"
   ]
  },
  {
   "cell_type": "code",
   "execution_count": 38,
   "id": "9f9a1972-8b53-46a2-9ed9-b3aac9586cb3",
   "metadata": {},
   "outputs": [
    {
     "ename": "TypeError",
     "evalue": "'str' object does not support item assignment",
     "output_type": "error",
     "traceback": [
      "\u001b[1;31m---------------------------------------------------------------------------\u001b[0m",
      "\u001b[1;31mTypeError\u001b[0m                                 Traceback (most recent call last)",
      "Cell \u001b[1;32mIn[38], line 1\u001b[0m\n\u001b[1;32m----> 1\u001b[0m \u001b[43mname1\u001b[49m\u001b[43m[\u001b[49m\u001b[38;5;241;43m0\u001b[39;49m\u001b[43m]\u001b[49m \u001b[38;5;241m=\u001b[39m \u001b[38;5;124m'\u001b[39m\u001b[38;5;124md\u001b[39m\u001b[38;5;124m'\u001b[39m \u001b[38;5;66;03m#strings in python are immutable\u001b[39;00m\n",
      "\u001b[1;31mTypeError\u001b[0m: 'str' object does not support item assignment"
     ]
    }
   ],
   "source": [
    "name1[0] = 'd' #strings in python are immutable"
   ]
  },
  {
   "cell_type": "code",
   "execution_count": 40,
   "id": "d528d7ee-aa26-42ea-913e-f952472e4440",
   "metadata": {},
   "outputs": [
    {
     "data": {
      "text/plain": [
       "'fine'"
      ]
     },
     "execution_count": 40,
     "metadata": {},
     "output_type": "execute_result"
    }
   ],
   "source": [
    "name1"
   ]
  },
  {
   "cell_type": "code",
   "execution_count": 42,
   "id": "f24b67d9-0806-4eb1-984a-cbf0ce57a273",
   "metadata": {},
   "outputs": [
    {
     "data": {
      "text/plain": [
       "'f'"
      ]
     },
     "execution_count": 42,
     "metadata": {},
     "output_type": "execute_result"
    }
   ],
   "source": [
    "name1[0:1]"
   ]
  },
  {
   "cell_type": "code",
   "execution_count": 44,
   "id": "4cac5fce-7b2a-42dd-8934-1f40c9da7171",
   "metadata": {},
   "outputs": [
    {
     "data": {
      "text/plain": [
       "'dine'"
      ]
     },
     "execution_count": 44,
     "metadata": {},
     "output_type": "execute_result"
    }
   ],
   "source": [
    "'d' + name1[1:]\n"
   ]
  },
  {
   "cell_type": "code",
   "execution_count": null,
   "id": "3c9d6b96-84d9-493e-a37a-03e305783d74",
   "metadata": {},
   "outputs": [],
   "source": []
  }
 ],
 "metadata": {
  "kernelspec": {
   "display_name": "Python 3 (ipykernel)",
   "language": "python",
   "name": "python3"
  },
  "language_info": {
   "codemirror_mode": {
    "name": "ipython",
    "version": 3
   },
   "file_extension": ".py",
   "mimetype": "text/x-python",
   "name": "python",
   "nbconvert_exporter": "python",
   "pygments_lexer": "ipython3",
   "version": "3.12.7"
  }
 },
 "nbformat": 4,
 "nbformat_minor": 5
}

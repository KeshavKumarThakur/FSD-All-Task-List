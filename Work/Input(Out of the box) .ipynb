{
 "cells": [
  {
   "cell_type": "markdown",
   "id": "f5b798e8-93c6-4eb9-a1f1-cb90868c16a4",
   "metadata": {},
   "source": [
    "\n",
    "# Input Functions \n"
   ]
  },
  {
   "cell_type": "code",
   "execution_count": 3,
   "id": "5eee2497-1348-4257-8acc-106b0bd2c96c",
   "metadata": {},
   "outputs": [
    {
     "name": "stdin",
     "output_type": "stream",
     "text": [
      "First number is : 77\n",
      "second number is : 88\n"
     ]
    },
    {
     "name": "stdout",
     "output_type": "stream",
     "text": [
      "The sum of the two number is : 165\n"
     ]
    }
   ],
   "source": [
    "# write a programm to add  two number from  user input and print their sum \n",
    "a = int(input('First number is :'))\n",
    "b = int(input('second number is :'))\n",
    "sum = a+b \n",
    "print(\"The sum of the two number is :\" , sum)\n",
    "        \n"
   ]
  },
  {
   "cell_type": "code",
   "execution_count": 9,
   "id": "4ebb558c-3830-45c8-9409-48d6627fdc65",
   "metadata": {},
   "outputs": [
    {
     "name": "stdin",
     "output_type": "stream",
     "text": [
      "enter the first number : 7\n",
      "enter the second number : 0\n"
     ]
    },
    {
     "name": "stdout",
     "output_type": "stream",
     "text": [
      "The multiplaction of two number is 0\n"
     ]
    }
   ],
   "source": [
    "# write a programm to input numbers and print thier sum\n",
    "import math\n",
    "First_number = int(input('enter the first number :'))\n",
    "Second_number = int(input('enter the second number :'))\n",
    "print('The multiplaction of two number is', First_number * Second_number)"
   ]
  },
  {
   "cell_type": "code",
   "execution_count": 21,
   "id": "02dafeca-1a5a-4e5a-a5a6-302ecb2ba88e",
   "metadata": {},
   "outputs": [
    {
     "name": "stdin",
     "output_type": "stream",
     "text": [
      "Please enter the side of square : 8\n"
     ]
    },
    {
     "name": "stdout",
     "output_type": "stream",
     "text": [
      "The area of square is : 64.0\n",
      "<class 'float'>\n",
      "4\n"
     ]
    }
   ],
   "source": [
    "#WAP to input side of a square & print its area. \n",
    "# area = side**\n",
    "side_of_square = float(input(\"Please enter the side of square :\"))\n",
    "area = side_of_square*side_of_square \n",
    "print(\"The area of square is :\", area)\n",
    "print(type(area))\n",
    "print(len('area'))"
   ]
  },
  {
   "cell_type": "code",
   "execution_count": 3,
   "id": "9e2acefc-ec72-41b8-9915-413ff7be6a4f",
   "metadata": {},
   "outputs": [
    {
     "name": "stdin",
     "output_type": "stream",
     "text": [
      "Please enter the floating number 66\n",
      "Please enter the second number 9\n"
     ]
    },
    {
     "name": "stdout",
     "output_type": "stream",
     "text": [
      "The average of two floating number is :  37.5\n"
     ]
    }
   ],
   "source": [
    "# WAP to input 2 floating point numbers & print their average \n",
    "first_float = float(input(\"Please enter the floating number\"))\n",
    "second_float = float(input(\"Please enter the second number\"))\n",
    "average = (first_float + second_float)/2\n",
    "print(\"The average of two floating number is : \" , average)"
   ]
  },
  {
   "cell_type": "code",
   "execution_count": null,
   "id": "4dea50ec-955d-470d-9bff-5b69e9cacd85",
   "metadata": {},
   "outputs": [],
   "source": [
    "#WAP to input 2 int numbers, a and b. Print True if a is greater than or equal to b. If not print False. "
   ]
  },
  {
   "cell_type": "code",
   "execution_count": 1,
   "id": "8555aea5-1c45-494e-9a6a-87b34a4a2066",
   "metadata": {},
   "outputs": [
    {
     "name": "stdin",
     "output_type": "stream",
     "text": [
      "Enter first integer 6666\n",
      "Enter the second integer 8875333\n"
     ]
    },
    {
     "name": "stdout",
     "output_type": "stream",
     "text": [
      "False\n"
     ]
    }
   ],
   "source": [
    "a = int(input(\"Enter first integer\"))\n",
    "b = int(input(\"Enter the second integer\"))\n",
    "if (a >= b) :\n",
    "       print(\"True statements\")\n",
    "else :\n",
    "    {\n",
    "        print(\"False\")\n",
    "    }\n"
   ]
  },
  {
   "cell_type": "code",
   "execution_count": 57,
   "id": "3951922a-ba80-4fff-9aee-35a5a23c74bb",
   "metadata": {},
   "outputs": [
    {
     "name": "stdin",
     "output_type": "stream",
     "text": [
      "Enter your first name : keshav\n"
     ]
    },
    {
     "name": "stdout",
     "output_type": "stream",
     "text": [
      "6\n"
     ]
    }
   ],
   "source": [
    "# Wtite a programm to  input user'sfirst name and print their count . \n",
    "username = input(\"Enter your first name :\")\n",
    "print(len(username))\n",
    "\n"
   ]
  },
  {
   "cell_type": "code",
   "execution_count": 38,
   "id": "6fdd5edb-4120-4117-9ad0-9a0b93f015f6",
   "metadata": {},
   "outputs": [
    {
     "name": "stdin",
     "output_type": "stream",
     "text": [
      "Please enter your name: keshav thakur\n"
     ]
    },
    {
     "name": "stdout",
     "output_type": "stream",
     "text": [
      "keshav thakur\n",
      "13\n"
     ]
    }
   ],
   "source": [
    "# write  a programm to take user name and print its lenght \n",
    "username1 = input(\"Please enter your name:\")\n",
    "print(username1)\n",
    "print(len(username1))"
   ]
  },
  {
   "cell_type": "code",
   "execution_count": 44,
   "id": "eaab6961-179b-473c-a9b6-3d3578240eed",
   "metadata": {},
   "outputs": [
    {
     "name": "stdout",
     "output_type": "stream",
     "text": [
      "7\n"
     ]
    }
   ],
   "source": [
    "# write a programm to find the occurance of $ in a string \n",
    "s = 'kehav$v kumar$ thaku$$$$ur$'\n",
    "print(s.count('$'))\n"
   ]
  },
  {
   "cell_type": "code",
   "execution_count": 82,
   "id": "3a87157f-f2cb-446f-b849-6780af1d2b20",
   "metadata": {},
   "outputs": [
    {
     "name": "stdin",
     "output_type": "stream",
     "text": [
      "Enter a number :  80\n"
     ]
    },
    {
     "name": "stdout",
     "output_type": "stream",
     "text": [
      "80,This is even number\n"
     ]
    }
   ],
   "source": [
    "# write a programm to check if a number entered by user is odd or even \n",
    "# Conditional sttements \n",
    "'''if () :\n",
    "    statement\n",
    "elif () :\n",
    "    statement\n",
    "    else :'''\n",
    "#even - if a number divided by 2 gives remainder = 0 it is a even number \n",
    "\n",
    "userinput = int(input(\"Enter a number : \"))\n",
    "if (userinput%2 == 0) :\n",
    "    print('{},This is even number'.format(userinput))\n",
    "else :\n",
    "    print(\"This is an odd number \")"
   ]
  },
  {
   "cell_type": "code",
   "execution_count": 134,
   "id": "4c351eae-77d0-450c-9c15-52860643ed67",
   "metadata": {},
   "outputs": [
    {
     "name": "stdin",
     "output_type": "stream",
     "text": [
      "Enter number one : 0999\n",
      "Enter number Two : 222222\n",
      "Enter number Two : 4555\n"
     ]
    },
    {
     "name": "stdout",
     "output_type": "stream",
     "text": [
      "222222\n"
     ]
    }
   ],
   "source": [
    " #WAP to find the greatest of 3 numbers entered by the user\n",
    "number1 = int(input(\"Enter number one :\"))\n",
    "number2 = int(input(\"Enter number Two :\"))\n",
    "number3 = int(input(\"Enter number Two :\"))\n",
    "if (number1>number2 and number1>number3) :\n",
    "    {\n",
    "    print(number1)\n",
    "    }\n",
    "        \n",
    "elif(number2>number1   and number2>number3) :\n",
    "       print(number2)\n",
    "elif(number3>number2 and number3>number1) :\n",
    "    print(number3)\n",
    "\n",
    "\n",
    "\n",
    "\n"
   ]
  },
  {
   "cell_type": "code",
   "execution_count": 158,
   "id": "3560b3bf-6b9d-42ec-84eb-040fd0b5bd7d",
   "metadata": {},
   "outputs": [
    {
     "name": "stdin",
     "output_type": "stream",
     "text": [
      "enter a number  56\n"
     ]
    },
    {
     "name": "stdout",
     "output_type": "stream",
     "text": [
      " 56 is a multiple of 7\n"
     ]
    }
   ],
   "source": [
    "# write a programm  to check if a number is a multiple of 7 or not\n",
    "newnummber = int(input(\"enter a number \"))\n",
    "if (newnummber%7 == 0) :\n",
    "    print(f' {newnummber} is a multiple of 7')\n",
    "else :\n",
    "    print(f' {newnummber} is not a multiple of 7')\n",
    " "
   ]
  },
  {
   "cell_type": "code",
   "execution_count": 174,
   "id": "afc1d82b-42b0-41bb-a5a6-7ec1cf29e2c7",
   "metadata": {},
   "outputs": [
    {
     "name": "stdin",
     "output_type": "stream",
     "text": [
      "enter fisrt movie name  ss\n",
      "enter second movie name  ss\n",
      "enter third movie name  ss\n"
     ]
    },
    {
     "name": "stdout",
     "output_type": "stream",
     "text": [
      "['ss', 'ss', 'ss']\n"
     ]
    },
    {
     "data": {
      "text/plain": [
       "'movie = input(\"Enter movie1\")\\nmovie.append[input(\"Please enter second movie \")]\\nmovie.append[input(\\'Thirdd movie name is :\\')]\\nprint(movie)'"
      ]
     },
     "execution_count": 174,
     "metadata": {},
     "output_type": "execute_result"
    }
   ],
   "source": [
    "## write a program to ask the user to enter names of their 3 favorite movies & store them in a list. \n",
    "movie1 = input(\"enter fisrt movie name \")\n",
    "movie2 = input(\"enter second movie name \")\n",
    "movie3 = input(\"enter third movie name \")\n",
    "print([movie1,movie2,movie3])\n",
    "\n",
    "# nother way \n",
    "'''movie = input(\"Enter movie1\")\n",
    "movie.append[input(\"Please enter second movie \")]\n",
    "movie.append[input('Thirdd movie name is :')]\n",
    "print(movie)'''\n",
    "\n",
    "\n",
    "\n",
    "\n"
   ]
  },
  {
   "cell_type": "code",
   "execution_count": 202,
   "id": "069459bd-385e-4fe9-bb9b-34a200c7129e",
   "metadata": {},
   "outputs": [
    {
     "name": "stdin",
     "output_type": "stream",
     "text": [
      "please enter first listnumbers 33\n",
      "please enter second listnumbers 33\n"
     ]
    },
    {
     "name": "stdout",
     "output_type": "stream",
     "text": [
      "This is a plidrome \n"
     ]
    }
   ],
   "source": [
    "# write a program to check a list is palidrome of elemnts .\n",
    "# Palidrome   ------- > its means when we reverse the digit the same digit will come  example - 1234321 17 + 71 \n",
    "kky =  [input(\"please enter first listnumbers\")]\n",
    "kkt = [input(\"please enter second listnumbers\")]\n",
    "if (kky == kkt) :\n",
    "    print(\"This is a plidrome \")\n",
    "else :\n",
    "    print(\"Thi is not a plaidrome\")"
   ]
  },
  {
   "cell_type": "code",
   "execution_count": null,
   "id": "6d8e3aad-8492-4eb8-b845-f9944fc7590e",
   "metadata": {},
   "outputs": [],
   "source": [
    "kesha1 = intinput((\"enter number\"))\n",
    "t = keshav1\n",
    "\n",
    "\n",
    "\n",
    "\n",
    "\n",
    "\n"
   ]
  },
  {
   "cell_type": "code",
   "execution_count": 36,
   "id": "710fdd2f-0924-47d9-b809-65ef469b832f",
   "metadata": {},
   "outputs": [
    {
     "name": "stdout",
     "output_type": "stream",
     "text": [
      "16\n"
     ]
    }
   ],
   "source": [
    "\n",
    "#Write a program  to add two numbers \n",
    "# by using operators \n",
    "int = 8\n",
    "int2 = 8\n",
    "print(int+int2)\n"
   ]
  },
  {
   "cell_type": "code",
   "execution_count": 46,
   "id": "749269fb-a56e-4c29-bcab-fcb08f3828b9",
   "metadata": {},
   "outputs": [
    {
     "name": "stdin",
     "output_type": "stream",
     "text": [
      "Enter first number : 88\n",
      "Enter the second number : 88\n"
     ]
    },
    {
     "name": "stdout",
     "output_type": "stream",
     "text": [
      "the addtion 88 and 88of two number is : 8888\n"
     ]
    }
   ],
   "source": [
    "# by user input method \n",
    "kt = input(\"Enter first number :\")\n",
    "kf = input(\"Enter the second number :\")\n",
    "sum = int(kt+kf)\n",
    "print(f'the addtion {kt} and {kf} of two number is :', sum)   # always prefer this string format method better result "
   ]
  },
  {
   "cell_type": "markdown",
   "id": "f5a3d581-4900-4823-b550-7bf8da45b852",
   "metadata": {},
   "source": [
    "# Max"
   ]
  },
  {
   "cell_type": "code",
   "execution_count": 67,
   "id": "6a29949b-be3d-4946-b61e-0a37102dab99",
   "metadata": {},
   "outputs": [
    {
     "name": "stdin",
     "output_type": "stream",
     "text": [
      "Enter the first number : 9\n",
      "Enter the second number: 7\n"
     ]
    },
    {
     "name": "stdout",
     "output_type": "stream",
     "text": [
      "9\n",
      "8\n"
     ]
    }
   ],
   "source": [
    "#find the maxmimum number betwenn two numbers using user input \n",
    "a = input(\"Enter the first number :\") \n",
    "b = input(\"Enter the second number:\")\n",
    "print(max(a,b,))\n",
    "# using normal \n",
    "k = 6\n",
    "j = 8\n",
    "print(max(k,j))\n"
   ]
  },
  {
   "cell_type": "markdown",
   "id": "a87b14ae-0990-4219-b03f-8dfacc208e8c",
   "metadata": {},
   "source": [
    "# min"
   ]
  },
  {
   "cell_type": "code",
   "execution_count": 82,
   "id": "df593309-0c29-4a4c-a326-b1edfdb66834",
   "metadata": {},
   "outputs": [
    {
     "name": "stdout",
     "output_type": "stream",
     "text": [
      "6\n"
     ]
    },
    {
     "name": "stdin",
     "output_type": "stream",
     "text": [
      "Enter the number : 8\n",
      "Enter the number : 1\n"
     ]
    },
    {
     "name": "stdout",
     "output_type": "stream",
     "text": [
      "1\n"
     ]
    }
   ],
   "source": [
    "\n",
    "k = 6\n",
    "j = 8\n",
    "print(min(k,j))\n",
    "#find the maxmimum number betwenn two numbers using user input \n",
    "ke = input(\"Enter the number :\")\n",
    "kes = input(\"Enter the number :\")\n",
    "print(min(f'The min of {k}and {ke} valu is',ke,kes))"
   ]
  },
  {
   "cell_type": "code",
   "execution_count": 99,
   "id": "5e0e92f9-fbf6-4aef-9cfa-d43c2b3e36aa",
   "metadata": {},
   "outputs": [
    {
     "name": "stdout",
     "output_type": "stream",
     "text": [
      "90\n",
      "999\n"
     ]
    }
   ],
   "source": [
    "# min Using conditinal statement \n",
    "u = 90\n",
    "u1 = 78\n",
    "min = u <u1\n",
    "print(u)\n",
    "ll = 999\n",
    "li = 88\n",
    "if ll > li :\n",
    "    print (ll)\n",
    "else :\n",
    "   print(li)"
   ]
  },
  {
   "cell_type": "code",
   "execution_count": 105,
   "id": "f713aef0-3059-4237-85f0-47a9168ed53e",
   "metadata": {},
   "outputs": [
    {
     "name": "stdout",
     "output_type": "stream",
     "text": [
      "720\n"
     ]
    }
   ],
   "source": [
    "# Python Program to Find the Factorial of a Number\n",
    "numb = 6 \n",
    "factorial = 1\n",
    "for i in range(1,numb+1) :\n",
    "    factorial *= i\n",
    "print(factorial)\n",
    "# this is not completed \n"
   ]
  },
  {
   "cell_type": "code",
   "execution_count": 48,
   "id": "9fb0b1d5-ce47-473f-b2f2-298342ac9953",
   "metadata": {},
   "outputs": [
    {
     "data": {
      "text/plain": [
       "'x = 5\\ny = 2\\nprint(x/y     )'"
      ]
     },
     "execution_count": 48,
     "metadata": {},
     "output_type": "execute_result"
    }
   ],
   "source": [
    "'''x = 5\n",
    "y = 2\n",
    "print(x/y     )'''"
   ]
  },
  {
   "cell_type": "code",
   "execution_count": 50,
   "id": "83b32fef-940f-41f8-a575-789a65d9b6b2",
   "metadata": {},
   "outputs": [
    {
     "data": {
      "text/plain": [
       "'x = [1, 2, 3, 4]\\ny = filter(lambda a: a % 2 == 0, x)\\nprint(list(y))'"
      ]
     },
     "execution_count": 50,
     "metadata": {},
     "output_type": "execute_result"
    }
   ],
   "source": [
    "'''x = [1, 2, 3, 4]\n",
    "y = filter(lambda a: a % 2 == 0, x)\n",
    "print(list(y))'''\n"
   ]
  },
  {
   "cell_type": "code",
   "execution_count": 56,
   "id": "17759dbd-13cd-4227-bb75-e368ef550f82",
   "metadata": {},
   "outputs": [
    {
     "name": "stdin",
     "output_type": "stream",
     "text": [
      "Enter the principle amout 10000\n",
      "Enter the rate of interest 10\n",
      "For time period: 12\n"
     ]
    },
    {
     "name": "stdout",
     "output_type": "stream",
     "text": [
      "Total amout Payable :  12000.0\n"
     ]
    }
   ],
   "source": [
    "# Python program to find simple interest\n",
    "# for given principal amount, time and\n",
    "# rate of interest.\n",
    "# si = p*R*T/100\n",
    "\n",
    "\n",
    "principle = int(input(\"Enter the principle amout\"))\n",
    "rate_of_interest = int(input(\"Enter the rate of interest\"))\n",
    "time = int(input(\"For time period:\"))\n",
    "Sipmple_interest = principle*rate_of_interest*time/100  # on the basis of flat \n",
    "print(\"Total amout Payable : \" , Sipmple_interest)\n",
    "\n",
    "\n",
    "# there are two type of inetrest flat and reducing \n",
    "\n"
   ]
  },
  {
   "cell_type": "code",
   "execution_count": 62,
   "id": "19dbb0fc-b0eb-4f44-83ce-0d7395397357",
   "metadata": {},
   "outputs": [
    {
     "name": "stdin",
     "output_type": "stream",
     "text": [
      "Enter the principal amount:  100000\n",
      "Enter rate of interest:  10\n",
      "Enter time in years:  1\n"
     ]
    },
    {
     "name": "stdout",
     "output_type": "stream",
     "text": [
      "Interest you have to pay 10000.000000000015\n",
      "Total Amount you have to pay 110000.00000000001\n"
     ]
    }
   ],
   "source": [
    "# calulate TotalPayable Ammount and compound interest using python \n",
    "#Amount = principal * (pow((1 + rate / 100), time))\n",
    "principal = int(input(\"Enter the principal amount: \"))\n",
    "rate = int(input(\"Enter rate of interest: \"))\n",
    "time2 = int(input(\"Enter time in years: \" ))\n",
    "\n",
    "Amount = principal * (pow((1 + rate / 100), time2))   #a=p*(1+(r/100))**t  # formula for calculating amount\n",
    "CI = Amount - principal  #compound interest = amount - principal amount\n",
    "totalpayable = principal+CI\n",
    "print(\"Interest you have to pay\", CI)\n",
    "print(\"Total Amount you have to pay\", totalpayable)\n"
   ]
  },
  {
   "cell_type": "code",
   "execution_count": null,
   "id": "6c9c5807-ec4c-493a-895a-e09e5814f77b",
   "metadata": {},
   "outputs": [],
   "source": [
    "\n",
    "\n"
   ]
  },
  {
   "cell_type": "code",
   "execution_count": null,
   "id": "16e2c935-afc8-4fc0-9b7b-b9d2391a8bc7",
   "metadata": {},
   "outputs": [],
   "source": []
  },
  {
   "cell_type": "code",
   "execution_count": null,
   "id": "31efa45e-e99c-440e-93ed-4bd6b1b7de58",
   "metadata": {},
   "outputs": [],
   "source": []
  },
  {
   "cell_type": "code",
   "execution_count": null,
   "id": "1a155dec-27b9-4b82-b6c8-f31ad8c7b5c2",
   "metadata": {},
   "outputs": [],
   "source": []
  },
  {
   "cell_type": "code",
   "execution_count": null,
   "id": "c76e0e21-bbf5-43ec-a7f6-94f3f056e202",
   "metadata": {},
   "outputs": [],
   "source": []
  },
  {
   "cell_type": "code",
   "execution_count": null,
   "id": "7a121084-038e-43f8-a128-303721cbd872",
   "metadata": {},
   "outputs": [],
   "source": []
  },
  {
   "cell_type": "code",
   "execution_count": null,
   "id": "57847be6-fab9-47af-9238-d712f2d83297",
   "metadata": {},
   "outputs": [],
   "source": []
  },
  {
   "cell_type": "code",
   "execution_count": null,
   "id": "e5324604-3d0e-4558-b5f9-b0fe2aab268b",
   "metadata": {},
   "outputs": [],
   "source": []
  },
  {
   "cell_type": "code",
   "execution_count": null,
   "id": "69a0defe-a120-4e7b-846b-9b3096bd2299",
   "metadata": {},
   "outputs": [],
   "source": []
  },
  {
   "cell_type": "code",
   "execution_count": null,
   "id": "8ec8c434-c6f3-46ef-be07-df6b864a7aaf",
   "metadata": {},
   "outputs": [],
   "source": []
  },
  {
   "cell_type": "code",
   "execution_count": null,
   "id": "57a33c00-e1a3-4387-8b9d-e5b3db97100f",
   "metadata": {},
   "outputs": [],
   "source": []
  },
  {
   "cell_type": "code",
   "execution_count": null,
   "id": "f0c65f52-e3a2-4e58-b22d-5c9b5b0f00d0",
   "metadata": {},
   "outputs": [],
   "source": []
  },
  {
   "cell_type": "code",
   "execution_count": null,
   "id": "e1aa2044-1d6c-4e56-bf32-8ba8b9456bfb",
   "metadata": {},
   "outputs": [],
   "source": []
  },
  {
   "cell_type": "code",
   "execution_count": null,
   "id": "488c3418-c064-4acc-8846-b50dda84731b",
   "metadata": {},
   "outputs": [],
   "source": []
  },
  {
   "cell_type": "code",
   "execution_count": null,
   "id": "7228769e-2572-40bd-ae78-e2b19a664e66",
   "metadata": {},
   "outputs": [],
   "source": []
  },
  {
   "cell_type": "code",
   "execution_count": null,
   "id": "25558d6b-6075-4009-a723-a75497f00a71",
   "metadata": {},
   "outputs": [],
   "source": []
  },
  {
   "cell_type": "code",
   "execution_count": null,
   "id": "b0ba3832-1ed7-4070-a74b-35b5215e205a",
   "metadata": {},
   "outputs": [],
   "source": []
  },
  {
   "cell_type": "code",
   "execution_count": null,
   "id": "acb67985-0269-4b6e-a8b8-06bfcd7859b8",
   "metadata": {},
   "outputs": [],
   "source": []
  },
  {
   "cell_type": "code",
   "execution_count": null,
   "id": "7078a46f-6f91-45a1-bc94-6d9ef123ba3a",
   "metadata": {},
   "outputs": [],
   "source": []
  },
  {
   "cell_type": "code",
   "execution_count": null,
   "id": "4573c1b1-98c6-443f-a2ef-7d3c3dc5fe38",
   "metadata": {},
   "outputs": [],
   "source": []
  },
  {
   "cell_type": "code",
   "execution_count": null,
   "id": "73df982a-806b-4603-be20-a68f79038da4",
   "metadata": {},
   "outputs": [],
   "source": []
  },
  {
   "cell_type": "code",
   "execution_count": null,
   "id": "0cd9803e-35f9-4a76-8036-934dde0d387d",
   "metadata": {},
   "outputs": [],
   "source": []
  },
  {
   "cell_type": "code",
   "execution_count": null,
   "id": "e869491b-aca6-4e3e-a6c1-4c52e7259083",
   "metadata": {},
   "outputs": [],
   "source": []
  },
  {
   "cell_type": "code",
   "execution_count": null,
   "id": "dd4936d6-bd09-4fd1-8765-fd564e557a50",
   "metadata": {},
   "outputs": [],
   "source": []
  },
  {
   "cell_type": "code",
   "execution_count": null,
   "id": "ec5b072f-bc48-4a40-b337-b48479ff2687",
   "metadata": {},
   "outputs": [],
   "source": []
  },
  {
   "cell_type": "code",
   "execution_count": null,
   "id": "680c4a2f-8e8c-4e21-a779-65bee3bb24e9",
   "metadata": {},
   "outputs": [],
   "source": []
  },
  {
   "cell_type": "code",
   "execution_count": null,
   "id": "ded41ce0-d2e9-41bf-9bc3-b55b4c45fd4c",
   "metadata": {},
   "outputs": [],
   "source": []
  },
  {
   "cell_type": "code",
   "execution_count": null,
   "id": "fe57395c-32b2-41a8-846b-a1ac5a9244c8",
   "metadata": {},
   "outputs": [],
   "source": []
  },
  {
   "cell_type": "code",
   "execution_count": null,
   "id": "c378b851-a7b9-4cb8-9818-1c237b3bee14",
   "metadata": {},
   "outputs": [],
   "source": []
  },
  {
   "cell_type": "code",
   "execution_count": null,
   "id": "eef940e9-7bcb-464b-897d-2771642a3a8f",
   "metadata": {},
   "outputs": [],
   "source": []
  },
  {
   "cell_type": "code",
   "execution_count": null,
   "id": "388058b8-0039-4544-be47-a4bf4160760c",
   "metadata": {},
   "outputs": [],
   "source": []
  },
  {
   "cell_type": "code",
   "execution_count": null,
   "id": "a063674e-0957-416c-a57e-bd0f28203c3e",
   "metadata": {},
   "outputs": [],
   "source": []
  },
  {
   "cell_type": "code",
   "execution_count": null,
   "id": "bbb57a7f-08ea-4ad3-af13-14cbae536c11",
   "metadata": {},
   "outputs": [],
   "source": []
  },
  {
   "cell_type": "code",
   "execution_count": null,
   "id": "2aae3a55-c06c-446d-bc25-5397a18d18c1",
   "metadata": {},
   "outputs": [],
   "source": []
  },
  {
   "cell_type": "code",
   "execution_count": null,
   "id": "64f80034-ec07-495f-97bd-03cb66ddd512",
   "metadata": {},
   "outputs": [],
   "source": []
  },
  {
   "cell_type": "code",
   "execution_count": null,
   "id": "60fd1e23-e496-4f57-80d2-ef09d15fe039",
   "metadata": {},
   "outputs": [],
   "source": []
  },
  {
   "cell_type": "code",
   "execution_count": null,
   "id": "ccdf3776-f93b-46b1-94ab-f0130db669cd",
   "metadata": {},
   "outputs": [],
   "source": []
  }
 ],
 "metadata": {
  "kernelspec": {
   "display_name": "Python 3 (ipykernel)",
   "language": "python",
   "name": "python3"
  },
  "language_info": {
   "codemirror_mode": {
    "name": "ipython",
    "version": 3
   },
   "file_extension": ".py",
   "mimetype": "text/x-python",
   "name": "python",
   "nbconvert_exporter": "python",
   "pygments_lexer": "ipython3",
   "version": "3.12.7"
  }
 },
 "nbformat": 4,
 "nbformat_minor": 5
}

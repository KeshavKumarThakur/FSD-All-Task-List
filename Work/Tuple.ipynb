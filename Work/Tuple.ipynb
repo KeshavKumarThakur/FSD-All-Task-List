{
 "cells": [
  {
   "cell_type": "markdown",
   "id": "176ae523-46f1-4cc1-9e11-20b4d7e85e19",
   "metadata": {},
   "source": [
    "# Tuple Creation "
   ]
  },
  {
   "cell_type": "code",
   "execution_count": 3,
   "id": "ecdaf3f8-ba05-465a-949f-1af14739617e",
   "metadata": {},
   "outputs": [
    {
     "data": {
      "text/plain": [
       "tuple"
      ]
     },
     "execution_count": 3,
     "metadata": {},
     "output_type": "execute_result"
    }
   ],
   "source": [
    "tup1 = () # empty tuple \n",
    "type(tup1)"
   ]
  },
  {
   "cell_type": "code",
   "execution_count": 5,
   "id": "8cbe49e8-e0a7-472d-9367-f51a73534228",
   "metadata": {},
   "outputs": [],
   "source": [
    "tup2  = (10,30,60) # integer tuple "
   ]
  },
  {
   "cell_type": "code",
   "execution_count": 9,
   "id": "660ae54a-cd3b-4728-be94-bcec2802f02a",
   "metadata": {},
   "outputs": [
    {
     "data": {
      "text/plain": [
       "(10, 77, 30, 66, 60.89)"
      ]
     },
     "execution_count": 9,
     "metadata": {},
     "output_type": "execute_result"
    }
   ],
   "source": [
    "tup3 = (10,77,30,66,60.89) # float tuple \n"
   ]
  },
  {
   "cell_type": "code",
   "execution_count": 11,
   "id": "2094149b-5c82-4b0b-ab71-24d93925a406",
   "metadata": {},
   "outputs": [],
   "source": [
    "tup4 = ('one', 'two','five') # string tuple "
   ]
  },
  {
   "cell_type": "code",
   "execution_count": null,
   "id": "57b9b130-6b0a-417f-91a8-5ccb4e5d0f0f",
   "metadata": {},
   "outputs": [],
   "source": [
    "tup5 = ('asif',25,(50,100),150,90)) # nested tuple "
   ]
  },
  {
   "cell_type": "code",
   "execution_count": 15,
   "id": "c1d252ae-5c1e-4e03-bd3e-254db443e96e",
   "metadata": {},
   "outputs": [
    {
     "data": {
      "text/plain": [
       "(100, 'Asif', 17.765)"
      ]
     },
     "execution_count": 15,
     "metadata": {},
     "output_type": "execute_result"
    }
   ],
   "source": [
    "tup6 = (100,\"Asif\",17.765)   # mixed data type\n",
    "tup6"
   ]
  },
  {
   "cell_type": "code",
   "execution_count": 21,
   "id": "6b6a7998-8483-4330-983a-ff0e39309863",
   "metadata": {},
   "outputs": [
    {
     "name": "stdout",
     "output_type": "stream",
     "text": [
      "('asif', 25, [50, 100], [150, 90], {'John,david'}, (99, 22, 33))\n"
     ]
    }
   ],
   "source": [
    "tup7 = ('asif',25,[50,100,],[150,90],{'John,''david'},(99,22,33))\n",
    "print(tup7)"
   ]
  },
  {
   "cell_type": "code",
   "execution_count": 23,
   "id": "4d0fc7ee-835c-49e2-b76e-fdbb09a32623",
   "metadata": {},
   "outputs": [
    {
     "data": {
      "text/plain": [
       "6"
      ]
     },
     "execution_count": 23,
     "metadata": {},
     "output_type": "execute_result"
    }
   ],
   "source": [
    "len(tup7)"
   ]
  },
  {
   "cell_type": "markdown",
   "id": "e7c38c40-7216-4095-a7ba-7dc4e47c07ec",
   "metadata": {},
   "source": [
    "# tuple Indexing"
   ]
  },
  {
   "cell_type": "code",
   "execution_count": 30,
   "id": "638d50c1-457e-4284-b0c6-07db6b708473",
   "metadata": {},
   "outputs": [
    {
     "data": {
      "text/plain": [
       "10"
      ]
     },
     "execution_count": 30,
     "metadata": {},
     "output_type": "execute_result"
    }
   ],
   "source": [
    "tup2[0]"
   ]
  },
  {
   "cell_type": "code",
   "execution_count": 34,
   "id": "3425d939-d6ec-424b-86dc-91ac7a4265d4",
   "metadata": {},
   "outputs": [
    {
     "data": {
      "text/plain": [
       "'one'"
      ]
     },
     "execution_count": 34,
     "metadata": {},
     "output_type": "execute_result"
    }
   ],
   "source": [
    "tup4[0]"
   ]
  },
  {
   "cell_type": "code",
   "execution_count": 36,
   "id": "9246eb0d-4d7c-4f0b-b5b1-4ca78e802c97",
   "metadata": {},
   "outputs": [
    {
     "data": {
      "text/plain": [
       "'o'"
      ]
     },
     "execution_count": 36,
     "metadata": {},
     "output_type": "execute_result"
    }
   ],
   "source": [
    "tup4[0][0]   # Nested Indexing "
   ]
  },
  {
   "cell_type": "code",
   "execution_count": 40,
   "id": "33842120-3b33-48b7-9bbb-1f981ffc0720",
   "metadata": {},
   "outputs": [
    {
     "data": {
      "text/plain": [
       "'five'"
      ]
     },
     "execution_count": 40,
     "metadata": {},
     "output_type": "execute_result"
    }
   ],
   "source": [
    "tup4[-1] # Last item of the tuple "
   ]
  },
  {
   "cell_type": "markdown",
   "id": "e50e5596-2b43-4761-9842-c1e05188b929",
   "metadata": {},
   "source": [
    "# Tuple Slicing \n",
    "\n"
   ]
  },
  {
   "cell_type": "code",
   "execution_count": 46,
   "id": "df0da88f-7564-40d6-9115-a8e68572b574",
   "metadata": {},
   "outputs": [],
   "source": [
    "mytuple = ('one,''two','three','four','five','six','seven','eight')\n"
   ]
  },
  {
   "cell_type": "code",
   "execution_count": 48,
   "id": "9ec1a326-9393-4b3d-a200-8b4b28921369",
   "metadata": {},
   "outputs": [
    {
     "data": {
      "text/plain": [
       "('one,two', 'three', 'four')"
      ]
     },
     "execution_count": 48,
     "metadata": {},
     "output_type": "execute_result"
    }
   ],
   "source": [
    "mytuple[0:3]"
   ]
  },
  {
   "cell_type": "code",
   "execution_count": 50,
   "id": "ba77b279-dc14-4d9b-9e71-46b6d61bce69",
   "metadata": {},
   "outputs": [
    {
     "data": {
      "text/plain": [
       "('four', 'five', 'six')"
      ]
     },
     "execution_count": 50,
     "metadata": {},
     "output_type": "execute_result"
    }
   ],
   "source": [
    "mytuple[2:5]"
   ]
  },
  {
   "cell_type": "code",
   "execution_count": 52,
   "id": "75ca1bf4-9112-42c4-9fbf-89d8bf0ab3ed",
   "metadata": {},
   "outputs": [
    {
     "data": {
      "text/plain": [
       "('one,two', 'three')"
      ]
     },
     "execution_count": 52,
     "metadata": {},
     "output_type": "execute_result"
    }
   ],
   "source": [
    "mytuple[0:2]"
   ]
  },
  {
   "cell_type": "code",
   "execution_count": 58,
   "id": "a9737023-c4c4-4ebd-84bb-c18ae591e621",
   "metadata": {},
   "outputs": [
    {
     "data": {
      "text/plain": [
       "('one,two', 'three', 'four', 'five')"
      ]
     },
     "execution_count": 58,
     "metadata": {},
     "output_type": "execute_result"
    }
   ],
   "source": [
    "mytuple[:-3]"
   ]
  },
  {
   "cell_type": "code",
   "execution_count": 66,
   "id": "cb915440-69cb-4a31-98bb-cf02b96ea281",
   "metadata": {},
   "outputs": [
    {
     "name": "stdout",
     "output_type": "stream",
     "text": [
      "('one,two', 'three', 'four', 'five', 'six', 'seven', 'eight')\n"
     ]
    }
   ],
   "source": [
    "print(mytuple)"
   ]
  },
  {
   "cell_type": "code",
   "execution_count": 68,
   "id": "3ad92afb-455e-46d6-b94a-185fef6897c6",
   "metadata": {},
   "outputs": [
    {
     "data": {
      "text/plain": [
       "('one,two', 'three', 'four', 'five', 'six')"
      ]
     },
     "execution_count": 68,
     "metadata": {},
     "output_type": "execute_result"
    }
   ],
   "source": [
    "mytuple[:-2]"
   ]
  },
  {
   "cell_type": "code",
   "execution_count": 70,
   "id": "ac407fcb-e6b6-47c1-a452-97131f66bb3b",
   "metadata": {},
   "outputs": [
    {
     "data": {
      "text/plain": [
       "('one,two', 'three', 'four', 'five', 'six', 'seven', 'eight')"
      ]
     },
     "execution_count": 70,
     "metadata": {},
     "output_type": "execute_result"
    }
   ],
   "source": [
    "mytuple[:]"
   ]
  },
  {
   "cell_type": "code",
   "execution_count": 74,
   "id": "c3f69647-320a-47cf-af98-c897b2a823d2",
   "metadata": {},
   "outputs": [
    {
     "data": {
      "text/plain": [
       "('one,two', 'three', 'four', 'five')"
      ]
     },
     "execution_count": 74,
     "metadata": {},
     "output_type": "execute_result"
    }
   ],
   "source": [
    "mytuple[:-3]"
   ]
  },
  {
   "cell_type": "markdown",
   "id": "d5c0e058-abaa-4934-bcab-76ff3fce9cf0",
   "metadata": {},
   "source": [
    "# Removing and Changing the items "
   ]
  },
  {
   "cell_type": "code",
   "execution_count": 81,
   "id": "66128ee0-1e92-4329-a8bf-5df6798c5daa",
   "metadata": {},
   "outputs": [
    {
     "ename": "TypeError",
     "evalue": "'tuple' object doesn't support item deletion",
     "output_type": "error",
     "traceback": [
      "\u001b[1;31m---------------------------------------------------------------------------\u001b[0m",
      "\u001b[1;31mTypeError\u001b[0m                                 Traceback (most recent call last)",
      "Cell \u001b[1;32mIn[81], line 1\u001b[0m\n\u001b[1;32m----> 1\u001b[0m \u001b[38;5;28;01mdel\u001b[39;00m \u001b[43mmytuple\u001b[49m\u001b[43m[\u001b[49m\u001b[38;5;241;43m1\u001b[39;49m\u001b[43m]\u001b[49m \u001b[38;5;66;03m# tuple elements doest support deleting elemts but we can delete the entire tuple\u001b[39;00m\n",
      "\u001b[1;31mTypeError\u001b[0m: 'tuple' object doesn't support item deletion"
     ]
    }
   ],
   "source": [
    "del mytuple[1] # tuple elements doest support deleting elemts but we can delete the entire tuple"
   ]
  },
  {
   "cell_type": "code",
   "execution_count": 85,
   "id": "ddb0bc41-78e7-4d09-af62-710ee4ceba34",
   "metadata": {},
   "outputs": [],
   "source": [
    "del mytuple"
   ]
  },
  {
   "cell_type": "code",
   "execution_count": 87,
   "id": "f426a9ae-e61d-4b8a-81a9-0247059d933f",
   "metadata": {},
   "outputs": [
    {
     "ename": "NameError",
     "evalue": "name 'mytuple' is not defined",
     "output_type": "error",
     "traceback": [
      "\u001b[1;31m---------------------------------------------------------------------------\u001b[0m",
      "\u001b[1;31mNameError\u001b[0m                                 Traceback (most recent call last)",
      "Cell \u001b[1;32mIn[87], line 1\u001b[0m\n\u001b[1;32m----> 1\u001b[0m \u001b[38;5;28mprint\u001b[39m(\u001b[43mmytuple\u001b[49m)\n",
      "\u001b[1;31mNameError\u001b[0m: name 'mytuple' is not defined"
     ]
    }
   ],
   "source": [
    "print(mytuple)"
   ]
  },
  {
   "cell_type": "code",
   "execution_count": 113,
   "id": "b31bf0ba-f247-48cd-b248-5bf79d74b44c",
   "metadata": {},
   "outputs": [],
   "source": [
    "mytuple = ('one,','two','three','four','five','six','seven','eight')"
   ]
  },
  {
   "cell_type": "markdown",
   "id": "9c9380a1-7ca6-4967-bd0d-485988246f6f",
   "metadata": {},
   "source": [
    "# Loop Through a tuple "
   ]
  },
  {
   "cell_type": "code",
   "execution_count": 95,
   "id": "1e263c8b-12bb-4a1f-9ecb-07d27060cd2c",
   "metadata": {},
   "outputs": [
    {
     "name": "stdout",
     "output_type": "stream",
     "text": [
      "one,two\n",
      "three\n",
      "four\n",
      "five\n",
      "six\n",
      "seven\n",
      "eight\n"
     ]
    }
   ],
   "source": [
    "for i in mytuple:\n",
    "    print(i)"
   ]
  },
  {
   "cell_type": "code",
   "execution_count": 99,
   "id": "da62c302-39d3-44fd-8285-013f54470dca",
   "metadata": {},
   "outputs": [
    {
     "name": "stdout",
     "output_type": "stream",
     "text": [
      "('one,two', 'three', 'four', 'five', 'six', 'seven', 'eight')\n",
      "('one,two', 'three', 'four', 'five', 'six', 'seven', 'eight')\n",
      "('one,two', 'three', 'four', 'five', 'six', 'seven', 'eight')\n",
      "('one,two', 'three', 'four', 'five', 'six', 'seven', 'eight')\n",
      "('one,two', 'three', 'four', 'five', 'six', 'seven', 'eight')\n",
      "('one,two', 'three', 'four', 'five', 'six', 'seven', 'eight')\n",
      "('one,two', 'three', 'four', 'five', 'six', 'seven', 'eight')\n"
     ]
    }
   ],
   "source": [
    "for i in enumerate(mytuple):\n",
    "    print(mytuple)"
   ]
  },
  {
   "cell_type": "markdown",
   "id": "7f82e4fc-f4f7-44ef-9ebe-4a8b41313b4a",
   "metadata": {},
   "source": [
    "# true memebership "
   ]
  },
  {
   "cell_type": "code",
   "execution_count": 104,
   "id": "452de6bc-8117-411e-a220-2d559f0c99dd",
   "metadata": {},
   "outputs": [
    {
     "data": {
      "text/plain": [
       "('one,two', 'three', 'four', 'five', 'six', 'seven', 'eight')"
      ]
     },
     "execution_count": 104,
     "metadata": {},
     "output_type": "execute_result"
    }
   ],
   "source": [
    "mytuple"
   ]
  },
  {
   "cell_type": "markdown",
   "id": "ff1f0d10-7fc4-486e-a5fe-45bc45510b8a",
   "metadata": {},
   "source": [
    "# Index Position "
   ]
  },
  {
   "cell_type": "code",
   "execution_count": 107,
   "id": "e8447ad1-2d83-4e0f-bc55-39942775a3e6",
   "metadata": {},
   "outputs": [
    {
     "ename": "ValueError",
     "evalue": "tuple.index(x): x not in tuple",
     "output_type": "error",
     "traceback": [
      "\u001b[1;31m---------------------------------------------------------------------------\u001b[0m",
      "\u001b[1;31mValueError\u001b[0m                                Traceback (most recent call last)",
      "Cell \u001b[1;32mIn[107], line 1\u001b[0m\n\u001b[1;32m----> 1\u001b[0m \u001b[43mmytuple\u001b[49m\u001b[38;5;241;43m.\u001b[39;49m\u001b[43mindex\u001b[49m\u001b[43m(\u001b[49m\u001b[38;5;124;43m'\u001b[39;49m\u001b[38;5;124;43mone\u001b[39;49m\u001b[38;5;124;43m'\u001b[39;49m\u001b[43m)\u001b[49m\n",
      "\u001b[1;31mValueError\u001b[0m: tuple.index(x): x not in tuple"
     ]
    }
   ],
   "source": [
    "mytuple.index('one')"
   ]
  },
  {
   "cell_type": "code",
   "execution_count": 115,
   "id": "1cfd97f7-ad41-4abe-9efe-db0f38674a1d",
   "metadata": {},
   "outputs": [
    {
     "data": {
      "text/plain": [
       "('one,', 'two', 'three', 'four', 'five', 'six', 'seven', 'eight')"
      ]
     },
     "execution_count": 115,
     "metadata": {},
     "output_type": "execute_result"
    }
   ],
   "source": [
    "mytuple = ('one,','two','three','four','five','six','seven','eight')\n",
    "mytuple"
   ]
  },
  {
   "cell_type": "code",
   "execution_count": 119,
   "id": "7e615643-34eb-4c6d-aec9-028830b8e87d",
   "metadata": {},
   "outputs": [
    {
     "data": {
      "text/plain": [
       "0"
      ]
     },
     "execution_count": 119,
     "metadata": {},
     "output_type": "execute_result"
    }
   ],
   "source": [
    "mytuple.index('one,')"
   ]
  },
  {
   "cell_type": "code",
   "execution_count": 121,
   "id": "75e68ea1-a0c7-4e29-b550-a1a15730b84f",
   "metadata": {},
   "outputs": [
    {
     "data": {
      "text/plain": [
       "4"
      ]
     },
     "execution_count": 121,
     "metadata": {},
     "output_type": "execute_result"
    }
   ],
   "source": [
    "mytuple.index('five')"
   ]
  },
  {
   "cell_type": "markdown",
   "id": "21500613-ece8-4d9d-a76d-253b4b9a3f4b",
   "metadata": {},
   "source": [
    "# Sorting "
   ]
  },
  {
   "cell_type": "code",
   "execution_count": 124,
   "id": "9df89b24-dc2f-43ca-9a97-d0fa9b8b02d0",
   "metadata": {},
   "outputs": [],
   "source": [
    "mytuple2 = (43,67,99,12,6,90,67)"
   ]
  },
  {
   "cell_type": "code",
   "execution_count": 126,
   "id": "87d07b5d-fb6b-4b5d-87a0-a9457e475206",
   "metadata": {},
   "outputs": [
    {
     "data": {
      "text/plain": [
       "[6, 12, 43, 67, 67, 90, 99]"
      ]
     },
     "execution_count": 126,
     "metadata": {},
     "output_type": "execute_result"
    }
   ],
   "source": [
    "sorted(mytuple2) # sort in ascending  order "
   ]
  },
  {
   "cell_type": "code",
   "execution_count": 136,
   "id": "c5f2c991-2fae-4841-93a9-d52089ba5db4",
   "metadata": {},
   "outputs": [
    {
     "data": {
      "text/plain": [
       "[99, 90, 67, 67, 43, 12, 6]"
      ]
     },
     "execution_count": 136,
     "metadata": {},
     "output_type": "execute_result"
    }
   ],
   "source": [
    "sorted(mytuple2,reverse=True) # descending order "
   ]
  },
  {
   "cell_type": "code",
   "execution_count": null,
   "id": "4a402661-f3cf-4711-85d5-fe8bee1b7837",
   "metadata": {},
   "outputs": [],
   "source": []
  }
 ],
 "metadata": {
  "kernelspec": {
   "display_name": "Python 3 (ipykernel)",
   "language": "python",
   "name": "python3"
  },
  "language_info": {
   "codemirror_mode": {
    "name": "ipython",
    "version": 3
   },
   "file_extension": ".py",
   "mimetype": "text/x-python",
   "name": "python",
   "nbconvert_exporter": "python",
   "pygments_lexer": "ipython3",
   "version": "3.12.7"
  }
 },
 "nbformat": 4,
 "nbformat_minor": 5
}

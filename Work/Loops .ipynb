{
 "cells": [
  {
   "cell_type": "markdown",
   "id": "edeb3251-2434-4b15-9269-f57ae182a3cb",
   "metadata": {},
   "source": [
    "# **Loops In Python**\n",
    "###### Lops are used to repeat ceration statements\n",
    "###### loops are certain statements that are continous repeted untill some condition is not true \n"
   ]
  },
  {
   "cell_type": "code",
   "execution_count": 16,
   "id": "4c6063ca-fcec-4d12-a84c-39b58170a978",
   "metadata": {},
   "outputs": [
    {
     "name": "stdout",
     "output_type": "stream",
     "text": [
      "Data Science\n"
     ]
    }
   ],
   "source": [
    "i = 5 \n",
    "while i <= 5 :\n",
    "    print(\"Data Science\")\n",
    "    i = i+1"
   ]
  },
  {
   "cell_type": "code",
   "execution_count": 18,
   "id": "4e04cbd5-178d-4d72-ab32-335f0f10098d",
   "metadata": {},
   "outputs": [
    {
     "name": "stdout",
     "output_type": "stream",
     "text": [
      "Data Science\n"
     ]
    }
   ],
   "source": [
    "i = 5 \n",
    "while i <=5 :\n",
    "    print(\"Data Science\")\n",
    "    i = i+1"
   ]
  },
  {
   "cell_type": "code",
   "execution_count": 20,
   "id": "7651d967-b1f7-48fb-9ca3-d24affdd9c8d",
   "metadata": {},
   "outputs": [
    {
     "name": "stdout",
     "output_type": "stream",
     "text": [
      "This is Full  Stack Data Scienece Courses \n"
     ]
    }
   ],
   "source": [
    "i = 5 \n",
    "while i <= 5 :\n",
    "    print(\"This is Full  Stack Data Scienece Courses \")\n",
    "    i = i+1\n",
    "    "
   ]
  },
  {
   "cell_type": "code",
   "execution_count": 5,
   "id": "61e5ad56-8f5d-4bc3-9010-18dc3bb44891",
   "metadata": {},
   "outputs": [
    {
     "name": "stdout",
     "output_type": "stream",
     "text": [
      "Data Science 1\n",
      "Data Science 2\n",
      "Data Science 3\n",
      "Data Science 4\n",
      "Data Science 5\n"
     ]
    }
   ],
   "source": [
    "i = 1\n",
    "while i <= 5 :\n",
    "    print(\"Data Science\",i)\n",
    "    i = i+1"
   ]
  },
  {
   "cell_type": "code",
   "execution_count": 3,
   "id": "311fb14d-2563-470f-a63f-eea07f562855",
   "metadata": {},
   "outputs": [
    {
     "name": "stdout",
     "output_type": "stream",
     "text": [
      "data science :  1\n",
      "data science :  2\n",
      "data science :  3\n",
      "data science :  4\n",
      "data science :  5\n"
     ]
    }
   ],
   "source": [
    "i = 1         # initializing\n",
    "while i<=5:    # condition\n",
    "    print('data science : ', i)\n",
    "    i = i + 1  # increment"
   ]
  },
  {
   "cell_type": "markdown",
   "id": "4857744c-bf25-4d81-9824-f35f34ea9e44",
   "metadata": {},
   "source": [
    "# Foor Loop "
   ]
  },
  {
   "cell_type": "code",
   "execution_count": 8,
   "id": "5e1bc62c-3b5b-4a7a-a5db-069d02b1339a",
   "metadata": {},
   "outputs": [
    {
     "name": "stdout",
     "output_type": "stream",
     "text": [
      "n\n",
      "i\n",
      "t\n"
     ]
    }
   ],
   "source": [
    "name  = 'nit'\n",
    "for i in name:\n",
    "    print(i)"
   ]
  },
  {
   "cell_type": "code",
   "execution_count": 10,
   "id": "8a0e026e-a34d-462c-9b8f-b598f1f50543",
   "metadata": {},
   "outputs": [
    {
     "name": "stdout",
     "output_type": "stream",
     "text": [
      "1\n",
      "2\n",
      "5\n",
      "Hello\n"
     ]
    }
   ],
   "source": [
    "name1 = [1,2,5,'Hello']\n",
    "for i in name1 :\n",
    "    print(i)\n",
    "    "
   ]
  },
  {
   "cell_type": "code",
   "execution_count": 12,
   "id": "a8d1600b-363c-47a5-bcc2-b7173afac3c8",
   "metadata": {},
   "outputs": [
    {
     "name": "stdout",
     "output_type": "stream",
     "text": [
      "2\n",
      "3\n",
      "7.8\n",
      "hi\n"
     ]
    }
   ],
   "source": [
    "for i in [2, 3, 7.8, 'hi']:\n",
    "    print(i)"
   ]
  },
  {
   "cell_type": "code",
   "execution_count": 14,
   "id": "37d4329f-558c-4046-ad15-6d619750afa9",
   "metadata": {},
   "outputs": [
    {
     "data": {
      "text/plain": [
       "range(0, 5)"
      ]
     },
     "execution_count": 14,
     "metadata": {},
     "output_type": "execute_result"
    }
   ],
   "source": [
    "range(5)"
   ]
  },
  {
   "cell_type": "code",
   "execution_count": 16,
   "id": "837a4096-4c0c-4e24-a3cf-c647ea0e3d31",
   "metadata": {},
   "outputs": [
    {
     "name": "stdout",
     "output_type": "stream",
     "text": [
      "0\n",
      "1\n",
      "2\n",
      "3\n",
      "4\n"
     ]
    }
   ],
   "source": [
    "for i in range(5):\n",
    "    print(i)"
   ]
  },
  {
   "cell_type": "code",
   "execution_count": 20,
   "id": "471a7560-d188-413c-90e9-221ce685fefe",
   "metadata": {},
   "outputs": [
    {
     "name": "stdout",
     "output_type": "stream",
     "text": [
      "5\n",
      "6\n",
      "7\n",
      "8\n",
      "9\n",
      "10\n",
      "11\n",
      "12\n",
      "13\n",
      "14\n",
      "15\n",
      "16\n",
      "17\n",
      "18\n",
      "19\n"
     ]
    }
   ],
   "source": [
    "for i in range(5,20):\n",
    "    print(i)"
   ]
  },
  {
   "cell_type": "code",
   "execution_count": 22,
   "id": "44e03573-d350-4516-9910-f855bfc03434",
   "metadata": {},
   "outputs": [
    {
     "name": "stdout",
     "output_type": "stream",
     "text": [
      "5\n",
      "8\n",
      "11\n",
      "14\n",
      "17\n"
     ]
    }
   ],
   "source": [
    "for i in range(5,20,3):\n",
    "    print(i)"
   ]
  },
  {
   "cell_type": "code",
   "execution_count": 24,
   "id": "1a6de968-4d23-4d58-b3df-1cbac1908aed",
   "metadata": {},
   "outputs": [
    {
     "name": "stdout",
     "output_type": "stream",
     "text": [
      "5\n",
      "10\n",
      "15\n",
      "20\n",
      "25\n",
      "30\n",
      "35\n",
      "40\n",
      "45\n",
      "50\n"
     ]
    }
   ],
   "source": [
    "# print the value which is divisible by 5 \n",
    "for i in range(1,51):\n",
    "    if i %5  == 0:\n",
    "     print(i)"
   ]
  },
  {
   "cell_type": "code",
   "execution_count": 49,
   "id": "6f7d599e-4e71-4ded-9fe0-27c8651b111f",
   "metadata": {},
   "outputs": [
    {
     "name": "stdout",
     "output_type": "stream",
     "text": [
      "The no which is not dicvible by 5 are \n",
      "1 2 3 4 6 7 8 9 11 12 13 14 16 17 18 19 21 22 23 24 26 27 28 29 31 32 33 34 36 37 38 39 41 42 43 44 46 47 48 49 "
     ]
    }
   ],
   "source": [
    "# print the no which is not divisble b 5\n",
    "print(\"The no which is not dicvible by 5 are \")\n",
    "for i in range(1,51):\n",
    "    if i%5 != 0 :\n",
    "         \n",
    "           print(i, end=\" \")"
   ]
  },
  {
   "cell_type": "markdown",
   "id": "9d556686-7a5f-4ef3-98e7-b10d4563ab74",
   "metadata": {},
   "source": [
    "Lets discuss more about 3 Keywords in deatils ---- Break || Continue || Pass \n",
    "BREAK STATEMNT - if you apply break statment in a loop then it will end the loop\n",
    "Pass = skips block of code( function, class etc)\n",
    " Continue= skips 1 step/iteration during loop \n",
    " Break= jumps out of the function/loop"
   ]
  },
  {
   "cell_type": "code",
   "execution_count": 57,
   "id": "4d1e50d1-9c15-43cb-a8b2-7d939f549dde",
   "metadata": {},
   "outputs": [
    {
     "name": "stdin",
     "output_type": "stream",
     "text": [
      "How many choclets user want:? 10\n"
     ]
    },
    {
     "name": "stdout",
     "output_type": "stream",
     "text": [
      "choclet\n",
      "choclet\n",
      "choclet\n",
      "choclet\n",
      "choclet\n",
      "bye for now\n"
     ]
    }
   ],
   "source": [
    "available_choclet = 5 # the machine has only 10 candis \n",
    "x = int(input('How many choclets user want:?'))\n",
    "i = 1\n",
    "while i<=x:    \n",
    "    if i>available_choclet: # we stop the execution but which code execution not entire code , i want to come out of while loop \n",
    "        break # break is statement | means jump out of the loop\n",
    "    print('choclet')\n",
    "    i += 1       \n",
    "print('bye for now')"
   ]
  },
  {
   "cell_type": "code",
   "execution_count": null,
   "id": "fe4d984b-58da-44ef-af8f-87f9524a35ff",
   "metadata": {},
   "outputs": [],
   "source": [
    "available_choclet = 5 # the machine has only 10 candis \n",
    "x = int(input('How many choclets user want:?'))\n",
    "i = 1\n",
    "while i<=x:    \n",
    "    if i>available_choclet: # we stop the execution but which code execution not entire code , i want to come out of while loop \n",
    "        break # break is statement | means jump out of the loop\n",
    "    print('choclet')\n",
    "    i += 1       \n",
    "print('bye for now')"
   ]
  },
  {
   "cell_type": "code",
   "execution_count": 65,
   "id": "d42689f1-3206-4e2f-81b0-1e8b8ddb3373",
   "metadata": {},
   "outputs": [
    {
     "name": "stdout",
     "output_type": "stream",
     "text": [
      "keshav\n"
     ]
    }
   ],
   "source": [
    "print(\"keshav\")"
   ]
  },
  {
   "cell_type": "code",
   "execution_count": 83,
   "id": "2d5e78e9-b4cf-42c2-b3e0-d78ed9ca14e0",
   "metadata": {},
   "outputs": [
    {
     "name": "stdout",
     "output_type": "stream",
     "text": [
      "1\n",
      "2\n",
      "3\n",
      "4\n"
     ]
    }
   ],
   "source": [
    "for i in range(1,11):\n",
    "    if i == 5:\n",
    "        break\n",
    "    print(i)"
   ]
  },
  {
   "cell_type": "code",
   "execution_count": 117,
   "id": "e5e3cd41-2c41-4ccd-8c93-b306cc01b0da",
   "metadata": {},
   "outputs": [
    {
     "name": "stdout",
     "output_type": "stream",
     "text": [
      "10  11  12  13  14  16  17  18  19  "
     ]
    }
   ],
   "source": [
    "for i in range(10,20):\n",
    "    if i == 15 :\n",
    "        continue\n",
    "    print(i,end=\"  \")"
   ]
  },
  {
   "cell_type": "code",
   "execution_count": 119,
   "id": "29b3e13b-b975-44d9-adaf-d5c4381d30e0",
   "metadata": {},
   "outputs": [
    {
     "name": "stdout",
     "output_type": "stream",
     "text": [
      "hello 1\n",
      "hello 2\n",
      "hello 3\n",
      "hello 4\n",
      "hello 5\n",
      "hello 7\n",
      "hello 8\n",
      "hello 9\n",
      "hello 10\n"
     ]
    }
   ],
   "source": [
    "for i in range(1,11):\n",
    "    if i == 6:\n",
    "        continue\n",
    "    print(\"hello\",i)"
   ]
  },
  {
   "cell_type": "code",
   "execution_count": 123,
   "id": "1bb2ba35-2714-473e-9a03-146e4aa35be7",
   "metadata": {},
   "outputs": [
    {
     "name": "stdout",
     "output_type": "stream",
     "text": [
      "1\n",
      "2\n",
      "4\n",
      "7\n",
      "8\n",
      "11\n",
      "13\n",
      "14\n",
      "16\n",
      "17\n",
      "19\n",
      "22\n",
      "23\n",
      "26\n",
      "28\n",
      "29\n",
      "31\n",
      "32\n",
      "34\n",
      "37\n",
      "38\n",
      "41\n",
      "43\n",
      "44\n",
      "46\n",
      "47\n",
      "49\n"
     ]
    }
   ],
   "source": [
    "for i in range(1,51):\n",
    "    if i%3 == 0 or i%5 == 0 :\n",
    "        continue \n",
    "    print(i)"
   ]
  },
  {
   "cell_type": "code",
   "execution_count": 125,
   "id": "64b7d383-606d-4743-b313-e08b190c7414",
   "metadata": {},
   "outputs": [
    {
     "name": "stdout",
     "output_type": "stream",
     "text": [
      "1 2 4 7 8 11 13 14 16 17 19 22 23 26 28 29 31 32 34 37 38 41 43 44 46 47 49 "
     ]
    }
   ],
   "source": [
    "for i in range(1,51):\n",
    "    if i%3 == 0 or i%5 == 0:\n",
    "        continue \n",
    "    print(i, end=' ')"
   ]
  },
  {
   "cell_type": "code",
   "execution_count": 131,
   "id": "3f82486e-e64f-4592-b4ec-a11cc06c03b9",
   "metadata": {},
   "outputs": [
    {
     "name": "stdout",
     "output_type": "stream",
     "text": [
      "1\n",
      "3\n",
      "5\n",
      "7\n",
      "9\n",
      "11\n",
      "13\n",
      "15\n",
      "17\n",
      "19\n",
      "21\n",
      "23\n",
      "25\n",
      "27\n",
      "29\n",
      "31\n",
      "33\n",
      "35\n",
      "37\n",
      "39\n",
      "41\n",
      "43\n",
      "45\n",
      "47\n",
      "49\n",
      "Bye\n"
     ]
    }
   ],
   "source": [
    "for i in range (1,51):\n",
    "    if (i%2 == 0):\n",
    "        continue\n",
    "    else :\n",
    "        print(i)\n",
    "print(\"Bye\")"
   ]
  },
  {
   "cell_type": "code",
   "execution_count": 133,
   "id": "97295171-eee1-427c-b48b-bd31e78607ff",
   "metadata": {},
   "outputs": [],
   "source": [
    "# Printing patterns"
   ]
  },
  {
   "cell_type": "code",
   "execution_count": 147,
   "id": "bcfc1219-91ea-4c09-b29d-66f203ca6c5f",
   "metadata": {},
   "outputs": [
    {
     "name": "stdout",
     "output_type": "stream",
     "text": [
      "# # # # # # # #\n",
      "# # # # # # # #\n",
      "# # # # # # # \n",
      "# # # # # # \n",
      "# # # # # \n",
      "# # # # \n",
      "# # # \n"
     ]
    }
   ],
   "source": [
    "print('# # # # # # # #')\n",
    "print('# # # # # # # #')\n",
    "print('# # # # # # # ')\n",
    "print('# # # # # # ')\n",
    "print('# # # # # ')\n",
    "print('# # # # ')\n",
    "print('# # # ')"
   ]
  },
  {
   "cell_type": "code",
   "execution_count": 153,
   "id": "abf97807-e332-47ab-bb18-374e91bceb44",
   "metadata": {},
   "outputs": [
    {
     "name": "stdout",
     "output_type": "stream",
     "text": [
      "####\n",
      "####\n",
      "####\n",
      "####\n"
     ]
    }
   ],
   "source": [
    "for i in range(1,5):\n",
    "    if i <= 5:\n",
    "        print(\"####\")"
   ]
  },
  {
   "cell_type": "code",
   "execution_count": 155,
   "id": "998c0774-d772-4c4e-ab2c-ab521ac37b4d",
   "metadata": {},
   "outputs": [
    {
     "name": "stdout",
     "output_type": "stream",
     "text": [
      "####\n",
      "####\n",
      "####\n",
      "####\n"
     ]
    }
   ],
   "source": [
    "for j in range (4):\n",
    "    print(\"####\")"
   ]
  },
  {
   "cell_type": "code",
   "execution_count": 159,
   "id": "849f54ec-0a38-4b7f-9a18-52f1896bf830",
   "metadata": {},
   "outputs": [
    {
     "name": "stdout",
     "output_type": "stream",
     "text": [
      "####\n",
      "####"
     ]
    }
   ],
   "source": [
    "for j in range(4):\n",
    "    print(\"#\",end='')\n",
    "print()\n",
    "\n",
    "for j in range(4):\n",
    "    print('#',end='')"
   ]
  },
  {
   "cell_type": "code",
   "execution_count": 167,
   "id": "6ce45125-eb8b-4d79-8769-f2115f73f3c5",
   "metadata": {},
   "outputs": [
    {
     "name": "stdout",
     "output_type": "stream",
     "text": [
      "##########\n",
      "########"
     ]
    }
   ],
   "source": [
    "for  j in range(10):\n",
    "    print('#',end='')\n",
    "print()\n",
    "for j in range(8):\n",
    "    print('#',end='')"
   ]
  },
  {
   "cell_type": "code",
   "execution_count": 169,
   "id": "e6068973-1d1b-432d-b087-c93b5723bf68",
   "metadata": {},
   "outputs": [
    {
     "name": "stdout",
     "output_type": "stream",
     "text": [
      "#  #  #  #  \n",
      "#  #  #  #  \n",
      "#  #  #  #  \n",
      "#  #  #  #  "
     ]
    }
   ],
   "source": [
    "\n",
    "for j in range(4):\n",
    "    print('#', end=\"  \")\n",
    "    \n",
    "print()\n",
    "\n",
    "for j in range(4):\n",
    "    print('#', end=\"  \")\n",
    "\n",
    "print()\n",
    "\n",
    "for j in range(4):\n",
    "    print('#', end=\"  \")\n",
    "    \n",
    "print()\n",
    "\n",
    "for j in range(4):\n",
    "    print('#', end=\"  \")"
   ]
  },
  {
   "cell_type": "code",
   "execution_count": 179,
   "id": "de74c930-a79b-4bd3-93c4-65a1a3de7b77",
   "metadata": {},
   "outputs": [
    {
     "name": "stdout",
     "output_type": "stream",
     "text": [
      "#  #  #  #  #  #  \n",
      "#  #  #  #  #  #  \n",
      "#  #  #  #  #  #  \n"
     ]
    }
   ],
   "source": [
    "for  j in range(6):\n",
    "    print('#',end=\"  \")\n",
    "print()\n",
    "for  j in range(6):\n",
    "    print('#',end=\"  \")\n",
    "print()\n",
    "for  j in range(6):\n",
    "    print('#',end=\"  \")\n",
    "print()"
   ]
  },
  {
   "cell_type": "code",
   "execution_count": 189,
   "id": "7cd9f502-d07e-4a9b-aaf0-9f1492b857d2",
   "metadata": {},
   "outputs": [
    {
     "name": "stdout",
     "output_type": "stream",
     "text": [
      "# # # # # # # # # # # # # # # # \n"
     ]
    }
   ],
   "source": [
    "for i in range(4):\n",
    "    for j in range(4):\n",
    "        print(\"#\",end=\" \")\n",
    "print()"
   ]
  },
  {
   "cell_type": "code",
   "execution_count": 191,
   "id": "37c4677e-3c5f-4154-8827-d2feb369040b",
   "metadata": {},
   "outputs": [
    {
     "name": "stdout",
     "output_type": "stream",
     "text": [
      "# \n",
      "# # \n",
      "# # # \n",
      "# # # # \n"
     ]
    }
   ],
   "source": [
    "for i in range(4):\n",
    "    for j in range(i+1):\n",
    "        print(\"#\",end=\" \")\n",
    "    print()"
   ]
  },
  {
   "cell_type": "code",
   "execution_count": 197,
   "id": "10cfbbe7-405d-42fa-a14f-74435cf5c755",
   "metadata": {},
   "outputs": [
    {
     "name": "stdout",
     "output_type": "stream",
     "text": [
      "#\n",
      "##\n",
      "###\n",
      "####\n"
     ]
    }
   ],
   "source": [
    "for i in range(1,5):\n",
    "    print(\"#\"*i)"
   ]
  },
  {
   "cell_type": "code",
   "execution_count": 199,
   "id": "398ba347-20c9-4b64-a09c-8f2dbc07376f",
   "metadata": {},
   "outputs": [
    {
     "name": "stdout",
     "output_type": "stream",
     "text": [
      "#  \n",
      "#  #  \n",
      "#  #  #  \n",
      "#  #  #  #  \n"
     ]
    }
   ],
   "source": [
    "for i in range(4):\n",
    "    for j in range(i+1):\n",
    "        print('#', end=\"  \")\n",
    "    print()"
   ]
  },
  {
   "cell_type": "code",
   "execution_count": 201,
   "id": "7f79963b-2fa0-49d1-909a-103095a154ac",
   "metadata": {},
   "outputs": [
    {
     "name": "stdout",
     "output_type": "stream",
     "text": [
      "####\n",
      "###\n",
      "##\n",
      "#\n"
     ]
    }
   ],
   "source": [
    "for i in range(1,5):\n",
    "    print(\"#\"*(5-i))"
   ]
  },
  {
   "cell_type": "code",
   "execution_count": 213,
   "id": "12a4b4bb-5734-4164-9255-105fc15639f6",
   "metadata": {},
   "outputs": [
    {
     "name": "stdout",
     "output_type": "stream",
     "text": [
      "25\n"
     ]
    }
   ],
   "source": [
    "nums = [12,14,18,21,25,20]\n",
    "for num in nums :\n",
    "    if num%5 == 0 :\n",
    "        print(num)\n",
    "        break\n",
    "        \n",
    "\n"
   ]
  },
  {
   "cell_type": "code",
   "execution_count": 215,
   "id": "23241f5c-63e9-4b87-b88b-7e09e18771fb",
   "metadata": {},
   "outputs": [
    {
     "name": "stdout",
     "output_type": "stream",
     "text": [
      "25\n",
      "20\n"
     ]
    }
   ],
   "source": [
    "nums = [12,14,18,21,25,20]\n",
    "for num in nums :\n",
    "    if num%5 == 0 :\n",
    "        print(num)\n",
    "        continue\n",
    "\n"
   ]
  },
  {
   "cell_type": "code",
   "execution_count": 221,
   "id": "30919d67-ab7d-4959-8a47-55cf3a71d7e8",
   "metadata": {},
   "outputs": [
    {
     "name": "stdout",
     "output_type": "stream",
     "text": [
      " Prime Number\n"
     ]
    }
   ],
   "source": [
    "num = 13 \n",
    "for i in range(2,num):\n",
    "    if num%i == 0 :\n",
    "        print(\"Not a prime Number\")\n",
    "        break\n",
    "else :\n",
    "    print(\" Prime Number\")\n",
    "    "
   ]
  },
  {
   "cell_type": "markdown",
   "id": "26ecfd82-3ede-4ef7-94be-1a541abed74f",
   "metadata": {},
   "source": [
    "<img src=\"E:\\image\\Godshiva.jpg\" alt=\"My Image\" width=\"500\">\n"
   ]
  },
  {
   "cell_type": "markdown",
   "id": "ce8f9641-8cb1-407f-80bf-dc1c51564a8b",
   "metadata": {},
   "source": [
    "## Arrays \n"
   ]
  },
  {
   "cell_type": "code",
   "execution_count": 245,
   "id": "7b631337-2993-4cc4-9cbd-29a47199076f",
   "metadata": {},
   "outputs": [
    {
     "name": "stdin",
     "output_type": "stream",
     "text": [
      "Enter the lenght of Array  2\n",
      "Enter the Next Value  5\n",
      "Enter the Next Value  5\n",
      "Enter the Next Value  5\n",
      "Enter the Next Value  3\n",
      "Enter the Next Value  8\n"
     ]
    },
    {
     "name": "stdout",
     "output_type": "stream",
     "text": [
      "array('i', [5, 5, 5, 3, 8])\n"
     ]
    }
   ],
   "source": [
    " from array import *\n",
    "arr = array('i',[])\n",
    "n = int(input(\"Enter the lenght of Array \"))\n",
    "for i in range(5):\n",
    "    x = int(input(\"Enter the Next Value \"))\n",
    "    arr.append(x)\n",
    "print(arr)"
   ]
  },
  {
   "cell_type": "code",
   "execution_count": 247,
   "id": "8b791876-ca66-4a99-afe3-bd6f00c584b5",
   "metadata": {},
   "outputs": [],
   "source": [
    "import numpy as np\n"
   ]
  },
  {
   "cell_type": "code",
   "execution_count": 251,
   "id": "ad65e301-1cfd-4c98-925f-a91af3229e23",
   "metadata": {},
   "outputs": [
    {
     "name": "stdout",
     "output_type": "stream",
     "text": [
      "[1 2 3 4 5]\n"
     ]
    },
    {
     "data": {
      "text/plain": [
       "numpy.ndarray"
      ]
     },
     "execution_count": 251,
     "metadata": {},
     "output_type": "execute_result"
    }
   ],
   "source": [
    "from numpy import*\n",
    "arr = array([1,2,3,4,5])\n",
    "print(arr)\n",
    "type(arr)"
   ]
  },
  {
   "cell_type": "code",
   "execution_count": 255,
   "id": "fa1d0d1c-a822-43dc-be21-a5a5694efefc",
   "metadata": {},
   "outputs": [
    {
     "name": "stdout",
     "output_type": "stream",
     "text": [
      "int32\n"
     ]
    }
   ],
   "source": [
    "print(arr.dtype)"
   ]
  },
  {
   "cell_type": "code",
   "execution_count": 259,
   "id": "19a2ff34-faa2-43a5-a56b-badc81b07ec6",
   "metadata": {},
   "outputs": [
    {
     "name": "stdout",
     "output_type": "stream",
     "text": [
      "[1.  2.  3.  4.  5.9]\n"
     ]
    }
   ],
   "source": [
    "arr = array([1,2,3,4,5.9])\n",
    "print(arr)\n"
   ]
  },
  {
   "cell_type": "code",
   "execution_count": 261,
   "id": "932615a6-1cca-474e-bbe9-002dbfbd9476",
   "metadata": {},
   "outputs": [
    {
     "name": "stdout",
     "output_type": "stream",
     "text": [
      "float64\n"
     ]
    }
   ],
   "source": [
    "print(arr.dtype)"
   ]
  },
  {
   "cell_type": "code",
   "execution_count": 263,
   "id": "9d3e15d8-013a-4451-8087-798a4de798bd",
   "metadata": {},
   "outputs": [
    {
     "name": "stdout",
     "output_type": "stream",
     "text": [
      "[1.  2.  3.  4.  5.9]\n"
     ]
    }
   ],
   "source": [
    "arr2 = array([1,2,3,4,5.9],float)\n",
    "print(arr2)\n"
   ]
  },
  {
   "cell_type": "code",
   "execution_count": 265,
   "id": "727e337a-76d1-4294-88b0-f23ef151ded7",
   "metadata": {},
   "outputs": [
    {
     "data": {
      "text/plain": [
       "dtype('float64')"
      ]
     },
     "execution_count": 265,
     "metadata": {},
     "output_type": "execute_result"
    }
   ],
   "source": [
    "arr.dtype"
   ]
  },
  {
   "cell_type": "code",
   "execution_count": 267,
   "id": "b95bbc96-184a-401e-8353-e341e77a4030",
   "metadata": {},
   "outputs": [
    {
     "data": {
      "text/plain": [
       "array([1, 2, 3, 4, 5])"
      ]
     },
     "execution_count": 267,
     "metadata": {},
     "output_type": "execute_result"
    }
   ],
   "source": [
    "arr3 = array([1,2,3,4,5.6],int)\n",
    "arr3"
   ]
  },
  {
   "cell_type": "code",
   "execution_count": 269,
   "id": "955fca07-a464-4eee-a7b1-aba7d2d26a50",
   "metadata": {},
   "outputs": [
    {
     "data": {
      "text/plain": [
       "dtype('int32')"
      ]
     },
     "execution_count": 269,
     "metadata": {},
     "output_type": "execute_result"
    }
   ],
   "source": [
    "arr3.dtype"
   ]
  },
  {
   "cell_type": "code",
   "execution_count": null,
   "id": "7be8fdf0-deb8-4c03-b512-1b0e4e6c5a21",
   "metadata": {},
   "outputs": [],
   "source": []
  }
 ],
 "metadata": {
  "kernelspec": {
   "display_name": "Python 3 (ipykernel)",
   "language": "python",
   "name": "python3"
  },
  "language_info": {
   "codemirror_mode": {
    "name": "ipython",
    "version": 3
   },
   "file_extension": ".py",
   "mimetype": "text/x-python",
   "name": "python",
   "nbconvert_exporter": "python",
   "pygments_lexer": "ipython3",
   "version": "3.12.7"
  }
 },
 "nbformat": 4,
 "nbformat_minor": 5
}

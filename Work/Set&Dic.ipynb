{
 "cells": [
  {
   "cell_type": "code",
   "execution_count": null,
   "id": "78e5fa96-5c51-4a18-9f32-448e5cc2fc80",
   "metadata": {},
   "outputs": [],
   "source": [
    "# Tuple is a build in data type in python it is similar to the list but tuple are immutable whereas list are immmutable \n",
    "# Iterating is faster in the tuple as comapared to the list \n"
   ]
  },
  {
   "cell_type": "markdown",
   "id": "99a9a585-9001-4b91-a7c2-ff655804e5d8",
   "metadata": {},
   "source": [
    "## Tuple Creation"
   ]
  },
  {
   "cell_type": "code",
   "execution_count": null,
   "id": "dcd96bc5-a755-4b27-85fb-f36f5c543e11",
   "metadata": {},
   "outputs": [],
   "source": [
    "# Empty Tuple :\n"
   ]
  },
  {
   "cell_type": "code",
   "execution_count": 2,
   "id": "3bbc6780-4c9d-4590-9aae-c0a5620c8df0",
   "metadata": {},
   "outputs": [],
   "source": [
    "\n",
    "tup1 = ()  # empty tuple \n"
   ]
  },
  {
   "cell_type": "code",
   "execution_count": 6,
   "id": "d1df622e-cbb1-4b8b-b3cf-de6a3560dd61",
   "metadata": {},
   "outputs": [
    {
     "data": {
      "text/plain": [
       "tuple"
      ]
     },
     "execution_count": 6,
     "metadata": {},
     "output_type": "execute_result"
    }
   ],
   "source": [
    "tup2 = (1,2,5,68,0) # integer tuple \n",
    "type(tup2)"
   ]
  },
  {
   "cell_type": "code",
   "execution_count": 10,
   "id": "0b26aacf-9cc3-412e-934a-35fa12fddcf9",
   "metadata": {},
   "outputs": [
    {
     "name": "stdout",
     "output_type": "stream",
     "text": [
      "(10.7, 98.9, 77.9)\n"
     ]
    }
   ],
   "source": [
    "tup3 = (10.7,98.9,77.9)\n",
    "type(tup3)\n",
    "print(tup3)"
   ]
  },
  {
   "cell_type": "code",
   "execution_count": 14,
   "id": "ec0494e9-eaa2-47d7-a6b9-989304e72f15",
   "metadata": {},
   "outputs": [],
   "source": [
    "tup4 = ('one','two','three') # tuple of strings \n"
   ]
  },
  {
   "cell_type": "code",
   "execution_count": 20,
   "id": "4b5cc76f-a69a-43f2-b137-425d9c3c10bc",
   "metadata": {},
   "outputs": [],
   "source": [
    "tup5 = ('asif',22,33,(22,99,0.1,22),'Keshav',88) # nested tuple "
   ]
  },
  {
   "cell_type": "code",
   "execution_count": 24,
   "id": "2b87d70a-992b-46c6-8e53-e616468ff047",
   "metadata": {},
   "outputs": [],
   "source": [
    "tup5 = ('one','two',6,8.8,77,'three') # tuple of mixed data type \n"
   ]
  },
  {
   "cell_type": "markdown",
   "id": "fb6dab7a-e784-4fb8-8ef7-0c2e5ae8b1a4",
   "metadata": {},
   "source": [
    "## Tuple Indexing "
   ]
  },
  {
   "cell_type": "code",
   "execution_count": 29,
   "id": "b62aa9e6-322a-4796-9110-0d236e945e9b",
   "metadata": {},
   "outputs": [
    {
     "data": {
      "text/plain": [
       "1"
      ]
     },
     "execution_count": 29,
     "metadata": {},
     "output_type": "execute_result"
    }
   ],
   "source": [
    "tup2[0]"
   ]
  },
  {
   "cell_type": "code",
   "execution_count": 31,
   "id": "a67f5a60-4756-4d97-8c39-6287b9233a20",
   "metadata": {},
   "outputs": [
    {
     "data": {
      "text/plain": [
       "'one'"
      ]
     },
     "execution_count": 31,
     "metadata": {},
     "output_type": "execute_result"
    }
   ],
   "source": [
    "tup4[0]"
   ]
  },
  {
   "cell_type": "code",
   "execution_count": 33,
   "id": "73567fba-0c02-4744-9785-dbb84c22952e",
   "metadata": {},
   "outputs": [
    {
     "data": {
      "text/plain": [
       "'three'"
      ]
     },
     "execution_count": 33,
     "metadata": {},
     "output_type": "execute_result"
    }
   ],
   "source": [
    "tup4[-1]"
   ]
  },
  {
   "cell_type": "markdown",
   "id": "6715607f-0463-4f8a-b72a-bb01f9dd9e9d",
   "metadata": {},
   "source": [
    "### Tuple Slicing "
   ]
  },
  {
   "cell_type": "code",
   "execution_count": 78,
   "id": "b90458dc-d8f8-4c96-8466-3ebc72471bbe",
   "metadata": {},
   "outputs": [],
   "source": [
    "mytuple = ('one','two','three','four','five','six','seven','eight')\n"
   ]
  },
  {
   "cell_type": "code",
   "execution_count": 41,
   "id": "7ec1fe94-4564-4897-ab76-70b48c1c14b1",
   "metadata": {},
   "outputs": [
    {
     "data": {
      "text/plain": [
       "('one', 'two', 'three')"
      ]
     },
     "execution_count": 41,
     "metadata": {},
     "output_type": "execute_result"
    }
   ],
   "source": [
    "mytuple[0:3]"
   ]
  },
  {
   "cell_type": "code",
   "execution_count": 43,
   "id": "2f3b0f22-90e7-4c10-984b-2729d91db4f3",
   "metadata": {},
   "outputs": [
    {
     "data": {
      "text/plain": [
       "('three', 'four', 'five')"
      ]
     },
     "execution_count": 43,
     "metadata": {},
     "output_type": "execute_result"
    }
   ],
   "source": [
    "mytuple[2:5]"
   ]
  },
  {
   "cell_type": "code",
   "execution_count": 47,
   "id": "ce42508b-c401-44a1-a844-1acef0ebf6a8",
   "metadata": {},
   "outputs": [
    {
     "data": {
      "text/plain": [
       "('eight', 'six', 'four', 'two')"
      ]
     },
     "execution_count": 47,
     "metadata": {},
     "output_type": "execute_result"
    }
   ],
   "source": [
    "mytuple[::-2]"
   ]
  },
  {
   "cell_type": "code",
   "execution_count": 49,
   "id": "17a9da5f-a1f2-4010-8e41-aa56e32a8ca7",
   "metadata": {},
   "outputs": [
    {
     "data": {
      "text/plain": [
       "('one', 'two', 'three', 'four', 'five', 'six', 'seven')"
      ]
     },
     "execution_count": 49,
     "metadata": {},
     "output_type": "execute_result"
    }
   ],
   "source": [
    "mytuple[:-1]"
   ]
  },
  {
   "cell_type": "code",
   "execution_count": 51,
   "id": "8a8e385d-2c3a-4ff4-a7ff-06cf0681f1ef",
   "metadata": {},
   "outputs": [
    {
     "data": {
      "text/plain": [
       "('one', 'two', 'three', 'four', 'five', 'six', 'seven', 'eight')"
      ]
     },
     "execution_count": 51,
     "metadata": {},
     "output_type": "execute_result"
    }
   ],
   "source": [
    "mytuple[:]"
   ]
  },
  {
   "cell_type": "markdown",
   "id": "c527dbb2-c99f-4b26-81d2-6f554000220b",
   "metadata": {},
   "source": [
    "## Remove and change the items "
   ]
  },
  {
   "cell_type": "code",
   "execution_count": 74,
   "id": "f09ddb0d-6d38-4498-84b7-0d7bdfb4db36",
   "metadata": {},
   "outputs": [
    {
     "ename": "NameError",
     "evalue": "name 'mytuple' is not defined",
     "output_type": "error",
     "traceback": [
      "\u001b[1;31m---------------------------------------------------------------------------\u001b[0m",
      "\u001b[1;31mNameError\u001b[0m                                 Traceback (most recent call last)",
      "Cell \u001b[1;32mIn[74], line 1\u001b[0m\n\u001b[1;32m----> 1\u001b[0m \u001b[38;5;28;01mdel\u001b[39;00m \u001b[43mmytuple\u001b[49m[\u001b[38;5;241m2\u001b[39m] \u001b[38;5;66;03m# we cant delete the items of tuple  but we can delete the entire tuple ex ----> del mytuple\u001b[39;00m\n",
      "\u001b[1;31mNameError\u001b[0m: name 'mytuple' is not defined"
     ]
    }
   ],
   "source": [
    "del mytuple[2] # we cant delete the items of tuple  but we can delete the entire tuple ex ----> del mytuple"
   ]
  },
  {
   "cell_type": "code",
   "execution_count": 64,
   "id": "9732c371-8032-4091-9176-94448bc6e896",
   "metadata": {},
   "outputs": [
    {
     "ename": "TypeError",
     "evalue": "'tuple' object does not support item assignment",
     "output_type": "error",
     "traceback": [
      "\u001b[1;31m---------------------------------------------------------------------------\u001b[0m",
      "\u001b[1;31mTypeError\u001b[0m                                 Traceback (most recent call last)",
      "Cell \u001b[1;32mIn[64], line 1\u001b[0m\n\u001b[1;32m----> 1\u001b[0m \u001b[43mmytuple\u001b[49m\u001b[43m[\u001b[49m\u001b[43m:\u001b[49m\u001b[38;5;241;43m0\u001b[39;49m\u001b[43m]\u001b[49m \u001b[38;5;241m=\u001b[39m \u001b[38;5;241m1\u001b[39m   \u001b[38;5;66;03m# its means that tuple are immutable we can't change the tuple items \u001b[39;00m\n",
      "\u001b[1;31mTypeError\u001b[0m: 'tuple' object does not support item assignment"
     ]
    }
   ],
   "source": [
    "mytuple[:0] = 1   # its means that tuple are immutable we can't change the tuple items \n"
   ]
  },
  {
   "cell_type": "code",
   "execution_count": 72,
   "id": "7e192741-780f-4115-acb6-3bd107ebc93f",
   "metadata": {},
   "outputs": [
    {
     "ename": "NameError",
     "evalue": "name 'mytuple' is not defined",
     "output_type": "error",
     "traceback": [
      "\u001b[1;31m---------------------------------------------------------------------------\u001b[0m",
      "\u001b[1;31mNameError\u001b[0m                                 Traceback (most recent call last)",
      "Cell \u001b[1;32mIn[72], line 1\u001b[0m\n\u001b[1;32m----> 1\u001b[0m \u001b[38;5;28;01mdel\u001b[39;00m \u001b[43mmytuple\u001b[49m \u001b[38;5;66;03m# we can delte the entrire tuple but we cant not delete  the items of tuples \u001b[39;00m\n",
      "\u001b[1;31mNameError\u001b[0m: name 'mytuple' is not defined"
     ]
    }
   ],
   "source": [
    "del mytuple # we can delte the entrire tuple but we cant not delete  the items of tuples "
   ]
  },
  {
   "cell_type": "code",
   "execution_count": 80,
   "id": "a3d7082a-aeef-4497-b02b-77c108736d80",
   "metadata": {},
   "outputs": [
    {
     "name": "stdout",
     "output_type": "stream",
     "text": [
      "('one', 'two', 'three', 'four', 'five', 'six', 'seven', 'eight')\n"
     ]
    }
   ],
   "source": [
    "mytuple = ('one','two','three','four','five','six','seven','eight')\n",
    "print(mytuple)"
   ]
  },
  {
   "cell_type": "markdown",
   "id": "0bb84c6b-d276-4ac6-a2bb-10e7a8ff2770",
   "metadata": {},
   "source": [
    "## Loop through a tuple "
   ]
  },
  {
   "cell_type": "code",
   "execution_count": 85,
   "id": "fe7f4e6d-e676-4328-94d3-1d6c41e1b13a",
   "metadata": {},
   "outputs": [
    {
     "name": "stdout",
     "output_type": "stream",
     "text": [
      "one\n",
      "two\n",
      "three\n",
      "four\n",
      "five\n",
      "six\n",
      "seven\n",
      "eight\n"
     ]
    }
   ],
   "source": [
    "for i in mytuple :\n",
    "  print(i)\n"
   ]
  },
  {
   "cell_type": "code",
   "execution_count": 87,
   "id": "1d3b8bb7-c9ec-44da-83a9-f168b081de15",
   "metadata": {},
   "outputs": [
    {
     "name": "stdout",
     "output_type": "stream",
     "text": [
      "(0, 'one')\n",
      "(1, 'two')\n",
      "(2, 'three')\n",
      "(3, 'four')\n",
      "(4, 'five')\n",
      "(5, 'six')\n",
      "(6, 'seven')\n",
      "(7, 'eight')\n"
     ]
    }
   ],
   "source": [
    "for i in enumerate(mytuple) :\n",
    "    print(i)"
   ]
  },
  {
   "cell_type": "markdown",
   "id": "8ba94470-4b80-46c0-8ba1-48824345ef0d",
   "metadata": {},
   "source": [
    "### Count()"
   ]
  },
  {
   "cell_type": "code",
   "execution_count": 96,
   "id": "e9d06b6f-57ef-4316-ac26-da0e403957d9",
   "metadata": {},
   "outputs": [
    {
     "data": {
      "text/plain": [
       "('one', 'two', 'three', 'four', 'one', 'two', 'three', 'four')"
      ]
     },
     "execution_count": 96,
     "metadata": {},
     "output_type": "execute_result"
    }
   ],
   "source": [
    "mytuple1 = ('one','two','three','four','one','two','three','four')\n",
    "\n",
    "mytuple1\n"
   ]
  },
  {
   "cell_type": "code",
   "execution_count": 112,
   "id": "86775bcf-982c-499a-a385-3fd018d70b1f",
   "metadata": {},
   "outputs": [
    {
     "data": {
      "text/plain": [
       "2"
      ]
     },
     "execution_count": 112,
     "metadata": {},
     "output_type": "execute_result"
    }
   ],
   "source": [
    "mytuple1.count('two')"
   ]
  },
  {
   "cell_type": "code",
   "execution_count": 114,
   "id": "cc71b649-9f78-4c8e-8174-1c4ad2c88eef",
   "metadata": {},
   "outputs": [
    {
     "data": {
      "text/plain": [
       "2"
      ]
     },
     "execution_count": 114,
     "metadata": {},
     "output_type": "execute_result"
    }
   ],
   "source": [
    "mytuple1.count('four')"
   ]
  },
  {
   "cell_type": "code",
   "execution_count": 116,
   "id": "d8ce3dd8-eb5e-43e0-8344-48ab8d895441",
   "metadata": {},
   "outputs": [
    {
     "data": {
      "text/plain": [
       "2"
      ]
     },
     "execution_count": 116,
     "metadata": {},
     "output_type": "execute_result"
    }
   ],
   "source": [
    "mytuple1.count('one')"
   ]
  },
  {
   "cell_type": "markdown",
   "id": "03fbc98a-9626-4896-a0d3-3b0c8d7cf55e",
   "metadata": {},
   "source": [
    "## Tuple Membership"
   ]
  },
  {
   "cell_type": "code",
   "execution_count": 119,
   "id": "27804492-4e73-4e04-819f-74b3eb537aae",
   "metadata": {},
   "outputs": [
    {
     "data": {
      "text/plain": [
       "('one', 'two', 'three', 'four', 'one', 'two', 'three', 'four')"
      ]
     },
     "execution_count": 119,
     "metadata": {},
     "output_type": "execute_result"
    }
   ],
   "source": [
    "mytuple1"
   ]
  },
  {
   "cell_type": "code",
   "execution_count": 123,
   "id": "b16ab093-c644-4778-8b63-c2e237f61bde",
   "metadata": {},
   "outputs": [
    {
     "data": {
      "text/plain": [
       "False"
      ]
     },
     "execution_count": 123,
     "metadata": {},
     "output_type": "execute_result"
    }
   ],
   "source": [
    "'ten' in mytuple1"
   ]
  },
  {
   "cell_type": "code",
   "execution_count": 135,
   "id": "35febe61-d061-4f5f-8d07-c7c2634305d6",
   "metadata": {},
   "outputs": [
    {
     "name": "stdout",
     "output_type": "stream",
     "text": [
      "Present\n"
     ]
    }
   ],
   "source": [
    "# programe check whether three  is present in mytuple1\n",
    "if 'three' in mytuple1 :\n",
    "    print(\"Present\")\n",
    "else :\n",
    "    print('Not Present')"
   ]
  },
  {
   "cell_type": "code",
   "execution_count": 137,
   "id": "f0addf27-df04-4dbc-b4df-a91fc121d302",
   "metadata": {},
   "outputs": [
    {
     "name": "stdout",
     "output_type": "stream",
     "text": [
      "Not Present\n"
     ]
    }
   ],
   "source": [
    "# programe check whether  eleven   is present in mytuple1\n",
    "if 'eleven' in mytuple1 :\n",
    "    print(\"Present\")\n",
    "else :\n",
    "    print('Not Present')"
   ]
  },
  {
   "cell_type": "markdown",
   "id": "505b1693-1b19-4591-ae02-0b6bdea876ce",
   "metadata": {},
   "source": [
    "## Index "
   ]
  },
  {
   "cell_type": "code",
   "execution_count": 140,
   "id": "a9557c9b-4b91-41ce-8f1a-2ead6f27f76b",
   "metadata": {},
   "outputs": [
    {
     "data": {
      "text/plain": [
       "0"
      ]
     },
     "execution_count": 140,
     "metadata": {},
     "output_type": "execute_result"
    }
   ],
   "source": [
    "mytuple.index('one')"
   ]
  },
  {
   "cell_type": "code",
   "execution_count": 142,
   "id": "bf57a656-4c72-46b9-8f1a-fce4f5febc0b",
   "metadata": {},
   "outputs": [
    {
     "data": {
      "text/plain": [
       "1"
      ]
     },
     "execution_count": 142,
     "metadata": {},
     "output_type": "execute_result"
    }
   ],
   "source": [
    "mytuple.index('two')"
   ]
  },
  {
   "cell_type": "code",
   "execution_count": 144,
   "id": "029dcf1f-b7c3-47df-88d8-545f1c64da32",
   "metadata": {},
   "outputs": [
    {
     "data": {
      "text/plain": [
       "4"
      ]
     },
     "execution_count": 144,
     "metadata": {},
     "output_type": "execute_result"
    }
   ],
   "source": [
    "mytuple.index('five')"
   ]
  },
  {
   "cell_type": "code",
   "execution_count": 146,
   "id": "c1625ae5-0106-4ce8-9e1f-738b6b8b34d6",
   "metadata": {},
   "outputs": [
    {
     "data": {
      "text/plain": [
       "7"
      ]
     },
     "execution_count": 146,
     "metadata": {},
     "output_type": "execute_result"
    }
   ],
   "source": [
    "mytuple.index('eight')"
   ]
  },
  {
   "cell_type": "code",
   "execution_count": 148,
   "id": "0248ea84-f1fe-4a0c-8f2e-53ee120d656d",
   "metadata": {},
   "outputs": [
    {
     "ename": "ValueError",
     "evalue": "tuple.index(x): x not in tuple",
     "output_type": "error",
     "traceback": [
      "\u001b[1;31m---------------------------------------------------------------------------\u001b[0m",
      "\u001b[1;31mValueError\u001b[0m                                Traceback (most recent call last)",
      "Cell \u001b[1;32mIn[148], line 1\u001b[0m\n\u001b[1;32m----> 1\u001b[0m \u001b[43mmytuple\u001b[49m\u001b[38;5;241;43m.\u001b[39;49m\u001b[43mindex\u001b[49m\u001b[43m(\u001b[49m\u001b[38;5;124;43m'\u001b[39;49m\u001b[38;5;124;43mten\u001b[39;49m\u001b[38;5;124;43m'\u001b[39;49m\u001b[43m)\u001b[49m\n",
      "\u001b[1;31mValueError\u001b[0m: tuple.index(x): x not in tuple"
     ]
    }
   ],
   "source": [
    "mytuple.index('ten')"
   ]
  },
  {
   "cell_type": "markdown",
   "id": "a143f32b-4387-4376-8317-46e95772d591",
   "metadata": {},
   "source": [
    "## Sorting "
   ]
  },
  {
   "cell_type": "code",
   "execution_count": 165,
   "id": "31554a98-7916-4664-b139-f2b22a773498",
   "metadata": {},
   "outputs": [
    {
     "data": {
      "text/plain": [
       "['four', 'four', 'one', 'one', 'three', 'three', 'two', 'two']"
      ]
     },
     "execution_count": 165,
     "metadata": {},
     "output_type": "execute_result"
    }
   ],
   "source": [
    "sorted(mytuple1)"
   ]
  },
  {
   "cell_type": "code",
   "execution_count": 167,
   "id": "f9f9b3f4-2f99-455e-8959-74ba0692aa56",
   "metadata": {},
   "outputs": [
    {
     "data": {
      "text/plain": [
       "['two', 'two', 'three', 'three', 'one', 'one', 'four', 'four']"
      ]
     },
     "execution_count": 167,
     "metadata": {},
     "output_type": "execute_result"
    }
   ],
   "source": [
    "sorted(mytuple1 , reverse = True)"
   ]
  },
  {
   "cell_type": "markdown",
   "id": "3d154c11-ce9b-4812-9786-c2460241292c",
   "metadata": {},
   "source": [
    "# Sets"
   ]
  },
  {
   "cell_type": "code",
   "execution_count": 170,
   "id": "f572e6e9-dede-4d35-89a7-04bae2794a70",
   "metadata": {},
   "outputs": [
    {
     "data": {
      "text/plain": [
       "{1, 2, 3, 4, 5}"
      ]
     },
     "execution_count": 170,
     "metadata": {},
     "output_type": "execute_result"
    }
   ],
   "source": [
    "#Sets elements are unique  \n",
    "#Duplicate elements are not allowed \n",
    "#set itsel is mutable . We can add or remove items from it .\n",
    "\n",
    "set = {1,2,3,4,5} \n",
    "set\n",
    "\n",
    "\n",
    "\n"
   ]
  },
  {
   "cell_type": "code",
   "execution_count": 176,
   "id": "5d46ea11-3e32-467b-aa04-0e6b76b41385",
   "metadata": {},
   "outputs": [
    {
     "data": {
      "text/plain": [
       "dict"
      ]
     },
     "execution_count": 176,
     "metadata": {},
     "output_type": "execute_result"
    }
   ],
   "source": [
    "\n",
    "set1  = { }  \n",
    "\n",
    "type(set1)"
   ]
  },
  {
   "cell_type": "code",
   "execution_count": 178,
   "id": "7867ac61-403b-44da-8935-8499cac89901",
   "metadata": {},
   "outputs": [
    {
     "data": {
      "text/plain": [
       "5"
      ]
     },
     "execution_count": 178,
     "metadata": {},
     "output_type": "execute_result"
    }
   ],
   "source": [
    "len(set)"
   ]
  },
  {
   "cell_type": "code",
   "execution_count": 180,
   "id": "a7f22ca5-0a66-428b-89aa-f6f6dd017176",
   "metadata": {},
   "outputs": [
    {
     "data": {
      "text/plain": [
       "{1, 2, 3, 4, 5}"
      ]
     },
     "execution_count": 180,
     "metadata": {},
     "output_type": "execute_result"
    }
   ],
   "source": [
    "myset = {1,2,3,4,5}\n",
    "myset"
   ]
  },
  {
   "cell_type": "code",
   "execution_count": 192,
   "id": "3a62c7b4-3682-433f-bf7f-29ceb8b5fa3c",
   "metadata": {},
   "outputs": [
    {
     "data": {
      "text/plain": [
       "{1, 22, 90, 100, 7788}"
      ]
     },
     "execution_count": 192,
     "metadata": {},
     "output_type": "execute_result"
    }
   ],
   "source": [
    "my_set = {1,2,3,4,1,2,3,9,4,5,6,7,8,8,}  # duplicate elements are not allowed \n",
    "\n",
    "myest2 = {100,22,1,7788,90} \n",
    "my_set\n",
    "myest2"
   ]
  },
  {
   "cell_type": "code",
   "execution_count": null,
   "id": "d5f4789f-a9a3-48b7-a3f5-ad9ef42fac4f",
   "metadata": {},
   "outputs": [],
   "source": [
    "myset1 = {100,22,1,7788,90}  # set of integers \n"
   ]
  },
  {
   "cell_type": "code",
   "execution_count": 200,
   "id": "3aabcb27-b798-427b-bc37-55612d1f65cd",
   "metadata": {},
   "outputs": [
    {
     "data": {
      "text/plain": [
       "5"
      ]
     },
     "execution_count": 200,
     "metadata": {},
     "output_type": "execute_result"
    }
   ],
   "source": [
    "myset2 = {100.9,22.9,1,7788,90}  # set of float \n",
    "myset2\n",
    "type(myset2)\n",
    "len(myset2)"
   ]
  },
  {
   "cell_type": "markdown",
   "id": "f129cf7e-9859-4da2-b72d-f35285f6121a",
   "metadata": {},
   "source": [
    "## Loop Through a set "
   ]
  },
  {
   "cell_type": "code",
   "execution_count": null,
   "id": "bde522df-18ce-4e27-87b4-ecba252bbdf0",
   "metadata": {},
   "outputs": [],
   "source": []
  },
  {
   "cell_type": "code",
   "execution_count": null,
   "id": "f3cc6ab3-fa1f-481c-a94d-147dc5d28a3b",
   "metadata": {},
   "outputs": [],
   "source": []
  },
  {
   "cell_type": "code",
   "execution_count": 202,
   "id": "87647711-5950-4bb1-baa2-bc3a49d5264f",
   "metadata": {},
   "outputs": [
    {
     "name": "stdout",
     "output_type": "stream",
     "text": [
      "1\n",
      "100.9\n",
      "22.9\n",
      "90\n",
      "7788\n"
     ]
    }
   ],
   "source": [
    "for i in myset2 : \n",
    "    print(i)\n",
    " "
   ]
  },
  {
   "cell_type": "code",
   "execution_count": 204,
   "id": "1afbb3c0-5e9f-43d3-ac92-36f60309963f",
   "metadata": {},
   "outputs": [
    {
     "name": "stdout",
     "output_type": "stream",
     "text": [
      "(0, 1)\n",
      "(1, 100.9)\n",
      "(2, 22.9)\n",
      "(3, 90)\n",
      "(4, 7788)\n"
     ]
    }
   ],
   "source": [
    "for i in enumerate(myset2) :\n",
    "    print(i)\n",
    "    "
   ]
  },
  {
   "cell_type": "code",
   "execution_count": 214,
   "id": "3f79a406-3e68-43a2-8de0-cf02a4cfdf1b",
   "metadata": {},
   "outputs": [
    {
     "ename": "TypeError",
     "evalue": "unhashable type: 'list'",
     "output_type": "error",
     "traceback": [
      "\u001b[1;31m---------------------------------------------------------------------------\u001b[0m",
      "\u001b[1;31mTypeError\u001b[0m                                 Traceback (most recent call last)",
      "Cell \u001b[1;32mIn[214], line 1\u001b[0m\n\u001b[1;32m----> 1\u001b[0m myset3 \u001b[38;5;241m=\u001b[39m  {\u001b[38;5;241m10\u001b[39m,\u001b[38;5;241m20\u001b[39m, \u001b[38;5;124m\"\u001b[39m\u001b[38;5;124mHola\u001b[39m\u001b[38;5;124m\"\u001b[39m, [\u001b[38;5;241m11\u001b[39m, \u001b[38;5;241m22\u001b[39m, \u001b[38;5;241m32\u001b[39m]}   \u001b[38;5;66;03m# set doesnot support or alloe mutable items like list \u001b[39;00m\n",
      "\u001b[1;31mTypeError\u001b[0m: unhashable type: 'list'"
     ]
    }
   ],
   "source": [
    "myset3 =  {10,20, \"Hola\", [11, 22, 32]}   # set doesnot support or allow mutable items like list "
   ]
  },
  {
   "cell_type": "markdown",
   "id": "a0874c48-7fc5-43f1-8fd7-1ed4ee08297d",
   "metadata": {},
   "source": [
    "# Set Membership  \n",
    "myset"
   ]
  },
  {
   "cell_type": "code",
   "execution_count": 225,
   "id": "1ea2cbaa-a92b-4f0d-b9af-4cabcb93868b",
   "metadata": {},
   "outputs": [
    {
     "data": {
      "text/plain": [
       "True"
      ]
     },
     "execution_count": 225,
     "metadata": {},
     "output_type": "execute_result"
    }
   ],
   "source": [
    "1 in myset"
   ]
  },
  {
   "cell_type": "code",
   "execution_count": 227,
   "id": "e3a08744-a78a-4fa5-b4d4-124bdd3a3de7",
   "metadata": {},
   "outputs": [
    {
     "data": {
      "text/plain": [
       "True"
      ]
     },
     "execution_count": 227,
     "metadata": {},
     "output_type": "execute_result"
    }
   ],
   "source": [
    "3 in myset "
   ]
  },
  {
   "cell_type": "code",
   "execution_count": 252,
   "id": "26133eba-bd05-4e2c-915c-38b90d9782ec",
   "metadata": {},
   "outputs": [
    {
     "data": {
      "text/plain": [
       "{'eight', 'five', 'four', 'one', 'seven', 'six', 'three', 'two'}"
      ]
     },
     "execution_count": 252,
     "metadata": {},
     "output_type": "execute_result"
    }
   ],
   "source": [
    "myset = {'eight', 'five', 'four', 'one', 'seven', 'six', 'three', 'two'}\n",
    "myset"
   ]
  },
  {
   "cell_type": "code",
   "execution_count": 231,
   "id": "cda85119-6bf3-4be9-9f21-5979923b69a5",
   "metadata": {},
   "outputs": [
    {
     "data": {
      "text/plain": [
       "False"
      ]
     },
     "execution_count": 231,
     "metadata": {},
     "output_type": "execute_result"
    }
   ],
   "source": [
    "10  in myset "
   ]
  },
  {
   "cell_type": "markdown",
   "id": "40b4ada3-d0e4-4aa3-b9c1-8e685bd8db7e",
   "metadata": {},
   "source": [
    "## Add or remove Items "
   ]
  },
  {
   "cell_type": "code",
   "execution_count": 236,
   "id": "c4cd9178-587a-48ab-adb9-ac60818e0509",
   "metadata": {},
   "outputs": [
    {
     "data": {
      "text/plain": [
       "{1, 2, 3, 4, 5, 'five'}"
      ]
     },
     "execution_count": 236,
     "metadata": {},
     "output_type": "execute_result"
    }
   ],
   "source": [
    "myset.add('five')\n",
    "myset"
   ]
  },
  {
   "cell_type": "code",
   "execution_count": 254,
   "id": "9c374a7e-b24d-41cb-9e85-b817219e6b47",
   "metadata": {},
   "outputs": [
    {
     "data": {
      "text/plain": [
       "{'K',\n",
       " 'a',\n",
       " 'e',\n",
       " 'eight',\n",
       " 'five',\n",
       " 'four',\n",
       " 'h',\n",
       " 'i',\n",
       " 'k',\n",
       " 'm',\n",
       " 'one',\n",
       " 'r',\n",
       " 's',\n",
       " 'seven',\n",
       " 'six',\n",
       " 't',\n",
       " 'three',\n",
       " 'two',\n",
       " 'u',\n",
       " 'v'}"
      ]
     },
     "execution_count": 254,
     "metadata": {},
     "output_type": "execute_result"
    }
   ],
   "source": [
    "myset.update('Keshav','kumar','thakur','this')\n",
    "myset"
   ]
  },
  {
   "cell_type": "code",
   "execution_count": 258,
   "id": "7ce431e5-814f-4b9d-9b3d-3c65a2405c54",
   "metadata": {},
   "outputs": [
    {
     "data": {
      "text/plain": [
       "{'K',\n",
       " 'a',\n",
       " 'e',\n",
       " 'eight',\n",
       " 'five',\n",
       " 'four',\n",
       " 'h',\n",
       " 'i',\n",
       " 'k',\n",
       " 'm',\n",
       " 'r',\n",
       " 's',\n",
       " 'seven',\n",
       " 'six',\n",
       " 't',\n",
       " 'three',\n",
       " 'two',\n",
       " 'u',\n",
       " 'v'}"
      ]
     },
     "execution_count": 258,
     "metadata": {},
     "output_type": "execute_result"
    }
   ],
   "source": [
    "myset.remove(\"one\")\n",
    "myset"
   ]
  },
  {
   "cell_type": "code",
   "execution_count": 266,
   "id": "93ecd8f5-8bf2-4e5e-94fd-b1938cb26fe1",
   "metadata": {},
   "outputs": [
    {
     "ename": "KeyError",
     "evalue": "'eightteen'",
     "output_type": "error",
     "traceback": [
      "\u001b[1;31m---------------------------------------------------------------------------\u001b[0m",
      "\u001b[1;31mKeyError\u001b[0m                                  Traceback (most recent call last)",
      "Cell \u001b[1;32mIn[266], line 1\u001b[0m\n\u001b[1;32m----> 1\u001b[0m \u001b[43mmyset\u001b[49m\u001b[38;5;241;43m.\u001b[39;49m\u001b[43mremove\u001b[49m\u001b[43m(\u001b[49m\u001b[38;5;124;43m'\u001b[39;49m\u001b[38;5;124;43meightteen\u001b[39;49m\u001b[38;5;124;43m'\u001b[39;49m\u001b[43m)\u001b[49m \u001b[38;5;66;03m# when ever elememt is ot present in the set it will show the error wheread disacrd doest not do like that \u001b[39;00m\n",
      "\u001b[1;31mKeyError\u001b[0m: 'eightteen'"
     ]
    }
   ],
   "source": [
    "myset.remove('eightteen') # when ever elememt is ot present in the set it will show the error wheread disacrd doest not do like that "
   ]
  },
  {
   "cell_type": "code",
   "execution_count": 272,
   "id": "fc61281b-8006-4f0f-89e6-41da6050a0c7",
   "metadata": {},
   "outputs": [
    {
     "data": {
      "text/plain": [
       "{'K',\n",
       " 'a',\n",
       " 'e',\n",
       " 'eight',\n",
       " 'four',\n",
       " 'h',\n",
       " 'i',\n",
       " 'k',\n",
       " 'm',\n",
       " 'r',\n",
       " 's',\n",
       " 'seven',\n",
       " 'six',\n",
       " 't',\n",
       " 'three',\n",
       " 'u',\n",
       " 'v'}"
      ]
     },
     "execution_count": 272,
     "metadata": {},
     "output_type": "execute_result"
    }
   ],
   "source": [
    "myset.discard('five')\n",
    "myset"
   ]
  },
  {
   "cell_type": "code",
   "execution_count": 274,
   "id": "7f2b43a5-bab9-4964-a4ad-4b5f90ad7326",
   "metadata": {},
   "outputs": [],
   "source": [
    "myset.clear()"
   ]
  },
  {
   "cell_type": "code",
   "execution_count": 276,
   "id": "2b5a6f84-01a4-478c-a511-9056351b7f8e",
   "metadata": {},
   "outputs": [
    {
     "data": {
      "text/plain": [
       "set()"
      ]
     },
     "execution_count": 276,
     "metadata": {},
     "output_type": "execute_result"
    }
   ],
   "source": [
    "myset"
   ]
  },
  {
   "cell_type": "code",
   "execution_count": 278,
   "id": "e4011d73-23bd-41ff-b6be-1d4ef237d3cf",
   "metadata": {},
   "outputs": [],
   "source": [
    "del myset"
   ]
  },
  {
   "cell_type": "markdown",
   "id": "6d936cb0-72b2-4f15-be4f-49d5015461e0",
   "metadata": {},
   "source": [
    "# copy "
   ]
  },
  {
   "cell_type": "code",
   "execution_count": 283,
   "id": "be27e046-e52c-46a7-a21a-0927264cef06",
   "metadata": {},
   "outputs": [
    {
     "data": {
      "text/plain": [
       "{'eight', 'five', 'four', 'one', 'seven', 'six', 'three', 'two'}"
      ]
     },
     "execution_count": 283,
     "metadata": {},
     "output_type": "execute_result"
    }
   ],
   "source": [
    "myset = {'one', 'two', 'three', 'four', 'five', 'six', 'seven', 'eight'}\n",
    "myset "
   ]
  },
  {
   "cell_type": "code",
   "execution_count": 287,
   "id": "f188a524-8061-40c7-8f6b-0530a6bfa8b3",
   "metadata": {},
   "outputs": [
    {
     "data": {
      "text/plain": [
       "{'eight', 'five', 'four', 'one', 'seven', 'six', 'three', 'two'}"
      ]
     },
     "execution_count": 287,
     "metadata": {},
     "output_type": "execute_result"
    }
   ],
   "source": [
    "myset1 = myset\n",
    "myset1\n"
   ]
  },
  {
   "cell_type": "code",
   "execution_count": 291,
   "id": "60b15177-04cb-4223-9853-06f1c2ad5d2e",
   "metadata": {},
   "outputs": [
    {
     "data": {
      "text/plain": [
       "(2342239688000, 2342239688000)"
      ]
     },
     "execution_count": 291,
     "metadata": {},
     "output_type": "execute_result"
    }
   ],
   "source": [
    "id(myset) ,  id(myset1)"
   ]
  },
  {
   "cell_type": "code",
   "execution_count": 295,
   "id": "df45529f-b37a-4c63-9f34-1ebb21ee6de4",
   "metadata": {},
   "outputs": [
    {
     "data": {
      "text/plain": [
       "2342239685536"
      ]
     },
     "execution_count": 295,
     "metadata": {},
     "output_type": "execute_result"
    }
   ],
   "source": [
    "my_set = myset.copy()\n",
    "id(my_set)"
   ]
  },
  {
   "cell_type": "markdown",
   "id": "6403d9f7-2d5e-496b-9cdd-80016bab4743",
   "metadata": {},
   "source": [
    "##   Set  Operation"
   ]
  },
  {
   "cell_type": "markdown",
   "id": "963014b9-b02a-4690-ad91-1bce39f4a93c",
   "metadata": {},
   "source": [
    "####    Union"
   ]
  },
  {
   "cell_type": "code",
   "execution_count": 299,
   "id": "51fefaf1-7f68-46ab-a280-7b3cf24a2580",
   "metadata": {},
   "outputs": [],
   "source": [
    "A = { 1,2,3,4,5}\n",
    "B =  {4,5,6,7,8}\n",
    "C =  {8,9,10}\n"
   ]
  },
  {
   "cell_type": "code",
   "execution_count": 301,
   "id": "47b8675f-6279-4f01-bf43-f001aa83ff15",
   "metadata": {},
   "outputs": [
    {
     "data": {
      "text/plain": [
       "{1, 2, 3, 4, 5, 6, 7, 8}"
      ]
     },
     "execution_count": 301,
     "metadata": {},
     "output_type": "execute_result"
    }
   ],
   "source": [
    "A|B  # | its represnts the union of sets \n",
    "# ALL ELEMENTS FROM BOTH SIDE NO DUPLIACTES VALUES WILL PRINT IN  UNION "
   ]
  },
  {
   "cell_type": "code",
   "execution_count": 305,
   "id": "97f3bee0-2758-477a-bb98-5449636f6298",
   "metadata": {},
   "outputs": [
    {
     "data": {
      "text/plain": [
       "{4, 5, 6, 7, 8, 9, 10}"
      ]
     },
     "execution_count": 305,
     "metadata": {},
     "output_type": "execute_result"
    }
   ],
   "source": [
    "B.union(C)"
   ]
  },
  {
   "cell_type": "code",
   "execution_count": 309,
   "id": "75a9616d-3325-4dab-9d3a-23856f90eb2d",
   "metadata": {},
   "outputs": [
    {
     "data": {
      "text/plain": [
       "{1, 2, 3, 4, 5, 6, 7, 8}"
      ]
     },
     "execution_count": 309,
     "metadata": {},
     "output_type": "execute_result"
    }
   ],
   "source": [
    "A.union(B)"
   ]
  },
  {
   "cell_type": "code",
   "execution_count": 311,
   "id": "ea834411-55ea-4a1d-8d98-c6ba45b53ac7",
   "metadata": {},
   "outputs": [],
   "source": [
    "A =  { 1,2,3,4,5}\n",
    "B =   {4,5,6,7,8} \n"
   ]
  },
  {
   "cell_type": "markdown",
   "id": "495546b9-59d2-478b-bd61-839128337544",
   "metadata": {},
   "source": [
    "## Intersection "
   ]
  },
  {
   "cell_type": "code",
   "execution_count": 314,
   "id": "c8f02542-8dea-40de-b4bd-aa4303f73128",
   "metadata": {},
   "outputs": [
    {
     "data": {
      "text/plain": [
       "{4, 5}"
      ]
     },
     "execution_count": 314,
     "metadata": {},
     "output_type": "execute_result"
    }
   ],
   "source": [
    "A.intersection(B)  #(It will print the common values betweeen them )"
   ]
  },
  {
   "cell_type": "code",
   "execution_count": 322,
   "id": "0e6cc839-11d1-4bba-b0b7-c703fe2a452a",
   "metadata": {},
   "outputs": [
    {
     "ename": "SyntaxError",
     "evalue": "invalid syntax (974124261.py, line 1)",
     "output_type": "error",
     "traceback": [
      "\u001b[1;36m  Cell \u001b[1;32mIn[322], line 1\u001b[1;36m\u001b[0m\n\u001b[1;33m    A&B    ---> it\u001b[0m\n\u001b[1;37m             ^\u001b[0m\n\u001b[1;31mSyntaxError\u001b[0m\u001b[1;31m:\u001b[0m invalid syntax\n"
     ]
    }
   ],
   "source": [
    "A&B   #  ---> intersection will also represnted by using this symbol & "
   ]
  },
  {
   "cell_type": "code",
   "execution_count": 324,
   "id": "da10ef50-2a19-40d9-b6b1-fee30cfbe729",
   "metadata": {},
   "outputs": [
    {
     "data": {
      "text/plain": [
       "{4, 5}"
      ]
     },
     "execution_count": 324,
     "metadata": {},
     "output_type": "execute_result"
    }
   ],
   "source": [
    "B&A "
   ]
  },
  {
   "cell_type": "code",
   "execution_count": 326,
   "id": "6dfea0a6-cf77-4df3-96f8-27d59bf18337",
   "metadata": {},
   "outputs": [
    {
     "data": {
      "text/plain": [
       "{8}"
      ]
     },
     "execution_count": 326,
     "metadata": {},
     "output_type": "execute_result"
    }
   ],
   "source": [
    "B&C"
   ]
  },
  {
   "cell_type": "code",
   "execution_count": 332,
   "id": "d3c543dc-557c-465d-ab5a-ca31169fbe95",
   "metadata": {},
   "outputs": [
    {
     "data": {
      "text/plain": [
       "set()"
      ]
     },
     "execution_count": 332,
     "metadata": {},
     "output_type": "execute_result"
    }
   ],
   "source": [
    "C&A"
   ]
  },
  {
   "cell_type": "markdown",
   "id": "a05cd325-9935-414f-95f2-b324cbb35065",
   "metadata": {},
   "source": [
    "## DIFFERENCE "
   ]
  },
  {
   "cell_type": "code",
   "execution_count": 335,
   "id": "f80b8ac0-bf8a-4456-b86b-1b40fe52a34b",
   "metadata": {},
   "outputs": [],
   "source": [
    "A = {1,2,3,4,5}\n",
    "B = {4,5,6,7,8}"
   ]
  },
  {
   "cell_type": "code",
   "execution_count": 341,
   "id": "214ba7ed-4016-49ba-a18f-877da850864f",
   "metadata": {},
   "outputs": [
    {
     "data": {
      "text/plain": [
       "{1, 2, 3}"
      ]
     },
     "execution_count": 341,
     "metadata": {},
     "output_type": "execute_result"
    }
   ],
   "source": [
    "A - B  #--- >  set of elements of that are only in a not in B it means it will onnly represent the  elements taht are not present in set b "
   ]
  },
  {
   "cell_type": "code",
   "execution_count": 343,
   "id": "0a7db859-ce83-4cab-ba8a-c57e5be65c70",
   "metadata": {},
   "outputs": [
    {
     "data": {
      "text/plain": [
       "{6, 7, 8}"
      ]
     },
     "execution_count": 343,
     "metadata": {},
     "output_type": "execute_result"
    }
   ],
   "source": [
    "B - A\n"
   ]
  },
  {
   "cell_type": "code",
   "execution_count": 345,
   "id": "f38a6810-cd00-480f-99b8-fdf794b58613",
   "metadata": {},
   "outputs": [
    {
     "data": {
      "text/plain": [
       "{1, 2, 3}"
      ]
     },
     "execution_count": 345,
     "metadata": {},
     "output_type": "execute_result"
    }
   ],
   "source": [
    "A.difference(B)"
   ]
  },
  {
   "cell_type": "code",
   "execution_count": 349,
   "id": "1f122a34-18c1-42cb-b1e4-c07cfd7d0a05",
   "metadata": {},
   "outputs": [
    {
     "data": {
      "text/plain": [
       "{1, 2, 3, 4, 5}"
      ]
     },
     "execution_count": 349,
     "metadata": {},
     "output_type": "execute_result"
    }
   ],
   "source": [
    "A.difference(C)"
   ]
  },
  {
   "cell_type": "markdown",
   "id": "b134b291-df6b-45c0-a8a1-e21c108fe91f",
   "metadata": {},
   "source": [
    "## Symmetric Differnece "
   ]
  },
  {
   "cell_type": "code",
   "execution_count": 352,
   "id": "22b6c8eb-8d40-46af-8750-f969b24c9a7d",
   "metadata": {},
   "outputs": [
    {
     "data": {
      "text/plain": [
       "{1, 2, 3, 6, 7, 8}"
      ]
     },
     "execution_count": 352,
     "metadata": {},
     "output_type": "execute_result"
    }
   ],
   "source": [
    "A^B  Symmetric difference (Set of elements in A and B but not in both.\n"
   ]
  },
  {
   "cell_type": "code",
   "execution_count": 354,
   "id": "6c9b1559-6123-43a0-933a-31d36bbaf71b",
   "metadata": {},
   "outputs": [
    {
     "data": {
      "text/plain": [
       "{1, 2, 3, 6, 7, 8}"
      ]
     },
     "execution_count": 354,
     "metadata": {},
     "output_type": "execute_result"
    }
   ],
   "source": [
    "A.symmetric_difference(B) #  Symmetric difference of sets "
   ]
  },
  {
   "cell_type": "markdown",
   "id": "0df03228-0ce9-414d-a264-cf106278a624",
   "metadata": {},
   "source": [
    "#### SUBSET , SUPERSET and DISJOINT"
   ]
  },
  {
   "cell_type": "code",
   "execution_count": 378,
   "id": "cf022c91-4df1-484c-bf44-41cace25c6d6",
   "metadata": {},
   "outputs": [
    {
     "name": "stdout",
     "output_type": "stream",
     "text": [
      "{1, 2, 3, 4, 5, 6, 7, 8, 9} {3, 4, 5, 6, 7, 8} {40, 10, 20, 30}\n"
     ]
    }
   ],
   "source": [
    "A = {1,2,3,4,5,6,7,8,9}\n",
    "B = {3,4,5,6,7,8} \n",
    "C = {10,20,30,40}\n",
    "print(A,B,C)"
   ]
  },
  {
   "cell_type": "code",
   "execution_count": 380,
   "id": "9cf09334-3776-4191-8ffc-de576f6f0111",
   "metadata": {},
   "outputs": [
    {
     "data": {
      "text/plain": [
       "True"
      ]
     },
     "execution_count": 380,
     "metadata": {},
     "output_type": "execute_result"
    }
   ],
   "source": [
    "A.issuperset(B)"
   ]
  },
  {
   "cell_type": "code",
   "execution_count": 382,
   "id": "0baf5041-9409-4fce-879a-75808001923d",
   "metadata": {},
   "outputs": [
    {
     "data": {
      "text/plain": [
       "True"
      ]
     },
     "execution_count": 382,
     "metadata": {},
     "output_type": "execute_result"
    }
   ],
   "source": [
    "B.issubset(A)"
   ]
  },
  {
   "cell_type": "code",
   "execution_count": 384,
   "id": "0a196d18-12de-4427-b575-0cd00a9aa998",
   "metadata": {},
   "outputs": [
    {
     "data": {
      "text/plain": [
       "True"
      ]
     },
     "execution_count": 384,
     "metadata": {},
     "output_type": "execute_result"
    }
   ],
   "source": [
    "C.isdisjoint(A)"
   ]
  },
  {
   "cell_type": "code",
   "execution_count": 388,
   "id": "cf8a675e-9b46-4cdf-87a4-64f776edb9d1",
   "metadata": {},
   "outputs": [
    {
     "data": {
      "text/plain": [
       "False"
      ]
     },
     "execution_count": 388,
     "metadata": {},
     "output_type": "execute_result"
    }
   ],
   "source": [
    "B.isdisjoint(A)"
   ]
  },
  {
   "cell_type": "code",
   "execution_count": null,
   "id": "1e0f7045-4ff1-447d-8373-bb7754119dc0",
   "metadata": {},
   "outputs": [],
   "source": []
  },
  {
   "cell_type": "markdown",
   "id": "8f89d1ce-33e8-45dd-b897-16174e71e34a",
   "metadata": {},
   "source": [
    "## Other build In functions "
   ]
  },
  {
   "cell_type": "code",
   "execution_count": 391,
   "id": "1f069791-4a20-40c2-a55d-a8cb739b4d74",
   "metadata": {},
   "outputs": [
    {
     "data": {
      "text/plain": [
       "{1, 2, 3, 4, 5, 6, 7, 8, 9}"
      ]
     },
     "execution_count": 391,
     "metadata": {},
     "output_type": "execute_result"
    }
   ],
   "source": [
    "A \n"
   ]
  },
  {
   "cell_type": "code",
   "execution_count": 395,
   "id": "8f96b098-66f2-43bf-ae86-2fdca439a794",
   "metadata": {},
   "outputs": [
    {
     "data": {
      "text/plain": [
       "9"
      ]
     },
     "execution_count": 395,
     "metadata": {},
     "output_type": "execute_result"
    }
   ],
   "source": [
    "max(A)"
   ]
  },
  {
   "cell_type": "code",
   "execution_count": 397,
   "id": "75f32bcb-6678-4d71-b2d3-8589832bfeed",
   "metadata": {},
   "outputs": [
    {
     "data": {
      "text/plain": [
       "45"
      ]
     },
     "execution_count": 397,
     "metadata": {},
     "output_type": "execute_result"
    }
   ],
   "source": [
    "sum(A)"
   ]
  },
  {
   "cell_type": "code",
   "execution_count": 399,
   "id": "bd61e1ac-fbba-4cdd-8285-7410539a24f6",
   "metadata": {},
   "outputs": [
    {
     "data": {
      "text/plain": [
       "1"
      ]
     },
     "execution_count": 399,
     "metadata": {},
     "output_type": "execute_result"
    }
   ],
   "source": [
    "min(A)"
   ]
  },
  {
   "cell_type": "code",
   "execution_count": 401,
   "id": "53f5f39e-8eeb-4a94-a044-5be5c868f132",
   "metadata": {},
   "outputs": [
    {
     "data": {
      "text/plain": [
       "[(0, 1), (1, 2), (2, 3), (3, 4), (4, 5), (5, 6), (6, 7), (7, 8), (8, 9)]"
      ]
     },
     "execution_count": 401,
     "metadata": {},
     "output_type": "execute_result"
    }
   ],
   "source": [
    "list(enumerate(A))"
   ]
  },
  {
   "cell_type": "code",
   "execution_count": 406,
   "id": "1a0dce32-4845-44fb-b6af-f7b161e64f22",
   "metadata": {},
   "outputs": [
    {
     "data": {
      "text/plain": [
       "[9, 8, 7, 6, 5, 4, 3, 2, 1]"
      ]
     },
     "execution_count": 406,
     "metadata": {},
     "output_type": "execute_result"
    }
   ],
   "source": [
    "D = sorted(A, reverse = True)\n",
    "D"
   ]
  },
  {
   "cell_type": "code",
   "execution_count": null,
   "id": "608a046a-4b12-4c19-a4f3-27fe3a2a965d",
   "metadata": {},
   "outputs": [],
   "source": []
  },
  {
   "cell_type": "code",
   "execution_count": null,
   "id": "f8430cf3-5ced-4ac2-8f20-8b248cef885a",
   "metadata": {},
   "outputs": [],
   "source": []
  },
  {
   "cell_type": "markdown",
   "id": "20de68d0-2fd7-461f-8ffd-597d3103198f",
   "metadata": {},
   "source": [
    "##  Dictionary "
   ]
  },
  {
   "cell_type": "markdown",
   "id": "96d43e9e-c4b1-4ed8-a1a4-419e413d7858",
   "metadata": {},
   "source": [
    "dictionary is mutable data type in python \n",
    "A pytho dictionary is a collection of key and value pairs separated by a colon(:) & enclose in curley braces {}. \n",
    "Keys must be unique in a dictionary , duplicate values are allowed .\n"
   ]
  },
  {
   "cell_type": "code",
   "execution_count": 410,
   "id": "0faa8350-0e64-4563-879a-e44d0cd503e8",
   "metadata": {},
   "outputs": [
    {
     "data": {
      "text/plain": [
       "{'A': 'one', 'B': 'two', 'C': 'three', 'D': 'Four'}"
      ]
     },
     "execution_count": 410,
     "metadata": {},
     "output_type": "execute_result"
    }
   ],
   "source": [
    "mydict = {'A':'one','B':'two','C':'three','D':'Four'}\n",
    "mydict\n"
   ]
  },
  {
   "cell_type": "code",
   "execution_count": 418,
   "id": "34dec9de-b875-4970-a181-a25e594bca5d",
   "metadata": {},
   "outputs": [
    {
     "data": {
      "text/plain": [
       "dict"
      ]
     },
     "execution_count": 418,
     "metadata": {},
     "output_type": "execute_result"
    }
   ],
   "source": [
    "mydict = dict() # empty \n",
    "type(mydict)"
   ]
  },
  {
   "cell_type": "code",
   "execution_count": 420,
   "id": "57cb07f1-d9c2-4921-aa48-c918e53a9f4e",
   "metadata": {},
   "outputs": [
    {
     "data": {
      "text/plain": [
       "{}"
      ]
     },
     "execution_count": 420,
     "metadata": {},
     "output_type": "execute_result"
    }
   ],
   "source": [
    "mydict = {} # empty dictionary mydic\n",
    "mydict"
   ]
  },
  {
   "cell_type": "code",
   "execution_count": 422,
   "id": "d6ea86f4-e806-4e48-b253-31e305b9a417",
   "metadata": {},
   "outputs": [],
   "source": [
    "mydict = {1:'one' , 2:'two' , 3:'three'} # dictionary with integer keys mydict "
   ]
  },
  {
   "cell_type": "code",
   "execution_count": 426,
   "id": "4e651e9d-0d31-4095-97ba-91ddcf4f964d",
   "metadata": {},
   "outputs": [
    {
     "data": {
      "text/plain": [
       "{1: 'one', 2: 'two', 3: 'three'}"
      ]
     },
     "execution_count": 426,
     "metadata": {},
     "output_type": "execute_result"
    }
   ],
   "source": [
    "mydict = dict({1:'one' , 2:'two' , 3:'three'}) # Create dictionary using dict() mydict \n",
    "mydict"
   ]
  },
  {
   "cell_type": "code",
   "execution_count": 428,
   "id": "6c9c8b18-fd2e-4a88-808b-0ee1b9903cb7",
   "metadata": {},
   "outputs": [
    {
     "data": {
      "text/plain": [
       "{1: 'one', 'A': 'two', 3: 'three'}"
      ]
     },
     "execution_count": 428,
     "metadata": {},
     "output_type": "execute_result"
    }
   ],
   "source": [
    "mydict = {1:'one' , 'A':'two' , 3:'three'} # dictionary with mixed keys mydict \n",
    "mydict"
   ]
  },
  {
   "cell_type": "code",
   "execution_count": 430,
   "id": "1c286d4d-f1dc-4eda-a9c0-cf5ea1c383d8",
   "metadata": {},
   "outputs": [
    {
     "data": {
      "text/plain": [
       "dict_keys([1, 'A', 3])"
      ]
     },
     "execution_count": 430,
     "metadata": {},
     "output_type": "execute_result"
    }
   ],
   "source": [
    "mydict.keys()"
   ]
  },
  {
   "cell_type": "code",
   "execution_count": 432,
   "id": "816e7996-178a-4187-86a3-68c05e619588",
   "metadata": {},
   "outputs": [
    {
     "data": {
      "text/plain": [
       "dict_values(['one', 'two', 'three'])"
      ]
     },
     "execution_count": 432,
     "metadata": {},
     "output_type": "execute_result"
    }
   ],
   "source": [
    "mydict.values()\n"
   ]
  },
  {
   "cell_type": "code",
   "execution_count": 434,
   "id": "ecde9dbf-b9d1-4e81-9ca5-0e5c67a3ba04",
   "metadata": {},
   "outputs": [
    {
     "data": {
      "text/plain": [
       "dict_items([(1, 'one'), ('A', 'two'), (3, 'three')])"
      ]
     },
     "execution_count": 434,
     "metadata": {},
     "output_type": "execute_result"
    }
   ],
   "source": [
    "mydict.items() # acces each key value pair within a dictionary "
   ]
  },
  {
   "cell_type": "code",
   "execution_count": 446,
   "id": "6f52052c-d87b-4e94-8600-1b8888701484",
   "metadata": {},
   "outputs": [
    {
     "data": {
      "text/plain": [
       "dict"
      ]
     },
     "execution_count": 446,
     "metadata": {},
     "output_type": "execute_result"
    }
   ],
   "source": [
    "mydict = {1:'one' , 2:'two' , 'A':['asif' , 'john' , 'Maria' ]}\n",
    "type(mydict)"
   ]
  },
  {
   "cell_type": "code",
   "execution_count": 460,
   "id": "9df0fbdc-aa86-43ac-8dc1-45d2706793a7",
   "metadata": {},
   "outputs": [
    {
     "data": {
      "text/plain": [
       "{1: 'one', 2: 'two', 'A': ['ASIF', 'JOHN', 'MARIYA']}"
      ]
     },
     "execution_count": 460,
     "metadata": {},
     "output_type": "execute_result"
    }
   ],
   "source": [
    "mydict = { 1:'one' , 2:'two' , 'A':['ASIF' , 'JOHN' ,'MARIYA']} \n",
    "mydict"
   ]
  },
  {
   "cell_type": "code",
   "execution_count": 464,
   "id": "46598b84-85c6-4dd6-bbfd-61e0f8f66416",
   "metadata": {},
   "outputs": [
    {
     "data": {
      "text/plain": [
       "{1: 'one', 2: 'two', 'A': ['asif', 'john', 'Maria'], 'B': ('Bat', 'cat')}"
      ]
     },
     "execution_count": 464,
     "metadata": {},
     "output_type": "execute_result"
    }
   ],
   "source": [
    "mydict = {1:'one' , 2:'two' , 'A':['asif' , 'john' , 'Maria'], 'B':('Bat' , 'cat' )}\n",
    "mydict"
   ]
  },
  {
   "cell_type": "code",
   "execution_count": 468,
   "id": "0944f9a9-17a2-46d0-af59-72947f8f58b9",
   "metadata": {},
   "outputs": [
    {
     "name": "stdout",
     "output_type": "stream",
     "text": [
      "1\n",
      "2\n",
      "A\n",
      "B\n"
     ]
    }
   ],
   "source": [
    "for i in mydict :\n",
    "    print(i)"
   ]
  },
  {
   "cell_type": "code",
   "execution_count": 470,
   "id": "355e94ad-f30c-487e-a6af-a1c2eaf35bb0",
   "metadata": {},
   "outputs": [
    {
     "data": {
      "text/plain": [
       "{'c': None, 'a': None, 'b': None, 'd': None}"
      ]
     },
     "execution_count": 470,
     "metadata": {},
     "output_type": "execute_result"
    }
   ],
   "source": [
    "keys = {'a','b','c','d'}\n",
    "mydict3 = dict.fromkeys(keys)  # create a dictonary from sequence of keys \n",
    "mydict3"
   ]
  },
  {
   "cell_type": "code",
   "execution_count": 474,
   "id": "a16f94cb-976a-48aa-9531-a8e938cce18c",
   "metadata": {},
   "outputs": [
    {
     "data": {
      "text/plain": [
       "{1: 'one', 2: 'two', 'A': ['asif', 'john', 'Maria'], 'B': ('Bat', 'cat')}"
      ]
     },
     "execution_count": 474,
     "metadata": {},
     "output_type": "execute_result"
    }
   ],
   "source": [
    "keys = {'a','b','c','d'}\n",
    "value = 10\n",
    "mydict3 = dict.fromkeys(keys,value)\n",
    "mydict"
   ]
  },
  {
   "cell_type": "code",
   "execution_count": 479,
   "id": "b62db19f-ab57-467e-a1be-50cb0d2dd7dd",
   "metadata": {},
   "outputs": [
    {
     "data": {
      "text/plain": [
       "{'c': [10, 20, 30], 'a': [10, 20, 30], 'b': [10, 20, 30], 'd': [10, 20, 30]}"
      ]
     },
     "execution_count": 479,
     "metadata": {},
     "output_type": "execute_result"
    }
   ],
   "source": [
    "keys = {'a' , 'b' , 'c' , 'd'} \n",
    "value = [10,20,30] \n",
    "mydict3 = dict.fromkeys(keys , value) # Create a dictionary from a sequence of mydict3\n",
    "mydict3"
   ]
  },
  {
   "cell_type": "code",
   "execution_count": 483,
   "id": "23481bb1-9ed1-4c06-b3ee-d2c62a4d779b",
   "metadata": {},
   "outputs": [
    {
     "data": {
      "text/plain": [
       "{'c': [10, 20, 30, 40, 40],\n",
       " 'a': [10, 20, 30, 40, 40],\n",
       " 'b': [10, 20, 30, 40, 40],\n",
       " 'd': [10, 20, 30, 40, 40]}"
      ]
     },
     "execution_count": 483,
     "metadata": {},
     "output_type": "execute_result"
    }
   ],
   "source": [
    "value.append(40)\n",
    "mydict3"
   ]
  },
  {
   "cell_type": "code",
   "execution_count": null,
   "id": "641cee2a-1a2c-41b4-93c7-f0b544decc0b",
   "metadata": {},
   "outputs": [],
   "source": []
  },
  {
   "cell_type": "code",
   "execution_count": null,
   "id": "d17eb86f-f8c5-4fae-91bb-76d5351a7f25",
   "metadata": {},
   "outputs": [],
   "source": []
  },
  {
   "cell_type": "code",
   "execution_count": null,
   "id": "579c8c54-8e44-46e0-bd80-51d6449009e7",
   "metadata": {},
   "outputs": [],
   "source": []
  },
  {
   "cell_type": "code",
   "execution_count": null,
   "id": "919ea6ae-13b8-4c1e-83be-22097aff555f",
   "metadata": {},
   "outputs": [],
   "source": []
  },
  {
   "cell_type": "code",
   "execution_count": null,
   "id": "0f52c1c8-8e79-4b8f-aa87-f81c93e97f46",
   "metadata": {},
   "outputs": [],
   "source": []
  },
  {
   "cell_type": "code",
   "execution_count": null,
   "id": "9f815d8e-5264-4b4d-a926-680734d9b268",
   "metadata": {},
   "outputs": [],
   "source": []
  },
  {
   "cell_type": "code",
   "execution_count": null,
   "id": "ae7eb1fc-7370-42ec-a85a-6123015e494c",
   "metadata": {},
   "outputs": [],
   "source": []
  },
  {
   "cell_type": "code",
   "execution_count": null,
   "id": "5ac3fcd3-3519-4006-baba-dca85ed0021f",
   "metadata": {},
   "outputs": [],
   "source": []
  },
  {
   "cell_type": "code",
   "execution_count": null,
   "id": "5a352366-2d33-4d87-8d3b-76f4e682513b",
   "metadata": {},
   "outputs": [],
   "source": []
  },
  {
   "cell_type": "code",
   "execution_count": null,
   "id": "2ab8de2f-7aac-45f7-b710-460aaeeefb36",
   "metadata": {},
   "outputs": [],
   "source": []
  },
  {
   "cell_type": "code",
   "execution_count": null,
   "id": "0577c785-fcaa-47dd-a55f-a1cfaaebc765",
   "metadata": {},
   "outputs": [],
   "source": []
  },
  {
   "cell_type": "code",
   "execution_count": null,
   "id": "a289e7a5-0d58-4df4-add6-d3a7158b7b23",
   "metadata": {},
   "outputs": [],
   "source": []
  },
  {
   "cell_type": "code",
   "execution_count": null,
   "id": "889cf697-3c30-4389-a81d-38748b64f13e",
   "metadata": {},
   "outputs": [],
   "source": []
  },
  {
   "cell_type": "code",
   "execution_count": null,
   "id": "6e91ae86-8cb5-4300-9c28-346f2cbe5e46",
   "metadata": {},
   "outputs": [],
   "source": []
  },
  {
   "cell_type": "code",
   "execution_count": null,
   "id": "116df374-9abc-4bac-80b1-4b746989a07b",
   "metadata": {},
   "outputs": [],
   "source": []
  },
  {
   "cell_type": "code",
   "execution_count": null,
   "id": "bc68ed9a-7205-4a86-83b4-91119b0eedab",
   "metadata": {},
   "outputs": [],
   "source": []
  },
  {
   "cell_type": "code",
   "execution_count": null,
   "id": "7fb3cbbf-4cac-4732-8adc-32f975ee241c",
   "metadata": {},
   "outputs": [],
   "source": []
  },
  {
   "cell_type": "code",
   "execution_count": null,
   "id": "90a75f61-15ed-4a4f-923e-d2abf32d3d96",
   "metadata": {},
   "outputs": [],
   "source": []
  },
  {
   "cell_type": "code",
   "execution_count": null,
   "id": "ebf84677-4c4b-4d33-a5f3-3f546b802259",
   "metadata": {},
   "outputs": [],
   "source": []
  },
  {
   "cell_type": "code",
   "execution_count": null,
   "id": "33c963c9-01d3-40d7-80e8-26eaba930573",
   "metadata": {},
   "outputs": [],
   "source": []
  },
  {
   "cell_type": "code",
   "execution_count": null,
   "id": "f7d2bade-68f1-47f2-9793-c654d4e6a6bb",
   "metadata": {},
   "outputs": [],
   "source": []
  },
  {
   "cell_type": "code",
   "execution_count": null,
   "id": "c6e401a8-58cf-4fc2-b781-e37b7cec0ed8",
   "metadata": {},
   "outputs": [],
   "source": []
  },
  {
   "cell_type": "code",
   "execution_count": null,
   "id": "5b113dec-16fb-452f-a4e1-1be7c7e986d5",
   "metadata": {},
   "outputs": [],
   "source": []
  },
  {
   "cell_type": "code",
   "execution_count": null,
   "id": "370e213d-92d4-4de8-bec2-414435f53cd9",
   "metadata": {},
   "outputs": [],
   "source": []
  },
  {
   "cell_type": "code",
   "execution_count": null,
   "id": "496f735e-f7fa-46b5-a659-a468afebbfca",
   "metadata": {},
   "outputs": [],
   "source": []
  },
  {
   "cell_type": "code",
   "execution_count": null,
   "id": "fcea1acc-3194-4095-aa4d-84ab6b1f30a4",
   "metadata": {},
   "outputs": [],
   "source": []
  },
  {
   "cell_type": "code",
   "execution_count": null,
   "id": "83a5e33d-ec79-4158-8417-059afd16d75d",
   "metadata": {},
   "outputs": [],
   "source": []
  },
  {
   "cell_type": "code",
   "execution_count": null,
   "id": "696634d4-f38d-4850-81bf-163a37a81cf7",
   "metadata": {},
   "outputs": [],
   "source": []
  },
  {
   "cell_type": "code",
   "execution_count": null,
   "id": "3414269f-5b77-42b2-8176-de0c9c0d0ab7",
   "metadata": {},
   "outputs": [],
   "source": []
  },
  {
   "cell_type": "code",
   "execution_count": null,
   "id": "5c367e48-78e3-4299-bd0e-9af166bf80e3",
   "metadata": {},
   "outputs": [],
   "source": []
  },
  {
   "cell_type": "code",
   "execution_count": null,
   "id": "73de1961-a822-443b-b6b0-f54ad50c03b4",
   "metadata": {},
   "outputs": [],
   "source": []
  },
  {
   "cell_type": "code",
   "execution_count": null,
   "id": "842b2151-0fc1-48f7-87d2-aa0122c857da",
   "metadata": {},
   "outputs": [],
   "source": []
  },
  {
   "cell_type": "code",
   "execution_count": null,
   "id": "ebb8267b-c14a-43f6-b26c-b472024806c4",
   "metadata": {},
   "outputs": [],
   "source": []
  },
  {
   "cell_type": "code",
   "execution_count": null,
   "id": "dc0a8815-41d1-4ab2-a71b-3de556ea7961",
   "metadata": {},
   "outputs": [],
   "source": []
  },
  {
   "cell_type": "code",
   "execution_count": null,
   "id": "aa4d871b-34ac-4e61-8e19-0b67a7ddc468",
   "metadata": {},
   "outputs": [],
   "source": []
  },
  {
   "cell_type": "code",
   "execution_count": null,
   "id": "3a60d2c6-612b-42f7-9cfe-82f7ac7b68fc",
   "metadata": {},
   "outputs": [],
   "source": []
  },
  {
   "cell_type": "code",
   "execution_count": null,
   "id": "5a58de5f-946f-46af-84b7-9885c7419ae4",
   "metadata": {},
   "outputs": [],
   "source": []
  },
  {
   "cell_type": "code",
   "execution_count": null,
   "id": "49772dcc-24b7-416b-a8d0-e7d928744b2c",
   "metadata": {},
   "outputs": [],
   "source": []
  },
  {
   "cell_type": "code",
   "execution_count": null,
   "id": "f5d586c2-69b4-4b40-8921-aca534bebfa6",
   "metadata": {},
   "outputs": [],
   "source": []
  },
  {
   "cell_type": "code",
   "execution_count": null,
   "id": "218724cb-3394-4116-b393-6e8097a7462e",
   "metadata": {},
   "outputs": [],
   "source": []
  },
  {
   "cell_type": "code",
   "execution_count": null,
   "id": "9490900d-2c3e-4a72-b7ff-2592a33fa2f3",
   "metadata": {},
   "outputs": [],
   "source": []
  },
  {
   "cell_type": "code",
   "execution_count": null,
   "id": "6e5c1d37-e88e-415e-969f-f79b896d74fe",
   "metadata": {},
   "outputs": [],
   "source": []
  },
  {
   "cell_type": "code",
   "execution_count": null,
   "id": "005fad79-7d44-41b2-85c4-a40808b4d6f7",
   "metadata": {},
   "outputs": [],
   "source": []
  },
  {
   "cell_type": "code",
   "execution_count": null,
   "id": "ac452e7e-d98e-4bba-94b6-5a98ae12a614",
   "metadata": {},
   "outputs": [],
   "source": []
  },
  {
   "cell_type": "code",
   "execution_count": null,
   "id": "2bd791be-4ba0-4b05-8ec4-f88ce197b2ac",
   "metadata": {},
   "outputs": [],
   "source": []
  },
  {
   "cell_type": "code",
   "execution_count": null,
   "id": "cf645a0b-cf78-4f8a-a216-d10633a95d8a",
   "metadata": {},
   "outputs": [],
   "source": []
  },
  {
   "cell_type": "code",
   "execution_count": null,
   "id": "d0a951ac-76af-44a0-b141-e458dc64be07",
   "metadata": {},
   "outputs": [],
   "source": []
  },
  {
   "cell_type": "code",
   "execution_count": null,
   "id": "d2481330-d436-4bc7-bec7-d1df272e5838",
   "metadata": {},
   "outputs": [],
   "source": []
  },
  {
   "cell_type": "code",
   "execution_count": null,
   "id": "3f29d52e-aabd-46a3-93c2-5b85276006f0",
   "metadata": {},
   "outputs": [],
   "source": []
  },
  {
   "cell_type": "code",
   "execution_count": null,
   "id": "85a1239e-d8e3-4148-a05d-97f23d7fe7ca",
   "metadata": {},
   "outputs": [],
   "source": []
  },
  {
   "cell_type": "code",
   "execution_count": null,
   "id": "894c516d-404f-482a-9e96-e8da7566d762",
   "metadata": {},
   "outputs": [],
   "source": []
  },
  {
   "cell_type": "code",
   "execution_count": null,
   "id": "5593c939-74d2-4ae7-90b1-c317f97fe1dc",
   "metadata": {},
   "outputs": [],
   "source": []
  },
  {
   "cell_type": "code",
   "execution_count": null,
   "id": "f987933c-cd4a-4d6c-949a-afe39a31e31a",
   "metadata": {},
   "outputs": [],
   "source": []
  },
  {
   "cell_type": "code",
   "execution_count": null,
   "id": "968d0bb1-0476-48ba-9130-3d5c7ae775d6",
   "metadata": {},
   "outputs": [],
   "source": []
  },
  {
   "cell_type": "code",
   "execution_count": null,
   "id": "a701b88e-3432-4029-b88b-4b86723aed24",
   "metadata": {},
   "outputs": [],
   "source": []
  },
  {
   "cell_type": "code",
   "execution_count": null,
   "id": "45f77c80-a279-425b-ae12-d7c4284b0890",
   "metadata": {},
   "outputs": [],
   "source": []
  },
  {
   "cell_type": "code",
   "execution_count": null,
   "id": "acd58fac-bdc3-4d41-800a-3a75e8d939da",
   "metadata": {},
   "outputs": [],
   "source": []
  },
  {
   "cell_type": "code",
   "execution_count": null,
   "id": "b26588be-d1f1-4ab2-a307-f3741acdcd70",
   "metadata": {},
   "outputs": [],
   "source": []
  },
  {
   "cell_type": "code",
   "execution_count": null,
   "id": "76eaf8c9-9e89-488d-a7bc-a77e55432aeb",
   "metadata": {},
   "outputs": [],
   "source": []
  },
  {
   "cell_type": "code",
   "execution_count": null,
   "id": "5bb75d66-5b03-4669-bbcb-8de058144c62",
   "metadata": {},
   "outputs": [],
   "source": []
  },
  {
   "cell_type": "code",
   "execution_count": null,
   "id": "25bf733f-2d42-4bed-9525-e15743673bdb",
   "metadata": {},
   "outputs": [],
   "source": []
  },
  {
   "cell_type": "code",
   "execution_count": null,
   "id": "ec6d5a29-d103-454f-b945-15d6ffcad284",
   "metadata": {},
   "outputs": [],
   "source": []
  },
  {
   "cell_type": "code",
   "execution_count": null,
   "id": "466403ac-2633-4b20-ae30-1fbf41bede2d",
   "metadata": {},
   "outputs": [],
   "source": []
  },
  {
   "cell_type": "code",
   "execution_count": null,
   "id": "5223e657-c5a3-485a-adec-80772b98a963",
   "metadata": {},
   "outputs": [],
   "source": []
  },
  {
   "cell_type": "code",
   "execution_count": null,
   "id": "afb26054-36c4-4e67-b0fc-89f2ed83cc3c",
   "metadata": {},
   "outputs": [],
   "source": []
  }
 ],
 "metadata": {
  "kernelspec": {
   "display_name": "Python 3 (ipykernel)",
   "language": "python",
   "name": "python3"
  },
  "language_info": {
   "codemirror_mode": {
    "name": "ipython",
    "version": 3
   },
   "file_extension": ".py",
   "mimetype": "text/x-python",
   "name": "python",
   "nbconvert_exporter": "python",
   "pygments_lexer": "ipython3",
   "version": "3.12.7"
  }
 },
 "nbformat": 4,
 "nbformat_minor": 5
}

{
 "cells": [
  {
   "cell_type": "markdown",
   "id": "1ce860cf-e558-4853-8bd3-f4f830a35603",
   "metadata": {},
   "source": [
    "## **String Methods** "
   ]
  },
  {
   "cell_type": "code",
   "execution_count": 5,
   "id": "ad3aa56f-0682-46cb-bb30-cfd75a97c196",
   "metadata": {},
   "outputs": [
    {
     "name": "stdout",
     "output_type": "stream",
     "text": [
      "Thirty days of python\n"
     ]
    }
   ],
   "source": [
    "# Captialize () ----. Converts firtst letter to capital \n",
    "challenge = 'thirty days of python'\n",
    "print(challenge.capitalize())"
   ]
  },
  {
   "cell_type": "code",
   "execution_count": 17,
   "id": "290c7cb6-b7de-4485-a93a-c84af0ab92b6",
   "metadata": {},
   "outputs": [
    {
     "name": "stdout",
     "output_type": "stream",
     "text": [
      "3\n"
     ]
    }
   ],
   "source": [
    "#Count() count the no of substring \n",
    "challenge = 'thirty days of python'\n",
    "print(challenge.count('y'))"
   ]
  },
  {
   "cell_type": "code",
   "execution_count": 23,
   "id": "9a240dda-f4dc-439b-bb2e-7c10a133fc37",
   "metadata": {},
   "outputs": [
    {
     "name": "stdout",
     "output_type": "stream",
     "text": [
      "True\n",
      "False\n"
     ]
    }
   ],
   "source": [
    "# endswith --> it check  if a strings end with a  specifed string it return true or false  whe\n",
    "challenge = 'thirty days of python'\n",
    "print(challenge.endswith('on'))\n",
    "print(challenge.endswith('k'))"
   ]
  },
  {
   "cell_type": "code",
   "execution_count": 39,
   "id": "7357e6ee-2128-43ca-bb02-26f9dcea6a2b",
   "metadata": {},
   "outputs": [
    {
     "name": "stdout",
     "output_type": "stream",
     "text": [
      "thirty                         days                          of                            python\n"
     ]
    }
   ],
   "source": [
    "#  expandtabs  =====>>> Replace the tab withb space \n",
    "challenge = 'thirty\\t days\\t of\\t python'\n",
    "print(challenge.expandtabs(30))"
   ]
  },
  {
   "cell_type": "code",
   "execution_count": 47,
   "id": "badde5ff-6b8b-4893-8774-531614cfc730",
   "metadata": {},
   "outputs": [
    {
     "name": "stdout",
     "output_type": "stream",
     "text": [
      "5\n"
     ]
    }
   ],
   "source": [
    "# find()===> return the index of first occurance of substring \n",
    "#  expandtabs  =====>>> Replace the tab withb space \n",
    "challenge = 'thirty days of python'\n",
    "print(challenge.find('y'))"
   ]
  },
  {
   "cell_type": "code",
   "execution_count": 53,
   "id": "ab06901e-055c-4836-b94d-ec740899924b",
   "metadata": {},
   "outputs": [
    {
     "name": "stdout",
     "output_type": "stream",
     "text": [
      "I am Keshav Thakur I a teacher I live in India \n"
     ]
    }
   ],
   "source": [
    "# format()   ----- >    format string into nicer output \n",
    "first_name = \"Keshav\"\n",
    "last_name = 'Thakur'\n",
    "job = 'teacher'\n",
    "country = 'India '\n",
    "print(sentence)"
   ]
  },
  {
   "cell_type": "code",
   "execution_count": 59,
   "id": "7a2a9816-46ec-4e9a-9224-3d44a35c9dc6",
   "metadata": {},
   "outputs": [
    {
     "name": "stdout",
     "output_type": "stream",
     "text": [
      "5\n"
     ]
    }
   ],
   "source": [
    "#index() ----- return the index of substring \n",
    "challenge = 'thirty days of python'\n",
    "print(challenge.index('y'))"
   ]
  },
  {
   "cell_type": "code",
   "execution_count": 67,
   "id": "7110bc7a-839d-4166-8080-0bbfdd71c604",
   "metadata": {},
   "outputs": [
    {
     "name": "stdout",
     "output_type": "stream",
     "text": [
      "True\n"
     ]
    }
   ],
   "source": [
    "# isalpha ---  > checks wheter the string is  ablphabet and there should no space or any other character  \n",
    "challenge = 'thirtydaysofpython'\n",
    "print(challenge.isalpha())"
   ]
  },
  {
   "cell_type": "code",
   "execution_count": 81,
   "id": "433cc977-7b30-4c85-bea1-c360136a04fd",
   "metadata": {},
   "outputs": [
    {
     "name": "stdout",
     "output_type": "stream",
     "text": [
      "False\n",
      "True\n"
     ]
    }
   ],
   "source": [
    "# decimal \n",
    "challenge = 'thirty days of python'\n",
    "print(challenge.isdecimal())\n",
    "challenge = '5555'\n",
    "print(challenge.isdecimal())"
   ]
  },
  {
   "cell_type": "code",
   "execution_count": 91,
   "id": "97ba410a-9f2d-4c9c-9793-6dbc23382ead",
   "metadata": {},
   "outputs": [
    {
     "name": "stdout",
     "output_type": "stream",
     "text": [
      "True\n"
     ]
    }
   ],
   "source": [
    "challenge = '20'\n",
    "print(challenge.isdigit())"
   ]
  },
  {
   "cell_type": "code",
   "execution_count": 99,
   "id": "5e33a750-00fd-4da7-aabb-b218e9e14f81",
   "metadata": {},
   "outputs": [
    {
     "name": "stdout",
     "output_type": "stream",
     "text": [
      "False\n",
      "True\n"
     ]
    }
   ],
   "source": [
    "challenge = '5.58'\n",
    "print(challenge.isidentifier())\n",
    "challenge = 'True'\n",
    "print(challenge.isidentifier())"
   ]
  },
  {
   "cell_type": "code",
   "execution_count": null,
   "id": "c81d1a45-928a-4645-86d5-64c7b3c80122",
   "metadata": {},
   "outputs": [],
   "source": [
    "challenge = 'thirty days of python'\n",
    "print(challenge.index('y'))"
   ]
  },
  {
   "cell_type": "code",
   "execution_count": 109,
   "id": "e622cf22-7a35-4e1e-9f16-456edb13335d",
   "metadata": {},
   "outputs": [
    {
     "name": "stdout",
     "output_type": "stream",
     "text": [
      "True\n"
     ]
    }
   ],
   "source": [
    "# Islower\n",
    "challenge = 'thirty days of pthon'\n",
    "print(challenge.islower())"
   ]
  },
  {
   "cell_type": "code",
   "execution_count": 123,
   "id": "2ce529c4-7362-4d9a-a00b-d257b52327e6",
   "metadata": {},
   "outputs": [
    {
     "name": "stdout",
     "output_type": "stream",
     "text": [
      "True\n"
     ]
    }
   ],
   "source": [
    "challenge = 'HIRTY DAYS OF PYTHON'\n",
    "print(challenge.isupper())"
   ]
  },
  {
   "cell_type": "code",
   "execution_count": 121,
   "id": "2da382f8-b2f1-46e4-8bfd-b8d1832b1256",
   "metadata": {},
   "outputs": [
    {
     "name": "stdout",
     "output_type": "stream",
     "text": [
      "THIRTY DAYS OF PYTHON\n"
     ]
    }
   ],
   "source": [
    "challenge = 'thirty days of python'\n",
    "print(challenge.swapcase())"
   ]
  },
  {
   "cell_type": "code",
   "execution_count": 129,
   "id": "012d6ed3-da3d-408c-80ef-d5721fb25334",
   "metadata": {},
   "outputs": [
    {
     "name": "stdout",
     "output_type": "stream",
     "text": [
      "thirtydaysofpython\n"
     ]
    }
   ],
   "source": [
    "challenge = ['thirty' 'days' 'of' 'python']\n",
    "k = '#,'.join(challenge)\n",
    "print(k)"
   ]
  },
  {
   "cell_type": "code",
   "execution_count": 135,
   "id": "1f8fe4ed-b2b9-4e6e-a026-d926a2f2cea9",
   "metadata": {},
   "outputs": [
    {
     "name": "stdout",
     "output_type": "stream",
     "text": [
      "thirty days of python\n"
     ]
    }
   ],
   "source": [
    "# strip \n",
    "challenge = 'thirty days of python'\n",
    "print(challenge.strip('y'))"
   ]
  },
  {
   "cell_type": "code",
   "execution_count": 137,
   "id": "632d6c82-3cba-4a28-9a6a-06a89d9ff659",
   "metadata": {},
   "outputs": [
    {
     "name": "stdout",
     "output_type": "stream",
     "text": [
      "thirty days of codng\n"
     ]
    }
   ],
   "source": [
    "challenge = 'thirty days of python'\n",
    "print(challenge.replace('python','codng'))"
   ]
  },
  {
   "cell_type": "code",
   "execution_count": 139,
   "id": "f04c0cd2-0430-463e-9d56-1af906d5821e",
   "metadata": {},
   "outputs": [
    {
     "name": "stdout",
     "output_type": "stream",
     "text": [
      "['thirty', 'days', 'of', 'python']\n"
     ]
    }
   ],
   "source": [
    "challenge = 'thirty days of python'\n",
    "print(challenge.split())"
   ]
  },
  {
   "cell_type": "code",
   "execution_count": 147,
   "id": "1f4a3084-d721-47f7-aac4-df200de681b8",
   "metadata": {},
   "outputs": [
    {
     "name": "stdout",
     "output_type": "stream",
     "text": [
      "True\n"
     ]
    }
   ],
   "source": [
    "challenge = 'thirty days of python'\n",
    "print(challenge.startswith('thirty'))"
   ]
  },
  {
   "cell_type": "code",
   "execution_count": null,
   "id": "347746f9-5e09-4717-85f0-a64f2ad25017",
   "metadata": {},
   "outputs": [],
   "source": []
  },
  {
   "cell_type": "code",
   "execution_count": null,
   "id": "0451d18a-425c-4c34-b70d-9bea99c3cd8e",
   "metadata": {},
   "outputs": [],
   "source": []
  },
  {
   "cell_type": "code",
   "execution_count": null,
   "id": "07853f1f-3918-4967-ab39-420e836f5899",
   "metadata": {},
   "outputs": [],
   "source": []
  },
  {
   "cell_type": "code",
   "execution_count": null,
   "id": "ed6d5d20-9930-4005-89a1-fa0566281414",
   "metadata": {},
   "outputs": [],
   "source": []
  },
  {
   "cell_type": "code",
   "execution_count": null,
   "id": "642f2b4b-0cb9-49fd-b749-d502588cceb3",
   "metadata": {},
   "outputs": [],
   "source": []
  }
 ],
 "metadata": {
  "kernelspec": {
   "display_name": "Python 3 (ipykernel)",
   "language": "python",
   "name": "python3"
  },
  "language_info": {
   "codemirror_mode": {
    "name": "ipython",
    "version": 3
   },
   "file_extension": ".py",
   "mimetype": "text/x-python",
   "name": "python",
   "nbconvert_exporter": "python",
   "pygments_lexer": "ipython3",
   "version": "3.12.7"
  }
 },
 "nbformat": 4,
 "nbformat_minor": 5
}

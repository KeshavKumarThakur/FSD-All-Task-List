{
 "cells": [
  {
   "cell_type": "markdown",
   "id": "d8e92f42-f2e3-4df7-b72d-ed10e2e5c2e2",
   "metadata": {},
   "source": [
    "# List --- DSA \n",
    "\n",
    "\n",
    "           \n"
   ]
  },
  {
   "cell_type": "code",
   "execution_count": 7,
   "id": "c6b41533-1bf8-4ddc-8c79-2bd6a0a9cfc3",
   "metadata": {},
   "outputs": [
    {
     "data": {
      "text/plain": [
       "'List ----> 1> append - add elemnets or value  at the last \\n           2> remove - remove the elements or values of first occirnaces \\n           3> copy -  it will copy one list value to another values \\nIndexing and slicing \\nindexing  -----> Forward indexing and backward indexing \\nSlicing -------> Forwarsd slicing , backward slicing , and step slicing \\nstep slicing ----> step slicing denoted by this  -----> [:]'"
      ]
     },
     "execution_count": 7,
     "metadata": {},
     "output_type": "execute_result"
    }
   ],
   "source": [
    "# What is list \n",
    "# list is a inbuilt data structure in python . It is mutable or chnaeable , the value or elements present inside a list is called as items \n",
    "# Matrixes - collectio of data structure/  rows and columns \n",
    "'''List ----> 1> append - add elemnets or value  at the last \n",
    "           2> remove - remove the elements or values of first occirnaces \n",
    "           3> copy -  it will copy one list value to another values \n",
    "Indexing and slicing \n",
    "indexing  -----> Forward indexing and backward indexing \n",
    "Slicing -------> Forwarsd slicing , backward slicing , and step slicing \n",
    "step slicing ----> step slicing denoted by this  -----> [:]'''\n"
   ]
  },
  {
   "cell_type": "code",
   "execution_count": 45,
   "id": "bf06b5e9-ffac-4172-ac60-25e182d39914",
   "metadata": {},
   "outputs": [
    {
     "name": "stdout",
     "output_type": "stream",
     "text": [
      "<class 'float'>\n"
     ]
    }
   ],
   "source": [
    " i = 6.7\n",
    "print(type(i))"
   ]
  },
  {
   "cell_type": "code",
   "execution_count": 47,
   "id": "213bf4bf-7835-42db-9823-544525b4dfa5",
   "metadata": {},
   "outputs": [
    {
     "name": "stdout",
     "output_type": "stream",
     "text": [
      "<class 'list'>\n"
     ]
    }
   ],
   "source": [
    "l = [] \n",
    "print(type(l))\n",
    "\n"
   ]
  },
  {
   "cell_type": "code",
   "execution_count": 51,
   "id": "9c7dc83c-bdee-4c2b-b2f3-432553068dd8",
   "metadata": {},
   "outputs": [
    {
     "data": {
      "text/plain": [
       "0"
      ]
     },
     "execution_count": 51,
     "metadata": {},
     "output_type": "execute_result"
    }
   ],
   "source": [
    "len(l)"
   ]
  },
  {
   "cell_type": "markdown",
   "id": "89a55c07-549d-4c25-b8e5-dfde01b6cf72",
   "metadata": {},
   "source": [
    "# Append()"
   ]
  },
  {
   "cell_type": "code",
   "execution_count": 53,
   "id": "ea54e234-c154-428b-8bff-61d93ef52d28",
   "metadata": {},
   "outputs": [],
   "source": [
    "l.append(10)"
   ]
  },
  {
   "cell_type": "code",
   "execution_count": 57,
   "id": "35e6f4d2-e33a-42fa-a20f-ce1cd70fa47e",
   "metadata": {},
   "outputs": [
    {
     "data": {
      "text/plain": [
       "[10]"
      ]
     },
     "execution_count": 57,
     "metadata": {},
     "output_type": "execute_result"
    }
   ],
   "source": [
    "l"
   ]
  },
  {
   "cell_type": "code",
   "execution_count": 59,
   "id": "b580aac7-9359-4dca-9700-bf179ea441fe",
   "metadata": {},
   "outputs": [
    {
     "data": {
      "text/plain": [
       "[10, 20, 30, 40]"
      ]
     },
     "execution_count": 59,
     "metadata": {},
     "output_type": "execute_result"
    }
   ],
   "source": [
    "\n",
    "l.append(20)\n",
    "l.append(30)\n",
    "l.append(40)\n",
    "l"
   ]
  },
  {
   "cell_type": "code",
   "execution_count": 63,
   "id": "e8d6a757-c4e8-44d1-aa70-e48b2f1b80c0",
   "metadata": {},
   "outputs": [],
   "source": [
    "k = []\n",
    "k.append(10)\n",
    "k.append(20)\n",
    "k.append(30)\n",
    "k.append(40)\n"
   ]
  },
  {
   "cell_type": "code",
   "execution_count": 61,
   "id": "ffa14713-3ad2-43be-a870-1acfd5d9f1fa",
   "metadata": {},
   "outputs": [
    {
     "ename": "NameError",
     "evalue": "name 'k' is not defined",
     "output_type": "error",
     "traceback": [
      "\u001b[1;31m---------------------------------------------------------------------------\u001b[0m",
      "\u001b[1;31mNameError\u001b[0m                                 Traceback (most recent call last)",
      "Cell \u001b[1;32mIn[61], line 1\u001b[0m\n\u001b[1;32m----> 1\u001b[0m \u001b[43mk\u001b[49m\u001b[38;5;241m.\u001b[39mappend(\u001b[38;5;124m'\u001b[39m\u001b[38;5;124m1+2j\u001b[39m\u001b[38;5;124m'\u001b[39m)\n\u001b[0;32m      2\u001b[0m k\u001b[38;5;241m.\u001b[39mappend(\u001b[38;5;28;01mTrue\u001b[39;00m)\n\u001b[0;32m      3\u001b[0m k\u001b[38;5;241m.\u001b[39mappend([\u001b[38;5;241m1\u001b[39m,\u001b[38;5;241m2\u001b[39m,\u001b[38;5;241m3\u001b[39m])\n",
      "\u001b[1;31mNameError\u001b[0m: name 'k' is not defined"
     ]
    }
   ],
   "source": [
    "k.append('1+2j')\n",
    "k.append(True)\n",
    "k.append([1,2,3])\n",
    "k"
   ]
  },
  {
   "cell_type": "code",
   "execution_count": 65,
   "id": "ecc67f50-c189-4b4f-a9eb-2ff4668dba4b",
   "metadata": {},
   "outputs": [
    {
     "name": "stdout",
     "output_type": "stream",
     "text": [
      "[10, 20, 30, 40]\n",
      "[10, 20, 30, 40]\n"
     ]
    }
   ],
   "source": [
    "print(l)\n",
    "print(k)"
   ]
  },
  {
   "cell_type": "code",
   "execution_count": 57,
   "id": "5d51ceb3-ddea-4a19-8c95-438edb4040fd",
   "metadata": {},
   "outputs": [
    {
     "name": "stdout",
     "output_type": "stream",
     "text": [
      "2058533191104\n",
      "2058533458560\n"
     ]
    }
   ],
   "source": [
    "print(id(l))\n",
    "print(id(k))"
   ]
  },
  {
   "cell_type": "markdown",
   "id": "86530236-51dc-4814-9352-7a63c750d314",
   "metadata": {},
   "source": [
    "# Copy"
   ]
  },
  {
   "cell_type": "code",
   "execution_count": 60,
   "id": "29a84f6e-b7e2-4dec-9dc7-41bc2434ece3",
   "metadata": {},
   "outputs": [],
   "source": [
    "\n",
    "l2 = l.copy()"
   ]
  },
  {
   "cell_type": "code",
   "execution_count": 62,
   "id": "2be528e1-6516-4d58-bd61-0075b798d707",
   "metadata": {},
   "outputs": [
    {
     "name": "stdout",
     "output_type": "stream",
     "text": [
      "[10, 20, 30, 40, 10, 20, 30, 40, 20, 30, 40, 20, 30, 40, 20, 30, 40, 20, 30, 40, 20, 30, 40]\n"
     ]
    }
   ],
   "source": [
    "print(l2)"
   ]
  },
  {
   "cell_type": "code",
   "execution_count": 66,
   "id": "a7481502-2a82-4588-ab5a-5b50704a4ac1",
   "metadata": {},
   "outputs": [
    {
     "name": "stdout",
     "output_type": "stream",
     "text": [
      "([10, 20, 30, 40, '1+2j', True, [1, 2, 3]], [10, 20, 30, 40, 10, 20, 30, 40, 20, 30, 40, 20, 30, 40, 20, 30, 40, 20, 30, 40, 20, 30, 40])\n"
     ]
    }
   ],
   "source": [
    "l2=k.copy() , l.copy()\n",
    "print(l2)"
   ]
  },
  {
   "cell_type": "markdown",
   "id": "e87c6534-c6c3-49c1-8e02-a9f1befaee6b",
   "metadata": {},
   "source": [
    "# remove "
   ]
  },
  {
   "cell_type": "code",
   "execution_count": 69,
   "id": "3d9e92e8-234c-44ca-b75d-4ad89431e850",
   "metadata": {},
   "outputs": [],
   "source": [
    "l.remove(10)"
   ]
  },
  {
   "cell_type": "code",
   "execution_count": 43,
   "id": "2a094642-4937-4f2c-b449-7cbf4c3311dc",
   "metadata": {},
   "outputs": [
    {
     "ename": "NameError",
     "evalue": "name 'l' is not defined",
     "output_type": "error",
     "traceback": [
      "\u001b[1;31m---------------------------------------------------------------------------\u001b[0m",
      "\u001b[1;31mNameError\u001b[0m                                 Traceback (most recent call last)",
      "Cell \u001b[1;32mIn[43], line 1\u001b[0m\n\u001b[1;32m----> 1\u001b[0m \u001b[38;5;28mprint\u001b[39m(\u001b[43ml\u001b[49m)\n",
      "\u001b[1;31mNameError\u001b[0m: name 'l' is not defined"
     ]
    }
   ],
   "source": [
    "print(l)"
   ]
  },
  {
   "cell_type": "code",
   "execution_count": 75,
   "id": "77683ccd-0e19-413e-a3c5-ad5eef3588c4",
   "metadata": {},
   "outputs": [
    {
     "ename": "ValueError",
     "evalue": "list.remove(x): x not in list",
     "output_type": "error",
     "traceback": [
      "\u001b[1;31m---------------------------------------------------------------------------\u001b[0m",
      "\u001b[1;31mValueError\u001b[0m                                Traceback (most recent call last)",
      "Cell \u001b[1;32mIn[75], line 1\u001b[0m\n\u001b[1;32m----> 1\u001b[0m \u001b[43ml\u001b[49m\u001b[38;5;241;43m.\u001b[39;49m\u001b[43mremove\u001b[49m\u001b[43m(\u001b[49m\u001b[38;5;241;43m100\u001b[39;49m\u001b[43m)\u001b[49m\n\u001b[0;32m      2\u001b[0m l\n",
      "\u001b[1;31mValueError\u001b[0m: list.remove(x): x not in list"
     ]
    }
   ],
   "source": [
    "l.remove(100)\n",
    "l"
   ]
  },
  {
   "cell_type": "code",
   "execution_count": 81,
   "id": "3a380a6a-874a-4f43-a538-e91373bfac77",
   "metadata": {},
   "outputs": [
    {
     "data": {
      "text/plain": [
       "[20,\n",
       " 30,\n",
       " 40,\n",
       " 20,\n",
       " 30,\n",
       " 40,\n",
       " 20,\n",
       " 30,\n",
       " 40,\n",
       " 20,\n",
       " 30,\n",
       " 40,\n",
       " 20,\n",
       " 30,\n",
       " 40,\n",
       " 20,\n",
       " 30,\n",
       " 40,\n",
       " 20,\n",
       " 30,\n",
       " 40]"
      ]
     },
     "execution_count": 81,
     "metadata": {},
     "output_type": "execute_result"
    }
   ],
   "source": [
    "l.remove(10)\n",
    "l"
   ]
  },
  {
   "cell_type": "code",
   "execution_count": 85,
   "id": "51cdfdf7-9958-465b-b631-c7dfc3630732",
   "metadata": {},
   "outputs": [
    {
     "data": {
      "text/plain": [
       "[20,\n",
       " 30,\n",
       " 40,\n",
       " 20,\n",
       " 30,\n",
       " 40,\n",
       " 20,\n",
       " 30,\n",
       " 40,\n",
       " 20,\n",
       " 30,\n",
       " 40,\n",
       " 20,\n",
       " 30,\n",
       " 40,\n",
       " 20,\n",
       " 30,\n",
       " 40,\n",
       " 20,\n",
       " 30,\n",
       " 40,\n",
       " 10,\n",
       " 10]"
      ]
     },
     "execution_count": 85,
     "metadata": {},
     "output_type": "execute_result"
    }
   ],
   "source": [
    "l.append(10)\n",
    "l"
   ]
  },
  {
   "cell_type": "markdown",
   "id": "6a0030cf-823f-45df-a636-f15981332f9d",
   "metadata": {},
   "source": [
    "# String Indexing "
   ]
  },
  {
   "cell_type": "code",
   "execution_count": 88,
   "id": "8dd1bf97-bf62-4d93-87e4-c6eeb88771e3",
   "metadata": {},
   "outputs": [
    {
     "data": {
      "text/plain": [
       "'nareshit'"
      ]
     },
     "execution_count": 88,
     "metadata": {},
     "output_type": "execute_result"
    }
   ],
   "source": [
    "s7 = 'nareshit'\n",
    "s7"
   ]
  },
  {
   "cell_type": "code",
   "execution_count": 90,
   "id": "dfcc792c-e324-42b5-b135-f433fba5061d",
   "metadata": {},
   "outputs": [
    {
     "data": {
      "text/plain": [
       "'n'"
      ]
     },
     "execution_count": 90,
     "metadata": {},
     "output_type": "execute_result"
    }
   ],
   "source": [
    "s7[0]"
   ]
  },
  {
   "cell_type": "code",
   "execution_count": 92,
   "id": "23f84828-f5a0-456c-812f-d5cde30dd29e",
   "metadata": {},
   "outputs": [
    {
     "data": {
      "text/plain": [
       "'t'"
      ]
     },
     "execution_count": 92,
     "metadata": {},
     "output_type": "execute_result"
    }
   ],
   "source": [
    "s7[7]"
   ]
  },
  {
   "cell_type": "code",
   "execution_count": 94,
   "id": "7c533ecc-c3e1-40da-8322-b9982bc341a5",
   "metadata": {},
   "outputs": [
    {
     "ename": "IndexError",
     "evalue": "string index out of range",
     "output_type": "error",
     "traceback": [
      "\u001b[1;31m---------------------------------------------------------------------------\u001b[0m",
      "\u001b[1;31mIndexError\u001b[0m                                Traceback (most recent call last)",
      "Cell \u001b[1;32mIn[94], line 1\u001b[0m\n\u001b[1;32m----> 1\u001b[0m \u001b[43ms7\u001b[49m\u001b[43m[\u001b[49m\u001b[38;5;241;43m9\u001b[39;49m\u001b[43m]\u001b[49m\n",
      "\u001b[1;31mIndexError\u001b[0m: string index out of range"
     ]
    }
   ],
   "source": [
    "s7[9]"
   ]
  },
  {
   "cell_type": "code",
   "execution_count": 96,
   "id": "31a27853-77fb-4e29-84a3-e48822140e14",
   "metadata": {},
   "outputs": [
    {
     "data": {
      "text/plain": [
       "'h'"
      ]
     },
     "execution_count": 96,
     "metadata": {},
     "output_type": "execute_result"
    }
   ],
   "source": [
    "# nareshit\n",
    "s7[-3]"
   ]
  },
  {
   "cell_type": "code",
   "execution_count": 100,
   "id": "cf2c273e-d6a6-4a69-a7aa-bec2ffd13173",
   "metadata": {},
   "outputs": [
    {
     "data": {
      "text/plain": [
       "'n'"
      ]
     },
     "execution_count": 100,
     "metadata": {},
     "output_type": "execute_result"
    }
   ],
   "source": [
    "s7[-8]"
   ]
  },
  {
   "cell_type": "code",
   "execution_count": 102,
   "id": "67548b54-6ab1-4b73-a4e5-b78ee8e690c3",
   "metadata": {},
   "outputs": [
    {
     "name": "stdout",
     "output_type": "stream",
     "text": [
      "n\n",
      "a\n",
      "r\n",
      "e\n",
      "s\n",
      "h\n",
      "i\n",
      "t\n"
     ]
    }
   ],
   "source": [
    "for i in s7 :\n",
    "    print(i)"
   ]
  },
  {
   "cell_type": "markdown",
   "id": "80763be0-66ab-4886-b5e6-6aed101f8ff0",
   "metadata": {},
   "source": [
    "# Slicing [:]"
   ]
  },
  {
   "cell_type": "code",
   "execution_count": 105,
   "id": "ce3d649f-0d5e-4634-8b34-3a5a1e4d3f9b",
   "metadata": {},
   "outputs": [
    {
     "data": {
      "text/plain": [
       "'nareshit'"
      ]
     },
     "execution_count": 105,
     "metadata": {},
     "output_type": "execute_result"
    }
   ],
   "source": [
    "s7 \n"
   ]
  },
  {
   "cell_type": "code",
   "execution_count": 109,
   "id": "45db8d99-695b-476c-9d71-0df474e6cdf2",
   "metadata": {},
   "outputs": [
    {
     "data": {
      "text/plain": [
       "'abcdefghi'"
      ]
     },
     "execution_count": 109,
     "metadata": {},
     "output_type": "execute_result"
    }
   ],
   "source": [
    "s8 = 'abcdefghi'\n",
    "\n",
    "s8"
   ]
  },
  {
   "cell_type": "code",
   "execution_count": 111,
   "id": "d729d703-d24d-4592-be4a-7be8c3951893",
   "metadata": {},
   "outputs": [
    {
     "data": {
      "text/plain": [
       "'abcdefghi'"
      ]
     },
     "execution_count": 111,
     "metadata": {},
     "output_type": "execute_result"
    }
   ],
   "source": [
    "s8[0:9]"
   ]
  },
  {
   "cell_type": "code",
   "execution_count": 113,
   "id": "45ea6e34-fa13-4467-9090-83b86c65fd1b",
   "metadata": {},
   "outputs": [
    {
     "data": {
      "text/plain": [
       "'bcdefgh'"
      ]
     },
     "execution_count": 113,
     "metadata": {},
     "output_type": "execute_result"
    }
   ],
   "source": [
    "s8[1:8]"
   ]
  },
  {
   "cell_type": "code",
   "execution_count": 115,
   "id": "32f90048-3adc-4a5e-8d50-b49b41792cbd",
   "metadata": {},
   "outputs": [
    {
     "data": {
      "text/plain": [
       "'abcdefghi'"
      ]
     },
     "execution_count": 115,
     "metadata": {},
     "output_type": "execute_result"
    }
   ],
   "source": [
    "s8"
   ]
  },
  {
   "cell_type": "code",
   "execution_count": 117,
   "id": "c891bb71-3d0b-493a-8677-754e41a47d59",
   "metadata": {},
   "outputs": [
    {
     "data": {
      "text/plain": [
       "'bcdef'"
      ]
     },
     "execution_count": 117,
     "metadata": {},
     "output_type": "execute_result"
    }
   ],
   "source": [
    "s8[1:-3]"
   ]
  },
  {
   "cell_type": "code",
   "execution_count": 119,
   "id": "5f2dd97b-fd64-40d0-b82f-16046f6e9c35",
   "metadata": {},
   "outputs": [
    {
     "data": {
      "text/plain": [
       "'abcdefghi'"
      ]
     },
     "execution_count": 119,
     "metadata": {},
     "output_type": "execute_result"
    }
   ],
   "source": [
    "s8"
   ]
  },
  {
   "cell_type": "code",
   "execution_count": 3,
   "id": "763e249e-9730-4cb5-9545-fb39455e71f3",
   "metadata": {},
   "outputs": [
    {
     "data": {
      "text/plain": [
       "[1, 2, 3, 4, 5, 6, 7, 8, 9, 10]"
      ]
     },
     "execution_count": 3,
     "metadata": {},
     "output_type": "execute_result"
    }
   ],
   "source": [
    "step_indexing = [1,2,3,4,5,6,7,8,9,10]\n",
    "step_indexing \n"
   ]
  },
  {
   "cell_type": "code",
   "execution_count": 9,
   "id": "3e7e4157-a49c-4608-a158-2c7c2e25f960",
   "metadata": {},
   "outputs": [
    {
     "data": {
      "text/plain": [
       "[1, 2, 3, 4, 5, 6, 7, 8, 9, 10]"
      ]
     },
     "execution_count": 9,
     "metadata": {},
     "output_type": "execute_result"
    }
   ],
   "source": [
    "step_indexing[:] # -- [:]  ---> it will return alll the elemnets i the list \n"
   ]
  },
  {
   "cell_type": "code",
   "execution_count": 11,
   "id": "8f6eb72b-f1db-47c8-8e35-bcf31f415778",
   "metadata": {},
   "outputs": [],
   "source": [
    "# Pythone Number Sysytem or Bit Numbers "
   ]
  },
  {
   "cell_type": "code",
   "execution_count": 21,
   "id": "fc388d64-787d-46b1-b920-c120bcc69f63",
   "metadata": {},
   "outputs": [
    {
     "data": {
      "text/plain": [
       "25"
      ]
     },
     "execution_count": 21,
     "metadata": {},
     "output_type": "execute_result"
    }
   ],
   "source": [
    "int(0b11001) # converted bin to int \n"
   ]
  },
  {
   "cell_type": "code",
   "execution_count": 25,
   "id": "4ea92fca-9eaa-4237-8d41-08424d20ce36",
   "metadata": {},
   "outputs": [
    {
     "data": {
      "text/plain": [
       "'0o31'"
      ]
     },
     "execution_count": 25,
     "metadata": {},
     "output_type": "execute_result"
    }
   ],
   "source": [
    "oct(25)   # octacl number sysytem have the base value of 8 "
   ]
  },
  {
   "cell_type": "code",
   "execution_count": 29,
   "id": "6c3d67b7-eba4-45b3-868c-c559ffe3052e",
   "metadata": {},
   "outputs": [
    {
     "data": {
      "text/plain": [
       "25"
      ]
     },
     "execution_count": 29,
     "metadata": {},
     "output_type": "execute_result"
    }
   ],
   "source": [
    "int(0o31)"
   ]
  },
  {
   "cell_type": "code",
   "execution_count": 31,
   "id": "d712c801-641d-4167-ba14-f84ba93c7904",
   "metadata": {},
   "outputs": [
    {
     "data": {
      "text/plain": [
       "'0x7'"
      ]
     },
     "execution_count": 31,
     "metadata": {},
     "output_type": "execute_result"
    }
   ],
   "source": [
    "hex(7)"
   ]
  },
  {
   "cell_type": "code",
   "execution_count": 33,
   "id": "f7c97e8a-e494-4fb1-ad51-38ec5f201082",
   "metadata": {},
   "outputs": [
    {
     "data": {
      "text/plain": [
       "7"
      ]
     },
     "execution_count": 33,
     "metadata": {},
     "output_type": "execute_result"
    }
   ],
   "source": [
    " 7\n",
    "\n"
   ]
  },
  {
   "cell_type": "code",
   "execution_count": 15,
   "id": "441ebf9d-9524-4159-a417-b10264330d7d",
   "metadata": {},
   "outputs": [
    {
     "data": {
      "text/plain": [
       "25"
      ]
     },
     "execution_count": 15,
     "metadata": {},
     "output_type": "execute_result"
    }
   ],
   "source": []
  },
  {
   "cell_type": "code",
   "execution_count": 17,
   "id": "de2203c0-24c2-493f-9452-f63ff4f6ef40",
   "metadata": {},
   "outputs": [
    {
     "data": {
      "text/plain": [
       "'0b11001'"
      ]
     },
     "execution_count": 17,
     "metadata": {},
     "output_type": "execute_result"
    }
   ],
   "source": [
    "bin(25)   # integer conveted into binary numbers "
   ]
  },
  {
   "cell_type": "code",
   "execution_count": 35,
   "id": "e01480f1-bff5-4b7c-84bd-7c6b3be0e674",
   "metadata": {},
   "outputs": [
    {
     "data": {
      "text/plain": [
       "'0o11'"
      ]
     },
     "execution_count": 35,
     "metadata": {},
     "output_type": "execute_result"
    }
   ],
   "source": [
    "oct(9)"
   ]
  },
  {
   "cell_type": "code",
   "execution_count": 37,
   "id": "092692c7-ba44-43ea-86b2-989b6341f43c",
   "metadata": {},
   "outputs": [
    {
     "data": {
      "text/plain": [
       "'0o1736'"
      ]
     },
     "execution_count": 37,
     "metadata": {},
     "output_type": "execute_result"
    }
   ],
   "source": [
    "oct(990)"
   ]
  },
  {
   "cell_type": "code",
   "execution_count": 39,
   "id": "ae08bdc5-108c-4106-96a4-e701ef1546fc",
   "metadata": {},
   "outputs": [
    {
     "data": {
      "text/plain": [
       "'0x57'"
      ]
     },
     "execution_count": 39,
     "metadata": {},
     "output_type": "execute_result"
    }
   ],
   "source": [
    "hex(87)"
   ]
  },
  {
   "cell_type": "code",
   "execution_count": 41,
   "id": "61802afd-8acf-41ee-9405-0653dcbd8107",
   "metadata": {},
   "outputs": [
    {
     "ename": "NameError",
     "evalue": "name 'l' is not defined",
     "output_type": "error",
     "traceback": [
      "\u001b[1;31m---------------------------------------------------------------------------\u001b[0m",
      "\u001b[1;31mNameError\u001b[0m                                 Traceback (most recent call last)",
      "Cell \u001b[1;32mIn[41], line 1\u001b[0m\n\u001b[1;32m----> 1\u001b[0m \u001b[43ml\u001b[49m \n",
      "\u001b[1;31mNameError\u001b[0m: name 'l' is not defined"
     ]
    }
   ],
   "source": [
    "l "
   ]
  },
  {
   "cell_type": "code",
   "execution_count": 69,
   "id": "76c0046e-c802-4f2e-a66c-b77d77297b93",
   "metadata": {},
   "outputs": [
    {
     "data": {
      "text/plain": [
       "[40, 30, 20, 10, 40, 30, 20]"
      ]
     },
     "execution_count": 69,
     "metadata": {},
     "output_type": "execute_result"
    }
   ],
   "source": [
    "l  = [40,30,20,10,40,30,20]\n",
    "l"
   ]
  },
  {
   "cell_type": "code",
   "execution_count": 73,
   "id": "07327d2b-74e6-4091-b47a-a0619acc20ce",
   "metadata": {},
   "outputs": [
    {
     "data": {
      "text/plain": [
       "[70, 2.3, True, '1+2j', [1, 2, 3]]"
      ]
     },
     "execution_count": 73,
     "metadata": {},
     "output_type": "execute_result"
    }
   ],
   "source": [
    "l1 = [70,2.3,True,'1+2j',[1,2,3]]\n",
    "l1"
   ]
  },
  {
   "cell_type": "code",
   "execution_count": 83,
   "id": "b90871a1-9abf-4dc1-871f-50f8be83a520",
   "metadata": {},
   "outputs": [
    {
     "data": {
      "text/plain": [
       "0"
      ]
     },
     "execution_count": 83,
     "metadata": {},
     "output_type": "execute_result"
    }
   ],
   "source": [
    "l1.count(2)  # it will count the occurrance of lements or values of elements "
   ]
  },
  {
   "cell_type": "code",
   "execution_count": 94,
   "id": "89e64180-fc15-4ac3-8bb2-47fd93781557",
   "metadata": {},
   "outputs": [
    {
     "data": {
      "text/plain": [
       "2"
      ]
     },
     "execution_count": 94,
     "metadata": {},
     "output_type": "execute_result"
    }
   ],
   "source": [
    "l.count(20)"
   ]
  },
  {
   "cell_type": "code",
   "execution_count": 96,
   "id": "12363d08-f3ef-4069-afd5-ba85a181b1ab",
   "metadata": {},
   "outputs": [
    {
     "data": {
      "text/plain": [
       "[70, 2.3, True, '1+2j', [1, 2, 3]]"
      ]
     },
     "execution_count": 96,
     "metadata": {},
     "output_type": "execute_result"
    }
   ],
   "source": [
    "l1[:]"
   ]
  },
  {
   "cell_type": "code",
   "execution_count": 100,
   "id": "423e27c3-4e2e-4a7e-a0d9-f691185007db",
   "metadata": {},
   "outputs": [
    {
     "data": {
      "text/plain": [
       "[70, 2.3]"
      ]
     },
     "execution_count": 100,
     "metadata": {},
     "output_type": "execute_result"
    }
   ],
   "source": [
    "l1[:2]"
   ]
  },
  {
   "cell_type": "code",
   "execution_count": 102,
   "id": "67252371-063b-46de-96f1-9273455951a8",
   "metadata": {},
   "outputs": [
    {
     "data": {
      "text/plain": [
       "[]"
      ]
     },
     "execution_count": 102,
     "metadata": {},
     "output_type": "execute_result"
    }
   ],
   "source": [
    "l1[5:]"
   ]
  },
  {
   "cell_type": "code",
   "execution_count": 104,
   "id": "1b2e96c9-1971-4425-a74a-240c1416eada",
   "metadata": {},
   "outputs": [
    {
     "data": {
      "text/plain": [
       "[70, 2.3, True, '1+2j']"
      ]
     },
     "execution_count": 104,
     "metadata": {},
     "output_type": "execute_result"
    }
   ],
   "source": [
    "l1[:-1]"
   ]
  },
  {
   "cell_type": "code",
   "execution_count": 106,
   "id": "dc8d452e-1195-400f-8790-3ef6dd77800c",
   "metadata": {},
   "outputs": [
    {
     "data": {
      "text/plain": [
       "[70, 2.3, True, '1+2j', [1, 2, 3]]"
      ]
     },
     "execution_count": 106,
     "metadata": {},
     "output_type": "execute_result"
    }
   ],
   "source": [
    "l1"
   ]
  },
  {
   "cell_type": "code",
   "execution_count": 112,
   "id": "37b31ec5-5468-46f4-845f-95a539c4c65f",
   "metadata": {},
   "outputs": [
    {
     "data": {
      "text/plain": [
       "[[1, 2, 3], '1+2j', True, 2.3, 70]"
      ]
     },
     "execution_count": 112,
     "metadata": {},
     "output_type": "execute_result"
    }
   ],
   "source": [
    "l1[::-1]   # adavance slicing "
   ]
  },
  {
   "cell_type": "code",
   "execution_count": 110,
   "id": "0ecee698-afff-465d-b7cb-9180952be81e",
   "metadata": {},
   "outputs": [
    {
     "data": {
      "text/plain": [
       "[[1, 2, 3], True, 70]"
      ]
     },
     "execution_count": 110,
     "metadata": {},
     "output_type": "execute_result"
    }
   ],
   "source": [
    "l1[::-2]"
   ]
  },
  {
   "cell_type": "code",
   "execution_count": 114,
   "id": "b8cfc953-e315-48c2-a7ec-5c92ecec862f",
   "metadata": {},
   "outputs": [
    {
     "data": {
      "text/plain": [
       "[70, 2.3, True, '1+2j', [1, 2, 3]]"
      ]
     },
     "execution_count": 114,
     "metadata": {},
     "output_type": "execute_result"
    }
   ],
   "source": [
    "l1"
   ]
  },
  {
   "cell_type": "code",
   "execution_count": 122,
   "id": "20ca39c8-221f-4372-9667-79ba9dbbab73",
   "metadata": {},
   "outputs": [
    {
     "data": {
      "text/plain": [
       "2"
      ]
     },
     "execution_count": 122,
     "metadata": {},
     "output_type": "execute_result"
    }
   ],
   "source": [
    "l1.index(True)"
   ]
  },
  {
   "cell_type": "code",
   "execution_count": 124,
   "id": "5e84a905-6909-4fee-ba2d-cf45fd79df17",
   "metadata": {},
   "outputs": [
    {
     "data": {
      "text/plain": [
       "2031225529664"
      ]
     },
     "execution_count": 124,
     "metadata": {},
     "output_type": "execute_result"
    }
   ],
   "source": [
    "id(l1)"
   ]
  },
  {
   "cell_type": "code",
   "execution_count": 126,
   "id": "14eeda55-0d2c-4025-8819-68bdcf22ce17",
   "metadata": {},
   "outputs": [
    {
     "data": {
      "text/plain": [
       "5"
      ]
     },
     "execution_count": 126,
     "metadata": {},
     "output_type": "execute_result"
    }
   ],
   "source": [
    "len(l1)"
   ]
  },
  {
   "cell_type": "code",
   "execution_count": 154,
   "id": "fd05b8c0-50e3-44a4-b562-638e6087d2da",
   "metadata": {},
   "outputs": [],
   "source": [
    "l1.clear()"
   ]
  },
  {
   "cell_type": "code",
   "execution_count": 156,
   "id": "fe1d423f-1d20-43a6-a468-59c7b2711c63",
   "metadata": {},
   "outputs": [
    {
     "data": {
      "text/plain": [
       "[]"
      ]
     },
     "execution_count": 156,
     "metadata": {},
     "output_type": "execute_result"
    }
   ],
   "source": [
    "l1"
   ]
  },
  {
   "cell_type": "code",
   "execution_count": 158,
   "id": "583be493-70a4-4193-9eaf-77b2b3c20316",
   "metadata": {},
   "outputs": [
    {
     "data": {
      "text/plain": [
       "2031225529664"
      ]
     },
     "execution_count": 158,
     "metadata": {},
     "output_type": "execute_result"
    }
   ],
   "source": [
    "id(l1)"
   ]
  },
  {
   "cell_type": "code",
   "execution_count": null,
   "id": "c7067db2-8de1-4b61-9612-52f06d665895",
   "metadata": {},
   "outputs": [],
   "source": []
  },
  {
   "cell_type": "code",
   "execution_count": 160,
   "id": "aeec2583-9b2f-4d01-8ecc-bb6cb35efd44",
   "metadata": {},
   "outputs": [],
   "source": [
    "del(l1)"
   ]
  },
  {
   "cell_type": "code",
   "execution_count": 162,
   "id": "3eadc04a-aec2-4ebd-9421-35e85796ddbc",
   "metadata": {},
   "outputs": [
    {
     "ename": "NameError",
     "evalue": "name 'l1' is not defined",
     "output_type": "error",
     "traceback": [
      "\u001b[1;31m---------------------------------------------------------------------------\u001b[0m",
      "\u001b[1;31mNameError\u001b[0m                                 Traceback (most recent call last)",
      "Cell \u001b[1;32mIn[162], line 1\u001b[0m\n\u001b[1;32m----> 1\u001b[0m \u001b[43ml1\u001b[49m\n",
      "\u001b[1;31mNameError\u001b[0m: name 'l1' is not defined"
     ]
    }
   ],
   "source": [
    "l1"
   ]
  },
  {
   "cell_type": "code",
   "execution_count": 164,
   "id": "1572deff-03e9-4786-9753-94310401c6a2",
   "metadata": {},
   "outputs": [
    {
     "data": {
      "text/plain": [
       "[40, 30, 20, 10, 40, 30, 20]"
      ]
     },
     "execution_count": 164,
     "metadata": {},
     "output_type": "execute_result"
    }
   ],
   "source": [
    "l"
   ]
  },
  {
   "cell_type": "code",
   "execution_count": 170,
   "id": "9031c59a-1802-473e-9ccf-1c14cc88b809",
   "metadata": {},
   "outputs": [
    {
     "data": {
      "text/plain": [
       "30"
      ]
     },
     "execution_count": 170,
     "metadata": {},
     "output_type": "execute_result"
    }
   ],
   "source": [
    "l.pop()  # pop ----> it is used to pop the elments by using the index or by default is by last "
   ]
  },
  {
   "cell_type": "code",
   "execution_count": 172,
   "id": "37772e5e-9285-418d-b952-7fce5e16960c",
   "metadata": {},
   "outputs": [
    {
     "data": {
      "text/plain": [
       "[40, 30, 20, 10, 40]"
      ]
     },
     "execution_count": 172,
     "metadata": {},
     "output_type": "execute_result"
    }
   ],
   "source": [
    "l"
   ]
  },
  {
   "cell_type": "code",
   "execution_count": 181,
   "id": "057c747c-9257-4d5d-950b-dd5a51cf1dbe",
   "metadata": {},
   "outputs": [],
   "source": [
    "l2 = l.copy()"
   ]
  },
  {
   "cell_type": "markdown",
   "id": "f58baecd-106f-4ddf-b4f7-5df88acab1c0",
   "metadata": {},
   "source": [
    "\n"
   ]
  },
  {
   "cell_type": "code",
   "execution_count": 196,
   "id": "6766e458-293b-407c-a4a7-7551652d2820",
   "metadata": {},
   "outputs": [
    {
     "data": {
      "text/plain": [
       "[30, 10, 40]"
      ]
     },
     "execution_count": 196,
     "metadata": {},
     "output_type": "execute_result"
    }
   ],
   "source": [
    "l2"
   ]
  },
  {
   "cell_type": "code",
   "execution_count": 200,
   "id": "02c04d3e-9401-4ae4-a6ef-97d2e5ed109b",
   "metadata": {},
   "outputs": [],
   "source": [
    "l2.remove(40)"
   ]
  },
  {
   "cell_type": "markdown",
   "id": "996db203-b904-45ee-8e94-646d5722b480",
   "metadata": {},
   "source": [
    " l2"
   ]
  },
  {
   "cell_type": "code",
   "execution_count": 205,
   "id": "e4b7058c-14b9-400e-8eb4-ef2801ef830c",
   "metadata": {},
   "outputs": [],
   "source": [
    "l2.append(2222)"
   ]
  },
  {
   "cell_type": "code",
   "execution_count": 209,
   "id": "edbec614-2301-4e0e-a91e-72dfccf2ddfa",
   "metadata": {},
   "outputs": [
    {
     "data": {
      "text/plain": [
       "[30, 10, 2222]"
      ]
     },
     "execution_count": 209,
     "metadata": {},
     "output_type": "execute_result"
    }
   ],
   "source": [
    "l2"
   ]
  },
  {
   "cell_type": "code",
   "execution_count": 211,
   "id": "a0523737-bae4-4d1a-b898-d62b04c667ce",
   "metadata": {},
   "outputs": [
    {
     "data": {
      "text/plain": [
       "3"
      ]
     },
     "execution_count": 211,
     "metadata": {},
     "output_type": "execute_result"
    }
   ],
   "source": [
    "len(l2)"
   ]
  },
  {
   "cell_type": "markdown",
   "id": "b2c64d0d-9b01-4aba-94a9-67867fde828b",
   "metadata": {},
   "source": [
    "#Enumerators is  a built-in function in \n",
    "#python that allows you to keep track of the number of iterations (loops) in a loop"
   ]
  },
  {
   "cell_type": "code",
   "execution_count": 216,
   "id": "e87e9a58-16b2-446a-b347-d2fa11d304f9",
   "metadata": {},
   "outputs": [
    {
     "name": "stdout",
     "output_type": "stream",
     "text": [
      "[40, 30, 20, 10, 40]\n",
      "[40, 30, 20, 10, 40]\n",
      "[40, 30, 20, 10, 40]\n",
      "[40, 30, 20, 10, 40]\n",
      "[40, 30, 20, 10, 40]\n"
     ]
    }
   ],
   "source": [
    "for i in enumerate(l):\n",
    "    print(l)\n",
    "     "
   ]
  },
  {
   "cell_type": "code",
   "execution_count": null,
   "id": "4dab7861-209b-4473-991f-790e7c90de78",
   "metadata": {},
   "outputs": [],
   "source": []
  },
  {
   "cell_type": "code",
   "execution_count": null,
   "id": "ec04f72c-7f67-4d09-a3b7-17794b8a3d94",
   "metadata": {},
   "outputs": [],
   "source": []
  },
  {
   "cell_type": "code",
   "execution_count": null,
   "id": "83c772e9-92a5-4af1-971a-114f9f9f9a25",
   "metadata": {},
   "outputs": [],
   "source": []
  },
  {
   "cell_type": "code",
   "execution_count": null,
   "id": "27fbac59-72aa-4751-a654-e30b1c3e8313",
   "metadata": {},
   "outputs": [],
   "source": []
  },
  {
   "cell_type": "code",
   "execution_count": null,
   "id": "54122fe9-eb3e-46a0-abd3-46b8aca4ad44",
   "metadata": {},
   "outputs": [],
   "source": []
  },
  {
   "cell_type": "code",
   "execution_count": null,
   "id": "b7ec7a1b-458c-43fa-b859-7fc251480050",
   "metadata": {},
   "outputs": [],
   "source": []
  },
  {
   "cell_type": "code",
   "execution_count": null,
   "id": "34f00fcf-6ee9-4cba-a76c-1571df8b03d9",
   "metadata": {},
   "outputs": [],
   "source": []
  },
  {
   "cell_type": "code",
   "execution_count": null,
   "id": "8830581c-a967-488b-80c2-460f2e9ca2d4",
   "metadata": {},
   "outputs": [],
   "source": []
  },
  {
   "cell_type": "code",
   "execution_count": null,
   "id": "110ed564-7624-4642-8d6c-31c4df404b54",
   "metadata": {},
   "outputs": [],
   "source": []
  },
  {
   "cell_type": "code",
   "execution_count": null,
   "id": "7b8eca4c-ba45-458f-8272-cf0a1e5e9f3c",
   "metadata": {},
   "outputs": [],
   "source": []
  },
  {
   "cell_type": "code",
   "execution_count": null,
   "id": "38ca2002-9856-4aa0-8214-03a38da9547d",
   "metadata": {},
   "outputs": [],
   "source": []
  },
  {
   "cell_type": "code",
   "execution_count": 130,
   "id": "8fa630bf-398c-4e5f-b53c-4576f107b986",
   "metadata": {},
   "outputs": [],
   "source": [
    "l1.append(90)"
   ]
  },
  {
   "cell_type": "code",
   "execution_count": 132,
   "id": "08ce6ad2-b990-461c-a0e5-f269bf4e7c27",
   "metadata": {},
   "outputs": [
    {
     "data": {
      "text/plain": [
       "[70, 2.3, True, '1+2j', [1, 2, 3], 90, 90]"
      ]
     },
     "execution_count": 132,
     "metadata": {},
     "output_type": "execute_result"
    }
   ],
   "source": [
    "l1"
   ]
  },
  {
   "cell_type": "code",
   "execution_count": 152,
   "id": "a60515ff-0a60-4554-a318-635434539108",
   "metadata": {},
   "outputs": [
    {
     "data": {
      "text/plain": [
       "6"
      ]
     },
     "execution_count": 152,
     "metadata": {},
     "output_type": "execute_result"
    }
   ],
   "source": [
    "\n",
    "len(l1)"
   ]
  },
  {
   "cell_type": "code",
   "execution_count": 148,
   "id": "32e167ee-b644-4b1b-85e8-886d5eddac5b",
   "metadata": {},
   "outputs": [],
   "source": [
    "l1.append(96)"
   ]
  },
  {
   "cell_type": "code",
   "execution_count": null,
   "id": "b4c45c04-2e16-4f36-a27d-8172fe3991ff",
   "metadata": {},
   "outputs": [],
   "source": []
  },
  {
   "cell_type": "code",
   "execution_count": null,
   "id": "3725f160-868d-4342-ae50-4ba5cfbc4bfc",
   "metadata": {},
   "outputs": [],
   "source": []
  },
  {
   "cell_type": "code",
   "execution_count": null,
   "id": "4ab49240-6d6c-4a17-bd26-f27f11641d17",
   "metadata": {},
   "outputs": [],
   "source": []
  },
  {
   "cell_type": "code",
   "execution_count": null,
   "id": "4b042f30-bd8b-4d16-b257-05ec33c465d6",
   "metadata": {},
   "outputs": [],
   "source": []
  },
  {
   "cell_type": "code",
   "execution_count": null,
   "id": "6262a5a8-4e18-437f-af83-44360a3d4672",
   "metadata": {},
   "outputs": [],
   "source": []
  }
 ],
 "metadata": {
  "kernelspec": {
   "display_name": "Python 3 (ipykernel)",
   "language": "python",
   "name": "python3"
  },
  "language_info": {
   "codemirror_mode": {
    "name": "ipython",
    "version": 3
   },
   "file_extension": ".py",
   "mimetype": "text/x-python",
   "name": "python",
   "nbconvert_exporter": "python",
   "pygments_lexer": "ipython3",
   "version": "3.12.7"
  }
 },
 "nbformat": 4,
 "nbformat_minor": 5
}

{
 "cells": [
  {
   "cell_type": "markdown",
   "id": "52d58c30-c598-4cc0-b7fd-7bcfff853464",
   "metadata": {},
   "source": [
    "# Without Using the Matplotlib We work on Image with open Cv  "
   ]
  },
  {
   "cell_type": "code",
   "execution_count": null,
   "id": "9f97d9ca-e898-454c-a815-b26843df33c9",
   "metadata": {},
   "outputs": [],
   "source": [
    "pip install opencv-python"
   ]
  },
  {
   "cell_type": "code",
   "execution_count": null,
   "id": "4f97b0b0-f66a-48ab-b77f-83ec3731c8f3",
   "metadata": {},
   "outputs": [],
   "source": [
    "import cv2 "
   ]
  },
  {
   "cell_type": "code",
   "execution_count": 7,
   "id": "76eff3ad-b5ca-41d9-a2bf-5f3437eed44a",
   "metadata": {},
   "outputs": [
    {
     "data": {
      "text/plain": [
       "-1"
      ]
     },
     "execution_count": 7,
     "metadata": {},
     "output_type": "execute_result"
    }
   ],
   "source": [
    "import cv2 \n",
    "myimg = cv2.imread(r'C:\\image\\elephant.jpg')\n",
    "cv2.imshow('My Image',myimg)\n",
    "cv2.waitKey()"
   ]
  },
  {
   "cell_type": "code",
   "execution_count": null,
   "id": "67e25047-c44e-4972-921d-7e8e8b91a3b3",
   "metadata": {},
   "outputs": [],
   "source": [
    "import cv2 \n",
    "myimg = cv2.imread(r'C:\\image\\elephant.jpg')\n",
    "while True :\n",
    "    cv2.imshow('My Image ', myimg)\n",
    "    if cv2.waitKey(1)  & 0xFF == 1 :\n",
    "        break\n",
    "cv2.destryAllWindows()"
   ]
  },
  {
   "cell_type": "code",
   "execution_count": null,
   "id": "aeb0e643-6af2-474d-a97d-cd9c6db47750",
   "metadata": {},
   "outputs": [],
   "source": []
  },
  {
   "cell_type": "code",
   "execution_count": null,
   "id": "5a53d51d-06ae-4252-8e6a-d320232969d6",
   "metadata": {},
   "outputs": [],
   "source": []
  }
 ],
 "metadata": {
  "kernelspec": {
   "display_name": "Python 3 (ipykernel)",
   "language": "python",
   "name": "python3"
  },
  "language_info": {
   "codemirror_mode": {
    "name": "ipython",
    "version": 3
   },
   "file_extension": ".py",
   "mimetype": "text/x-python",
   "name": "python",
   "nbconvert_exporter": "python",
   "pygments_lexer": "ipython3",
   "version": "3.12.7"
  }
 },
 "nbformat": 4,
 "nbformat_minor": 5
}

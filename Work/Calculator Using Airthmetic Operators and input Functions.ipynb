{
 "cells": [
  {
   "cell_type": "code",
   "execution_count": 17,
   "id": "e501bf3a-e75e-4f08-b5f5-fe5f0195c261",
   "metadata": {},
   "outputs": [
    {
     "name": "stdin",
     "output_type": "stream",
     "text": [
      "Enter the first number : 5000\n",
      "Enter the second number : 200\n"
     ]
    },
    {
     "name": "stdout",
     "output_type": "stream",
     "text": [
      "The of sum of 5000.0 and 200.0 is : 5200.0\n",
      "The of substraction of 5000.0 and 200.0 is : 4800.0\n",
      "The of multiplication of 5000.0 and 200.0 is : 1000000.0\n",
      "The of divion of 5000.0 and 200.0 is : 25.0\n"
     ]
    }
   ],
   "source": [
    "# CALCULATOR USING THE AIRTHMETIC OPERATORS AND INPUT FUNCTIONS \n",
    "\n",
    "# DECALRE TWO VARIABLE THAT WILL TAKE THE INPUT FROM THE USERS AND THE IT WILL ADD ,SUBSTRACT MULTIPLY AND DIVISION\n",
    "a = float(input(\"Enter the first number :\"))\n",
    "b = float(input(\"Enter the second the number :\"))\n",
    "# for addition \n",
    "print(f'The of sum of {a} and {b} is :' , a+b)\n",
    "\n",
    "\n",
    "# for substarction \n",
    "print(f'The of substarction of {a} and {b} is :' , a-b)\n",
    "\n",
    "# for multiplication \n",
    "print(f'The of multiplication of {a} and {b} is :' , a*b)\n",
    "\n",
    "# for divsion \n",
    "\n",
    "print(f'The of divion of {a} and {b} is :' , a/b)\n",
    "\n"
   ]
  },
  {
   "cell_type": "code",
   "execution_count": null,
   "id": "912c5398-9679-42a1-9be4-f9cb0ce99a8b",
   "metadata": {},
   "outputs": [],
   "source": []
  }
 ],
 "metadata": {
  "kernelspec": {
   "display_name": "Python 3 (ipykernel)",
   "language": "python",
   "name": "python3"
  },
  "language_info": {
   "codemirror_mode": {
    "name": "ipython",
    "version": 3
   },
   "file_extension": ".py",
   "mimetype": "text/x-python",
   "name": "python",
   "nbconvert_exporter": "python",
   "pygments_lexer": "ipython3",
   "version": "3.12.7"
  }
 },
 "nbformat": 4,
 "nbformat_minor": 5
}

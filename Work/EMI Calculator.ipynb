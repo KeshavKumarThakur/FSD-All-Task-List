{
 "cells": [
  {
   "cell_type": "code",
   "execution_count": 7,
   "id": "25cad57f-ee3c-4274-b888-1a2631c1fe35",
   "metadata": {},
   "outputs": [
    {
     "name": "stdin",
     "output_type": "stream",
     "text": [
      "Enter the principal amount:  10000\n",
      "Enter rate of interest:  10\n",
      "Enter time in years:  1\n"
     ]
    },
    {
     "name": "stdout",
     "output_type": "stream",
     "text": [
      "Interest you have to pay : 1000.0\n",
      "Total Amount you have to pay : 11000.0\n"
     ]
    }
   ],
   "source": [
    "# calulate TotalPayable Ammount and compound interest using python \n",
    "#Amount = principal * (pow((1 + rate / 100), time))\n",
    "principal = int(input(\"Enter the principal amount: \"))\n",
    "rate = int(input(\"Enter rate of interest: \"))\n",
    "time2 = int(input(\"Enter time in years: \" ))\n",
    "\n",
    "Amount = principal * (pow((1 + rate / 100), time2))   #a=p*(1+(r/100))**t  # formula for calculating amount\n",
    "CI = Amount - principal  #compound interest = amount - principal amount\n",
    "totalpayable = principal+CI\n",
    "print(\"Interest you have to pay :\", CI)\n",
    "print(\"Total Amount you have to pay :\", totalpayable)\n"
   ]
  },
  {
   "cell_type": "code",
   "execution_count": null,
   "id": "03b53e5c-0577-42dd-ba83-5a67c05054ac",
   "metadata": {},
   "outputs": [],
   "source": []
  }
 ],
 "metadata": {
  "kernelspec": {
   "display_name": "Python 3 (ipykernel)",
   "language": "python",
   "name": "python3"
  },
  "language_info": {
   "codemirror_mode": {
    "name": "ipython",
    "version": 3
   },
   "file_extension": ".py",
   "mimetype": "text/x-python",
   "name": "python",
   "nbconvert_exporter": "python",
   "pygments_lexer": "ipython3",
   "version": "3.12.7"
  }
 },
 "nbformat": 4,
 "nbformat_minor": 5
}

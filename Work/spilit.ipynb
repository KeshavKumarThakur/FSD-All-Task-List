{
 "cells": [
  {
   "cell_type": "code",
   "execution_count": 66,
   "id": "3de3ca1a-c4c1-4efe-8555-8c05d3cf803d",
   "metadata": {},
   "outputs": [],
   "source": [
    "import pandas as pd\n",
    "import numpy as np \n",
    "import matplotlib.pyplot as plt\n"
   ]
  },
  {
   "cell_type": "code",
   "execution_count": 70,
   "id": "38c5955a-5c40-4de5-b8b2-74f044e94074",
   "metadata": {},
   "outputs": [
    {
     "data": {
      "text/html": [
       "<div>\n",
       "<style scoped>\n",
       "    .dataframe tbody tr th:only-of-type {\n",
       "        vertical-align: middle;\n",
       "    }\n",
       "\n",
       "    .dataframe tbody tr th {\n",
       "        vertical-align: top;\n",
       "    }\n",
       "\n",
       "    .dataframe thead th {\n",
       "        text-align: right;\n",
       "    }\n",
       "</style>\n",
       "<table border=\"1\" class=\"dataframe\">\n",
       "  <thead>\n",
       "    <tr style=\"text-align: right;\">\n",
       "      <th></th>\n",
       "      <th>Name</th>\n",
       "      <th>Address</th>\n",
       "      <th>Date</th>\n",
       "      <th>Time</th>\n",
       "    </tr>\n",
       "  </thead>\n",
       "  <tbody>\n",
       "    <tr>\n",
       "      <th>0</th>\n",
       "      <td>Prabhas' Residence</td>\n",
       "      <td>839, Road Number 44, Jubilee Hills, Hyderabad</td>\n",
       "      <td>12/8/1985</td>\n",
       "      <td>6hrs:20min:10sec</td>\n",
       "    </tr>\n",
       "    <tr>\n",
       "      <th>1</th>\n",
       "      <td>Mahesh Babu's Residence</td>\n",
       "      <td>Plot No. 60/A, Road No. 12, Film Nagar, Hydera...</td>\n",
       "      <td>10/8/1995</td>\n",
       "      <td>6hrs:20min:10sec</td>\n",
       "    </tr>\n",
       "    <tr>\n",
       "      <th>2</th>\n",
       "      <td>Chiranjeevi's Residence</td>\n",
       "      <td>Road No. 25, Jubilee Hills, Hyderabad.</td>\n",
       "      <td>15/2/1990</td>\n",
       "      <td>11hrs:12min:17sec</td>\n",
       "    </tr>\n",
       "    <tr>\n",
       "      <th>3</th>\n",
       "      <td>Prabhas' Residence</td>\n",
       "      <td>Plot No. 60/A, Road No. 12, Film Nagar, Hydera...</td>\n",
       "      <td>NaN</td>\n",
       "      <td>NaN</td>\n",
       "    </tr>\n",
       "    <tr>\n",
       "      <th>4</th>\n",
       "      <td>Babu's Residence</td>\n",
       "      <td>839, Road Number 44, Hayatnagar Hills, Hyderabad</td>\n",
       "      <td>NaN</td>\n",
       "      <td>NaN</td>\n",
       "    </tr>\n",
       "    <tr>\n",
       "      <th>5</th>\n",
       "      <td>KK Residence</td>\n",
       "      <td>Plot No. 60/BA, Road No. 12, Film Nagar, Hyder...</td>\n",
       "      <td>NaN</td>\n",
       "      <td>NaN</td>\n",
       "    </tr>\n",
       "    <tr>\n",
       "      <th>6</th>\n",
       "      <td>Raj Residence</td>\n",
       "      <td>8399, Road Number 445, Banjara Hills, Hyderabad</td>\n",
       "      <td>NaN</td>\n",
       "      <td>NaN</td>\n",
       "    </tr>\n",
       "  </tbody>\n",
       "</table>\n",
       "</div>"
      ],
      "text/plain": [
       "                     Name                                            Address   \\\n",
       "0       Prabhas' Residence      839, Road Number 44, Jubilee Hills, Hyderabad   \n",
       "1  Mahesh Babu's Residence  Plot No. 60/A, Road No. 12, Film Nagar, Hydera...   \n",
       "2  Chiranjeevi's Residence             Road No. 25, Jubilee Hills, Hyderabad.   \n",
       "3       Prabhas' Residence  Plot No. 60/A, Road No. 12, Film Nagar, Hydera...   \n",
       "4         Babu's Residence   839, Road Number 44, Hayatnagar Hills, Hyderabad   \n",
       "5             KK Residence  Plot No. 60/BA, Road No. 12, Film Nagar, Hyder...   \n",
       "6            Raj Residence    8399, Road Number 445, Banjara Hills, Hyderabad   \n",
       "\n",
       "       Date               Time   \n",
       "0  12/8/1985   6hrs:20min:10sec  \n",
       "1  10/8/1995   6hrs:20min:10sec  \n",
       "2  15/2/1990  11hrs:12min:17sec  \n",
       "3        NaN                NaN  \n",
       "4        NaN                NaN  \n",
       "5        NaN                NaN  \n",
       "6        NaN                NaN  "
      ]
     },
     "execution_count": 70,
     "metadata": {},
     "output_type": "execute_result"
    }
   ],
   "source": [
    "df = pd.read_csv(r'E:\\Data Sets -Data Frames\\Book12.csv')\n",
    "df"
   ]
  },
  {
   "cell_type": "code",
   "execution_count": 72,
   "id": "9de226db-4ff9-43bd-bca3-494979d6a12d",
   "metadata": {},
   "outputs": [
    {
     "data": {
      "text/html": [
       "<div>\n",
       "<style scoped>\n",
       "    .dataframe tbody tr th:only-of-type {\n",
       "        vertical-align: middle;\n",
       "    }\n",
       "\n",
       "    .dataframe tbody tr th {\n",
       "        vertical-align: top;\n",
       "    }\n",
       "\n",
       "    .dataframe thead th {\n",
       "        text-align: right;\n",
       "    }\n",
       "</style>\n",
       "<table border=\"1\" class=\"dataframe\">\n",
       "  <thead>\n",
       "    <tr style=\"text-align: right;\">\n",
       "      <th></th>\n",
       "      <th>Name</th>\n",
       "      <th>Address</th>\n",
       "      <th>Date</th>\n",
       "      <th>Time</th>\n",
       "    </tr>\n",
       "  </thead>\n",
       "  <tbody>\n",
       "    <tr>\n",
       "      <th>0</th>\n",
       "      <td>Prabhas' Residence</td>\n",
       "      <td>839, Road Number 44, Jubilee Hills, Hyderabad</td>\n",
       "      <td>12/8/1985</td>\n",
       "      <td>6hrs:20min:10sec</td>\n",
       "    </tr>\n",
       "    <tr>\n",
       "      <th>1</th>\n",
       "      <td>Mahesh Babu's Residence</td>\n",
       "      <td>Plot No. 60/A, Road No. 12, Film Nagar, Hydera...</td>\n",
       "      <td>10/8/1995</td>\n",
       "      <td>6hrs:20min:10sec</td>\n",
       "    </tr>\n",
       "    <tr>\n",
       "      <th>2</th>\n",
       "      <td>Chiranjeevi's Residence</td>\n",
       "      <td>Road No. 25, Jubilee Hills, Hyderabad.</td>\n",
       "      <td>15/2/1990</td>\n",
       "      <td>11hrs:12min:17sec</td>\n",
       "    </tr>\n",
       "    <tr>\n",
       "      <th>3</th>\n",
       "      <td>Prabhas' Residence</td>\n",
       "      <td>Plot No. 60/A, Road No. 12, Film Nagar, Hydera...</td>\n",
       "      <td>NaN</td>\n",
       "      <td>NaN</td>\n",
       "    </tr>\n",
       "    <tr>\n",
       "      <th>4</th>\n",
       "      <td>Babu's Residence</td>\n",
       "      <td>839, Road Number 44, Hayatnagar Hills, Hyderabad</td>\n",
       "      <td>NaN</td>\n",
       "      <td>NaN</td>\n",
       "    </tr>\n",
       "    <tr>\n",
       "      <th>5</th>\n",
       "      <td>KK Residence</td>\n",
       "      <td>Plot No. 60/BA, Road No. 12, Film Nagar, Hyder...</td>\n",
       "      <td>NaN</td>\n",
       "      <td>NaN</td>\n",
       "    </tr>\n",
       "    <tr>\n",
       "      <th>6</th>\n",
       "      <td>Raj Residence</td>\n",
       "      <td>8399, Road Number 445, Banjara Hills, Hyderabad</td>\n",
       "      <td>NaN</td>\n",
       "      <td>NaN</td>\n",
       "    </tr>\n",
       "  </tbody>\n",
       "</table>\n",
       "</div>"
      ],
      "text/plain": [
       "                     Name                                            Address   \\\n",
       "0       Prabhas' Residence      839, Road Number 44, Jubilee Hills, Hyderabad   \n",
       "1  Mahesh Babu's Residence  Plot No. 60/A, Road No. 12, Film Nagar, Hydera...   \n",
       "2  Chiranjeevi's Residence             Road No. 25, Jubilee Hills, Hyderabad.   \n",
       "3       Prabhas' Residence  Plot No. 60/A, Road No. 12, Film Nagar, Hydera...   \n",
       "4         Babu's Residence   839, Road Number 44, Hayatnagar Hills, Hyderabad   \n",
       "5             KK Residence  Plot No. 60/BA, Road No. 12, Film Nagar, Hyder...   \n",
       "6            Raj Residence    8399, Road Number 445, Banjara Hills, Hyderabad   \n",
       "\n",
       "       Date               Time   \n",
       "0  12/8/1985   6hrs:20min:10sec  \n",
       "1  10/8/1995   6hrs:20min:10sec  \n",
       "2  15/2/1990  11hrs:12min:17sec  \n",
       "3        NaN                NaN  \n",
       "4        NaN                NaN  \n",
       "5        NaN                NaN  \n",
       "6        NaN                NaN  "
      ]
     },
     "execution_count": 72,
     "metadata": {},
     "output_type": "execute_result"
    }
   ],
   "source": [
    "df"
   ]
  },
  {
   "cell_type": "code",
   "execution_count": 74,
   "id": "8455b3dc-dfaf-4a94-bfc7-8c3f46375b3f",
   "metadata": {},
   "outputs": [
    {
     "data": {
      "text/plain": [
       "Index(['Name ', 'Address ', 'Date ', 'Time '], dtype='object')"
      ]
     },
     "execution_count": 74,
     "metadata": {},
     "output_type": "execute_result"
    }
   ],
   "source": [
    "df.columns"
   ]
  },
  {
   "cell_type": "code",
   "execution_count": 80,
   "id": "9e3159ab-535d-48d3-8507-56acbbdba5dc",
   "metadata": {},
   "outputs": [
    {
     "data": {
      "text/html": [
       "<div>\n",
       "<style scoped>\n",
       "    .dataframe tbody tr th:only-of-type {\n",
       "        vertical-align: middle;\n",
       "    }\n",
       "\n",
       "    .dataframe tbody tr th {\n",
       "        vertical-align: top;\n",
       "    }\n",
       "\n",
       "    .dataframe thead th {\n",
       "        text-align: right;\n",
       "    }\n",
       "</style>\n",
       "<table border=\"1\" class=\"dataframe\">\n",
       "  <thead>\n",
       "    <tr style=\"text-align: right;\">\n",
       "      <th></th>\n",
       "      <th>Keshav</th>\n",
       "      <th>Rishav</th>\n",
       "      <th>date</th>\n",
       "      <th>time</th>\n",
       "    </tr>\n",
       "  </thead>\n",
       "  <tbody>\n",
       "    <tr>\n",
       "      <th>0</th>\n",
       "      <td>Prabhas' Residence</td>\n",
       "      <td>839, Road Number 44, Jubilee Hills, Hyderabad</td>\n",
       "      <td>12/8/1985</td>\n",
       "      <td>6hrs:20min:10sec</td>\n",
       "    </tr>\n",
       "    <tr>\n",
       "      <th>1</th>\n",
       "      <td>Mahesh Babu's Residence</td>\n",
       "      <td>Plot No. 60/A, Road No. 12, Film Nagar, Hydera...</td>\n",
       "      <td>10/8/1995</td>\n",
       "      <td>6hrs:20min:10sec</td>\n",
       "    </tr>\n",
       "    <tr>\n",
       "      <th>2</th>\n",
       "      <td>Chiranjeevi's Residence</td>\n",
       "      <td>Road No. 25, Jubilee Hills, Hyderabad.</td>\n",
       "      <td>15/2/1990</td>\n",
       "      <td>11hrs:12min:17sec</td>\n",
       "    </tr>\n",
       "    <tr>\n",
       "      <th>3</th>\n",
       "      <td>Prabhas' Residence</td>\n",
       "      <td>Plot No. 60/A, Road No. 12, Film Nagar, Hydera...</td>\n",
       "      <td>NaN</td>\n",
       "      <td>NaN</td>\n",
       "    </tr>\n",
       "    <tr>\n",
       "      <th>4</th>\n",
       "      <td>Babu's Residence</td>\n",
       "      <td>839, Road Number 44, Hayatnagar Hills, Hyderabad</td>\n",
       "      <td>NaN</td>\n",
       "      <td>NaN</td>\n",
       "    </tr>\n",
       "    <tr>\n",
       "      <th>5</th>\n",
       "      <td>KK Residence</td>\n",
       "      <td>Plot No. 60/BA, Road No. 12, Film Nagar, Hyder...</td>\n",
       "      <td>NaN</td>\n",
       "      <td>NaN</td>\n",
       "    </tr>\n",
       "    <tr>\n",
       "      <th>6</th>\n",
       "      <td>Raj Residence</td>\n",
       "      <td>8399, Road Number 445, Banjara Hills, Hyderabad</td>\n",
       "      <td>NaN</td>\n",
       "      <td>NaN</td>\n",
       "    </tr>\n",
       "  </tbody>\n",
       "</table>\n",
       "</div>"
      ],
      "text/plain": [
       "                    Keshav                                             Rishav  \\\n",
       "0       Prabhas' Residence      839, Road Number 44, Jubilee Hills, Hyderabad   \n",
       "1  Mahesh Babu's Residence  Plot No. 60/A, Road No. 12, Film Nagar, Hydera...   \n",
       "2  Chiranjeevi's Residence             Road No. 25, Jubilee Hills, Hyderabad.   \n",
       "3       Prabhas' Residence  Plot No. 60/A, Road No. 12, Film Nagar, Hydera...   \n",
       "4         Babu's Residence   839, Road Number 44, Hayatnagar Hills, Hyderabad   \n",
       "5             KK Residence  Plot No. 60/BA, Road No. 12, Film Nagar, Hyder...   \n",
       "6            Raj Residence    8399, Road Number 445, Banjara Hills, Hyderabad   \n",
       "\n",
       "        date               time  \n",
       "0  12/8/1985   6hrs:20min:10sec  \n",
       "1  10/8/1995   6hrs:20min:10sec  \n",
       "2  15/2/1990  11hrs:12min:17sec  \n",
       "3        NaN                NaN  \n",
       "4        NaN                NaN  \n",
       "5        NaN                NaN  \n",
       "6        NaN                NaN  "
      ]
     },
     "execution_count": 80,
     "metadata": {},
     "output_type": "execute_result"
    }
   ],
   "source": [
    "df.columns = ['Keshav','Rishav','date','time']\n",
    "df"
   ]
  },
  {
   "cell_type": "code",
   "execution_count": 90,
   "id": "31ff69e3-6c33-49fe-b46a-e560977fbce4",
   "metadata": {},
   "outputs": [
    {
     "data": {
      "text/plain": [
       "Index(['Keshav', 'Rishav', 'date', 'time'], dtype='object')"
      ]
     },
     "execution_count": 90,
     "metadata": {},
     "output_type": "execute_result"
    }
   ],
   "source": [
    "df.columns"
   ]
  },
  {
   "cell_type": "code",
   "execution_count": 94,
   "id": "4e43bff0-c974-4c86-806b-69178540e676",
   "metadata": {},
   "outputs": [],
   "source": [
    "df.columns = ['Name', 'Address', 'Date', 'Time']"
   ]
  },
  {
   "cell_type": "code",
   "execution_count": 96,
   "id": "62449a10-be2a-44df-9d2f-444de40b6ac4",
   "metadata": {},
   "outputs": [
    {
     "data": {
      "text/html": [
       "<div>\n",
       "<style scoped>\n",
       "    .dataframe tbody tr th:only-of-type {\n",
       "        vertical-align: middle;\n",
       "    }\n",
       "\n",
       "    .dataframe tbody tr th {\n",
       "        vertical-align: top;\n",
       "    }\n",
       "\n",
       "    .dataframe thead th {\n",
       "        text-align: right;\n",
       "    }\n",
       "</style>\n",
       "<table border=\"1\" class=\"dataframe\">\n",
       "  <thead>\n",
       "    <tr style=\"text-align: right;\">\n",
       "      <th></th>\n",
       "      <th>Name</th>\n",
       "      <th>Address</th>\n",
       "      <th>Date</th>\n",
       "      <th>Time</th>\n",
       "    </tr>\n",
       "  </thead>\n",
       "  <tbody>\n",
       "    <tr>\n",
       "      <th>0</th>\n",
       "      <td>Prabhas' Residence</td>\n",
       "      <td>839, Road Number 44, Jubilee Hills, Hyderabad</td>\n",
       "      <td>12/8/1985</td>\n",
       "      <td>6hrs:20min:10sec</td>\n",
       "    </tr>\n",
       "    <tr>\n",
       "      <th>1</th>\n",
       "      <td>Mahesh Babu's Residence</td>\n",
       "      <td>Plot No. 60/A, Road No. 12, Film Nagar, Hydera...</td>\n",
       "      <td>10/8/1995</td>\n",
       "      <td>6hrs:20min:10sec</td>\n",
       "    </tr>\n",
       "    <tr>\n",
       "      <th>2</th>\n",
       "      <td>Chiranjeevi's Residence</td>\n",
       "      <td>Road No. 25, Jubilee Hills, Hyderabad.</td>\n",
       "      <td>15/2/1990</td>\n",
       "      <td>11hrs:12min:17sec</td>\n",
       "    </tr>\n",
       "    <tr>\n",
       "      <th>3</th>\n",
       "      <td>Prabhas' Residence</td>\n",
       "      <td>Plot No. 60/A, Road No. 12, Film Nagar, Hydera...</td>\n",
       "      <td>NaN</td>\n",
       "      <td>NaN</td>\n",
       "    </tr>\n",
       "    <tr>\n",
       "      <th>4</th>\n",
       "      <td>Babu's Residence</td>\n",
       "      <td>839, Road Number 44, Hayatnagar Hills, Hyderabad</td>\n",
       "      <td>NaN</td>\n",
       "      <td>NaN</td>\n",
       "    </tr>\n",
       "    <tr>\n",
       "      <th>5</th>\n",
       "      <td>KK Residence</td>\n",
       "      <td>Plot No. 60/BA, Road No. 12, Film Nagar, Hyder...</td>\n",
       "      <td>NaN</td>\n",
       "      <td>NaN</td>\n",
       "    </tr>\n",
       "    <tr>\n",
       "      <th>6</th>\n",
       "      <td>Raj Residence</td>\n",
       "      <td>8399, Road Number 445, Banjara Hills, Hyderabad</td>\n",
       "      <td>NaN</td>\n",
       "      <td>NaN</td>\n",
       "    </tr>\n",
       "  </tbody>\n",
       "</table>\n",
       "</div>"
      ],
      "text/plain": [
       "                      Name                                            Address  \\\n",
       "0       Prabhas' Residence      839, Road Number 44, Jubilee Hills, Hyderabad   \n",
       "1  Mahesh Babu's Residence  Plot No. 60/A, Road No. 12, Film Nagar, Hydera...   \n",
       "2  Chiranjeevi's Residence             Road No. 25, Jubilee Hills, Hyderabad.   \n",
       "3       Prabhas' Residence  Plot No. 60/A, Road No. 12, Film Nagar, Hydera...   \n",
       "4         Babu's Residence   839, Road Number 44, Hayatnagar Hills, Hyderabad   \n",
       "5             KK Residence  Plot No. 60/BA, Road No. 12, Film Nagar, Hyder...   \n",
       "6            Raj Residence    8399, Road Number 445, Banjara Hills, Hyderabad   \n",
       "\n",
       "        Date               Time  \n",
       "0  12/8/1985   6hrs:20min:10sec  \n",
       "1  10/8/1995   6hrs:20min:10sec  \n",
       "2  15/2/1990  11hrs:12min:17sec  \n",
       "3        NaN                NaN  \n",
       "4        NaN                NaN  \n",
       "5        NaN                NaN  \n",
       "6        NaN                NaN  "
      ]
     },
     "execution_count": 96,
     "metadata": {},
     "output_type": "execute_result"
    }
   ],
   "source": [
    "df"
   ]
  },
  {
   "cell_type": "code",
   "execution_count": 98,
   "id": "7adf7406-c893-466d-9f51-e03522c2a9cf",
   "metadata": {},
   "outputs": [
    {
     "data": {
      "text/plain": [
       "Index(['Name', 'Address', 'Date', 'Time'], dtype='object')"
      ]
     },
     "execution_count": 98,
     "metadata": {},
     "output_type": "execute_result"
    }
   ],
   "source": [
    "df.columns"
   ]
  },
  {
   "cell_type": "code",
   "execution_count": 104,
   "id": "ecdfe34e-120d-4956-8e1a-d3c1e87dfa1e",
   "metadata": {},
   "outputs": [],
   "source": [
    "df.rename(columns={'Time': 'Man'}, inplace=True)\n"
   ]
  },
  {
   "cell_type": "code",
   "execution_count": 108,
   "id": "7f466639-eddf-4943-842c-a32050c6453e",
   "metadata": {},
   "outputs": [],
   "source": [
    "df.rename(columns={\"Man\":'Time'},inplace = True)"
   ]
  },
  {
   "cell_type": "code",
   "execution_count": 110,
   "id": "3a932ae1-b87c-4c6a-bee4-f138e6c697d1",
   "metadata": {},
   "outputs": [
    {
     "data": {
      "text/html": [
       "<div>\n",
       "<style scoped>\n",
       "    .dataframe tbody tr th:only-of-type {\n",
       "        vertical-align: middle;\n",
       "    }\n",
       "\n",
       "    .dataframe tbody tr th {\n",
       "        vertical-align: top;\n",
       "    }\n",
       "\n",
       "    .dataframe thead th {\n",
       "        text-align: right;\n",
       "    }\n",
       "</style>\n",
       "<table border=\"1\" class=\"dataframe\">\n",
       "  <thead>\n",
       "    <tr style=\"text-align: right;\">\n",
       "      <th></th>\n",
       "      <th>Name</th>\n",
       "      <th>Address</th>\n",
       "      <th>Date</th>\n",
       "      <th>Time</th>\n",
       "    </tr>\n",
       "  </thead>\n",
       "  <tbody>\n",
       "    <tr>\n",
       "      <th>0</th>\n",
       "      <td>Prabhas' Residence</td>\n",
       "      <td>839, Road Number 44, Jubilee Hills, Hyderabad</td>\n",
       "      <td>12/8/1985</td>\n",
       "      <td>6hrs:20min:10sec</td>\n",
       "    </tr>\n",
       "    <tr>\n",
       "      <th>1</th>\n",
       "      <td>Mahesh Babu's Residence</td>\n",
       "      <td>Plot No. 60/A, Road No. 12, Film Nagar, Hydera...</td>\n",
       "      <td>10/8/1995</td>\n",
       "      <td>6hrs:20min:10sec</td>\n",
       "    </tr>\n",
       "    <tr>\n",
       "      <th>2</th>\n",
       "      <td>Chiranjeevi's Residence</td>\n",
       "      <td>Road No. 25, Jubilee Hills, Hyderabad.</td>\n",
       "      <td>15/2/1990</td>\n",
       "      <td>11hrs:12min:17sec</td>\n",
       "    </tr>\n",
       "    <tr>\n",
       "      <th>3</th>\n",
       "      <td>Prabhas' Residence</td>\n",
       "      <td>Plot No. 60/A, Road No. 12, Film Nagar, Hydera...</td>\n",
       "      <td>NaN</td>\n",
       "      <td>NaN</td>\n",
       "    </tr>\n",
       "    <tr>\n",
       "      <th>4</th>\n",
       "      <td>Babu's Residence</td>\n",
       "      <td>839, Road Number 44, Hayatnagar Hills, Hyderabad</td>\n",
       "      <td>NaN</td>\n",
       "      <td>NaN</td>\n",
       "    </tr>\n",
       "    <tr>\n",
       "      <th>5</th>\n",
       "      <td>KK Residence</td>\n",
       "      <td>Plot No. 60/BA, Road No. 12, Film Nagar, Hyder...</td>\n",
       "      <td>NaN</td>\n",
       "      <td>NaN</td>\n",
       "    </tr>\n",
       "    <tr>\n",
       "      <th>6</th>\n",
       "      <td>Raj Residence</td>\n",
       "      <td>8399, Road Number 445, Banjara Hills, Hyderabad</td>\n",
       "      <td>NaN</td>\n",
       "      <td>NaN</td>\n",
       "    </tr>\n",
       "  </tbody>\n",
       "</table>\n",
       "</div>"
      ],
      "text/plain": [
       "                      Name                                            Address  \\\n",
       "0       Prabhas' Residence      839, Road Number 44, Jubilee Hills, Hyderabad   \n",
       "1  Mahesh Babu's Residence  Plot No. 60/A, Road No. 12, Film Nagar, Hydera...   \n",
       "2  Chiranjeevi's Residence             Road No. 25, Jubilee Hills, Hyderabad.   \n",
       "3       Prabhas' Residence  Plot No. 60/A, Road No. 12, Film Nagar, Hydera...   \n",
       "4         Babu's Residence   839, Road Number 44, Hayatnagar Hills, Hyderabad   \n",
       "5             KK Residence  Plot No. 60/BA, Road No. 12, Film Nagar, Hyder...   \n",
       "6            Raj Residence    8399, Road Number 445, Banjara Hills, Hyderabad   \n",
       "\n",
       "        Date               Time  \n",
       "0  12/8/1985   6hrs:20min:10sec  \n",
       "1  10/8/1995   6hrs:20min:10sec  \n",
       "2  15/2/1990  11hrs:12min:17sec  \n",
       "3        NaN                NaN  \n",
       "4        NaN                NaN  \n",
       "5        NaN                NaN  \n",
       "6        NaN                NaN  "
      ]
     },
     "execution_count": 110,
     "metadata": {},
     "output_type": "execute_result"
    }
   ],
   "source": [
    "df"
   ]
  },
  {
   "cell_type": "code",
   "execution_count": 117,
   "id": "4c70c9fa-8c2b-4555-8161-09f1dffa5ef8",
   "metadata": {},
   "outputs": [
    {
     "data": {
      "text/html": [
       "<div>\n",
       "<style scoped>\n",
       "    .dataframe tbody tr th:only-of-type {\n",
       "        vertical-align: middle;\n",
       "    }\n",
       "\n",
       "    .dataframe tbody tr th {\n",
       "        vertical-align: top;\n",
       "    }\n",
       "\n",
       "    .dataframe thead th {\n",
       "        text-align: right;\n",
       "    }\n",
       "</style>\n",
       "<table border=\"1\" class=\"dataframe\">\n",
       "  <thead>\n",
       "    <tr style=\"text-align: right;\">\n",
       "      <th></th>\n",
       "      <th>Name</th>\n",
       "      <th>Address</th>\n",
       "      <th>Date</th>\n",
       "      <th>Time</th>\n",
       "    </tr>\n",
       "  </thead>\n",
       "  <tbody>\n",
       "    <tr>\n",
       "      <th>0</th>\n",
       "      <td>Prabhas' Residence</td>\n",
       "      <td>839, Road Number 44, Jubilee Hills, Hyderabad</td>\n",
       "      <td>12/8/1985</td>\n",
       "      <td>6hrs:20min:10sec</td>\n",
       "    </tr>\n",
       "    <tr>\n",
       "      <th>1</th>\n",
       "      <td>Mahesh Babu's Residence</td>\n",
       "      <td>Plot No. 60/A, Road No. 12, Film Nagar, Hydera...</td>\n",
       "      <td>10/8/1995</td>\n",
       "      <td>6hrs:20min:10sec</td>\n",
       "    </tr>\n",
       "    <tr>\n",
       "      <th>2</th>\n",
       "      <td>Chiranjeevi's Residence</td>\n",
       "      <td>Road No. 25, Jubilee Hills, Hyderabad.</td>\n",
       "      <td>15/2/1990</td>\n",
       "      <td>11hrs:12min:17sec</td>\n",
       "    </tr>\n",
       "    <tr>\n",
       "      <th>3</th>\n",
       "      <td>Prabhas' Residence</td>\n",
       "      <td>Plot No. 60/A, Road No. 12, Film Nagar, Hydera...</td>\n",
       "      <td>NaN</td>\n",
       "      <td>NaN</td>\n",
       "    </tr>\n",
       "    <tr>\n",
       "      <th>4</th>\n",
       "      <td>Babu's Residence</td>\n",
       "      <td>839, Road Number 44, Hayatnagar Hills, Hyderabad</td>\n",
       "      <td>NaN</td>\n",
       "      <td>NaN</td>\n",
       "    </tr>\n",
       "    <tr>\n",
       "      <th>5</th>\n",
       "      <td>KK Residence</td>\n",
       "      <td>Plot No. 60/BA, Road No. 12, Film Nagar, Hyder...</td>\n",
       "      <td>NaN</td>\n",
       "      <td>NaN</td>\n",
       "    </tr>\n",
       "    <tr>\n",
       "      <th>6</th>\n",
       "      <td>Raj Residence</td>\n",
       "      <td>8399, Road Number 445, Banjara Hills, Hyderabad</td>\n",
       "      <td>NaN</td>\n",
       "      <td>NaN</td>\n",
       "    </tr>\n",
       "  </tbody>\n",
       "</table>\n",
       "</div>"
      ],
      "text/plain": [
       "                      Name                                            Address  \\\n",
       "0       Prabhas' Residence      839, Road Number 44, Jubilee Hills, Hyderabad   \n",
       "1  Mahesh Babu's Residence  Plot No. 60/A, Road No. 12, Film Nagar, Hydera...   \n",
       "2  Chiranjeevi's Residence             Road No. 25, Jubilee Hills, Hyderabad.   \n",
       "3       Prabhas' Residence  Plot No. 60/A, Road No. 12, Film Nagar, Hydera...   \n",
       "4         Babu's Residence   839, Road Number 44, Hayatnagar Hills, Hyderabad   \n",
       "5             KK Residence  Plot No. 60/BA, Road No. 12, Film Nagar, Hyder...   \n",
       "6            Raj Residence    8399, Road Number 445, Banjara Hills, Hyderabad   \n",
       "\n",
       "        Date               Time  \n",
       "0  12/8/1985   6hrs:20min:10sec  \n",
       "1  10/8/1995   6hrs:20min:10sec  \n",
       "2  15/2/1990  11hrs:12min:17sec  \n",
       "3        NaN                NaN  \n",
       "4        NaN                NaN  \n",
       "5        NaN                NaN  \n",
       "6        NaN                NaN  "
      ]
     },
     "execution_count": 117,
     "metadata": {},
     "output_type": "execute_result"
    }
   ],
   "source": [
    "df"
   ]
  },
  {
   "cell_type": "code",
   "execution_count": 125,
   "id": "bb4aead2-5b8d-45d7-967b-8b7a6a00fb91",
   "metadata": {},
   "outputs": [],
   "source": [
    "address_df = df['Address'].str.split(',',expand=True)"
   ]
  },
  {
   "cell_type": "code",
   "execution_count": 127,
   "id": "1422f4e8-fe65-4712-b680-20daf81ea3d8",
   "metadata": {},
   "outputs": [
    {
     "data": {
      "text/html": [
       "<div>\n",
       "<style scoped>\n",
       "    .dataframe tbody tr th:only-of-type {\n",
       "        vertical-align: middle;\n",
       "    }\n",
       "\n",
       "    .dataframe tbody tr th {\n",
       "        vertical-align: top;\n",
       "    }\n",
       "\n",
       "    .dataframe thead th {\n",
       "        text-align: right;\n",
       "    }\n",
       "</style>\n",
       "<table border=\"1\" class=\"dataframe\">\n",
       "  <thead>\n",
       "    <tr style=\"text-align: right;\">\n",
       "      <th></th>\n",
       "      <th>0</th>\n",
       "      <th>1</th>\n",
       "      <th>2</th>\n",
       "      <th>3</th>\n",
       "    </tr>\n",
       "  </thead>\n",
       "  <tbody>\n",
       "    <tr>\n",
       "      <th>0</th>\n",
       "      <td>839</td>\n",
       "      <td>Road Number 44</td>\n",
       "      <td>Jubilee Hills</td>\n",
       "      <td>Hyderabad</td>\n",
       "    </tr>\n",
       "    <tr>\n",
       "      <th>1</th>\n",
       "      <td>Plot No. 60/A</td>\n",
       "      <td>Road No. 12</td>\n",
       "      <td>Film Nagar</td>\n",
       "      <td>Hyderabad.</td>\n",
       "    </tr>\n",
       "    <tr>\n",
       "      <th>2</th>\n",
       "      <td>Road No. 25</td>\n",
       "      <td>Jubilee Hills</td>\n",
       "      <td>Hyderabad.</td>\n",
       "      <td>None</td>\n",
       "    </tr>\n",
       "    <tr>\n",
       "      <th>3</th>\n",
       "      <td>Plot No. 60/A</td>\n",
       "      <td>Road No. 12</td>\n",
       "      <td>Film Nagar</td>\n",
       "      <td>Hyderabad.</td>\n",
       "    </tr>\n",
       "    <tr>\n",
       "      <th>4</th>\n",
       "      <td>839</td>\n",
       "      <td>Road Number 44</td>\n",
       "      <td>Hayatnagar Hills</td>\n",
       "      <td>Hyderabad</td>\n",
       "    </tr>\n",
       "    <tr>\n",
       "      <th>5</th>\n",
       "      <td>Plot No. 60/BA</td>\n",
       "      <td>Road No. 12</td>\n",
       "      <td>Film Nagar</td>\n",
       "      <td>Hyderabad.</td>\n",
       "    </tr>\n",
       "    <tr>\n",
       "      <th>6</th>\n",
       "      <td>8399</td>\n",
       "      <td>Road Number 445</td>\n",
       "      <td>Banjara Hills</td>\n",
       "      <td>Hyderabad</td>\n",
       "    </tr>\n",
       "  </tbody>\n",
       "</table>\n",
       "</div>"
      ],
      "text/plain": [
       "                0                 1                  2            3\n",
       "0             839    Road Number 44      Jubilee Hills    Hyderabad\n",
       "1   Plot No. 60/A       Road No. 12         Film Nagar   Hyderabad.\n",
       "2     Road No. 25     Jubilee Hills         Hyderabad.         None\n",
       "3   Plot No. 60/A       Road No. 12         Film Nagar   Hyderabad.\n",
       "4             839    Road Number 44   Hayatnagar Hills    Hyderabad\n",
       "5  Plot No. 60/BA       Road No. 12         Film Nagar   Hyderabad.\n",
       "6            8399   Road Number 445      Banjara Hills    Hyderabad"
      ]
     },
     "execution_count": 127,
     "metadata": {},
     "output_type": "execute_result"
    }
   ],
   "source": [
    "address_df"
   ]
  },
  {
   "cell_type": "code",
   "execution_count": 131,
   "id": "427a25c5-8e93-4044-acd2-932cbc7588d8",
   "metadata": {},
   "outputs": [
    {
     "data": {
      "text/plain": [
       "Index(['Sreet No ', 'Road No ', 'City', 'State'], dtype='object')"
      ]
     },
     "execution_count": 131,
     "metadata": {},
     "output_type": "execute_result"
    }
   ],
   "source": [
    "address_df.columns = ['Sreet No ','Road No ', 'City','State']\n",
    "address_df.columns"
   ]
  },
  {
   "cell_type": "code",
   "execution_count": 133,
   "id": "81e5be4f-1d58-4f54-92ee-568f1a802573",
   "metadata": {},
   "outputs": [
    {
     "name": "stdout",
     "output_type": "stream",
     "text": [
      "        Sreet No           Road No                City        State\n",
      "0             839    Road Number 44      Jubilee Hills    Hyderabad\n",
      "1   Plot No. 60/A       Road No. 12         Film Nagar   Hyderabad.\n",
      "2     Road No. 25     Jubilee Hills         Hyderabad.         None\n",
      "3   Plot No. 60/A       Road No. 12         Film Nagar   Hyderabad.\n",
      "4             839    Road Number 44   Hayatnagar Hills    Hyderabad\n",
      "5  Plot No. 60/BA       Road No. 12         Film Nagar   Hyderabad.\n",
      "6            8399   Road Number 445      Banjara Hills    Hyderabad\n"
     ]
    }
   ],
   "source": [
    "print(address_df)"
   ]
  },
  {
   "cell_type": "code",
   "execution_count": null,
   "id": "66419adb-2fcc-4e79-83d8-9cdb61548d36",
   "metadata": {},
   "outputs": [],
   "source": []
  },
  {
   "cell_type": "code",
   "execution_count": null,
   "id": "bfd534ac-12d5-4747-8130-75c8cc52f5fa",
   "metadata": {},
   "outputs": [],
   "source": []
  },
  {
   "cell_type": "code",
   "execution_count": null,
   "id": "24523a5b-803f-499b-af30-89c2d97bf597",
   "metadata": {},
   "outputs": [],
   "source": []
  },
  {
   "cell_type": "code",
   "execution_count": null,
   "id": "23abd9ec-0e35-4339-8b54-52bcba83dd9d",
   "metadata": {},
   "outputs": [],
   "source": []
  },
  {
   "cell_type": "code",
   "execution_count": null,
   "id": "740eb551-3e88-4845-89e2-3445ad1f08e1",
   "metadata": {},
   "outputs": [],
   "source": []
  },
  {
   "cell_type": "code",
   "execution_count": null,
   "id": "bf2ea20f-4d02-4381-8753-3a9730e5d2c0",
   "metadata": {},
   "outputs": [],
   "source": []
  },
  {
   "cell_type": "code",
   "execution_count": null,
   "id": "c8ec2337-9cf4-4261-9093-a07b8f40a0db",
   "metadata": {},
   "outputs": [],
   "source": []
  },
  {
   "cell_type": "code",
   "execution_count": null,
   "id": "7e2e5443-b440-4db6-a37c-7125140234db",
   "metadata": {},
   "outputs": [],
   "source": []
  },
  {
   "cell_type": "code",
   "execution_count": null,
   "id": "7fa83d16-847b-4ca8-a5f3-fd6c595310c2",
   "metadata": {},
   "outputs": [],
   "source": []
  },
  {
   "cell_type": "code",
   "execution_count": null,
   "id": "e5838210-de85-4667-b257-0b05c415205c",
   "metadata": {},
   "outputs": [],
   "source": []
  },
  {
   "cell_type": "code",
   "execution_count": null,
   "id": "b3cf7b89-c803-4d86-8ad7-41b5074acda2",
   "metadata": {},
   "outputs": [],
   "source": []
  },
  {
   "cell_type": "code",
   "execution_count": null,
   "id": "008010a0-f99f-4bd9-b115-7077981fb744",
   "metadata": {},
   "outputs": [],
   "source": []
  },
  {
   "cell_type": "code",
   "execution_count": null,
   "id": "85046736-22ee-448c-8676-fdb2fad6a5b3",
   "metadata": {},
   "outputs": [],
   "source": []
  },
  {
   "cell_type": "code",
   "execution_count": null,
   "id": "c3b4d23b-2565-4540-9c61-96bf443cb1ad",
   "metadata": {},
   "outputs": [],
   "source": []
  },
  {
   "cell_type": "code",
   "execution_count": null,
   "id": "0fdbe7ba-359d-4196-92d4-9a2211239929",
   "metadata": {},
   "outputs": [],
   "source": []
  },
  {
   "cell_type": "code",
   "execution_count": null,
   "id": "8bc3c7bf-6752-4ce1-86bf-fbc1b831d847",
   "metadata": {},
   "outputs": [],
   "source": []
  },
  {
   "cell_type": "code",
   "execution_count": null,
   "id": "74808cf2-10a0-448a-878b-0112c79c716e",
   "metadata": {},
   "outputs": [],
   "source": []
  },
  {
   "cell_type": "code",
   "execution_count": null,
   "id": "0e199c4d-a647-4a9a-b81f-958239cccb7c",
   "metadata": {},
   "outputs": [],
   "source": []
  },
  {
   "cell_type": "code",
   "execution_count": null,
   "id": "21522c11-d5ac-44af-a7e1-444898de2b1e",
   "metadata": {},
   "outputs": [],
   "source": []
  },
  {
   "cell_type": "code",
   "execution_count": null,
   "id": "0b6630ef-127e-4578-aa09-e2e67823f7e0",
   "metadata": {},
   "outputs": [],
   "source": []
  },
  {
   "cell_type": "code",
   "execution_count": null,
   "id": "87bb556e-ca8f-4f4b-ae76-35a64710617c",
   "metadata": {},
   "outputs": [],
   "source": []
  },
  {
   "cell_type": "code",
   "execution_count": null,
   "id": "535b8ccd-7b03-45a2-bf87-c3ce05af99c9",
   "metadata": {},
   "outputs": [],
   "source": []
  }
 ],
 "metadata": {
  "kernelspec": {
   "display_name": "Python 3 (ipykernel)",
   "language": "python",
   "name": "python3"
  },
  "language_info": {
   "codemirror_mode": {
    "name": "ipython",
    "version": 3
   },
   "file_extension": ".py",
   "mimetype": "text/x-python",
   "name": "python",
   "nbconvert_exporter": "python",
   "pygments_lexer": "ipython3",
   "version": "3.12.7"
  }
 },
 "nbformat": 4,
 "nbformat_minor": 5
}

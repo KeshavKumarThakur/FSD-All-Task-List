{
 "cells": [
  {
   "cell_type": "markdown",
   "id": "498e9321-6406-4265-85ba-03d2d10dcf2c",
   "metadata": {},
   "source": [
    "# Single Line String "
   ]
  },
  {
   "cell_type": "code",
   "execution_count": 13,
   "id": "e9c9d191-f8ea-479c-9bd9-cc41c09deebb",
   "metadata": {},
   "outputs": [
    {
     "name": "stdout",
     "output_type": "stream",
     "text": [
      "Keshav\n",
      "6\n",
      "Hello , world\n",
      "I hope you are enjoying 30 days of python chanlleges\n"
     ]
    }
   ],
   "source": [
    "letter = 'Keshav'\n",
    "print(letter)\n",
    "print(len(letter))\n",
    "gretting = 'Hello , world'\n",
    "print(gretting)\n",
    "sentence = 'I hope you are enjoying 30 days of python chanlleges'\n",
    "print(sentence)"
   ]
  },
  {
   "cell_type": "markdown",
   "id": "ed256c49-8d52-4a20-82ad-fb421b621dde",
   "metadata": {},
   "source": [
    "# Multiple Line strings \n"
   ]
  },
  {
   "cell_type": "code",
   "execution_count": 27,
   "id": "89e4239f-7284-46ad-9fce-b2b57ba2c094",
   "metadata": {},
   "outputs": [
    {
     "name": "stdout",
     "output_type": "stream",
     "text": [
      "I am a teacher and enjoy teaching my students .\n",
      "I don't find anything as rewarding as empowering the people .\n",
      "That is why i created 30 days of pythons challenges for my students\n"
     ]
    }
   ],
   "source": [
    "multi_strings = '''I am a teacher and enjoy teaching my students .\n",
    "I don't find anything as rewarding as empowering the people .\n",
    "That is why i created 30 days of pythons challenges for my students'''\n",
    "print(multi_strings)\n",
    "# anotherway of doing the samne thing is \"\"\" \"\"\"\n",
    "multi_strings = \"\"\"I am a teacher and enjoy teaching my students .\n",
    "I don't find anything as rewarding as empowering the people .\n",
    "That is why i created 30 days of pythons challenges for my students\"\"\""
   ]
  },
  {
   "cell_type": "markdown",
   "id": "c0ba5bf6-b5ba-49de-92a1-9031aa68d9f0",
   "metadata": {},
   "source": [
    "# String Concatenations"
   ]
  },
  {
   "cell_type": "code",
   "execution_count": 56,
   "id": "d40e0198-f9dc-4433-810e-ee49aa6c01f0",
   "metadata": {},
   "outputs": [
    {
     "name": "stdout",
     "output_type": "stream",
     "text": [
      "Keshav   Thakur\n"
     ]
    }
   ],
   "source": [
    "firstname = 'Keshav'\n",
    "secondname = 'Thakur'\n",
    "space = '   '\n",
    "fullname = firstname + space + secondname\n",
    "print(fullname)"
   ]
  },
  {
   "cell_type": "code",
   "execution_count": 46,
   "id": "2b271b9f-02d5-4ae6-83e7-af4231a17d20",
   "metadata": {},
   "outputs": [],
   "source": [
    "# checking the lenght of a string using the len() built in functions "
   ]
  },
  {
   "cell_type": "code",
   "execution_count": 62,
   "id": "fa7fd92e-4b99-4eb4-b830-1d04f606261a",
   "metadata": {},
   "outputs": [
    {
     "name": "stdout",
     "output_type": "stream",
     "text": [
      "6\n",
      "6\n",
      "3\n",
      "15\n",
      "False\n",
      "True\n"
     ]
    }
   ],
   "source": [
    "print(len(firstname))\n",
    "print(len(secondname))\n",
    "print(len(space))\n",
    "print(len(fullname))\n",
    "print(len(firstname)> len(secondname))\n",
    "print(len(firstname)>=len(secondname))"
   ]
  },
  {
   "cell_type": "markdown",
   "id": "5e18321a-3a8c-4bae-ba85-756e8049931e",
   "metadata": {},
   "source": [
    "# Unpacking Characters "
   ]
  },
  {
   "cell_type": "code",
   "execution_count": 80,
   "id": "c8809cec-f70d-44e1-a9fb-c7ea4a5f7f08",
   "metadata": {},
   "outputs": [
    {
     "name": "stdout",
     "output_type": "stream",
     "text": [
      "P\n",
      "y\n",
      "t\n",
      "h\n",
      "o\n",
      "y\n"
     ]
    }
   ],
   "source": [
    "a ,b,c,d,e,f= 'Python'\n",
    "print(a)\n",
    "print(b)\n",
    "print(c)\n",
    "print(d)\n",
    "print(e)\n",
    "print(b)\n"
   ]
  },
  {
   "cell_type": "code",
   "execution_count": 83,
   "id": "21290cf2-9543-4b6e-8612-929049d7902c",
   "metadata": {},
   "outputs": [],
   "source": [
    "# Accessing String By Index \n"
   ]
  },
  {
   "cell_type": "code",
   "execution_count": 115,
   "id": "23a43681-518c-4e12-997e-7a102f97ded5",
   "metadata": {},
   "outputs": [
    {
     "name": "stdout",
     "output_type": "stream",
     "text": [
      "P\n",
      "y\n",
      "t\n",
      "o\n",
      "n\n"
     ]
    }
   ],
   "source": [
    "language = 'Python'\n",
    "first_letter = language[0]\n",
    "print(first_letter)\n",
    "second_letter = language[1]\n",
    "print(second_letter)\n",
    "third_letter = language[2]\n",
    "print(third_letter)\n",
    "fort_letter = language[4]\n",
    "print(fort_letter)\n",
    "fifthletter = language[5]\n",
    "print(fifthletter)\n"
   ]
  },
  {
   "cell_type": "code",
   "execution_count": 119,
   "id": "b1bbbec4-d48f-4dd1-a8e1-88607e3d2c7c",
   "metadata": {},
   "outputs": [
    {
     "name": "stdout",
     "output_type": "stream",
     "text": [
      "n\n",
      "o\n"
     ]
    }
   ],
   "source": [
    "# backward Slicing \n",
    "language = 'Python'\n",
    "lastletter = language[-1]\n",
    "print(lastletter)\n",
    "secondlast = language[-2]\n",
    "print(secondlast)\n"
   ]
  },
  {
   "cell_type": "code",
   "execution_count": 3,
   "id": "2a9dce6f-43a0-48b6-8136-0a334342342d",
   "metadata": {},
   "outputs": [
    {
     "name": "stdout",
     "output_type": "stream",
     "text": [
      "pyth\n"
     ]
    }
   ],
   "source": [
    "\n",
    "# Slicing\n",
    "language = 'python'\n",
    "first_three_letter = language[0:4]\n",
    "print(first_three_letter)\n"
   ]
  },
  {
   "cell_type": "code",
   "execution_count": 131,
   "id": "2c9f76f9-0b53-4ed1-ac51-4671c4f77f77",
   "metadata": {},
   "outputs": [
    {
     "name": "stdout",
     "output_type": "stream",
     "text": [
      "pto\n"
     ]
    }
   ],
   "source": [
    "# skipping characters whhile spliting python string \n",
    "language = 'python'\n",
    "pto = language[0:6:2]\n",
    "print(pto)"
   ]
  },
  {
   "cell_type": "code",
   "execution_count": 145,
   "id": "a2d19a94-e6ed-4a9e-bb23-d50d7355ac18",
   "metadata": {},
   "outputs": [
    {
     "name": "stdout",
     "output_type": "stream",
     "text": [
      " I hope evrey one enjoying the python challenge.\n",
      " do you ?\n",
      "Days\tTopics\tExcercise\n",
      "Day  1\t3\t4\n",
      "This is a back slash symbol(\\)\n"
     ]
    }
   ],
   "source": [
    "# Escape sequence -----> \\n this is used the change the line \n",
    "# \\t --- used to provode the space \n",
    " #   to write a back slash  ---- > (\\\\)\n",
    "\n",
    "print(' I hope evrey one enjoying the python challenge.\\n do you ?')\n",
    "print('Days\\tTopics\\tExcercise')\n",
    "print('Day  1\\t3\\t4')\n",
    "print('This is a back slash symbol(\\\\)')\n",
    "\n",
    "\n",
    "\n",
    "\n"
   ]
  },
  {
   "cell_type": "markdown",
   "id": "ffff1728-323e-42ac-92f0-c0f388760a37",
   "metadata": {},
   "source": [
    "# String capitalize (lower,upper,capitalize())"
   ]
  },
  {
   "cell_type": "code",
   "execution_count": 152,
   "id": "624016a7-d168-4aa5-9276-8c1d797729df",
   "metadata": {},
   "outputs": [
    {
     "name": "stdout",
     "output_type": "stream",
     "text": [
      "Thirty days of python\n",
      "THIRTY DAYS OF PYTHON\n",
      "thirty days of python\n"
     ]
    }
   ],
   "source": [
    "# capitalize() : converts the first caharacter with string to capital letter \n",
    "chalenges = 'thirty days of python'\n",
    "print(chalenges.capitalize()) # ----  first one letter \n",
    "print(chalenges.upper())      # upper() ---- all word in upper case  letter \n",
    "print(chalenges.lower())      # lower() ---- all word in lower case "
   ]
  },
  {
   "cell_type": "code",
   "execution_count": 179,
   "id": "68788ede-9ee0-4c77-a717-99dd92283ac7",
   "metadata": {},
   "outputs": [
    {
     "name": "stdout",
     "output_type": "stream",
     "text": [
      "3\n",
      "1\n",
      "2\n",
      "2\n",
      "3\n"
     ]
    }
   ],
   "source": [
    "# count(): returns occurrences of substring in string, count(substring, start=.., end=..)\n",
    "challenges = 'thirty days of python challenges'\n",
    "print(challenges.count('y'))\n",
    "print(challenges.count('d'))\n",
    "print(challenges.count('th'))\n",
    "print(challenges.count('o'))\n",
    "print(challenges.count('h'))"
   ]
  },
  {
   "cell_type": "code",
   "execution_count": 185,
   "id": "204f31b8-cae3-4f5e-9c01-e568433518af",
   "metadata": {},
   "outputs": [
    {
     "name": "stdout",
     "output_type": "stream",
     "text": [
      "False\n"
     ]
    }
   ],
   "source": [
    "# endswith  endswith(): Checks if a string ends with a specified ending\n",
    "\n",
    "challenges = 'thirty day of python challenges'\n",
    "print(challenges.endswith('on'))\n",
    "print(challenges.endswith())"
   ]
  },
  {
   "cell_type": "code",
   "execution_count": 199,
   "id": "e152c5b8-2f51-4b59-817c-ce687a57e339",
   "metadata": {},
   "outputs": [
    {
     "name": "stdout",
     "output_type": "stream",
     "text": [
      "thirty  days    of      python\n",
      "thirty              days                of                  python\n"
     ]
    }
   ],
   "source": [
    "# expandtabs(): Replaces tab character with spaces, default tab size is 8. It takes tab size argument\n",
    "\n",
    "challenge = 'thirty\\tdays\\tof\\tpython'\n",
    "print(challenge.expandtabs())\n",
    "print(challenge.expandtabs(20))"
   ]
  },
  {
   "cell_type": "code",
   "execution_count": 201,
   "id": "7e9e37c5-abf4-4eaa-9685-f6e9ab3d7b90",
   "metadata": {},
   "outputs": [
    {
     "name": "stdout",
     "output_type": "stream",
     "text": [
      "5\n"
     ]
    }
   ],
   "source": [
    "# find() : ----->  Returns the index of first occurrence of substring\n",
    "challenge = 'thirty day of python challenges'\n",
    "print(challenge.find('y'))"
   ]
  },
  {
   "cell_type": "code",
   "execution_count": 219,
   "id": "6842b46f-86aa-4876-b5ea-310a8223a0c6",
   "metadata": {},
   "outputs": [
    {
     "name": "stdout",
     "output_type": "stream",
     "text": [
      "I am Keshav Yogesh . I am a teacher. I live in Fineland.\n",
      "The are of circle with 10 is 3.14.\n"
     ]
    }
   ],
   "source": [
    "# format() format string into nicer output \n",
    "first_name = 'Keshav'\n",
    "Last_name = 'Yogesh'\n",
    "job = 'teacher'\n",
    "country = 'Fineland'\n",
    "sentance = 'I am {} {} . I am a {}. I live in {}.'.format(first_name,Last_name,job,country)\n",
    "print(sentance)\n",
    "# The area of circle with radius 10 is 314.0\n",
    "radius = 10\n",
    "pi = 3.14\n",
    "result = ('The are of circle with {} is {}.'.format(radius,pi))\n",
    "print(result)"
   ]
  },
  {
   "cell_type": "code",
   "execution_count": 245,
   "id": "78565669-020a-4555-a0cb-887297036008",
   "metadata": {},
   "outputs": [
    {
     "name": "stdout",
     "output_type": "stream",
     "text": [
      "True\n",
      "True\n",
      "False\n"
     ]
    }
   ],
   "source": [
    "# isalnum(): Checks alphanumeric character\n",
    "import sys\n",
    "challenge = 'ThirtyDaysPython'\n",
    "print(challenge.isalnum())\n",
    "challenge = '78DaysofThrtyDayPython'\n",
    "print(challenge.isalnum())\n",
    "challenge = 'thirty days of python 2019'\n",
    "print(challenge.isalnum()) # False"
   ]
  },
  {
   "cell_type": "code",
   "execution_count": 33,
   "id": "5dee8a3d-84da-4b3a-906d-49953794ab7b",
   "metadata": {},
   "outputs": [
    {
     "name": "stdout",
     "output_type": "stream",
     "text": [
      "False\n",
      "False\n"
     ]
    }
   ],
   "source": [
    "# is alpha(): checks if aal the characters all alphabets\n",
    "challenge = 'thirty days of python'\n",
    "print(challenge.isalpha())\n",
    "num = '123'\n",
    "print(num.isalpha())\n",
    "\n"
   ]
  },
  {
   "cell_type": "code",
   "execution_count": 35,
   "id": "5586f0ad-9a59-45fa-b791-2e8a5cacb64e",
   "metadata": {},
   "outputs": [
    {
     "name": "stdout",
     "output_type": "stream",
     "text": [
      "True\n",
      "False\n"
     ]
    }
   ],
   "source": [
    "# isdecimal():Checks decimal characters\n",
    "\n",
    "num = '10'\n",
    "print(num.isdecimal()) # True\n",
    "num = '10.5'\n",
    "print(num.isdecimal()) # False\n"
   ]
  },
  {
   "cell_type": "code",
   "execution_count": 37,
   "id": "2a1e971b-683e-417d-a481-3a0c744eeeab",
   "metadata": {},
   "outputs": [
    {
     "name": "stdout",
     "output_type": "stream",
     "text": [
      "True\n",
      "False\n",
      "False\n",
      "True\n",
      "True\n",
      "False\n",
      "False\n",
      "True\n",
      "True\n",
      "False\n",
      "HTML#, CSS#, JavaScript#, React\n",
      " thirty days of python \n",
      "thirty days of coding\n",
      "['thirty', 'days', 'of', 'python']\n",
      "Thirty Days Of Python\n",
      "THIRTY DAYS OF PYTHON\n",
      "tHIRTY dAYS oF pYTHON\n",
      "True\n",
      "False\n"
     ]
    }
   ],
   "source": [
    "\n",
    "# isdecimal():Checks decimal characters\n",
    "\n",
    "num = '10'\n",
    "print(num.isdecimal()) # True\n",
    "num = '10.5'\n",
    "print(num.isdecimal()) # False\n",
    "\n",
    "\n",
    "\n",
    "# isidentifier():Checks for valid identifier means it check if a string is a valid variable name\n",
    "\n",
    "challenge = '30DaysOfPython'\n",
    "print(challenge.isidentifier()) # False, because it starts with a number\n",
    "challenge = 'thirty_days_of_python'\n",
    "print(challenge.isidentifier()) # True\n",
    "\n",
    "\n",
    "# islower():Checks if all alphabets in a string are lowercase\n",
    "\n",
    "challenge = 'thirty days of python'\n",
    "print(challenge.islower()) # True\n",
    "challenge = 'Thirty days of python'\n",
    "print(challenge.islower()) # False\n",
    "\n",
    "# isupper(): returns if all characters are uppercase characters\n",
    "\n",
    "challenge = 'thirty days of python'\n",
    "print(challenge.isupper()) #  False\n",
    "challenge = 'THIRTY DAYS OF PYTHON'\n",
    "print(challenge.isupper()) # True\n",
    "\n",
    "# isnumeric():Checks numeric characters\n",
    "\n",
    "num = '10'\n",
    "print(num.isnumeric())      # True\n",
    "print('ten'.isnumeric())    # False\n",
    "\n",
    "# join(): Returns a concatenated string\n",
    "\n",
    "web_tech = ['HTML', 'CSS', 'JavaScript', 'React']\n",
    "result = '#, '.join(web_tech)\n",
    "print(result) # 'HTML# CSS# JavaScript# React'\n",
    "\n",
    "# strip(): Removes both leading and trailing characters\n",
    "\n",
    "challenge = ' thirty days of python '\n",
    "print(challenge.strip('y')) # 5\n",
    "\n",
    "# replace(): Replaces substring inside\n",
    "\n",
    "challenge = 'thirty days of python'\n",
    "print(challenge.replace('python', 'coding')) # 'thirty days of coding'\n",
    "\n",
    "# split():Splits String from Left\n",
    "\n",
    "challenge = 'thirty days of python'\n",
    "print(challenge.split()) # ['thirty', 'days', 'of', 'python']\n",
    "\n",
    "# title(): Returns a Title Cased String\n",
    "\n",
    "challenge = 'thirty days of python'\n",
    "print(challenge.title()) # Thirty Days Of Python\n",
    "\n",
    "# swapcase(): Checks if String Starts with the Specified String\n",
    "  \n",
    "challenge = 'thirty days of python'\n",
    "print(challenge.swapcase())   # THIRTY DAYS OF PYTHON\n",
    "challenge = 'Thirty Days Of Python'\n",
    "print(challenge.swapcase())  # tHIRTY dAYS oF pYTHON\n",
    "\n",
    "# startswith(): Checks if String Starts with the Specified String\n",
    "\n",
    "challenge = 'thirty days of python'\n",
    "print(challenge.startswith('thirty')) # True\n",
    "challenge = '30 days of python'\n",
    "print(challenge.startswith('thirty')) # False"
   ]
  },
  {
   "cell_type": "code",
   "execution_count": null,
   "id": "b829ccc4-99fc-48c9-9455-405927addb11",
   "metadata": {},
   "outputs": [],
   "source": []
  },
  {
   "cell_type": "code",
   "execution_count": null,
   "id": "5a17ccb3-5e26-433d-ba02-34ab718e8c37",
   "metadata": {},
   "outputs": [],
   "source": []
  },
  {
   "cell_type": "code",
   "execution_count": null,
   "id": "badf1283-cb99-47b2-9461-8d4213878536",
   "metadata": {},
   "outputs": [],
   "source": []
  },
  {
   "cell_type": "code",
   "execution_count": null,
   "id": "12a1d2cb-bc58-4a8d-93d1-4166122b8b82",
   "metadata": {},
   "outputs": [],
   "source": []
  },
  {
   "cell_type": "code",
   "execution_count": null,
   "id": "8f3551c2-ae4e-46c7-9956-46937f4d3744",
   "metadata": {},
   "outputs": [],
   "source": []
  },
  {
   "cell_type": "code",
   "execution_count": null,
   "id": "d2eb7660-4909-42b0-a3ea-0a7833fd59c9",
   "metadata": {},
   "outputs": [],
   "source": []
  },
  {
   "cell_type": "code",
   "execution_count": null,
   "id": "4878060f-0305-46b9-8eb9-48eca6b9f4fe",
   "metadata": {},
   "outputs": [],
   "source": []
  },
  {
   "cell_type": "code",
   "execution_count": null,
   "id": "4dac28d0-21fe-49d9-a364-447203d7d812",
   "metadata": {},
   "outputs": [],
   "source": []
  },
  {
   "cell_type": "code",
   "execution_count": null,
   "id": "6bd95577-6c9c-4254-ba1a-354b0c695b76",
   "metadata": {},
   "outputs": [],
   "source": []
  },
  {
   "cell_type": "code",
   "execution_count": null,
   "id": "0ee80ca1-245d-478d-ab38-2814c00fb691",
   "metadata": {},
   "outputs": [],
   "source": []
  },
  {
   "cell_type": "code",
   "execution_count": null,
   "id": "c2bd4842-5b51-4c67-beb8-1497de2842d2",
   "metadata": {},
   "outputs": [],
   "source": []
  },
  {
   "cell_type": "code",
   "execution_count": null,
   "id": "8286c365-602f-4a58-ad8c-a2058615d123",
   "metadata": {},
   "outputs": [],
   "source": []
  },
  {
   "cell_type": "code",
   "execution_count": null,
   "id": "b77d816b-14c5-49ab-8dc5-d0bb193ce988",
   "metadata": {},
   "outputs": [],
   "source": []
  },
  {
   "cell_type": "code",
   "execution_count": null,
   "id": "5e1ac195-5061-48fc-a6f2-0c1a5e76e481",
   "metadata": {},
   "outputs": [],
   "source": []
  },
  {
   "cell_type": "code",
   "execution_count": null,
   "id": "6fbf3128-15cd-4147-aca1-28cb7db33bbb",
   "metadata": {},
   "outputs": [],
   "source": []
  },
  {
   "cell_type": "code",
   "execution_count": null,
   "id": "05d2f65b-575e-4d11-bce0-dae9f6a4a7f0",
   "metadata": {},
   "outputs": [],
   "source": []
  },
  {
   "cell_type": "code",
   "execution_count": null,
   "id": "48ff13b6-aa0a-4070-9815-6e2b6c5357a6",
   "metadata": {},
   "outputs": [],
   "source": []
  },
  {
   "cell_type": "code",
   "execution_count": null,
   "id": "23e68d5c-53c4-4a51-ae69-0469239061a4",
   "metadata": {},
   "outputs": [],
   "source": []
  },
  {
   "cell_type": "code",
   "execution_count": null,
   "id": "66f18cb7-539a-4ba7-b055-af75e54364ad",
   "metadata": {},
   "outputs": [],
   "source": []
  }
 ],
 "metadata": {
  "kernelspec": {
   "display_name": "Python 3 (ipykernel)",
   "language": "python",
   "name": "python3"
  },
  "language_info": {
   "codemirror_mode": {
    "name": "ipython",
    "version": 3
   },
   "file_extension": ".py",
   "mimetype": "text/x-python",
   "name": "python",
   "nbconvert_exporter": "python",
   "pygments_lexer": "ipython3",
   "version": "3.12.7"
  }
 },
 "nbformat": 4,
 "nbformat_minor": 5
}

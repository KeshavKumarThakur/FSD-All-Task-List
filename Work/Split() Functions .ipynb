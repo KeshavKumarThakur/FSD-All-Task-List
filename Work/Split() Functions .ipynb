{
 "cells": [
  {
   "cell_type": "code",
   "execution_count": 74,
   "id": "5e24469e-df86-41c1-95c9-282b7d519a73",
   "metadata": {},
   "outputs": [],
   "source": [
    "import pandas as pd\n",
    "import numpy as np "
   ]
  },
  {
   "cell_type": "code",
   "execution_count": 75,
   "id": "ca5ab82e-04f8-48d9-a843-35f8b10b3ecb",
   "metadata": {},
   "outputs": [
    {
     "data": {
      "text/html": [
       "<div>\n",
       "<style scoped>\n",
       "    .dataframe tbody tr th:only-of-type {\n",
       "        vertical-align: middle;\n",
       "    }\n",
       "\n",
       "    .dataframe tbody tr th {\n",
       "        vertical-align: top;\n",
       "    }\n",
       "\n",
       "    .dataframe thead th {\n",
       "        text-align: right;\n",
       "    }\n",
       "</style>\n",
       "<table border=\"1\" class=\"dataframe\">\n",
       "  <thead>\n",
       "    <tr style=\"text-align: right;\">\n",
       "      <th></th>\n",
       "      <th>Name</th>\n",
       "      <th>Address</th>\n",
       "      <th>Date</th>\n",
       "      <th>Time</th>\n",
       "    </tr>\n",
       "  </thead>\n",
       "  <tbody>\n",
       "    <tr>\n",
       "      <th>0</th>\n",
       "      <td>Prabhas' Residence</td>\n",
       "      <td>839, Road Number 44, Jubilee Hills, Hyderabad</td>\n",
       "      <td>12/8/1985</td>\n",
       "      <td>6hrs:20min:10sec</td>\n",
       "    </tr>\n",
       "    <tr>\n",
       "      <th>1</th>\n",
       "      <td>Mahesh Babu's Residence</td>\n",
       "      <td>Plot No. 60/A, Road No. 12, Film Nagar, Hydera...</td>\n",
       "      <td>10/8/1995</td>\n",
       "      <td>6hrs:20min:10sec</td>\n",
       "    </tr>\n",
       "    <tr>\n",
       "      <th>2</th>\n",
       "      <td>Chiranjeevi's Residence</td>\n",
       "      <td>Road No. 25, Jubilee Hills, Hyderabad.</td>\n",
       "      <td>15/2/1990</td>\n",
       "      <td>11hrs:12min:17sec</td>\n",
       "    </tr>\n",
       "    <tr>\n",
       "      <th>3</th>\n",
       "      <td>Prabhas' Residence</td>\n",
       "      <td>Plot No. 60/A, Road No. 12, Film Nagar, Hydera...</td>\n",
       "      <td>NaN</td>\n",
       "      <td>NaN</td>\n",
       "    </tr>\n",
       "    <tr>\n",
       "      <th>4</th>\n",
       "      <td>Babu's Residence</td>\n",
       "      <td>839, Road Number 44, Hayatnagar Hills, Hyderabad</td>\n",
       "      <td>NaN</td>\n",
       "      <td>NaN</td>\n",
       "    </tr>\n",
       "    <tr>\n",
       "      <th>5</th>\n",
       "      <td>KK Residence</td>\n",
       "      <td>Plot No. 60/BA, Road No. 12, Film Nagar, Hyder...</td>\n",
       "      <td>NaN</td>\n",
       "      <td>NaN</td>\n",
       "    </tr>\n",
       "    <tr>\n",
       "      <th>6</th>\n",
       "      <td>Raj Residence</td>\n",
       "      <td>8399, Road Number 445, Banjara Hills, Hyderabad</td>\n",
       "      <td>NaN</td>\n",
       "      <td>NaN</td>\n",
       "    </tr>\n",
       "  </tbody>\n",
       "</table>\n",
       "</div>"
      ],
      "text/plain": [
       "                     Name                                            Address   \\\n",
       "0       Prabhas' Residence      839, Road Number 44, Jubilee Hills, Hyderabad   \n",
       "1  Mahesh Babu's Residence  Plot No. 60/A, Road No. 12, Film Nagar, Hydera...   \n",
       "2  Chiranjeevi's Residence             Road No. 25, Jubilee Hills, Hyderabad.   \n",
       "3       Prabhas' Residence  Plot No. 60/A, Road No. 12, Film Nagar, Hydera...   \n",
       "4         Babu's Residence   839, Road Number 44, Hayatnagar Hills, Hyderabad   \n",
       "5             KK Residence  Plot No. 60/BA, Road No. 12, Film Nagar, Hyder...   \n",
       "6            Raj Residence    8399, Road Number 445, Banjara Hills, Hyderabad   \n",
       "\n",
       "       Date               Time   \n",
       "0  12/8/1985   6hrs:20min:10sec  \n",
       "1  10/8/1995   6hrs:20min:10sec  \n",
       "2  15/2/1990  11hrs:12min:17sec  \n",
       "3        NaN                NaN  \n",
       "4        NaN                NaN  \n",
       "5        NaN                NaN  \n",
       "6        NaN                NaN  "
      ]
     },
     "execution_count": 75,
     "metadata": {},
     "output_type": "execute_result"
    }
   ],
   "source": [
    "data = pd.read_csv(r'E:\\Data Sets -Data Frames\\Book12.csv')\n",
    "data"
   ]
  },
  {
   "cell_type": "code",
   "execution_count": 76,
   "id": "dcd64335-b05f-4de4-a461-2122258cba54",
   "metadata": {},
   "outputs": [
    {
     "data": {
      "text/plain": [
       "Index(['Name ', 'Address ', 'Date ', 'Time '], dtype='object')"
      ]
     },
     "execution_count": 76,
     "metadata": {},
     "output_type": "execute_result"
    }
   ],
   "source": [
    "data.columns"
   ]
  },
  {
   "cell_type": "code",
   "execution_count": 77,
   "id": "2052eb87-44be-4419-8fa5-d0a4fd2092c3",
   "metadata": {},
   "outputs": [
    {
     "data": {
      "text/plain": [
       "0        839, Road Number 44, Jubilee Hills, Hyderabad\n",
       "1    Plot No. 60/A, Road No. 12, Film Nagar, Hydera...\n",
       "2               Road No. 25, Jubilee Hills, Hyderabad.\n",
       "3    Plot No. 60/A, Road No. 12, Film Nagar, Hydera...\n",
       "4     839, Road Number 44, Hayatnagar Hills, Hyderabad\n",
       "5    Plot No. 60/BA, Road No. 12, Film Nagar, Hyder...\n",
       "6      8399, Road Number 445, Banjara Hills, Hyderabad\n",
       "Name: Address , dtype: object"
      ]
     },
     "execution_count": 77,
     "metadata": {},
     "output_type": "execute_result"
    }
   ],
   "source": [
    "data['Address ']"
   ]
  },
  {
   "cell_type": "code",
   "execution_count": 78,
   "id": "f9f6c65d-5667-4516-aed3-8b9defddb5df",
   "metadata": {},
   "outputs": [
    {
     "data": {
      "text/html": [
       "<div>\n",
       "<style scoped>\n",
       "    .dataframe tbody tr th:only-of-type {\n",
       "        vertical-align: middle;\n",
       "    }\n",
       "\n",
       "    .dataframe tbody tr th {\n",
       "        vertical-align: top;\n",
       "    }\n",
       "\n",
       "    .dataframe thead th {\n",
       "        text-align: right;\n",
       "    }\n",
       "</style>\n",
       "<table border=\"1\" class=\"dataframe\">\n",
       "  <thead>\n",
       "    <tr style=\"text-align: right;\">\n",
       "      <th></th>\n",
       "      <th>0</th>\n",
       "      <th>1</th>\n",
       "      <th>2</th>\n",
       "      <th>3</th>\n",
       "    </tr>\n",
       "  </thead>\n",
       "  <tbody>\n",
       "    <tr>\n",
       "      <th>0</th>\n",
       "      <td>839</td>\n",
       "      <td>Road Number 44</td>\n",
       "      <td>Jubilee Hills</td>\n",
       "      <td>Hyderabad</td>\n",
       "    </tr>\n",
       "    <tr>\n",
       "      <th>1</th>\n",
       "      <td>Plot No. 60/A</td>\n",
       "      <td>Road No. 12</td>\n",
       "      <td>Film Nagar</td>\n",
       "      <td>Hyderabad.</td>\n",
       "    </tr>\n",
       "    <tr>\n",
       "      <th>2</th>\n",
       "      <td>Road No. 25</td>\n",
       "      <td>Jubilee Hills</td>\n",
       "      <td>Hyderabad.</td>\n",
       "      <td>None</td>\n",
       "    </tr>\n",
       "    <tr>\n",
       "      <th>3</th>\n",
       "      <td>Plot No. 60/A</td>\n",
       "      <td>Road No. 12</td>\n",
       "      <td>Film Nagar</td>\n",
       "      <td>Hyderabad.</td>\n",
       "    </tr>\n",
       "    <tr>\n",
       "      <th>4</th>\n",
       "      <td>839</td>\n",
       "      <td>Road Number 44</td>\n",
       "      <td>Hayatnagar Hills</td>\n",
       "      <td>Hyderabad</td>\n",
       "    </tr>\n",
       "    <tr>\n",
       "      <th>5</th>\n",
       "      <td>Plot No. 60/BA</td>\n",
       "      <td>Road No. 12</td>\n",
       "      <td>Film Nagar</td>\n",
       "      <td>Hyderabad.</td>\n",
       "    </tr>\n",
       "    <tr>\n",
       "      <th>6</th>\n",
       "      <td>8399</td>\n",
       "      <td>Road Number 445</td>\n",
       "      <td>Banjara Hills</td>\n",
       "      <td>Hyderabad</td>\n",
       "    </tr>\n",
       "  </tbody>\n",
       "</table>\n",
       "</div>"
      ],
      "text/plain": [
       "                0                 1                  2            3\n",
       "0             839    Road Number 44      Jubilee Hills    Hyderabad\n",
       "1   Plot No. 60/A       Road No. 12         Film Nagar   Hyderabad.\n",
       "2     Road No. 25     Jubilee Hills         Hyderabad.         None\n",
       "3   Plot No. 60/A       Road No. 12         Film Nagar   Hyderabad.\n",
       "4             839    Road Number 44   Hayatnagar Hills    Hyderabad\n",
       "5  Plot No. 60/BA       Road No. 12         Film Nagar   Hyderabad.\n",
       "6            8399   Road Number 445      Banjara Hills    Hyderabad"
      ]
     },
     "execution_count": 78,
     "metadata": {},
     "output_type": "execute_result"
    }
   ],
   "source": [
    "address_data = data['Address '].str.split(r',' ,expand=True)\n",
    "address_data "
   ]
  },
  {
   "cell_type": "code",
   "execution_count": 79,
   "id": "e5c90111-4ffd-40b2-b897-0f48425b6fea",
   "metadata": {},
   "outputs": [
    {
     "data": {
      "text/plain": [
       "Index(['StreetName', 'RoadNo', 'City', 'State'], dtype='object')"
      ]
     },
     "execution_count": 79,
     "metadata": {},
     "output_type": "execute_result"
    }
   ],
   "source": [
    "address_data.columns = ['StreetName','RoadNo','City','State']\n",
    "address_data.columns"
   ]
  },
  {
   "cell_type": "code",
   "execution_count": 80,
   "id": "4b37ff04-de11-486a-a751-3af428e7aab5",
   "metadata": {},
   "outputs": [
    {
     "name": "stdout",
     "output_type": "stream",
     "text": [
      "       StreetName            RoadNo               City        State\n",
      "0             839    Road Number 44      Jubilee Hills    Hyderabad\n",
      "1   Plot No. 60/A       Road No. 12         Film Nagar   Hyderabad.\n",
      "2     Road No. 25     Jubilee Hills         Hyderabad.         None\n",
      "3   Plot No. 60/A       Road No. 12         Film Nagar   Hyderabad.\n",
      "4             839    Road Number 44   Hayatnagar Hills    Hyderabad\n",
      "5  Plot No. 60/BA       Road No. 12         Film Nagar   Hyderabad.\n",
      "6            8399   Road Number 445      Banjara Hills    Hyderabad\n"
     ]
    }
   ],
   "source": [
    "print(address_data)"
   ]
  },
  {
   "cell_type": "code",
   "execution_count": 81,
   "id": "6fdae3e4-31fb-4c5b-b9f1-79eaf92ba54c",
   "metadata": {},
   "outputs": [
    {
     "data": {
      "text/plain": [
       "0    12/8/1985\n",
       "1    10/8/1995\n",
       "2    15/2/1990\n",
       "3          NaN\n",
       "4          NaN\n",
       "5          NaN\n",
       "6          NaN\n",
       "Name: Date , dtype: object"
      ]
     },
     "execution_count": 81,
     "metadata": {},
     "output_type": "execute_result"
    }
   ],
   "source": [
    "data['Date ']"
   ]
  },
  {
   "cell_type": "code",
   "execution_count": 82,
   "id": "4a04f110-227d-496c-a98e-a982329b08da",
   "metadata": {},
   "outputs": [
    {
     "data": {
      "text/html": [
       "<div>\n",
       "<style scoped>\n",
       "    .dataframe tbody tr th:only-of-type {\n",
       "        vertical-align: middle;\n",
       "    }\n",
       "\n",
       "    .dataframe tbody tr th {\n",
       "        vertical-align: top;\n",
       "    }\n",
       "\n",
       "    .dataframe thead th {\n",
       "        text-align: right;\n",
       "    }\n",
       "</style>\n",
       "<table border=\"1\" class=\"dataframe\">\n",
       "  <thead>\n",
       "    <tr style=\"text-align: right;\">\n",
       "      <th></th>\n",
       "      <th>0</th>\n",
       "      <th>1</th>\n",
       "      <th>2</th>\n",
       "    </tr>\n",
       "  </thead>\n",
       "  <tbody>\n",
       "    <tr>\n",
       "      <th>0</th>\n",
       "      <td>12</td>\n",
       "      <td>8</td>\n",
       "      <td>1985</td>\n",
       "    </tr>\n",
       "    <tr>\n",
       "      <th>1</th>\n",
       "      <td>10</td>\n",
       "      <td>8</td>\n",
       "      <td>1995</td>\n",
       "    </tr>\n",
       "    <tr>\n",
       "      <th>2</th>\n",
       "      <td>15</td>\n",
       "      <td>2</td>\n",
       "      <td>1990</td>\n",
       "    </tr>\n",
       "    <tr>\n",
       "      <th>3</th>\n",
       "      <td>NaN</td>\n",
       "      <td>NaN</td>\n",
       "      <td>NaN</td>\n",
       "    </tr>\n",
       "    <tr>\n",
       "      <th>4</th>\n",
       "      <td>NaN</td>\n",
       "      <td>NaN</td>\n",
       "      <td>NaN</td>\n",
       "    </tr>\n",
       "    <tr>\n",
       "      <th>5</th>\n",
       "      <td>NaN</td>\n",
       "      <td>NaN</td>\n",
       "      <td>NaN</td>\n",
       "    </tr>\n",
       "    <tr>\n",
       "      <th>6</th>\n",
       "      <td>NaN</td>\n",
       "      <td>NaN</td>\n",
       "      <td>NaN</td>\n",
       "    </tr>\n",
       "  </tbody>\n",
       "</table>\n",
       "</div>"
      ],
      "text/plain": [
       "     0    1     2\n",
       "0   12    8  1985\n",
       "1   10    8  1995\n",
       "2   15    2  1990\n",
       "3  NaN  NaN   NaN\n",
       "4  NaN  NaN   NaN\n",
       "5  NaN  NaN   NaN\n",
       "6  NaN  NaN   NaN"
      ]
     },
     "execution_count": 82,
     "metadata": {},
     "output_type": "execute_result"
    }
   ],
   "source": [
    "date_data = data['Date '].str.split('/',expand=True)\n",
    "date_data"
   ]
  },
  {
   "cell_type": "code",
   "execution_count": 83,
   "id": "b156fdc4-ffe4-4ed3-97a5-2ccf666fb508",
   "metadata": {},
   "outputs": [
    {
     "data": {
      "text/plain": [
       "Index(['Date', 'Month', 'Year'], dtype='object')"
      ]
     },
     "execution_count": 83,
     "metadata": {},
     "output_type": "execute_result"
    }
   ],
   "source": [
    "date_data.columns = ['Date','Month','Year']\n",
    "date_data.columns"
   ]
  },
  {
   "cell_type": "code",
   "execution_count": 84,
   "id": "4370f0c0-6486-4fe8-8888-0564996a8e26",
   "metadata": {},
   "outputs": [
    {
     "name": "stdout",
     "output_type": "stream",
     "text": [
      "  Date Month  Year\n",
      "0   12     8  1985\n",
      "1   10     8  1995\n",
      "2   15     2  1990\n",
      "3  NaN   NaN   NaN\n",
      "4  NaN   NaN   NaN\n",
      "5  NaN   NaN   NaN\n",
      "6  NaN   NaN   NaN\n"
     ]
    }
   ],
   "source": [
    "print(date_data)"
   ]
  },
  {
   "cell_type": "code",
   "execution_count": 85,
   "id": "d0449109-540c-4c8b-86c5-036115e0daa5",
   "metadata": {},
   "outputs": [
    {
     "data": {
      "text/plain": [
       "0     6hrs:20min:10sec\n",
       "1     6hrs:20min:10sec\n",
       "2    11hrs:12min:17sec\n",
       "3                  NaN\n",
       "4                  NaN\n",
       "5                  NaN\n",
       "6                  NaN\n",
       "Name: Time , dtype: object"
      ]
     },
     "execution_count": 85,
     "metadata": {},
     "output_type": "execute_result"
    }
   ],
   "source": [
    "data['Time ']"
   ]
  },
  {
   "cell_type": "code",
   "execution_count": 86,
   "id": "d48a059b-062b-44da-9bbb-820a5f484c14",
   "metadata": {},
   "outputs": [],
   "source": [
    "data.rename(columns={'Time ': 'Time'}, inplace=True)"
   ]
  },
  {
   "cell_type": "code",
   "execution_count": 87,
   "id": "70a56051-c1e5-472f-8a01-32b0bf6921be",
   "metadata": {},
   "outputs": [
    {
     "data": {
      "text/plain": [
       "0     6hrs:20min:10sec\n",
       "1     6hrs:20min:10sec\n",
       "2    11hrs:12min:17sec\n",
       "3                  NaN\n",
       "4                  NaN\n",
       "5                  NaN\n",
       "6                  NaN\n",
       "Name: Time, dtype: object"
      ]
     },
     "execution_count": 87,
     "metadata": {},
     "output_type": "execute_result"
    }
   ],
   "source": [
    "data['Time']"
   ]
  },
  {
   "cell_type": "code",
   "execution_count": 88,
   "id": "3e8adee0-1f37-4c3c-932f-6a350d777d53",
   "metadata": {},
   "outputs": [],
   "source": [
    "data_time = data['Time'].str.split(':',expand=True)"
   ]
  },
  {
   "cell_type": "code",
   "execution_count": 91,
   "id": "d95f3ad5-3e54-4952-bf26-e777b051a3d9",
   "metadata": {},
   "outputs": [
    {
     "data": {
      "text/plain": [
       "Index(['Hours', 'Minutes', 'Seconds'], dtype='object')"
      ]
     },
     "execution_count": 91,
     "metadata": {},
     "output_type": "execute_result"
    }
   ],
   "source": [
    "data_time.columns = ['Hours','Minutes','Seconds']\n",
    "data_time.columns"
   ]
  },
  {
   "cell_type": "code",
   "execution_count": 93,
   "id": "42241bda-d59d-42dd-bffe-60a2a377537b",
   "metadata": {},
   "outputs": [
    {
     "data": {
      "text/html": [
       "<div>\n",
       "<style scoped>\n",
       "    .dataframe tbody tr th:only-of-type {\n",
       "        vertical-align: middle;\n",
       "    }\n",
       "\n",
       "    .dataframe tbody tr th {\n",
       "        vertical-align: top;\n",
       "    }\n",
       "\n",
       "    .dataframe thead th {\n",
       "        text-align: right;\n",
       "    }\n",
       "</style>\n",
       "<table border=\"1\" class=\"dataframe\">\n",
       "  <thead>\n",
       "    <tr style=\"text-align: right;\">\n",
       "      <th></th>\n",
       "      <th>Hours</th>\n",
       "      <th>Minutes</th>\n",
       "      <th>Seconds</th>\n",
       "    </tr>\n",
       "  </thead>\n",
       "  <tbody>\n",
       "    <tr>\n",
       "      <th>0</th>\n",
       "      <td>6hrs</td>\n",
       "      <td>20min</td>\n",
       "      <td>10sec</td>\n",
       "    </tr>\n",
       "    <tr>\n",
       "      <th>1</th>\n",
       "      <td>6hrs</td>\n",
       "      <td>20min</td>\n",
       "      <td>10sec</td>\n",
       "    </tr>\n",
       "    <tr>\n",
       "      <th>2</th>\n",
       "      <td>11hrs</td>\n",
       "      <td>12min</td>\n",
       "      <td>17sec</td>\n",
       "    </tr>\n",
       "    <tr>\n",
       "      <th>3</th>\n",
       "      <td>NaN</td>\n",
       "      <td>NaN</td>\n",
       "      <td>NaN</td>\n",
       "    </tr>\n",
       "    <tr>\n",
       "      <th>4</th>\n",
       "      <td>NaN</td>\n",
       "      <td>NaN</td>\n",
       "      <td>NaN</td>\n",
       "    </tr>\n",
       "    <tr>\n",
       "      <th>5</th>\n",
       "      <td>NaN</td>\n",
       "      <td>NaN</td>\n",
       "      <td>NaN</td>\n",
       "    </tr>\n",
       "    <tr>\n",
       "      <th>6</th>\n",
       "      <td>NaN</td>\n",
       "      <td>NaN</td>\n",
       "      <td>NaN</td>\n",
       "    </tr>\n",
       "  </tbody>\n",
       "</table>\n",
       "</div>"
      ],
      "text/plain": [
       "   Hours Minutes Seconds\n",
       "0   6hrs   20min   10sec\n",
       "1   6hrs   20min   10sec\n",
       "2  11hrs   12min   17sec\n",
       "3    NaN     NaN     NaN\n",
       "4    NaN     NaN     NaN\n",
       "5    NaN     NaN     NaN\n",
       "6    NaN     NaN     NaN"
      ]
     },
     "execution_count": 93,
     "metadata": {},
     "output_type": "execute_result"
    }
   ],
   "source": [
    "data_time"
   ]
  },
  {
   "cell_type": "code",
   "execution_count": null,
   "id": "b23340d5-c2b6-4810-83fc-be87633776cb",
   "metadata": {},
   "outputs": [],
   "source": []
  }
 ],
 "metadata": {
  "kernelspec": {
   "display_name": "Python 3 (ipykernel)",
   "language": "python",
   "name": "python3"
  },
  "language_info": {
   "codemirror_mode": {
    "name": "ipython",
    "version": 3
   },
   "file_extension": ".py",
   "mimetype": "text/x-python",
   "name": "python",
   "nbconvert_exporter": "python",
   "pygments_lexer": "ipython3",
   "version": "3.12.7"
  }
 },
 "nbformat": 4,
 "nbformat_minor": 5
}

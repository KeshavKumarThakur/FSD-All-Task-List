{
 "cells": [
  {
   "cell_type": "code",
   "execution_count": 2,
   "id": "c1e2a1a8-dfa5-49fb-b44f-3e1b0ae370d6",
   "metadata": {},
   "outputs": [],
   "source": [
    "# This is just for practice purpose :\n",
    "\n"
   ]
  },
  {
   "cell_type": "code",
   "execution_count": 4,
   "id": "4f593719-6de3-44c1-9804-85633acba9f9",
   "metadata": {},
   "outputs": [],
   "source": [
    "# Introduction \n"
   ]
  },
  {
   "cell_type": "code",
   "execution_count": 8,
   "id": "c09ee780-45a8-4c02-858e-a03b094d0fa6",
   "metadata": {},
   "outputs": [
    {
     "name": "stdout",
     "output_type": "stream",
     "text": [
      "5\n"
     ]
    }
   ],
   "source": [
    "print(2+3)   # addition"
   ]
  },
  {
   "cell_type": "code",
   "execution_count": 10,
   "id": "cbadd27f-ded1-4ba0-82df-9e42bd6620d4",
   "metadata": {},
   "outputs": [
    {
     "name": "stdout",
     "output_type": "stream",
     "text": [
      "5\n"
     ]
    }
   ],
   "source": [
    "print(7-2) # substraction"
   ]
  },
  {
   "cell_type": "code",
   "execution_count": 12,
   "id": "825edcb4-5bed-4e9c-ba31-de0042aeb91c",
   "metadata": {},
   "outputs": [
    {
     "name": "stdout",
     "output_type": "stream",
     "text": [
      "42\n"
     ]
    }
   ],
   "source": [
    "print(7*6) # multiplication"
   ]
  },
  {
   "cell_type": "code",
   "execution_count": 14,
   "id": "31366693-e2ae-4f85-a925-d7c1ae766bf7",
   "metadata": {},
   "outputs": [
    {
     "name": "stdout",
     "output_type": "stream",
     "text": [
      "1.5\n"
     ]
    }
   ],
   "source": [
    "print(3/2) # Division (/)"
   ]
  },
  {
   "cell_type": "code",
   "execution_count": 16,
   "id": "80ffee90-8fcd-44a6-b8a4-d3ffb1a873e5",
   "metadata": {},
   "outputs": [
    {
     "name": "stdout",
     "output_type": "stream",
     "text": [
      "9\n"
     ]
    }
   ],
   "source": [
    "print(3**2) # exponential"
   ]
  },
  {
   "cell_type": "code",
   "execution_count": 24,
   "id": "0a7e2ab4-2c80-4a96-ba20-b77182b9ed85",
   "metadata": {},
   "outputs": [
    {
     "name": "stdout",
     "output_type": "stream",
     "text": [
      "1\n"
     ]
    }
   ],
   "source": [
    "print(3%2) # modulus(reaminder)"
   ]
  },
  {
   "cell_type": "code",
   "execution_count": 28,
   "id": "aa04a374-1f8f-4ec5-90f8-90531184317d",
   "metadata": {},
   "outputs": [
    {
     "name": "stdout",
     "output_type": "stream",
     "text": [
      "1\n"
     ]
    }
   ],
   "source": [
    "print(3//2) # floor divion operators(a mathematical operation that rounds down the result of a division to the nearest integer)"
   ]
  },
  {
   "cell_type": "markdown",
   "id": "04e9e211-0946-43cd-b83f-64beff0b84b6",
   "metadata": {},
   "source": [
    "# Checking Data Types "
   ]
  },
  {
   "cell_type": "code",
   "execution_count": 40,
   "id": "fe4d6211-a709-4d36-bdbc-065f7eaaabe7",
   "metadata": {},
   "outputs": [
    {
     "name": "stdout",
     "output_type": "stream",
     "text": [
      "<class 'int'>\n"
     ]
    }
   ],
   "source": [
    "print(type(78))  "
   ]
  },
  {
   "cell_type": "code",
   "execution_count": 42,
   "id": "442cd15a-6cca-43b8-aaf0-517c6fe3b7ef",
   "metadata": {},
   "outputs": [
    {
     "name": "stdout",
     "output_type": "stream",
     "text": [
      "<class 'float'>\n"
     ]
    }
   ],
   "source": [
    "print(type(7.6))"
   ]
  },
  {
   "cell_type": "code",
   "execution_count": 50,
   "id": "7031af51-0e13-47dd-90e0-f01c932add92",
   "metadata": {},
   "outputs": [
    {
     "name": "stdout",
     "output_type": "stream",
     "text": [
      "<class 'complex'>\n"
     ]
    }
   ],
   "source": [
    "print(type(1 + 3j ))"
   ]
  },
  {
   "cell_type": "code",
   "execution_count": 52,
   "id": "645d612a-3277-4f33-9d36-4d0d55aaa599",
   "metadata": {},
   "outputs": [
    {
     "name": "stdout",
     "output_type": "stream",
     "text": [
      "<class 'str'>\n"
     ]
    }
   ],
   "source": [
    "print(type(\"Keshav\"))"
   ]
  },
  {
   "cell_type": "code",
   "execution_count": 54,
   "id": "04c4e598-bd3c-4042-8f91-f6e62013e24d",
   "metadata": {},
   "outputs": [
    {
     "name": "stdout",
     "output_type": "stream",
     "text": [
      "<class 'list'>\n"
     ]
    }
   ],
   "source": [
    "print(type([1,4,\"Keshav\"]))"
   ]
  },
  {
   "cell_type": "code",
   "execution_count": 60,
   "id": "2d9c5924-66c4-4cb7-9ca7-5453bd202238",
   "metadata": {},
   "outputs": [
    {
     "name": "stdout",
     "output_type": "stream",
     "text": [
      "<class 'dict'>\n"
     ]
    }
   ],
   "source": [
    "print(type({'name':'Keshav'}))"
   ]
  },
  {
   "cell_type": "code",
   "execution_count": 68,
   "id": "1e75c03f-ad10-4db4-8474-56a0299471c2",
   "metadata": {},
   "outputs": [
    {
     "name": "stdout",
     "output_type": "stream",
     "text": [
      "<class 'set'>\n"
     ]
    }
   ],
   "source": [
    "print(type({9.7, 5.3, 8.9}))"
   ]
  },
  {
   "cell_type": "code",
   "execution_count": 70,
   "id": "aae21353-be99-49d4-8b7d-52ea204ac830",
   "metadata": {},
   "outputs": [
    {
     "name": "stdout",
     "output_type": "stream",
     "text": [
      "<class 'tuple'>\n"
     ]
    }
   ],
   "source": [
    "print(type((7,8,9)))"
   ]
  },
  {
   "cell_type": "code",
   "execution_count": 76,
   "id": "0f2a9287-a46d-48c3-87b8-6c7227804b02",
   "metadata": {},
   "outputs": [
    {
     "name": "stdout",
     "output_type": "stream",
     "text": [
      "<class 'bool'>\n"
     ]
    }
   ],
   "source": [
    "print(type(3==3))"
   ]
  },
  {
   "cell_type": "code",
   "execution_count": 80,
   "id": "aa367e2f-6db6-49f9-8b2a-02b66367ac37",
   "metadata": {},
   "outputs": [
    {
     "name": "stdout",
     "output_type": "stream",
     "text": [
      "<class 'bool'>\n"
     ]
    }
   ],
   "source": [
    "print(type(3>=3))"
   ]
  },
  {
   "cell_type": "code",
   "execution_count": null,
   "id": "27499788-a0e9-45d2-aa71-fd515240d888",
   "metadata": {},
   "outputs": [],
   "source": []
  },
  {
   "cell_type": "code",
   "execution_count": null,
   "id": "9eeaf0f3-c04a-4575-a24f-d8f9e4df9df9",
   "metadata": {},
   "outputs": [],
   "source": []
  },
  {
   "cell_type": "code",
   "execution_count": null,
   "id": "249608ac-e462-4821-adc8-9d6b4a260d65",
   "metadata": {},
   "outputs": [],
   "source": []
  },
  {
   "cell_type": "code",
   "execution_count": null,
   "id": "59e37259-5e14-4b18-9f77-dc61b974a915",
   "metadata": {},
   "outputs": [],
   "source": []
  },
  {
   "cell_type": "code",
   "execution_count": null,
   "id": "a7c9fe9a-0b58-401a-b734-df71aee13f2a",
   "metadata": {},
   "outputs": [],
   "source": []
  },
  {
   "cell_type": "code",
   "execution_count": null,
   "id": "64951c3f-f64c-45c3-933d-d82e41e698c2",
   "metadata": {},
   "outputs": [],
   "source": []
  }
 ],
 "metadata": {
  "kernelspec": {
   "display_name": "Python 3 (ipykernel)",
   "language": "python",
   "name": "python3"
  },
  "language_info": {
   "codemirror_mode": {
    "name": "ipython",
    "version": 3
   },
   "file_extension": ".py",
   "mimetype": "text/x-python",
   "name": "python",
   "nbconvert_exporter": "python",
   "pygments_lexer": "ipython3",
   "version": "3.12.7"
  }
 },
 "nbformat": 4,
 "nbformat_minor": 5
}

{
 "cells": [
  {
   "cell_type": "raw",
   "id": "021a51af-1add-45fc-8d7d-2e25a0afbbaf",
   "metadata": {},
   "source": []
  },
  {
   "cell_type": "code",
   "execution_count": null,
   "id": "45f4b418-b7f7-40c5-b2cf-aa813334f40f",
   "metadata": {},
   "outputs": [],
   "source": [
    "#Print Function  We are going to disscuss about the print function with examples \n"
   ]
  },
  {
   "cell_type": "code",
   "execution_count": 16,
   "id": "7e3b78d4-bb8c-4516-80bd-4b681cff5529",
   "metadata": {},
   "outputs": [],
   "source": [
    "#print() function is used to print the out output  "
   ]
  },
  {
   "cell_type": "code",
   "execution_count": 18,
   "id": "a5ef22b1-250d-4201-a98f-04211eb80d2a",
   "metadata": {},
   "outputs": [],
   "source": [
    "# Print Syntax - print(* objects , sep=\"\" , end='\\n'  , file = sys.stdout , flush = false ) "
   ]
  },
  {
   "cell_type": "code",
   "execution_count": null,
   "id": "23005acc-490e-46c9-8cd8-26b6857b7d11",
   "metadata": {},
   "outputs": [],
   "source": [
    "Print Syantax  - Print(* objects , sep=\"\" , ends='\\n' file='sys.stdout',flash=false)"
   ]
  },
  {
   "cell_type": "code",
   "execution_count": 36,
   "id": "0e77cf66-83ad-492f-8de9-11c422008d8e",
   "metadata": {},
   "outputs": [],
   "source": [
    "#Printing Multiple Objects "
   ]
  },
  {
   "cell_type": "code",
   "execution_count": 44,
   "id": "4fa5406b-c9d9-4e28-96ec-ac0d1e033187",
   "metadata": {},
   "outputs": [
    {
     "name": "stdout",
     "output_type": "stream",
     "text": [
      "The value of X is  20 and the  value of y is  50\n"
     ]
    }
   ],
   "source": [
    "x = 20 \n",
    "y =50 \n",
    "print(\"The value of X is \",x,  \"and the  value of y is \" , y) "
   ]
  },
  {
   "cell_type": "code",
   "execution_count": 48,
   "id": "6e573ffb-1ddc-44b6-8e99-83190dd2f778",
   "metadata": {},
   "outputs": [
    {
     "name": "stdout",
     "output_type": "stream",
     "text": [
      "The addition of num and num2 is 100\n"
     ]
    }
   ],
   "source": [
    "num = 20 \n",
    "num2 = 80\n",
    "\n",
    "add = num+num2\n",
    "print(\"The addition of num and num2 is\", add)\n"
   ]
  },
  {
   "cell_type": "markdown",
   "id": "b09c091a-6ec6-4e3e-8a0f-e066ded07338",
   "metadata": {},
   "source": [
    "<b>String Format Method {} </b>#\n",
    "\n"
   ]
  },
  {
   "cell_type": "code",
   "execution_count": 87,
   "id": "f02a9c89-fff2-4883-b8f0-876acb440859",
   "metadata": {},
   "outputs": [
    {
     "name": "stdout",
     "output_type": "stream",
     "text": [
      "The additions of 20 and 80 is = 100\n"
     ]
    }
   ],
   "source": [
    "num3 = 20 \n",
    "num4= 80\n",
    "\n",
    "add = num3+num4\n",
    "print('The additions of {} and {} is = {}'.format(num3,num4,add))"
   ]
  },
  {
   "cell_type": "code",
   "execution_count": 104,
   "id": "b0bd8774-0a7f-4cdf-82b4-639b23409852",
   "metadata": {},
   "outputs": [
    {
     "name": "stdout",
     "output_type": "stream",
     "text": [
      " Hello My name is keshav ,  and Im 10  years old  from hyderabad\n"
     ]
    }
   ],
   "source": [
    "name1 = \"keshav\"\n",
    "age = 10\n",
    "city  = \"hyderabad\" \n",
    "# Hello my name is python and Im 10 years old from hyderabad .\n",
    "print(' Hello My name is {} ,  and Im {}  years old  from {}'.format(name1,age,city))"
   ]
  },
  {
   "cell_type": "code",
   "execution_count": 106,
   "id": "9f07d64d-03c1-45b8-af80-4e1053dd995f",
   "metadata": {},
   "outputs": [
    {
     "name": "stdout",
     "output_type": "stream",
     "text": [
      "hello  my name is python , and im 20 years old from hyd\n"
     ]
    }
   ],
   "source": [
    "name2 = \"python\"\n",
    "age = 20\n",
    "city = \"hyd\"\n",
    "print('hello  my name is {} , and im {} years old from {}'.format(name2,age,city))"
   ]
  },
  {
   "cell_type": "markdown",
   "id": "01acb002-4dea-49b5-8cf7-5857c52f5b72",
   "metadata": {},
   "source": [
    "# more short format method ( f string method )"
   ]
  },
  {
   "cell_type": "code",
   "execution_count": 124,
   "id": "8e1f7c64-cc86-46bd-9e23-196679869953",
   "metadata": {},
   "outputs": [],
   "source": [
    "# 1>variable shold be in curely braces \n",
    "#2> write everything inside quote '' \n",
    "#3> simply add f in the starting "
   ]
  },
  {
   "cell_type": "code",
   "execution_count": 128,
   "id": "4fe373a5-1849-4176-b672-1a1a0b91cdfd",
   "metadata": {},
   "outputs": [
    {
     "name": "stdout",
     "output_type": "stream",
     "text": [
      "The addition of 60 and 89 is = 149\n"
     ]
    }
   ],
   "source": [
    "numb1 = 60\n",
    "numb2 = 89\n",
    "add = numb1+numb2\n",
    "print(f'The addition of {numb1} and {numb2} is = {add}') # alaways prefer this method "
   ]
  },
  {
   "cell_type": "code",
   "execution_count": 150,
   "id": "ae5ebcaf-6fb0-4ed5-b8cc-bf35876f3413",
   "metadata": {},
   "outputs": [
    {
     "name": "stdout",
     "output_type": "stream",
     "text": [
      "Hello My name is keshav and Im 10 years old fom hyderabad\n"
     ]
    }
   ],
   "source": [
    "name1 = \"keshav\"\n",
    "age = 10\n",
    "city  = \"hyderabad\" \n",
    "# Hello my name is python and Im 10 years old from hyderabad \n",
    "print(f'Hello My name is {name1} and Im {age} years old fom {city}') "
   ]
  },
  {
   "cell_type": "code",
   "execution_count": 165,
   "id": "3f489085-1812-4611-af86-953aaf3f695d",
   "metadata": {},
   "outputs": [
    {
     "name": "stdout",
     "output_type": "stream",
     "text": [
      "the average of 89,78 and 56 is = 74.33333333333333\n"
     ]
    }
   ],
   "source": [
    "num5 = 89\n",
    "num6 = 78\n",
    "num7 = 56\n",
    "average = (num5+num6+num7)/3\n",
    "print(f'the average of {num5},{num6} and {num7} is = {average}')"
   ]
  },
  {
   "cell_type": "code",
   "execution_count": 226,
   "id": "1b7a7b8b-c3b1-44d6-b161-6aa1fb20c400",
   "metadata": {},
   "outputs": [],
   "source": [
    "#Print Syntax - print(* objects , sep='' , end='\\n', file='sys.stdout' ,flush=false)\n"
   ]
  },
  {
   "cell_type": "code",
   "execution_count": 187,
   "id": "33a67126-16c8-477b-a025-4c71a9dd58c5",
   "metadata": {},
   "outputs": [
    {
     "name": "stdout",
     "output_type": "stream",
     "text": [
      "The addition of numk 10 and 88 and 777 is = 875\n",
      "the addition of 10 and 88 and 777 is = 875\n",
      "the addition of 10,88 and num90 is = 875\n"
     ]
    }
   ],
   "source": [
    "# Lets combine all \n",
    "numk = 10 \n",
    "num8 = 88\n",
    "num90 = 777\n",
    "add = numk + num8+num90\n",
    "#printing using the first method \n",
    "print(\"The addition of numk\",numk,\"and\",num8,\"and\",num90 ,\"is =\" ,add)\n",
    "#printing using the second method \n",
    "print('the addition of {} and {} and {} is = {}'.format(numk,num8,num90,add))\n",
    "# pinting using the third method \n",
    "print(f'the addition of {numk},{num8} and num90 is = {add}')"
   ]
  },
  {
   "cell_type": "markdown",
   "id": "9cd2fa1d-70a0-437e-9201-74b3c40acbe4",
   "metadata": {},
   "source": [
    "# End Statement Use of end \n",
    "# using the end statement next print function result will display in 1st output\n",
    "\n",
    "\n",
    "\n"
   ]
  },
  {
   "cell_type": "code",
   "execution_count": 201,
   "id": "b2e9ce2b-97b7-4d9b-9617-f1f9aa35adfa",
   "metadata": {},
   "outputs": [
    {
     "name": "stdout",
     "output_type": "stream",
     "text": [
      "Hello good morning\n"
     ]
    }
   ],
   "source": [
    "print(\"Hello\" , end=' ')\n",
    "print(\"good morning\")"
   ]
  },
  {
   "cell_type": "code",
   "execution_count": 222,
   "id": "771c6afb-ae34-4981-b532-bbbd4fcbe6f7",
   "metadata": {},
   "outputs": [
    {
     "name": "stdout",
     "output_type": "stream",
     "text": [
      "hello Keshav How are you Whatsapp keshav Is evrrything is fine\n"
     ]
    }
   ],
   "source": [
    "print (\"hello Keshav How are you\" , end=' ')\n",
    "print (\"Whatsapp keshav Is evrrything is fine\")"
   ]
  },
  {
   "cell_type": "markdown",
   "id": "b7a43c09-09c9-48fe-92da-29efc8b338c9",
   "metadata": {},
   "source": [
    "# Separator "
   ]
  },
  {
   "cell_type": "code",
   "execution_count": 234,
   "id": "245bd5f8-3a96-426f-93eb-2c89960d8af9",
   "metadata": {},
   "outputs": [
    {
     "name": "stdout",
     "output_type": "stream",
     "text": [
      "Hello --Hi--How are u\n"
     ]
    }
   ],
   "source": [
    "print(\"Hello \",\"Hi\",\"How are u\", sep= '--')"
   ]
  },
  {
   "cell_type": "code",
   "execution_count": 238,
   "id": "9ae8f81e-c178-4a85-9dac-3e55508365b5",
   "metadata": {},
   "outputs": [
    {
     "name": "stdout",
     "output_type": "stream",
     "text": [
      "Hello %%%Hi%%%How are u\n"
     ]
    }
   ],
   "source": [
    "print(\"Hello \",\"Hi\",\"How are u\", sep= '%%%')"
   ]
  },
  {
   "cell_type": "code",
   "execution_count": 240,
   "id": "fb2ce1a3-0fd9-418a-b22e-78d05d19d546",
   "metadata": {},
   "outputs": [
    {
     "name": "stdout",
     "output_type": "stream",
     "text": [
      "Hello @Hi@How are u\n"
     ]
    }
   ],
   "source": [
    "print(\"Hello \",\"Hi\",\"How are u\", sep= '@')"
   ]
  },
  {
   "cell_type": "code",
   "execution_count": 248,
   "id": "2bbd99bd-7b7f-4d22-b357-c3ec347d458f",
   "metadata": {},
   "outputs": [
    {
     "name": "stdout",
     "output_type": "stream",
     "text": [
      "Keshav Rishav is my brother****hhhh****uuu\n"
     ]
    }
   ],
   "source": [
    "print(\"Keshav\",end=' ')\n",
    "print(\"Rishav is my brother\",\"hhhh\",\"uuu\",sep='****')"
   ]
  },
  {
   "cell_type": "code",
   "execution_count": 2,
   "id": "85e6a01b-47d6-42dd-b41a-f1b996c80eda",
   "metadata": {},
   "outputs": [
    {
     "name": "stdout",
     "output_type": "stream",
     "text": [
      "Rishav  he was mt best brother ever and forever\n"
     ]
    }
   ],
   "source": [
    "\n",
    "keshav = 'Rishav '\n",
    "print(f'{keshav} he was mt best brother ever and forever') #  always prefered this format for metter format in outpur\\t string \n",
    "\n",
    "\n"
   ]
  },
  {
   "cell_type": "code",
   "execution_count": null,
   "id": "bb61f595-6f83-411d-ae05-61f339b71f5f",
   "metadata": {},
   "outputs": [],
   "source": []
  }
 ],
 "metadata": {
  "kernelspec": {
   "display_name": "Python 3 (ipykernel)",
   "language": "python",
   "name": "python3"
  },
  "language_info": {
   "codemirror_mode": {
    "name": "ipython",
    "version": 3
   },
   "file_extension": ".py",
   "mimetype": "text/x-python",
   "name": "python",
   "nbconvert_exporter": "python",
   "pygments_lexer": "ipython3",
   "version": "3.12.7"
  }
 },
 "nbformat": 4,
 "nbformat_minor": 5
}
